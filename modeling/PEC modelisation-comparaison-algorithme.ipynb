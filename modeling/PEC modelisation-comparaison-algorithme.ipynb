{
 "cells": [
  {
   "cell_type": "code",
   "execution_count": 1,
   "metadata": {},
   "outputs": [],
   "source": [
    "import warnings\n",
    "warnings.filterwarnings('ignore')\n",
    "warnings.simplefilter('ignore')\n",
    "\n",
    "from datetime import datetime\n",
    "import pandas as pd\n",
    "import numpy as np\n",
    "from sklearn import preprocessing\n",
    "import matplotlib.pyplot as plt \n",
    "plt.rc(\"font\", size=14)\n",
    "from sklearn.linear_model import LogisticRegression\n",
    "from sklearn.model_selection import train_test_split,GridSearchCV,cross_val_score\n",
    "from sklearn.metrics import roc_auc_score, accuracy_score,precision_score, recall_score, f1_score,mean_absolute_error, mean_squared_error,precision_recall_curve\n",
    "\n",
    "import sklearn.metrics\n",
    "\n",
    "import missingno as msno\n",
    "import seaborn as sns\n",
    "sns.set(style=\"white\")\n",
    "sns.set(style=\"whitegrid\", color_codes=True)\n",
    "pd.set_option('display.max_columns', None)\n",
    "pd.set_option('display.max_rows', None)"
   ]
  },
  {
   "cell_type": "code",
   "execution_count": 2,
   "metadata": {},
   "outputs": [],
   "source": [
    "from sqlalchemy import create_engine\n",
    "# engine = create_engine('postgresql://postgres@localhost:5432/pec')\n",
    "#df = pd.read_sql_query('select * from pec_mod',con=engine)\n",
    "#df = pd.read_csv('output/data_trans_out.xlsx', header=0,sheet_name='Sheet1')\n",
    "df = pd.read_csv('output/pec_prep_out.csv')\n",
    "df=df.drop([ \"Unnamed: 0\"], axis=1)"
   ]
  },
  {
   "cell_type": "code",
   "execution_count": 3,
   "metadata": {},
   "outputs": [
    {
     "data": {
      "text/plain": [
       "Index(['Compagnie d'assurance', 'Date de création',\n",
       "       'Nom et Prénom Assuré /Raison Sociale',\n",
       "       'Immatriculation Véhicule assuré', 'Mode de gestion',\n",
       "       'Garantie impliquée', 'Chargé réparation', 'Marque', 'Réparateur',\n",
       "       'Expert', 'Compagnie adverse', 'Accord VR (Véhicule de remplacement)',\n",
       "       'Agence', 'Agent', 'Cas de barème', 'Chargé acceptation', 'Code agence',\n",
       "       'Date Accident', 'Date acceptation', 'Date accord (SST)',\n",
       "       'Date demande', 'Etape Dossier', 'Etat d'approbation',\n",
       "       'Immatriculation tiers', 'Montant total devis',\n",
       "       'Nom et Prénom tiers /Raison Sociale', 'Numero sinistre',\n",
       "       'Numéro de contrat', 'Point Choc', 'Position GA', 'SST',\n",
       "       'Nbr réclamations antérieures', 'Jour Accident', 'Mois Accident',\n",
       "       'Année Accident', 'Jour demande', 'Mois demande', 'Année demande',\n",
       "       'Retard reclamation', 'Fraud'],\n",
       "      dtype='object')"
      ]
     },
     "execution_count": 3,
     "metadata": {},
     "output_type": "execute_result"
    }
   ],
   "source": [
    "df.columns"
   ]
  },
  {
   "cell_type": "code",
   "execution_count": 4,
   "metadata": {},
   "outputs": [
    {
     "data": {
      "text/html": [
       "<div>\n",
       "<style scoped>\n",
       "    .dataframe tbody tr th:only-of-type {\n",
       "        vertical-align: middle;\n",
       "    }\n",
       "\n",
       "    .dataframe tbody tr th {\n",
       "        vertical-align: top;\n",
       "    }\n",
       "\n",
       "    .dataframe thead th {\n",
       "        text-align: right;\n",
       "    }\n",
       "</style>\n",
       "<table border=\"1\" class=\"dataframe\">\n",
       "  <thead>\n",
       "    <tr style=\"text-align: right;\">\n",
       "      <th></th>\n",
       "      <th>Compagnie d'assurance</th>\n",
       "      <th>Mode de gestion</th>\n",
       "      <th>Garantie impliquée</th>\n",
       "      <th>Chargé réparation</th>\n",
       "      <th>Marque</th>\n",
       "      <th>Réparateur</th>\n",
       "      <th>Expert</th>\n",
       "      <th>Compagnie adverse</th>\n",
       "      <th>Accord VR (Véhicule de remplacement)</th>\n",
       "      <th>Agence</th>\n",
       "      <th>Agent</th>\n",
       "      <th>Cas de barème</th>\n",
       "      <th>Chargé acceptation</th>\n",
       "      <th>Code agence</th>\n",
       "      <th>Etape Dossier</th>\n",
       "      <th>Etat d'approbation</th>\n",
       "      <th>Montant total devis</th>\n",
       "      <th>Point Choc</th>\n",
       "      <th>Position GA</th>\n",
       "      <th>SST</th>\n",
       "      <th>Nbr réclamations antérieures</th>\n",
       "      <th>Jour Accident</th>\n",
       "      <th>Mois Accident</th>\n",
       "      <th>Jour demande</th>\n",
       "      <th>Mois demande</th>\n",
       "      <th>Retard reclamation</th>\n",
       "      <th>Fraud</th>\n",
       "    </tr>\n",
       "  </thead>\n",
       "  <tbody>\n",
       "    <tr>\n",
       "      <th>0</th>\n",
       "      <td>EL AMANA TAKAFUL</td>\n",
       "      <td>IDA</td>\n",
       "      <td>Défense et recours</td>\n",
       "      <td>Asma  TURKI</td>\n",
       "      <td>ISUZU</td>\n",
       "      <td>MECATOL</td>\n",
       "      <td>Hadiji Yassine</td>\n",
       "      <td>MAE</td>\n",
       "      <td>NON</td>\n",
       "      <td>global assurance</td>\n",
       "      <td>global assurance</td>\n",
       "      <td>10.0</td>\n",
       "      <td>Ouni Hela</td>\n",
       "      <td>744</td>\n",
       "      <td>Véhicule réparé: en instance de Signature du BS</td>\n",
       "      <td>Approuvé ( Chef cellule Acceptation )</td>\n",
       "      <td>914.604</td>\n",
       "      <td>Tiers Ar. D,Tiers Lat. D</td>\n",
       "      <td>Recours</td>\n",
       "      <td>Fathi  Nguili</td>\n",
       "      <td>2</td>\n",
       "      <td>31</td>\n",
       "      <td>3</td>\n",
       "      <td>4</td>\n",
       "      <td>4</td>\n",
       "      <td>4</td>\n",
       "      <td>Non</td>\n",
       "    </tr>\n",
       "    <tr>\n",
       "      <th>1</th>\n",
       "      <td>LA CARTE</td>\n",
       "      <td>Dommages</td>\n",
       "      <td>Dommages au véhicule</td>\n",
       "      <td></td>\n",
       "      <td>ALFA ROMEO</td>\n",
       "      <td>NaN</td>\n",
       "      <td>NaN</td>\n",
       "      <td>ASSURANCES STAR</td>\n",
       "      <td>NaN</td>\n",
       "      <td>mohamed boussaa</td>\n",
       "      <td>mohamed boussaa</td>\n",
       "      <td>9.0</td>\n",
       "      <td>Ouni Hela</td>\n",
       "      <td>780</td>\n",
       "      <td>En instance d'établissement Devis</td>\n",
       "      <td>Approuvé ( Chef cellule Acceptation )</td>\n",
       "      <td>NaN</td>\n",
       "      <td>Tiers Ar. D</td>\n",
       "      <td>Recours</td>\n",
       "      <td></td>\n",
       "      <td>1</td>\n",
       "      <td>4</td>\n",
       "      <td>12</td>\n",
       "      <td>9</td>\n",
       "      <td>12</td>\n",
       "      <td>5</td>\n",
       "      <td>Non</td>\n",
       "    </tr>\n",
       "    <tr>\n",
       "      <th>2</th>\n",
       "      <td>LLOYD TUNISIEN</td>\n",
       "      <td>Dommages</td>\n",
       "      <td>Tierce collision</td>\n",
       "      <td>Asma  TURKI</td>\n",
       "      <td>KIA</td>\n",
       "      <td>SPEED SERVICES</td>\n",
       "      <td>Salah BEN HASSINE</td>\n",
       "      <td>BIAT assurances</td>\n",
       "      <td>NON</td>\n",
       "      <td>sondos ayoub</td>\n",
       "      <td>sondos ayoub</td>\n",
       "      <td>15.0</td>\n",
       "      <td>Ouni Hela</td>\n",
       "      <td>658</td>\n",
       "      <td>Véhicule réparé: en instance de Signature du BS</td>\n",
       "      <td>Approuvé ( Chef cellule Acceptation )</td>\n",
       "      <td>1790.491</td>\n",
       "      <td>Tiers Lat. D</td>\n",
       "      <td>Recours</td>\n",
       "      <td>Tayssir HMAIED</td>\n",
       "      <td>1</td>\n",
       "      <td>21</td>\n",
       "      <td>5</td>\n",
       "      <td>24</td>\n",
       "      <td>5</td>\n",
       "      <td>3</td>\n",
       "      <td>Non</td>\n",
       "    </tr>\n",
       "    <tr>\n",
       "      <th>3</th>\n",
       "      <td>LLOYD TUNISIEN</td>\n",
       "      <td>Dommages</td>\n",
       "      <td>Tierce collision</td>\n",
       "      <td>Ouni Dhekra</td>\n",
       "      <td>VOLKSWAGEN</td>\n",
       "      <td>Société EL-FATAH</td>\n",
       "      <td>Hadiji Yassine</td>\n",
       "      <td>LLOYD TUNISIEN</td>\n",
       "      <td>NON</td>\n",
       "      <td>wajih laamiri</td>\n",
       "      <td>wajih laamiri</td>\n",
       "      <td>NaN</td>\n",
       "      <td>Ouni Hela</td>\n",
       "      <td>776</td>\n",
       "      <td>Véhicule réparé: en instance de Signature du BS</td>\n",
       "      <td>Approuvé ( Chef cellule Acceptation )</td>\n",
       "      <td>2468.064</td>\n",
       "      <td>Tiers Ar. D</td>\n",
       "      <td>Défense</td>\n",
       "      <td>Fathi  Nguili</td>\n",
       "      <td>1</td>\n",
       "      <td>30</td>\n",
       "      <td>3</td>\n",
       "      <td>5</td>\n",
       "      <td>4</td>\n",
       "      <td>6</td>\n",
       "      <td>Non</td>\n",
       "    </tr>\n",
       "    <tr>\n",
       "      <th>4</th>\n",
       "      <td>LLOYD TUNISIEN</td>\n",
       "      <td>Dommages</td>\n",
       "      <td>Tierce collision</td>\n",
       "      <td>Ouni Dhekra</td>\n",
       "      <td>VOLKSWAGEN</td>\n",
       "      <td>Société EL-FATAH</td>\n",
       "      <td>Amara Ayari</td>\n",
       "      <td>GAT assurances</td>\n",
       "      <td>OUI</td>\n",
       "      <td>aisaoui fathi</td>\n",
       "      <td>aisaoui fathi</td>\n",
       "      <td>10.0</td>\n",
       "      <td>Ouni Hela</td>\n",
       "      <td>685</td>\n",
       "      <td>Véhicule réparé: en instance de Signature du BS</td>\n",
       "      <td>Approuvé ( Chef cellule Acceptation )</td>\n",
       "      <td>2972.116</td>\n",
       "      <td>Tiers Av. G</td>\n",
       "      <td>Recours</td>\n",
       "      <td>Fathi  Nguili</td>\n",
       "      <td>1</td>\n",
       "      <td>7</td>\n",
       "      <td>4</td>\n",
       "      <td>15</td>\n",
       "      <td>4</td>\n",
       "      <td>8</td>\n",
       "      <td>Non</td>\n",
       "    </tr>\n",
       "  </tbody>\n",
       "</table>\n",
       "</div>"
      ],
      "text/plain": [
       "  Compagnie d'assurance Mode de gestion     Garantie impliquée  \\\n",
       "0      EL AMANA TAKAFUL             IDA    Défense et recours    \n",
       "1             LA CARTE         Dommages  Dommages au véhicule    \n",
       "2       LLOYD TUNISIEN         Dommages      Tierce collision    \n",
       "3       LLOYD TUNISIEN         Dommages      Tierce collision    \n",
       "4       LLOYD TUNISIEN         Dommages      Tierce collision    \n",
       "\n",
       "  Chargé réparation       Marque        Réparateur              Expert  \\\n",
       "0       Asma  TURKI       ISUZU           MECATOL       Hadiji Yassine   \n",
       "1                    ALFA ROMEO                NaN                 NaN   \n",
       "2       Asma  TURKI         KIA     SPEED SERVICES  Salah BEN HASSINE    \n",
       "3      Ouni Dhekra   VOLKSWAGEN   Société EL-FATAH      Hadiji Yassine   \n",
       "4      Ouni Dhekra   VOLKSWAGEN   Société EL-FATAH         Amara Ayari   \n",
       "\n",
       "  Compagnie adverse Accord VR (Véhicule de remplacement)             Agence  \\\n",
       "0              MAE                                   NON  global assurance    \n",
       "1  ASSURANCES STAR                                   NaN   mohamed boussaa    \n",
       "2   BIAT assurances                                  NON      sondos ayoub    \n",
       "3   LLOYD TUNISIEN                                   NON     wajih laamiri    \n",
       "4   GAT assurances                                   OUI     aisaoui fathi    \n",
       "\n",
       "              Agent  Cas de barème Chargé acceptation  Code agence  \\\n",
       "0  global assurance           10.0          Ouni Hela          744   \n",
       "1   mohamed boussaa            9.0          Ouni Hela          780   \n",
       "2      sondos ayoub           15.0          Ouni Hela          658   \n",
       "3     wajih laamiri            NaN          Ouni Hela          776   \n",
       "4     aisaoui fathi           10.0          Ouni Hela          685   \n",
       "\n",
       "                                     Etape Dossier  \\\n",
       "0  Véhicule réparé: en instance de Signature du BS   \n",
       "1                En instance d'établissement Devis   \n",
       "2  Véhicule réparé: en instance de Signature du BS   \n",
       "3  Véhicule réparé: en instance de Signature du BS   \n",
       "4  Véhicule réparé: en instance de Signature du BS   \n",
       "\n",
       "                      Etat d'approbation  Montant total devis  \\\n",
       "0  Approuvé ( Chef cellule Acceptation )              914.604   \n",
       "1  Approuvé ( Chef cellule Acceptation )                  NaN   \n",
       "2  Approuvé ( Chef cellule Acceptation )             1790.491   \n",
       "3  Approuvé ( Chef cellule Acceptation )             2468.064   \n",
       "4  Approuvé ( Chef cellule Acceptation )             2972.116   \n",
       "\n",
       "                 Point Choc Position GA             SST  \\\n",
       "0  Tiers Ar. D,Tiers Lat. D     Recours   Fathi  Nguili   \n",
       "1               Tiers Ar. D     Recours                   \n",
       "2              Tiers Lat. D     Recours  Tayssir HMAIED   \n",
       "3               Tiers Ar. D     Défense   Fathi  Nguili   \n",
       "4               Tiers Av. G     Recours   Fathi  Nguili   \n",
       "\n",
       "   Nbr réclamations antérieures  Jour Accident  Mois Accident  Jour demande  \\\n",
       "0                             2             31              3             4   \n",
       "1                             1              4             12             9   \n",
       "2                             1             21              5            24   \n",
       "3                             1             30              3             5   \n",
       "4                             1              7              4            15   \n",
       "\n",
       "   Mois demande  Retard reclamation Fraud  \n",
       "0             4                   4   Non  \n",
       "1            12                   5   Non  \n",
       "2             5                   3   Non  \n",
       "3             4                   6   Non  \n",
       "4             4                   8   Non  "
      ]
     },
     "execution_count": 4,
     "metadata": {},
     "output_type": "execute_result"
    }
   ],
   "source": [
    "# dropping uninformative features\n",
    "colsToDelete = ['Année demande','Année Accident','Nom et Prénom Assuré /Raison Sociale',\n",
    "       'Immatriculation Véhicule assuré','Nom et Prénom tiers /Raison Sociale','Immatriculation tiers', \n",
    "       'Numero sinistre', 'Numéro de contrat','Date de création','Date Accident','Date acceptation','Date accord (SST)' ,'Date demande']\n",
    "df = df.drop(columns = colsToDelete, axis=1)\n",
    "df.head()"
   ]
  },
  {
   "cell_type": "code",
   "execution_count": 5,
   "metadata": {},
   "outputs": [
    {
     "data": {
      "text/plain": [
       "(1097, 27)"
      ]
     },
     "execution_count": 5,
     "metadata": {},
     "output_type": "execute_result"
    }
   ],
   "source": [
    "df.shape"
   ]
  },
  {
   "cell_type": "code",
   "execution_count": 8,
   "metadata": {},
   "outputs": [
    {
     "name": "stdout",
     "output_type": "stream",
     "text": [
      "Columns to drop with correlation > 0.97: ['Mois demande']\n"
     ]
    }
   ],
   "source": [
    "threshold = 0.97\n",
    "# calculate correlations\n",
    "corr_matrix = df.corr().abs()\n",
    "# get the upper part of correlation matrix\n",
    "upper = corr_matrix.where(np.triu(np.ones(corr_matrix.shape), k=1).astype(np.bool))\n",
    "\n",
    "# columns with correlation above threshold\n",
    "redundent = [column for column in upper.columns if any(upper[column] >= threshold)]\n",
    "print(f'Columns to drop with correlation > {threshold}: {redundent}')\n",
    "# df.drop(columns=redundent, inplace=True)"
   ]
  },
  {
   "cell_type": "code",
   "execution_count": 9,
   "metadata": {},
   "outputs": [
    {
     "data": {
      "text/plain": [
       "Index(['Compagnie d'assurance', 'Mode de gestion', 'Garantie impliquée',\n",
       "       'Chargé réparation', 'Marque', 'Réparateur', 'Expert',\n",
       "       'Compagnie adverse', 'Accord VR (Véhicule de remplacement)', 'Agence',\n",
       "       'Agent', 'Cas de barème', 'Chargé acceptation', 'Code agence',\n",
       "       'Etape Dossier', 'Etat d'approbation', 'Montant total devis',\n",
       "       'Point Choc', 'Position GA', 'SST', 'Nbr réclamations antérieures',\n",
       "       'Jour Accident', 'Mois Accident', 'Jour demande', 'Mois demande',\n",
       "       'Retard reclamation', 'Fraud'],\n",
       "      dtype='object')"
      ]
     },
     "execution_count": 9,
     "metadata": {},
     "output_type": "execute_result"
    }
   ],
   "source": [
    "df.columns"
   ]
  },
  {
   "cell_type": "code",
   "execution_count": 10,
   "metadata": {},
   "outputs": [],
   "source": [
    "# separate the target column from the features\n",
    "y = df[\"Fraud\"].map({\"Non\":0, \"Oui\":1})\n",
    "X = df.drop(\"Fraud\", axis=1)"
   ]
  },
  {
   "cell_type": "code",
   "execution_count": 11,
   "metadata": {},
   "outputs": [
    {
     "data": {
      "image/png": "[encoded data removed]",
      "text/plain": [
       "<Figure size 720x576 with 2 Axes>"
      ]
     },
     "metadata": {},
     "output_type": "display_data"
    }
   ],
   "source": [
    "\n",
    "#Correlation in the dataset\n",
    "corr = X.corr()\n",
    "mask = np.zeros_like(corr, dtype=np.bool)\n",
    "mask[np.triu_indices_from(mask)] = True\n",
    "sns.set(style=\"white\")\n",
    "\n",
    "f, ax = plt.subplots(figsize=(10, 8))\n",
    "cmap = sns.diverging_palette(30, 10, as_cmap=True)\n",
    "snsplot=sns.heatmap(corr, mask=mask, cmap=cmap, vmax=.3, center=0, square=True, linewidths=.1, cbar_kws={\"shrink\": .5});\n",
    "fig = snsplot.get_figure()\n",
    "fig.savefig(\"figure_EDA/Corr.png\") "
   ]
  },
  {
   "cell_type": "code",
   "execution_count": 12,
   "metadata": {},
   "outputs": [],
   "source": [
    "from sklearn.preprocessing import LabelEncoder\n",
    "for i in  (X.columns):\n",
    "    le = LabelEncoder()\n",
    "    le.fit(X[i].astype(str))\n",
    "    X[i] = le.transform(X[i].astype(str))\n",
    "X=X"
   ]
  },
  {
   "cell_type": "code",
   "execution_count": 13,
   "metadata": {},
   "outputs": [],
   "source": [
    "# train test split data\n",
    "testsize=0.2\n",
    "X_train, X_test, y_train, y_test = train_test_split(X, y, test_size=testsize, random_state=0)"
   ]
  },
  {
   "cell_type": "code",
   "execution_count": 14,
   "metadata": {},
   "outputs": [],
   "source": [
    "# Compare Algorithms\n",
    "import pandas\n",
    "import matplotlib.pyplot as plt\n",
    "from sklearn import model_selection\n",
    "from sklearn.linear_model import LogisticRegression\n",
    "from sklearn.tree import DecisionTreeClassifier\n",
    "from sklearn.neighbors import KNeighborsClassifier\n",
    "from sklearn.naive_bayes import GaussianNB\n",
    "from sklearn.svm import SVC\n",
    "from sklearn.ensemble import RandomForestClassifier\n",
    "from xgboost.sklearn import XGBClassifier\n",
    "from sklearn.neighbors import KNeighborsClassifier\n",
    "from sklearn.ensemble import AdaBoostClassifier\n",
    "from sklearn.neural_network import MLPClassifier\n",
    "from sklearn.model_selection import cross_val_predict\n",
    "from sklearn.metrics import confusion_matrix\n",
    "# prepare configuration for cross validation test harness\n",
    "kfold = model_selection.KFold(n_splits=30, random_state=7)\n",
    "\n",
    "# prepare models\n",
    "models = []\n",
    "models.append(('LR', LogisticRegression()))\n",
    "models.append(('KNN', KNeighborsClassifier()))\n",
    "models.append(('DT', DecisionTreeClassifier()))\n",
    "models.append(('RF', RandomForestClassifier()))\n",
    "models.append(('SVM', SVC(probability=True)))\n",
    "models.append(('ADA', AdaBoostClassifier()))\n",
    "models.append(('XGB', XGBClassifier()))\n",
    "models.append(('MLP', MLPClassifier()))"
   ]
  },
  {
   "cell_type": "code",
   "execution_count": 15,
   "metadata": {},
   "outputs": [
    {
     "name": "stdout",
     "output_type": "stream",
     "text": [
      "LR: 0.653029\n",
      "KNN: 0.502882\n",
      "DT: 0.547284\n",
      "RF: 0.696598\n",
      "SVM: 0.545582\n",
      "ADA: 0.679050\n",
      "XGB: 0.709649\n",
      "MLP: 0.616172\n"
     ]
    },
    {
     "data": {
      "image/png": "[encoded data removed]",
      "text/plain": [
       "<Figure size 432x288 with 1 Axes>"
      ]
     },
     "metadata": {},
     "output_type": "display_data"
    }
   ],
   "source": [
    "results = []\n",
    "names = []\n",
    "scoring = 'roc_auc_ovo'\n",
    "for name, model in models:\n",
    "    cv_results = model_selection.cross_val_score(model, X_train, y_train, cv=kfold, scoring=scoring)\n",
    "#     model.fit(X_train, y_train)\n",
    "#     y_pred = model.predict(X_test)\n",
    "#     cv_results = accuracy_score(y_test, y_pred)\n",
    "    results.append(cv_results)\n",
    "    y_pred = cross_val_predict(model, X, y, cv=kfold)\n",
    "#     conf_mat = confusion_matrix(y, y_pred)\n",
    "    names.append(name)\n",
    "    msg = \"%s: %f\" % (name, cv_results.mean())\n",
    "    print(msg)\n",
    "#     print(conf_mat)\n",
    "# boxplot algorithm comparison\n",
    "fig = plt.figure()\n",
    "fig.suptitle('Algorithm Comparison')\n",
    "ax = fig.add_subplot(111)\n",
    "plt.boxplot(results)\n",
    "ax.set_xticklabels(names)\n",
    "plt.savefig('figure_EDA/algo_comp_accuracy.png',dpi=400,bbox_inches='tight')\n",
    "plt.show()"
   ]
  },
  {
   "cell_type": "code",
   "execution_count": 19,
   "metadata": {},
   "outputs": [
    {
     "name": "stdout",
     "output_type": "stream",
     "text": [
      "LR: 0.795785\n",
      "KNN: 0.779808\n",
      "DT: 0.706973\n",
      "RF: 0.798314\n",
      "SVM: 0.804981\n",
      "ADA: 0.779885\n",
      "XGB: 0.797011\n",
      "MLP: 0.767241\n"
     ]
    },
    {
     "data": {
      "image/png": "[encoded data removed]",
      "text/plain": [
       "<Figure size 432x288 with 1 Axes>"
      ]
     },
     "metadata": {},
     "output_type": "display_data"
    }
   ],
   "source": [
    "results = []\n",
    "names = []\n",
    "scoring = 'accuracy'\n",
    "for name, model in models:\n",
    "    cv_results = model_selection.cross_val_score(model, X_train, y_train, cv=kfold, scoring=scoring)\n",
    "#     model.fit(X_train, y_train)\n",
    "#     y_pred = model.predict(X_test)\n",
    "#     cv_results = accuracy_score(y_test, y_pred)\n",
    "    results.append(cv_results)\n",
    "    y_pred = cross_val_predict(model, X, y, cv=kfold)\n",
    "#     conf_mat = confusion_matrix(y, y_pred)\n",
    "    names.append(name)\n",
    "    msg = \"%s: %f\" % (name, cv_results.mean())\n",
    "    print(msg)\n",
    "#     print(conf_mat)\n",
    "# boxplot algorithm comparison\n",
    "fig = plt.figure()\n",
    "fig.suptitle('Algorithm Comparison')\n",
    "ax = fig.add_subplot(111)\n",
    "plt.boxplot(results)\n",
    "ax.set_xticklabels(names)\n",
    "plt.savefig('figure_EDA/algo_comp_accuracy.png',dpi=400,bbox_inches='tight')\n",
    "plt.show()"
   ]
  },
  {
   "cell_type": "code",
   "execution_count": 20,
   "metadata": {
    "scrolled": true
   },
   "outputs": [
    {
     "name": "stdout",
     "output_type": "stream",
     "text": [
      "LR: 0.663584\n",
      "KNN: 0.502573\n",
      "DT: 0.545812\n",
      "RF: 0.681451\n",
      "SVM: 0.610665\n",
      "ADA: 0.677527\n",
      "XGB: 0.702786\n",
      "MLP: 0.647175\n"
     ]
    },
    {
     "data": {
      "image/png": "[encoded data removed]",
      "text/plain": [
       "<Figure size 432x288 with 1 Axes>"
      ]
     },
     "metadata": {},
     "output_type": "display_data"
    }
   ],
   "source": [
    "results = []\n",
    "names = []\n",
    "scoring = 'roc_auc'\n",
    "for name, model in models:\n",
    "    cv_results = model_selection.cross_val_score(model, X, y, cv=kfold, scoring=scoring)\n",
    "#     model.fit(X_train, y_train)\n",
    "#     y_pred = model.predict(X_test)\n",
    "#     cv_results = roc_auc_score(y_test, y_pred)\n",
    "    results.append(cv_results)\n",
    "    y_pred = cross_val_predict(model, X, y, cv=kfold)\n",
    "#     conf_mat = confusion_matrix(y, y_pred)\n",
    "    names.append(name)\n",
    "    msg = \"%s: %f\" % (name, cv_results.mean())\n",
    "    print(msg)\n",
    "#     print(conf_mat)\n",
    "# boxplot algorithm comparison\n",
    "fig = plt.figure()\n",
    "fig.suptitle('Algorithm Comparison')\n",
    "ax = fig.add_subplot(111)\n",
    "plt.boxplot(results)\n",
    "ax.set_xticklabels(names)\n",
    "plt.savefig('figure_EDA/algo_comp_f1.png',dpi=400,bbox_inches='tight')\n",
    "plt.show()"
   ]
  }
 ],
 "metadata": {
  "kernelspec": {
   "display_name": "Python 3",
   "language": "python",
   "name": "python3"
  },
  "language_info": {
   "codemirror_mode": {
    "name": "ipython",
    "version": 3
   },
   "file_extension": ".py",
   "mimetype": "text/x-python",
   "name": "python",
   "nbconvert_exporter": "python",
   "pygments_lexer": "ipython3",
   "version": "3.7.4"
  }
 },
 "nbformat": 4,
 "nbformat_minor": 2
}
