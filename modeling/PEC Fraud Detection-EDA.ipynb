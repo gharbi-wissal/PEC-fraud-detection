{
 "cells": [
  {
   "cell_type": "markdown",
   "metadata": {},
   "source": [
    "## Exploratory Data Analysis"
   ]
  },
  {
   "cell_type": "code",
   "execution_count": 1,
   "metadata": {},
   "outputs": [
    {
     "data": {
      "text/html": [
       "        <script type=\"text/javascript\">\n",
       "        window.PlotlyConfig = {MathJaxConfig: 'local'};\n",
       "        if (window.MathJax) {MathJax.Hub.Config({SVG: {font: \"STIX-Web\"}});}\n",
       "        if (typeof require !== 'undefined') {\n",
       "        require.undef(\"plotly\");\n",
       "        requirejs.config({\n",
       "            paths: {\n",
       "                'plotly': ['https://cdn.plot.ly/plotly-latest.min']\n",
       "            }\n",
       "        });\n",
       "        require(['plotly'], function(Plotly) {\n",
       "            window._Plotly = Plotly;\n",
       "        });\n",
       "        }\n",
       "        </script>\n",
       "        "
      ]
     },
     "metadata": {},
     "output_type": "display_data"
    }
   ],
   "source": [
    "import pandas as pd\n",
    "import numpy as np\n",
    "from matplotlib import pyplot as plt\n",
    "import plotly as py\n",
    "import plotly.express as px\n",
    "import plotly.graph_objs as go\n",
    "import ipywidgets as widgets\n",
    "from scipy import special\n",
    "\n",
    "py.offline.init_notebook_mode(connected=True)   \n",
    "pd.set_option('display.max_columns', None)\n",
    "pd.set_option('display.max_rows', None)\n",
    "%matplotlib inline"
   ]
  },
  {
   "cell_type": "markdown",
   "metadata": {},
   "source": [
    "### Importer les données"
   ]
  },
  {
   "cell_type": "code",
   "execution_count": 6,
   "metadata": {
    "scrolled": false
   },
   "outputs": [
    {
     "data": {
      "text/html": [
       "<div>\n",
       "<style scoped>\n",
       "    .dataframe tbody tr th:only-of-type {\n",
       "        vertical-align: middle;\n",
       "    }\n",
       "\n",
       "    .dataframe tbody tr th {\n",
       "        vertical-align: top;\n",
       "    }\n",
       "\n",
       "    .dataframe thead th {\n",
       "        text-align: right;\n",
       "    }\n",
       "</style>\n",
       "<table border=\"1\" class=\"dataframe\">\n",
       "  <thead>\n",
       "    <tr style=\"text-align: right;\">\n",
       "      <th></th>\n",
       "      <th>Compagnie d'assurance</th>\n",
       "      <th>Date de création</th>\n",
       "      <th>Nom et Prénom Assuré /Raison Sociale</th>\n",
       "      <th>Immatriculation Véhicule assuré</th>\n",
       "      <th>Mode de gestion</th>\n",
       "      <th>Garantie impliquée</th>\n",
       "      <th>Chargé réparation</th>\n",
       "      <th>Marque</th>\n",
       "      <th>Réparateur</th>\n",
       "      <th>Expert</th>\n",
       "      <th>Compagnie adverse</th>\n",
       "      <th>Accord VR (Véhicule de remplacement)</th>\n",
       "      <th>Agence</th>\n",
       "      <th>Agent</th>\n",
       "      <th>Cas de barème</th>\n",
       "      <th>Chargé acceptation</th>\n",
       "      <th>Code agence</th>\n",
       "      <th>Date Accident</th>\n",
       "      <th>Date acceptation</th>\n",
       "      <th>Date accord (SST)</th>\n",
       "      <th>Date demande</th>\n",
       "      <th>Etape Dossier</th>\n",
       "      <th>Etat d'approbation</th>\n",
       "      <th>Immatriculation tiers</th>\n",
       "      <th>Montant total devis</th>\n",
       "      <th>Nom et Prénom tiers /Raison Sociale</th>\n",
       "      <th>Numero sinistre</th>\n",
       "      <th>Numéro de contrat</th>\n",
       "      <th>Point Choc</th>\n",
       "      <th>Position GA</th>\n",
       "      <th>SST</th>\n",
       "      <th>Nbr réclamations antérieures</th>\n",
       "      <th>Jour Accident</th>\n",
       "      <th>Mois Accident</th>\n",
       "      <th>Année Accident</th>\n",
       "      <th>Jour demande</th>\n",
       "      <th>Mois demande</th>\n",
       "      <th>Année demande</th>\n",
       "      <th>Retard reclamation</th>\n",
       "      <th>Fraud</th>\n",
       "    </tr>\n",
       "  </thead>\n",
       "  <tbody>\n",
       "    <tr>\n",
       "      <th>0</th>\n",
       "      <td>EL AMANA TAKAFUL</td>\n",
       "      <td>43664</td>\n",
       "      <td>NACEUR HBIBI</td>\n",
       "      <td>9594TU195</td>\n",
       "      <td>IDA</td>\n",
       "      <td>Défense et recours</td>\n",
       "      <td>Asma  TURKI</td>\n",
       "      <td>ISUZU</td>\n",
       "      <td>MECATOL</td>\n",
       "      <td>Hadiji Yassine</td>\n",
       "      <td>MAE</td>\n",
       "      <td>NON</td>\n",
       "      <td>global assurance</td>\n",
       "      <td>global assurance</td>\n",
       "      <td>10.0</td>\n",
       "      <td>Ouni Hela</td>\n",
       "      <td>744</td>\n",
       "      <td>03/31/2019</td>\n",
       "      <td>04/04/2019 11:15</td>\n",
       "      <td>10/04/2019 13:22</td>\n",
       "      <td>04/04/2019</td>\n",
       "      <td>Véhicule réparé: en instance de Signature du BS</td>\n",
       "      <td>Approuvé ( Chef cellule Acceptation )</td>\n",
       "      <td>5178TU196</td>\n",
       "      <td>914.604</td>\n",
       "      <td>STE ATELIER GHRAPHIQUE</td>\n",
       "      <td>S19/9165</td>\n",
       "      <td>2015.5.0088637/3</td>\n",
       "      <td>Tiers Ar. D,Tiers Lat. D</td>\n",
       "      <td>Recours</td>\n",
       "      <td>Fathi  Nguili</td>\n",
       "      <td>2</td>\n",
       "      <td>31</td>\n",
       "      <td>3</td>\n",
       "      <td>2019</td>\n",
       "      <td>4</td>\n",
       "      <td>4</td>\n",
       "      <td>2019</td>\n",
       "      <td>4</td>\n",
       "      <td>Non</td>\n",
       "    </tr>\n",
       "    <tr>\n",
       "      <th>1</th>\n",
       "      <td>LA CARTE</td>\n",
       "      <td>16/12/2019</td>\n",
       "      <td>STE HOTEL BYZANCE</td>\n",
       "      <td>6657TU193</td>\n",
       "      <td>Dommages</td>\n",
       "      <td>Dommages au véhicule</td>\n",
       "      <td></td>\n",
       "      <td>ALFA ROMEO</td>\n",
       "      <td>NaN</td>\n",
       "      <td>NaN</td>\n",
       "      <td>ASSURANCES STAR</td>\n",
       "      <td>NaN</td>\n",
       "      <td>mohamed boussaa</td>\n",
       "      <td>mohamed boussaa</td>\n",
       "      <td>9.0</td>\n",
       "      <td>Ouni Hela</td>\n",
       "      <td>780</td>\n",
       "      <td>12/04/2019</td>\n",
       "      <td>26/12/2019 17:23</td>\n",
       "      <td>NaN</td>\n",
       "      <td>12/09/2019</td>\n",
       "      <td>En instance d'établissement Devis</td>\n",
       "      <td>Approuvé ( Chef cellule Acceptation )</td>\n",
       "      <td>9332TU62</td>\n",
       "      <td>NaN</td>\n",
       "      <td>EL GHOUL AHMED BEN AMOR</td>\n",
       "      <td>S1955133140</td>\n",
       "      <td>201950000046682</td>\n",
       "      <td>Tiers Ar. D</td>\n",
       "      <td>Recours</td>\n",
       "      <td></td>\n",
       "      <td>1</td>\n",
       "      <td>4</td>\n",
       "      <td>12</td>\n",
       "      <td>2019</td>\n",
       "      <td>9</td>\n",
       "      <td>12</td>\n",
       "      <td>2019</td>\n",
       "      <td>5</td>\n",
       "      <td>Non</td>\n",
       "    </tr>\n",
       "    <tr>\n",
       "      <th>2</th>\n",
       "      <td>LLOYD TUNISIEN</td>\n",
       "      <td>43475.0</td>\n",
       "      <td>MOUNA BEJAOUI</td>\n",
       "      <td>6130TU156</td>\n",
       "      <td>Dommages</td>\n",
       "      <td>Tierce collision</td>\n",
       "      <td>Asma  TURKI</td>\n",
       "      <td>KIA</td>\n",
       "      <td>SPEED SERVICES</td>\n",
       "      <td>Salah BEN HASSINE</td>\n",
       "      <td>BIAT assurances</td>\n",
       "      <td>NON</td>\n",
       "      <td>sondos ayoub</td>\n",
       "      <td>sondos ayoub</td>\n",
       "      <td>15.0</td>\n",
       "      <td>Ouni Hela</td>\n",
       "      <td>658</td>\n",
       "      <td>05/21/2019</td>\n",
       "      <td>28/05/2019 12:40</td>\n",
       "      <td>11/06/2019 13:06</td>\n",
       "      <td>05/24/2019</td>\n",
       "      <td>Véhicule réparé: en instance de Signature du BS</td>\n",
       "      <td>Approuvé ( Chef cellule Acceptation )</td>\n",
       "      <td>1984TU124</td>\n",
       "      <td>1790.491</td>\n",
       "      <td>IMMOBILIERE GRAND ATLAS</td>\n",
       "      <td>S19551114002</td>\n",
       "      <td>201850000077730</td>\n",
       "      <td>Tiers Lat. D</td>\n",
       "      <td>Recours</td>\n",
       "      <td>Tayssir HMAIED</td>\n",
       "      <td>1</td>\n",
       "      <td>21</td>\n",
       "      <td>5</td>\n",
       "      <td>2019</td>\n",
       "      <td>24</td>\n",
       "      <td>5</td>\n",
       "      <td>2019</td>\n",
       "      <td>3</td>\n",
       "      <td>Non</td>\n",
       "    </tr>\n",
       "    <tr>\n",
       "      <th>3</th>\n",
       "      <td>LLOYD TUNISIEN</td>\n",
       "      <td>43518.0</td>\n",
       "      <td>SOUHAIELA RIGHI</td>\n",
       "      <td>341TU196</td>\n",
       "      <td>Dommages</td>\n",
       "      <td>Tierce collision</td>\n",
       "      <td>Ouni Dhekra</td>\n",
       "      <td>VOLKSWAGEN</td>\n",
       "      <td>Société EL-FATAH</td>\n",
       "      <td>Hadiji Yassine</td>\n",
       "      <td>LLOYD TUNISIEN</td>\n",
       "      <td>NON</td>\n",
       "      <td>wajih laamiri</td>\n",
       "      <td>wajih laamiri</td>\n",
       "      <td>NaN</td>\n",
       "      <td>Ouni Hela</td>\n",
       "      <td>776</td>\n",
       "      <td>03/30/2019</td>\n",
       "      <td>05/04/2019 17:39</td>\n",
       "      <td>20/05/2019 14:35</td>\n",
       "      <td>04/05/2019</td>\n",
       "      <td>Véhicule réparé: en instance de Signature du BS</td>\n",
       "      <td>Approuvé ( Chef cellule Acceptation )</td>\n",
       "      <td>NaN</td>\n",
       "      <td>2468.064</td>\n",
       "      <td>NaN</td>\n",
       "      <td>S19551109400</td>\n",
       "      <td>201650000091405</td>\n",
       "      <td>Tiers Ar. D</td>\n",
       "      <td>Défense</td>\n",
       "      <td>Fathi  Nguili</td>\n",
       "      <td>1</td>\n",
       "      <td>30</td>\n",
       "      <td>3</td>\n",
       "      <td>2019</td>\n",
       "      <td>5</td>\n",
       "      <td>4</td>\n",
       "      <td>2019</td>\n",
       "      <td>6</td>\n",
       "      <td>Non</td>\n",
       "    </tr>\n",
       "    <tr>\n",
       "      <th>4</th>\n",
       "      <td>LLOYD TUNISIEN</td>\n",
       "      <td>43521.0</td>\n",
       "      <td>AHMED BRAHAM</td>\n",
       "      <td>7445TU172</td>\n",
       "      <td>Dommages</td>\n",
       "      <td>Tierce collision</td>\n",
       "      <td>Ouni Dhekra</td>\n",
       "      <td>VOLKSWAGEN</td>\n",
       "      <td>Société EL-FATAH</td>\n",
       "      <td>Amara Ayari</td>\n",
       "      <td>GAT assurances</td>\n",
       "      <td>OUI</td>\n",
       "      <td>aisaoui fathi</td>\n",
       "      <td>aisaoui fathi</td>\n",
       "      <td>10.0</td>\n",
       "      <td>Ouni Hela</td>\n",
       "      <td>685</td>\n",
       "      <td>04/07/2019</td>\n",
       "      <td>16/04/2019 17:35</td>\n",
       "      <td>22/04/2019 12:55</td>\n",
       "      <td>04/15/2019</td>\n",
       "      <td>Véhicule réparé: en instance de Signature du BS</td>\n",
       "      <td>Approuvé ( Chef cellule Acceptation )</td>\n",
       "      <td>6214TU68</td>\n",
       "      <td>2972.116</td>\n",
       "      <td>ALI JOUILI</td>\n",
       "      <td>S1955109776</td>\n",
       "      <td>201850000041652</td>\n",
       "      <td>Tiers Av. G</td>\n",
       "      <td>Recours</td>\n",
       "      <td>Fathi  Nguili</td>\n",
       "      <td>1</td>\n",
       "      <td>7</td>\n",
       "      <td>4</td>\n",
       "      <td>2019</td>\n",
       "      <td>15</td>\n",
       "      <td>4</td>\n",
       "      <td>2019</td>\n",
       "      <td>8</td>\n",
       "      <td>Non</td>\n",
       "    </tr>\n",
       "  </tbody>\n",
       "</table>\n",
       "</div>"
      ],
      "text/plain": [
       "  Compagnie d'assurance Date de création Nom et Prénom Assuré /Raison Sociale  \\\n",
       "0      EL AMANA TAKAFUL            43664                         NACEUR HBIBI   \n",
       "1             LA CARTE        16/12/2019                    STE HOTEL BYZANCE   \n",
       "2       LLOYD TUNISIEN           43475.0                        MOUNA BEJAOUI   \n",
       "3       LLOYD TUNISIEN           43518.0                      SOUHAIELA RIGHI   \n",
       "4       LLOYD TUNISIEN           43521.0                         AHMED BRAHAM   \n",
       "\n",
       "  Immatriculation Véhicule assuré Mode de gestion     Garantie impliquée  \\\n",
       "0                       9594TU195             IDA    Défense et recours    \n",
       "1                       6657TU193        Dommages  Dommages au véhicule    \n",
       "2                       6130TU156        Dommages      Tierce collision    \n",
       "3                        341TU196        Dommages      Tierce collision    \n",
       "4                       7445TU172        Dommages      Tierce collision    \n",
       "\n",
       "  Chargé réparation       Marque        Réparateur              Expert  \\\n",
       "0       Asma  TURKI       ISUZU           MECATOL       Hadiji Yassine   \n",
       "1                    ALFA ROMEO                NaN                 NaN   \n",
       "2       Asma  TURKI         KIA     SPEED SERVICES  Salah BEN HASSINE    \n",
       "3      Ouni Dhekra   VOLKSWAGEN   Société EL-FATAH      Hadiji Yassine   \n",
       "4      Ouni Dhekra   VOLKSWAGEN   Société EL-FATAH         Amara Ayari   \n",
       "\n",
       "  Compagnie adverse Accord VR (Véhicule de remplacement)             Agence  \\\n",
       "0              MAE                                   NON  global assurance    \n",
       "1  ASSURANCES STAR                                   NaN   mohamed boussaa    \n",
       "2   BIAT assurances                                  NON      sondos ayoub    \n",
       "3   LLOYD TUNISIEN                                   NON     wajih laamiri    \n",
       "4   GAT assurances                                   OUI     aisaoui fathi    \n",
       "\n",
       "              Agent  Cas de barème Chargé acceptation  Code agence  \\\n",
       "0  global assurance           10.0          Ouni Hela          744   \n",
       "1   mohamed boussaa            9.0          Ouni Hela          780   \n",
       "2      sondos ayoub           15.0          Ouni Hela          658   \n",
       "3     wajih laamiri            NaN          Ouni Hela          776   \n",
       "4     aisaoui fathi           10.0          Ouni Hela          685   \n",
       "\n",
       "  Date Accident  Date acceptation Date accord (SST) Date demande  \\\n",
       "0    03/31/2019  04/04/2019 11:15  10/04/2019 13:22   04/04/2019   \n",
       "1    12/04/2019  26/12/2019 17:23               NaN   12/09/2019   \n",
       "2    05/21/2019  28/05/2019 12:40  11/06/2019 13:06   05/24/2019   \n",
       "3    03/30/2019  05/04/2019 17:39  20/05/2019 14:35   04/05/2019   \n",
       "4    04/07/2019  16/04/2019 17:35  22/04/2019 12:55   04/15/2019   \n",
       "\n",
       "                                     Etape Dossier  \\\n",
       "0  Véhicule réparé: en instance de Signature du BS   \n",
       "1                En instance d'établissement Devis   \n",
       "2  Véhicule réparé: en instance de Signature du BS   \n",
       "3  Véhicule réparé: en instance de Signature du BS   \n",
       "4  Véhicule réparé: en instance de Signature du BS   \n",
       "\n",
       "                      Etat d'approbation Immatriculation tiers  \\\n",
       "0  Approuvé ( Chef cellule Acceptation )             5178TU196   \n",
       "1  Approuvé ( Chef cellule Acceptation )              9332TU62   \n",
       "2  Approuvé ( Chef cellule Acceptation )             1984TU124   \n",
       "3  Approuvé ( Chef cellule Acceptation )                   NaN   \n",
       "4  Approuvé ( Chef cellule Acceptation )              6214TU68   \n",
       "\n",
       "   Montant total devis Nom et Prénom tiers /Raison Sociale Numero sinistre  \\\n",
       "0              914.604              STE ATELIER GHRAPHIQUE       S19/9165    \n",
       "1                  NaN             EL GHOUL AHMED BEN AMOR    S1955133140    \n",
       "2             1790.491             IMMOBILIERE GRAND ATLAS   S19551114002    \n",
       "3             2468.064                                 NaN   S19551109400    \n",
       "4             2972.116                          ALI JOUILI    S1955109776    \n",
       "\n",
       "  Numéro de contrat                Point Choc Position GA             SST  \\\n",
       "0  2015.5.0088637/3  Tiers Ar. D,Tiers Lat. D     Recours   Fathi  Nguili   \n",
       "1   201950000046682               Tiers Ar. D     Recours                   \n",
       "2   201850000077730              Tiers Lat. D     Recours  Tayssir HMAIED   \n",
       "3   201650000091405               Tiers Ar. D     Défense   Fathi  Nguili   \n",
       "4   201850000041652               Tiers Av. G     Recours   Fathi  Nguili   \n",
       "\n",
       "   Nbr réclamations antérieures  Jour Accident  Mois Accident  Année Accident  \\\n",
       "0                             2             31              3            2019   \n",
       "1                             1              4             12            2019   \n",
       "2                             1             21              5            2019   \n",
       "3                             1             30              3            2019   \n",
       "4                             1              7              4            2019   \n",
       "\n",
       "   Jour demande  Mois demande  Année demande  Retard reclamation Fraud  \n",
       "0             4             4           2019                   4   Non  \n",
       "1             9            12           2019                   5   Non  \n",
       "2            24             5           2019                   3   Non  \n",
       "3             5             4           2019                   6   Non  \n",
       "4            15             4           2019                   8   Non  "
      ]
     },
     "execution_count": 6,
     "metadata": {},
     "output_type": "execute_result"
    }
   ],
   "source": [
    "#load & view raw data\n",
    "df = pd.read_csv('output/pec_prep_out.csv')\n",
    "df=df.drop([ \"Unnamed: 0\"], axis=1)\n",
    "df.head()"
   ]
  },
  {
   "cell_type": "markdown",
   "metadata": {},
   "source": [
    "#### Statistical descriptions of the columns"
   ]
  },
  {
   "cell_type": "code",
   "execution_count": null,
   "metadata": {},
   "outputs": [],
   "source": [
    "df.columns"
   ]
  },
  {
   "cell_type": "code",
   "execution_count": null,
   "metadata": {},
   "outputs": [],
   "source": [
    "df.describe()"
   ]
  },
  {
   "cell_type": "code",
   "execution_count": null,
   "metadata": {},
   "outputs": [],
   "source": [
    "df.dtypes"
   ]
  },
  {
   "cell_type": "code",
   "execution_count": null,
   "metadata": {},
   "outputs": [],
   "source": [
    "df.shape"
   ]
  },
  {
   "cell_type": "code",
   "execution_count": null,
   "metadata": {},
   "outputs": [],
   "source": [
    "df.nunique()"
   ]
  },
  {
   "cell_type": "code",
   "execution_count": null,
   "metadata": {},
   "outputs": [],
   "source": [
    "ax = pd.value_counts(df['Fraud']).plot.bar(color=['blue', 'magenta'], figsize=(10,5))\n",
    "ax.set_xlabel('Fraud reported')\n",
    "ax.set_ylabel('Nombre de réclamations')\n",
    "plt.savefig('../frontend/src/assets/figure_EDA/Nbr_reclam_fraud.png',dpi=400)\n",
    "\n",
    "plt.show()\n",
    "# plt.savefig('figure_EDA/Nbr_reclam_fraud')"
   ]
  },
  {
   "cell_type": "code",
   "execution_count": null,
   "metadata": {},
   "outputs": [],
   "source": [
    "df['Fraud'].value_counts() "
   ]
  },
  {
   "cell_type": "code",
   "execution_count": null,
   "metadata": {},
   "outputs": [],
   "source": [
    "df['Mode de gestion'].value_counts()"
   ]
  },
  {
   "cell_type": "code",
   "execution_count": null,
   "metadata": {},
   "outputs": [],
   "source": [
    "df['Nbr réclamations antérieures'].value_counts()"
   ]
  },
  {
   "cell_type": "code",
   "execution_count": null,
   "metadata": {},
   "outputs": [],
   "source": [
    "df['Garantie impliquée'].value_counts()"
   ]
  },
  {
   "cell_type": "code",
   "execution_count": null,
   "metadata": {},
   "outputs": [],
   "source": [
    "fig = px.bar(df, x='Garantie impliquée', y='Montant total devis', color='Garantie impliquée' )\n",
    "fig.show()\n",
    "fig.write_image(\"../frontend/src/assets/figure_EDA/montant_garantie.png\")"
   ]
  },
  {
   "cell_type": "code",
   "execution_count": null,
   "metadata": {},
   "outputs": [],
   "source": [
    "fig = px.bar(df, x='Mode de gestion', y='Montant total devis', color='Mode de gestion' )\n",
    "fig.show()\n",
    "fig.write_image(\"../frontend/src/assets/figure_EDA/montant_mode.png\")"
   ]
  },
  {
   "cell_type": "code",
   "execution_count": null,
   "metadata": {},
   "outputs": [],
   "source": [
    "fig = px.histogram(df, x='Garantie impliquée', color='Fraud')\n",
    "fig.show()\n",
    "fig.write_image(\"../frontend/src/assets/figure_EDA/garantie_fraud.png\")"
   ]
  },
  {
   "cell_type": "code",
   "execution_count": null,
   "metadata": {
    "scrolled": true
   },
   "outputs": [],
   "source": [
    "fig = px.bar(df, x='Point Choc', y='Fraud', color='Cas de barème' )\n",
    "fig.show()\n",
    "fig.write_image(\"../frontend/src/assets/figure_EDA/pt_choc_fraud.png\")"
   ]
  },
  {
   "cell_type": "code",
   "execution_count": null,
   "metadata": {
    "scrolled": true
   },
   "outputs": [],
   "source": [
    "fig = px.histogram(df, x='Mode de gestion', color='Fraud')\n",
    "fig.show()\n",
    "fig.write_image(\"../frontend/src/assets/figure_EDA/mode_gestion_fraud.png\")"
   ]
  },
  {
   "cell_type": "code",
   "execution_count": null,
   "metadata": {
    "scrolled": true
   },
   "outputs": [],
   "source": [
    "fig = px.histogram(df, x=\"Montant total devis\", color=\"Fraud\", marginal=\"box\", hover_data=df.columns)\n",
    "fig.show()\n",
    "fig.write_image(\"../frontend/src/assets/figure_EDA/montant_fraud.png\")"
   ]
  },
  {
   "cell_type": "code",
   "execution_count": null,
   "metadata": {},
   "outputs": [],
   "source": [
    "labels = ['Recours', 'Défense']\n",
    "fig = px.pie(df, values=df['Position GA'].value_counts(), names=labels, title='Position GA')\n",
    "fig.show()\n",
    "fig.write_image(\"../frontend/src/assets/figure_EDA/positionGA.png\")"
   ]
  },
  {
   "cell_type": "code",
   "execution_count": null,
   "metadata": {},
   "outputs": [],
   "source": [
    "fig = px.histogram(df, x='Position GA', color='Fraud')\n",
    "fig.show()\n",
    "fig.write_image(\"../frontend/src/assets/figure_EDA/positionGA_fraud.png\")"
   ]
  },
  {
   "cell_type": "code",
   "execution_count": null,
   "metadata": {},
   "outputs": [],
   "source": [
    "fig = px.pie(df, values=df['Mode de gestion'].value_counts(), names=df['Mode de gestion'].value_counts().keys(), title='Incident Type', )\n",
    "fig.show()\n",
    "fig.write_image(\"../frontend/src/assets/figure_EDA/mode_gestion.png\")"
   ]
  },
  {
   "cell_type": "code",
   "execution_count": null,
   "metadata": {},
   "outputs": [],
   "source": [
    "# df[df[\"Marque\"] =='VOLKSWAGEN']['Fraud'].value_counts()"
   ]
  },
  {
   "cell_type": "code",
   "execution_count": null,
   "metadata": {},
   "outputs": [],
   "source": [
    "df[\"Marque\"].unique()"
   ]
  },
  {
   "cell_type": "code",
   "execution_count": 4,
   "metadata": {},
   "outputs": [],
   "source": [
    "# df[\"Marque\"] = df[\"Marque\"].map({\n",
    "# 'ISUZU ':\"A\", 'ALFA ROMEO ':\"B\", 'KIA ':\"C\", 'VOLKSWAGEN ':\"D\",\n",
    "#        'RENAULT ':\"E\", 'HYUNDAI ':\"F\", 'PEUGEOT ':\"G\", 'SEAT ':\"H\",\n",
    "#        'CHEVROLET ':\"I\", 'FORD ':\"J\", 'MERCEDES-BENZ ':\"K\",\n",
    "#        'TOYOTA ':\"L\", 'MAZDA ':\"M\", 'CITROËN ':\"N\",\n",
    "#        'FIAT ':\"O\", 'SUZUKI ':\"P\", 'HONDA ':\"Q\", 'DACIA ':\"R\", 'CHERY ':\"S\", 'JAGUAR ':\"T\", 'FOTON':\"U\",\n",
    "#        'SSANGYONG ':\"V\", 'NISSAN ':\"W\", 'DAEWOO ':\"Y\", 'IVECO ':\"X\", 'BMW ':\"Z\", 'MAHINDRA ':\"AA\",\n",
    "#        'MITSUBISHI ':\"AB\", 'OPEL ':\"AC\", 'AUDI ':\"AD\", 'BAIC ':\"AE\", 'MORRIS ':\"AF\", 'LADA ':\"AG\",\n",
    "#        'MG ':\"AH\", 'SKODA ':\"AI\", 'TATA ':\"AJ\", 'LANCIA ':\"AK\", 'SMART ':\"AL\", 'MINIONE':\"AM\",\n",
    "#        'LAND ROVER ':\"AN\", 'DFSK':\"AO\"})"
   ]
  },
  {
   "cell_type": "code",
   "execution_count": 7,
   "metadata": {
    "scrolled": false
   },
   "outputs": [
    {
     "data": {
      "application/vnd.plotly.v1+json": {
       "config": {
        "plotlyServerURL": "https://plot.ly"
       },
       "data": [
        {
         "alignmentgroup": "True",
         "bingroup": "x",
         "hovertemplate": "Fraud=Non<br>Marque=%{x}<br>count=%{y}<extra></extra>",
         "legendgroup": "Non",
         "marker": {
          "color": "#636efa"
         },
         "name": "Non",
         "offsetgroup": "Non",
         "orientation": "v",
         "showlegend": true,
         "type": "histogram",
         "x": [
          "ISUZU ",
          "ALFA ROMEO ",
          "KIA ",
          "VOLKSWAGEN ",
          "VOLKSWAGEN ",
          "KIA ",
          "RENAULT ",
          "HYUNDAI ",
          "PEUGEOT ",
          "PEUGEOT ",
          "CHEVROLET ",
          "ISUZU ",
          "PEUGEOT ",
          "VOLKSWAGEN ",
          "FORD ",
          "MERCEDES-BENZ ",
          "TOYOTA ",
          "KIA ",
          "PEUGEOT ",
          "VOLKSWAGEN ",
          "KIA ",
          "MAZDA ",
          "CITROËN ",
          "RENAULT ",
          "HYUNDAI ",
          "VOLKSWAGEN ",
          "PEUGEOT ",
          "RENAULT ",
          "PEUGEOT ",
          "RENAULT ",
          "VOLKSWAGEN ",
          "CITROËN ",
          "SUZUKI",
          "HONDA ",
          "TOYOTA ",
          "FORD ",
          "JAGUAR ",
          "VOLKSWAGEN ",
          "FIAT ",
          "VOLKSWAGEN ",
          "CITROËN ",
          "FOTON",
          "TOYOTA ",
          "TOYOTA ",
          "VOLKSWAGEN ",
          "PEUGEOT ",
          "ISUZU ",
          "VOLKSWAGEN ",
          "HYUNDAI ",
          "MAZDA ",
          "SSANGYONG ",
          "KIA ",
          "KIA ",
          "CITROËN ",
          "MERCEDES-BENZ ",
          "KIA ",
          "TOYOTA ",
          "CITROËN ",
          "KIA ",
          "RENAULT ",
          "FIAT ",
          "PEUGEOT ",
          "NISSAN ",
          "CHEVROLET ",
          "PEUGEOT ",
          "FIAT ",
          "KIA ",
          "CITROËN ",
          "FIAT ",
          "FIAT ",
          "TOYOTA ",
          "SEAT ",
          "NISSAN ",
          "PEUGEOT ",
          "MERCEDES-BENZ ",
          "VOLKSWAGEN ",
          "CITROËN ",
          "MAZDA ",
          "CITROËN ",
          "VOLKSWAGEN ",
          "CITROËN ",
          "CHEVROLET ",
          "IVECO ",
          "PEUGEOT ",
          "FIAT ",
          "RENAULT ",
          "BMW ",
          "TOYOTA ",
          "PEUGEOT ",
          "KIA ",
          "NISSAN ",
          "ISUZU ",
          "PEUGEOT ",
          "CITROËN ",
          "KIA ",
          "RENAULT ",
          "FIAT ",
          "MAHINDRA ",
          "MERCEDES-BENZ ",
          "MAHINDRA ",
          "KIA ",
          "MITSUBISHI ",
          "CITROËN ",
          "PEUGEOT ",
          "HYUNDAI ",
          "SEAT ",
          "PEUGEOT ",
          "BMW ",
          "SEAT ",
          "VOLKSWAGEN ",
          "CHEVROLET ",
          "KIA ",
          "VOLKSWAGEN ",
          "BMW ",
          "OPEL ",
          "PEUGEOT ",
          "PEUGEOT ",
          "VOLKSWAGEN ",
          "RENAULT ",
          "HYUNDAI ",
          "VOLKSWAGEN ",
          "VOLKSWAGEN ",
          "ISUZU ",
          "KIA ",
          "RENAULT ",
          "MAHINDRA ",
          "RENAULT ",
          "VOLKSWAGEN ",
          "AUDI ",
          "FIAT ",
          "FORD ",
          "VOLKSWAGEN ",
          "PEUGEOT ",
          "FORD ",
          "CITROËN ",
          "KIA ",
          "MERCEDES-BENZ ",
          "MERCEDES-BENZ ",
          "HYUNDAI ",
          "SEAT ",
          "CHEVROLET ",
          "PEUGEOT ",
          "FIAT ",
          "FIAT ",
          "NISSAN ",
          "VOLKSWAGEN ",
          "FIAT ",
          "BAIC ",
          "MERCEDES-BENZ ",
          "DACIA ",
          "VOLKSWAGEN ",
          "FORD ",
          "FORD ",
          "FIAT ",
          "RENAULT ",
          "PEUGEOT ",
          "FORD ",
          "VOLKSWAGEN ",
          "SEAT ",
          "OPEL ",
          "PEUGEOT ",
          "TOYOTA ",
          "KIA ",
          "CITROËN ",
          "PEUGEOT ",
          "MORRIS ",
          "OPEL ",
          "FIAT ",
          "MAZDA ",
          "CITROËN ",
          "FOTON",
          "PEUGEOT ",
          "SUZUKI",
          "FIAT ",
          "LADA ",
          "MERCEDES-BENZ ",
          "CITROËN ",
          "KIA ",
          "FORD ",
          "VOLKSWAGEN ",
          "CITROËN ",
          "HYUNDAI ",
          "SUZUKI",
          "CITROËN ",
          "TOYOTA ",
          "NISSAN ",
          "TOYOTA ",
          "HYUNDAI ",
          "MG ",
          "ISUZU ",
          "CITROËN ",
          "VOLKSWAGEN ",
          "HONDA ",
          "KIA ",
          "SKODA ",
          "FIAT ",
          "CHEVROLET ",
          "CHEVROLET ",
          "RENAULT ",
          "RENAULT ",
          "VOLKSWAGEN ",
          "SEAT ",
          "RENAULT ",
          "VOLKSWAGEN ",
          "FIAT ",
          "BMW ",
          "VOLKSWAGEN ",
          "VOLKSWAGEN ",
          "SEAT ",
          "KIA ",
          "MAZDA ",
          "VOLKSWAGEN ",
          "CITROËN ",
          "VOLKSWAGEN ",
          "HYUNDAI ",
          "TOYOTA ",
          "HYUNDAI ",
          "PEUGEOT ",
          "HYUNDAI ",
          "DACIA ",
          "CHERY ",
          "BMW ",
          "KIA ",
          "VOLKSWAGEN ",
          "TOYOTA ",
          "PEUGEOT ",
          "CITROËN ",
          "RENAULT ",
          "RENAULT ",
          "KIA ",
          "PEUGEOT ",
          "NISSAN ",
          "VOLKSWAGEN ",
          "RENAULT ",
          "VOLKSWAGEN ",
          "MAZDA ",
          "VOLKSWAGEN ",
          "CITROËN ",
          "DACIA ",
          "SEAT ",
          "VOLKSWAGEN ",
          "SEAT ",
          "CITROËN ",
          "FIAT ",
          "AUDI ",
          "VOLKSWAGEN ",
          "PEUGEOT ",
          "DACIA ",
          "RENAULT ",
          "VOLKSWAGEN ",
          "NISSAN ",
          "RENAULT ",
          "VOLKSWAGEN ",
          "TATA ",
          "MAZDA ",
          "KIA ",
          "RENAULT ",
          "CHEVROLET ",
          "VOLKSWAGEN ",
          "TOYOTA ",
          "MAZDA ",
          "RENAULT ",
          "HYUNDAI ",
          "VOLKSWAGEN ",
          "DAEWOO ",
          "LANCIA ",
          "LANCIA ",
          "KIA ",
          "CITROËN ",
          "NISSAN ",
          "SMART ",
          "KIA ",
          "MAZDA ",
          "TOYOTA ",
          "NISSAN ",
          "RENAULT ",
          "FIAT ",
          "CITROËN ",
          "FORD ",
          "KIA ",
          "CHEVROLET ",
          "VOLKSWAGEN ",
          "FORD ",
          "VOLKSWAGEN ",
          "CITROËN ",
          "MITSUBISHI ",
          "HYUNDAI ",
          "AUDI ",
          "BMW ",
          "RENAULT ",
          "VOLKSWAGEN ",
          "FORD ",
          "KIA ",
          "CITROËN ",
          "MG ",
          "RENAULT ",
          "FORD ",
          "KIA ",
          "RENAULT ",
          "KIA ",
          "VOLKSWAGEN ",
          "PEUGEOT ",
          "FORD ",
          "ALFA ROMEO ",
          "MAZDA ",
          "OPEL ",
          "CHEVROLET ",
          "CHEVROLET ",
          "CITROËN ",
          "KIA ",
          "KIA ",
          "HYUNDAI ",
          "FORD ",
          "BAIC ",
          "MERCEDES-BENZ ",
          "PEUGEOT ",
          "VOLKSWAGEN ",
          "AUDI ",
          "FIAT ",
          "HONDA ",
          "FORD ",
          "MERCEDES-BENZ ",
          "SEAT ",
          "VOLKSWAGEN ",
          "VOLKSWAGEN ",
          "RENAULT ",
          "VOLKSWAGEN ",
          "AUDI ",
          "VOLKSWAGEN ",
          "CHERY ",
          "RENAULT ",
          "RENAULT ",
          "ISUZU ",
          "VOLKSWAGEN ",
          "CITROËN ",
          "VOLKSWAGEN ",
          "FIAT ",
          "PEUGEOT ",
          "CITROËN ",
          "ISUZU ",
          "PEUGEOT ",
          "SSANGYONG ",
          "VOLKSWAGEN ",
          "FIAT ",
          "FIAT ",
          "RENAULT ",
          "VOLKSWAGEN ",
          "MERCEDES-BENZ ",
          "PEUGEOT ",
          "CITROËN ",
          "FORD ",
          "PEUGEOT ",
          "TOYOTA ",
          "VOLKSWAGEN ",
          "CITROËN ",
          "TOYOTA ",
          "FORD ",
          "VOLKSWAGEN ",
          "RENAULT ",
          "MAZDA ",
          "VOLKSWAGEN ",
          "CITROËN ",
          "MERCEDES-BENZ ",
          "MERCEDES-BENZ ",
          "RENAULT ",
          "BMW ",
          "RENAULT ",
          "NISSAN ",
          "FIAT ",
          "KIA ",
          "OPEL ",
          "CITROËN ",
          "VOLKSWAGEN ",
          "FIAT ",
          "FORD ",
          "KIA ",
          "NISSAN ",
          "VOLKSWAGEN ",
          "OPEL ",
          "PEUGEOT ",
          "CITROËN ",
          "VOLKSWAGEN ",
          "DACIA ",
          "VOLKSWAGEN ",
          "FORD ",
          "VOLKSWAGEN ",
          "SSANGYONG ",
          "MAZDA ",
          "OPEL ",
          "KIA ",
          "TOYOTA ",
          "PEUGEOT ",
          "VOLKSWAGEN ",
          "FORD ",
          "MAZDA ",
          "HYUNDAI ",
          "SKODA ",
          "RENAULT ",
          "MERCEDES-BENZ ",
          "MERCEDES-BENZ ",
          "KIA ",
          "OPEL ",
          "MERCEDES-BENZ ",
          "PEUGEOT ",
          "RENAULT ",
          "MERCEDES-BENZ ",
          "OPEL ",
          "CITROËN ",
          "HYUNDAI ",
          "BMW ",
          "PEUGEOT ",
          "RENAULT ",
          "CITROËN ",
          "FIAT ",
          "TOYOTA ",
          "VOLKSWAGEN ",
          "KIA ",
          "VOLKSWAGEN ",
          "BMW ",
          "FIAT ",
          "VOLKSWAGEN ",
          "FIAT ",
          "FIAT ",
          "VOLKSWAGEN ",
          "CITROËN ",
          "ISUZU ",
          "AUDI ",
          "FORD ",
          "PEUGEOT ",
          "BMW ",
          "PEUGEOT ",
          "PEUGEOT ",
          "RENAULT ",
          "BMW ",
          "CITROËN ",
          "MERCEDES-BENZ ",
          "VOLKSWAGEN ",
          "AUDI ",
          "VOLKSWAGEN ",
          "MAZDA ",
          "RENAULT ",
          "VOLKSWAGEN ",
          "PEUGEOT ",
          "VOLKSWAGEN ",
          "MITSUBISHI ",
          "PEUGEOT ",
          "PEUGEOT ",
          "FIAT ",
          "MITSUBISHI ",
          "RENAULT ",
          "VOLKSWAGEN ",
          "DACIA ",
          "PEUGEOT ",
          "RENAULT ",
          "CHEVROLET ",
          "FORD ",
          "MAZDA ",
          "RENAULT ",
          "SEAT ",
          "VOLKSWAGEN ",
          "PEUGEOT ",
          "RENAULT ",
          "FIAT ",
          "CHEVROLET ",
          "PEUGEOT ",
          "PEUGEOT ",
          "PEUGEOT ",
          "PEUGEOT ",
          "SEAT ",
          "MERCEDES-BENZ ",
          "KIA ",
          "VOLKSWAGEN ",
          "SSANGYONG ",
          "BMW ",
          "CHEVROLET ",
          "ISUZU ",
          "HYUNDAI ",
          "BMW ",
          "CITROËN ",
          "DACIA ",
          "RENAULT ",
          "VOLKSWAGEN ",
          "NISSAN ",
          "PEUGEOT ",
          "PEUGEOT ",
          "RENAULT ",
          "ISUZU ",
          "PEUGEOT ",
          "PEUGEOT ",
          "PEUGEOT ",
          "FIAT ",
          "BMW ",
          "CITROËN ",
          "FIAT ",
          "FIAT ",
          "CITROËN ",
          "VOLKSWAGEN ",
          "RENAULT ",
          "KIA ",
          "VOLKSWAGEN ",
          "MERCEDES-BENZ ",
          "AUDI ",
          "HYUNDAI ",
          "CHERY ",
          "KIA ",
          "RENAULT ",
          "SUZUKI",
          "DACIA ",
          "KIA ",
          "PEUGEOT ",
          "CITROËN ",
          "CITROËN ",
          "CITROËN ",
          "PEUGEOT ",
          "VOLKSWAGEN ",
          "SMART ",
          "VOLKSWAGEN ",
          "CHEVROLET ",
          "PEUGEOT ",
          "MERCEDES-BENZ ",
          "RENAULT ",
          "KIA ",
          "CITROËN ",
          "AUDI ",
          "FORD ",
          "RENAULT ",
          "MERCEDES-BENZ ",
          "HONDA ",
          "CHEVROLET ",
          "RENAULT ",
          "KIA ",
          "FIAT ",
          "ISUZU ",
          "PEUGEOT ",
          "RENAULT ",
          "HONDA ",
          "VOLKSWAGEN ",
          "RENAULT ",
          "PEUGEOT ",
          "ISUZU ",
          "KIA ",
          "MAZDA ",
          "FIAT ",
          "ISUZU ",
          "AUDI ",
          "MERCEDES-BENZ ",
          "VOLKSWAGEN ",
          "SSANGYONG ",
          "MAZDA ",
          "DACIA ",
          "PEUGEOT ",
          "BMW ",
          "CITROËN ",
          "MG ",
          "MG ",
          "SUZUKI",
          "FIAT ",
          "PEUGEOT ",
          "ISUZU ",
          "FIAT ",
          "KIA ",
          "CITROËN ",
          "RENAULT ",
          "ISUZU ",
          "IVECO ",
          "VOLKSWAGEN ",
          "VOLKSWAGEN ",
          "VOLKSWAGEN ",
          "PEUGEOT ",
          "HYUNDAI ",
          "NISSAN ",
          "VOLKSWAGEN ",
          "RENAULT ",
          "PEUGEOT ",
          "MITSUBISHI ",
          "ISUZU ",
          "RENAULT ",
          "MINIONE",
          "FORD ",
          "PEUGEOT ",
          "RENAULT ",
          "MERCEDES-BENZ ",
          "CITROËN ",
          "FIAT ",
          "CHEVROLET ",
          "PEUGEOT ",
          "HYUNDAI ",
          "VOLKSWAGEN ",
          "MERCEDES-BENZ ",
          "PEUGEOT ",
          "MAZDA ",
          "VOLKSWAGEN ",
          "VOLKSWAGEN ",
          "MITSUBISHI ",
          "MERCEDES-BENZ ",
          "PEUGEOT ",
          "FIAT ",
          "CITROËN ",
          "CITROËN ",
          "CITROËN ",
          "RENAULT ",
          "FIAT ",
          "SEAT ",
          "VOLKSWAGEN ",
          "VOLKSWAGEN ",
          "FORD ",
          "CITROËN ",
          "CITROËN ",
          "CITROËN ",
          "VOLKSWAGEN ",
          "CITROËN ",
          "VOLKSWAGEN ",
          "PEUGEOT ",
          "TATA ",
          "FORD ",
          "DACIA ",
          "PEUGEOT ",
          "ALFA ROMEO ",
          "MERCEDES-BENZ ",
          "VOLKSWAGEN ",
          "DACIA ",
          "FIAT ",
          "RENAULT ",
          "MAHINDRA ",
          "KIA ",
          "VOLKSWAGEN ",
          "FIAT ",
          "FORD ",
          "ISUZU ",
          "HYUNDAI ",
          "MERCEDES-BENZ ",
          "KIA ",
          "FORD ",
          "TOYOTA ",
          "PEUGEOT ",
          "LAND ROVER ",
          "VOLKSWAGEN ",
          "MAZDA ",
          "KIA ",
          "PEUGEOT ",
          "RENAULT ",
          "KIA ",
          "VOLKSWAGEN ",
          "SSANGYONG ",
          "PEUGEOT ",
          "CITROËN ",
          "CITROËN ",
          "MERCEDES-BENZ ",
          "RENAULT ",
          "KIA ",
          "KIA ",
          "KIA ",
          "KIA ",
          "FIAT ",
          "RENAULT ",
          "CITROËN ",
          "RENAULT ",
          "RENAULT ",
          "CITROËN ",
          "MERCEDES-BENZ ",
          "CITROËN ",
          "KIA ",
          "FORD ",
          "HYUNDAI ",
          "FIAT ",
          "VOLKSWAGEN ",
          "FORD ",
          "VOLKSWAGEN ",
          "VOLKSWAGEN ",
          "BMW ",
          "KIA ",
          "VOLKSWAGEN ",
          "FORD ",
          "VOLKSWAGEN ",
          "MG ",
          "RENAULT ",
          "MERCEDES-BENZ ",
          "OPEL ",
          "PEUGEOT ",
          "BMW ",
          "VOLKSWAGEN ",
          "PEUGEOT ",
          "NISSAN ",
          "PEUGEOT ",
          "CITROËN ",
          "RENAULT ",
          "BMW ",
          "RENAULT ",
          "FIAT ",
          "RENAULT ",
          "VOLKSWAGEN ",
          "CHEVROLET ",
          "PEUGEOT ",
          "CITROËN ",
          "RENAULT ",
          "VOLKSWAGEN ",
          "CITROËN ",
          "CITROËN ",
          "NISSAN ",
          "BMW ",
          "SEAT ",
          "SEAT ",
          "HYUNDAI ",
          "MAZDA ",
          "RENAULT ",
          "PEUGEOT ",
          "PEUGEOT ",
          "MITSUBISHI ",
          "DFSK",
          "ISUZU ",
          "PEUGEOT ",
          "MERCEDES-BENZ ",
          "BMW ",
          "VOLKSWAGEN ",
          "VOLKSWAGEN ",
          "KIA ",
          "PEUGEOT ",
          "RENAULT ",
          "VOLKSWAGEN ",
          "PEUGEOT ",
          "SEAT ",
          "TOYOTA ",
          "CITROËN ",
          "FORD ",
          "RENAULT ",
          "HYUNDAI ",
          "CITROËN ",
          "PEUGEOT ",
          "DACIA ",
          "ISUZU ",
          "RENAULT ",
          "CITROËN ",
          "DACIA ",
          "SEAT ",
          "CITROËN ",
          "KIA ",
          "VOLKSWAGEN ",
          "TOYOTA ",
          "CHEVROLET ",
          "FIAT ",
          "RENAULT ",
          "FORD ",
          "PEUGEOT ",
          "VOLKSWAGEN ",
          "TOYOTA ",
          "KIA ",
          "FORD ",
          "ISUZU ",
          "CHERY ",
          "MAZDA ",
          "SEAT ",
          "VOLKSWAGEN ",
          "PEUGEOT ",
          "RENAULT ",
          "RENAULT ",
          "MITSUBISHI ",
          "SEAT ",
          "RENAULT ",
          "VOLKSWAGEN ",
          "FORD ",
          "KIA ",
          "PEUGEOT ",
          "FIAT ",
          "VOLKSWAGEN ",
          "KIA ",
          "RENAULT ",
          "CITROËN ",
          "VOLKSWAGEN ",
          "VOLKSWAGEN ",
          "PEUGEOT ",
          "ISUZU ",
          "CITROËN ",
          "MG ",
          "SEAT ",
          "PEUGEOT ",
          "RENAULT ",
          "RENAULT ",
          "MERCEDES-BENZ ",
          "FORD ",
          "FIAT ",
          "VOLKSWAGEN ",
          "HYUNDAI ",
          "HYUNDAI ",
          "DACIA ",
          "FIAT ",
          "PEUGEOT ",
          "VOLKSWAGEN ",
          "DACIA ",
          "CITROËN ",
          "PEUGEOT ",
          "PEUGEOT ",
          "RENAULT ",
          "PEUGEOT ",
          "RENAULT ",
          "FORD ",
          "HYUNDAI ",
          "VOLKSWAGEN ",
          "CITROËN ",
          "PEUGEOT ",
          "VOLKSWAGEN ",
          "DACIA ",
          "DACIA ",
          "RENAULT ",
          "RENAULT ",
          "AUDI ",
          "RENAULT ",
          "VOLKSWAGEN ",
          "CITROËN ",
          "FIAT ",
          "CITROËN ",
          "TOYOTA ",
          "VOLKSWAGEN ",
          "VOLKSWAGEN ",
          "CITROËN ",
          "CHERY ",
          "VOLKSWAGEN ",
          "FIAT ",
          "PEUGEOT ",
          "KIA ",
          "TOYOTA ",
          "RENAULT ",
          "DACIA ",
          "CITROËN ",
          "VOLKSWAGEN ",
          "PEUGEOT ",
          "RENAULT ",
          "VOLKSWAGEN ",
          "DACIA ",
          "RENAULT ",
          "RENAULT ",
          "CITROËN ",
          "TOYOTA ",
          "CITROËN ",
          "VOLKSWAGEN ",
          "SUZUKI",
          "VOLKSWAGEN ",
          "SKODA ",
          "PEUGEOT ",
          "FORD ",
          "PEUGEOT ",
          "PEUGEOT ",
          "VOLKSWAGEN ",
          "MERCEDES-BENZ ",
          "VOLKSWAGEN ",
          "DACIA ",
          "AUDI ",
          "SKODA ",
          "FIAT ",
          "PEUGEOT ",
          "MAHINDRA ",
          "SEAT ",
          "MAZDA ",
          "KIA ",
          "FORD ",
          "FIAT ",
          "DACIA ",
          "RENAULT ",
          "VOLKSWAGEN ",
          "BMW ",
          "VOLKSWAGEN ",
          "RENAULT ",
          "OPEL ",
          "KIA ",
          "VOLKSWAGEN ",
          "CHEVROLET ",
          "FORD ",
          "FIAT ",
          "DACIA ",
          "RENAULT ",
          "FORD ",
          "TOYOTA ",
          "VOLKSWAGEN ",
          "FORD ",
          "MERCEDES-BENZ ",
          "ISUZU ",
          "VOLKSWAGEN ",
          "DACIA ",
          "MAHINDRA ",
          "VOLKSWAGEN ",
          "FIAT ",
          "CITROËN ",
          "VOLKSWAGEN "
         ],
         "xaxis": "x",
         "yaxis": "y"
        },
        {
         "alignmentgroup": "True",
         "bingroup": "x",
         "hovertemplate": "Fraud=Oui<br>Marque=%{x}<br>count=%{y}<extra></extra>",
         "legendgroup": "Oui",
         "marker": {
          "color": "#EF553B"
         },
         "name": "Oui",
         "offsetgroup": "Oui",
         "orientation": "v",
         "showlegend": true,
         "type": "histogram",
         "x": [
          "PEUGEOT ",
          "SEAT ",
          "RENAULT ",
          "RENAULT ",
          "MAZDA ",
          "CITROËN ",
          "FIAT ",
          "CITROËN ",
          "KIA ",
          "DACIA ",
          "CHERY ",
          "DACIA ",
          "KIA ",
          "TOYOTA ",
          "FIAT ",
          "VOLKSWAGEN ",
          "DACIA ",
          "RENAULT ",
          "DAEWOO ",
          "CHEVROLET ",
          "VOLKSWAGEN ",
          "VOLKSWAGEN ",
          "CHERY ",
          "DACIA ",
          "RENAULT ",
          "KIA ",
          "MITSUBISHI ",
          "RENAULT ",
          "CITROËN ",
          "FIAT ",
          "RENAULT ",
          "FORD ",
          "FIAT ",
          "VOLKSWAGEN ",
          "CITROËN ",
          "CITROËN ",
          "KIA ",
          "OPEL ",
          "DACIA ",
          "KIA ",
          "CHEVROLET ",
          "KIA ",
          "SSANGYONG ",
          "FIAT ",
          "RENAULT ",
          "RENAULT ",
          "BMW ",
          "FIAT ",
          "MERCEDES-BENZ ",
          "CITROËN ",
          "OPEL ",
          "VOLKSWAGEN ",
          "DACIA ",
          "DACIA ",
          "FIAT ",
          "AUDI ",
          "KIA ",
          "VOLKSWAGEN ",
          "VOLKSWAGEN ",
          "CITROËN ",
          "CITROËN ",
          "VOLKSWAGEN ",
          "CITROËN ",
          "PEUGEOT ",
          "PEUGEOT ",
          "FORD ",
          "MERCEDES-BENZ ",
          "CHEVROLET ",
          "DACIA ",
          "SUZUKI",
          "VOLKSWAGEN ",
          "KIA ",
          "CITROËN ",
          "DACIA ",
          "VOLKSWAGEN ",
          "FIAT ",
          "ISUZU ",
          "SSANGYONG ",
          "DACIA ",
          "CITROËN ",
          "MAHINDRA ",
          "KIA ",
          "VOLKSWAGEN ",
          "SKODA ",
          "CITROËN ",
          "VOLKSWAGEN ",
          "KIA ",
          "PEUGEOT ",
          "TOYOTA ",
          "VOLKSWAGEN ",
          "CITROËN ",
          "AUDI ",
          "VOLKSWAGEN ",
          "SEAT ",
          "SEAT ",
          "KIA ",
          "MERCEDES-BENZ ",
          "PEUGEOT ",
          "RENAULT ",
          "TOYOTA ",
          "RENAULT ",
          "VOLKSWAGEN ",
          "VOLKSWAGEN ",
          "CITROËN ",
          "AUDI ",
          "ISUZU ",
          "KIA ",
          "SEAT ",
          "KIA ",
          "VOLKSWAGEN ",
          "KIA ",
          "FORD ",
          "NISSAN ",
          "KIA ",
          "RENAULT ",
          "FIAT ",
          "SUZUKI",
          "PEUGEOT ",
          "KIA ",
          "KIA ",
          "RENAULT ",
          "SEAT ",
          "PEUGEOT ",
          "RENAULT ",
          "CITROËN ",
          "NISSAN ",
          "KIA ",
          "VOLKSWAGEN ",
          "CITROËN ",
          "KIA ",
          "KIA ",
          "CITROËN ",
          "FORD ",
          "FORD ",
          "VOLKSWAGEN ",
          "PEUGEOT ",
          "FIAT ",
          "CITROËN ",
          "CITROËN ",
          "VOLKSWAGEN ",
          "FIAT ",
          "KIA ",
          "SEAT ",
          "KIA ",
          "PEUGEOT ",
          "FORD ",
          "SEAT ",
          "VOLKSWAGEN ",
          "VOLKSWAGEN ",
          "KIA ",
          "HYUNDAI ",
          "VOLKSWAGEN ",
          "PEUGEOT ",
          "PEUGEOT ",
          "PEUGEOT ",
          "KIA ",
          "SEAT ",
          "PEUGEOT ",
          "RENAULT ",
          "FORD ",
          "CITROËN ",
          "TOYOTA ",
          "RENAULT ",
          "KIA ",
          "VOLKSWAGEN ",
          "KIA ",
          "FIAT ",
          "RENAULT ",
          "SEAT ",
          "CITROËN ",
          "VOLKSWAGEN ",
          "PEUGEOT ",
          "OPEL ",
          "FIAT ",
          "VOLKSWAGEN ",
          "CITROËN ",
          "VOLKSWAGEN ",
          "PEUGEOT ",
          "FORD ",
          "CHERY ",
          "RENAULT ",
          "CITROËN ",
          "PEUGEOT ",
          "KIA ",
          "VOLKSWAGEN ",
          "CITROËN ",
          "CITROËN ",
          "PEUGEOT ",
          "PEUGEOT ",
          "FIAT ",
          "PEUGEOT ",
          "SEAT ",
          "MAZDA ",
          "FIAT ",
          "OPEL ",
          "FIAT ",
          "MERCEDES-BENZ ",
          "RENAULT ",
          "VOLKSWAGEN ",
          "TATA ",
          "VOLKSWAGEN ",
          "SUZUKI",
          "CITROËN ",
          "CHEVROLET ",
          "CITROËN ",
          "FIAT ",
          "VOLKSWAGEN ",
          "VOLKSWAGEN ",
          "PEUGEOT ",
          "PEUGEOT ",
          "CITROËN ",
          "PEUGEOT ",
          "RENAULT ",
          "FORD ",
          "PEUGEOT "
         ],
         "xaxis": "x",
         "yaxis": "y"
        }
       ],
       "layout": {
        "barmode": "relative",
        "height": 740,
        "legend": {
         "title": {
          "text": "Fraud"
         },
         "tracegroupgap": 0
        },
        "margin": {
         "t": 60
        },
        "template": {
         "data": {
          "bar": [
           {
            "error_x": {
             "color": "#2a3f5f"
            },
            "error_y": {
             "color": "#2a3f5f"
            },
            "marker": {
             "line": {
              "color": "#E5ECF6",
              "width": 0.5
             }
            },
            "type": "bar"
           }
          ],
          "barpolar": [
           {
            "marker": {
             "line": {
              "color": "#E5ECF6",
              "width": 0.5
             }
            },
            "type": "barpolar"
           }
          ],
          "carpet": [
           {
            "aaxis": {
             "endlinecolor": "#2a3f5f",
             "gridcolor": "white",
             "linecolor": "white",
             "minorgridcolor": "white",
             "startlinecolor": "#2a3f5f"
            },
            "baxis": {
             "endlinecolor": "#2a3f5f",
             "gridcolor": "white",
             "linecolor": "white",
             "minorgridcolor": "white",
             "startlinecolor": "#2a3f5f"
            },
            "type": "carpet"
           }
          ],
          "choropleth": [
           {
            "colorbar": {
             "outlinewidth": 0,
             "ticks": ""
            },
            "type": "choropleth"
           }
          ],
          "contour": [
           {
            "colorbar": {
             "outlinewidth": 0,
             "ticks": ""
            },
            "colorscale": [
             [
              0,
              "#0d0887"
             ],
             [
              0.1111111111111111,
              "#46039f"
             ],
             [
              0.2222222222222222,
              "#7201a8"
             ],
             [
              0.3333333333333333,
              "#9c179e"
             ],
             [
              0.4444444444444444,
              "#bd3786"
             ],
             [
              0.5555555555555556,
              "#d8576b"
             ],
             [
              0.6666666666666666,
              "#ed7953"
             ],
             [
              0.7777777777777778,
              "#fb9f3a"
             ],
             [
              0.8888888888888888,
              "#fdca26"
             ],
             [
              1,
              "#f0f921"
             ]
            ],
            "type": "contour"
           }
          ],
          "contourcarpet": [
           {
            "colorbar": {
             "outlinewidth": 0,
             "ticks": ""
            },
            "type": "contourcarpet"
           }
          ],
          "heatmap": [
           {
            "colorbar": {
             "outlinewidth": 0,
             "ticks": ""
            },
            "colorscale": [
             [
              0,
              "#0d0887"
             ],
             [
              0.1111111111111111,
              "#46039f"
             ],
             [
              0.2222222222222222,
              "#7201a8"
             ],
             [
              0.3333333333333333,
              "#9c179e"
             ],
             [
              0.4444444444444444,
              "#bd3786"
             ],
             [
              0.5555555555555556,
              "#d8576b"
             ],
             [
              0.6666666666666666,
              "#ed7953"
             ],
             [
              0.7777777777777778,
              "#fb9f3a"
             ],
             [
              0.8888888888888888,
              "#fdca26"
             ],
             [
              1,
              "#f0f921"
             ]
            ],
            "type": "heatmap"
           }
          ],
          "heatmapgl": [
           {
            "colorbar": {
             "outlinewidth": 0,
             "ticks": ""
            },
            "colorscale": [
             [
              0,
              "#0d0887"
             ],
             [
              0.1111111111111111,
              "#46039f"
             ],
             [
              0.2222222222222222,
              "#7201a8"
             ],
             [
              0.3333333333333333,
              "#9c179e"
             ],
             [
              0.4444444444444444,
              "#bd3786"
             ],
             [
              0.5555555555555556,
              "#d8576b"
             ],
             [
              0.6666666666666666,
              "#ed7953"
             ],
             [
              0.7777777777777778,
              "#fb9f3a"
             ],
             [
              0.8888888888888888,
              "#fdca26"
             ],
             [
              1,
              "#f0f921"
             ]
            ],
            "type": "heatmapgl"
           }
          ],
          "histogram": [
           {
            "marker": {
             "colorbar": {
              "outlinewidth": 0,
              "ticks": ""
             }
            },
            "type": "histogram"
           }
          ],
          "histogram2d": [
           {
            "colorbar": {
             "outlinewidth": 0,
             "ticks": ""
            },
            "colorscale": [
             [
              0,
              "#0d0887"
             ],
             [
              0.1111111111111111,
              "#46039f"
             ],
             [
              0.2222222222222222,
              "#7201a8"
             ],
             [
              0.3333333333333333,
              "#9c179e"
             ],
             [
              0.4444444444444444,
              "#bd3786"
             ],
             [
              0.5555555555555556,
              "#d8576b"
             ],
             [
              0.6666666666666666,
              "#ed7953"
             ],
             [
              0.7777777777777778,
              "#fb9f3a"
             ],
             [
              0.8888888888888888,
              "#fdca26"
             ],
             [
              1,
              "#f0f921"
             ]
            ],
            "type": "histogram2d"
           }
          ],
          "histogram2dcontour": [
           {
            "colorbar": {
             "outlinewidth": 0,
             "ticks": ""
            },
            "colorscale": [
             [
              0,
              "#0d0887"
             ],
             [
              0.1111111111111111,
              "#46039f"
             ],
             [
              0.2222222222222222,
              "#7201a8"
             ],
             [
              0.3333333333333333,
              "#9c179e"
             ],
             [
              0.4444444444444444,
              "#bd3786"
             ],
             [
              0.5555555555555556,
              "#d8576b"
             ],
             [
              0.6666666666666666,
              "#ed7953"
             ],
             [
              0.7777777777777778,
              "#fb9f3a"
             ],
             [
              0.8888888888888888,
              "#fdca26"
             ],
             [
              1,
              "#f0f921"
             ]
            ],
            "type": "histogram2dcontour"
           }
          ],
          "mesh3d": [
           {
            "colorbar": {
             "outlinewidth": 0,
             "ticks": ""
            },
            "type": "mesh3d"
           }
          ],
          "parcoords": [
           {
            "line": {
             "colorbar": {
              "outlinewidth": 0,
              "ticks": ""
             }
            },
            "type": "parcoords"
           }
          ],
          "pie": [
           {
            "automargin": true,
            "type": "pie"
           }
          ],
          "scatter": [
           {
            "marker": {
             "colorbar": {
              "outlinewidth": 0,
              "ticks": ""
             }
            },
            "type": "scatter"
           }
          ],
          "scatter3d": [
           {
            "line": {
             "colorbar": {
              "outlinewidth": 0,
              "ticks": ""
             }
            },
            "marker": {
             "colorbar": {
              "outlinewidth": 0,
              "ticks": ""
             }
            },
            "type": "scatter3d"
           }
          ],
          "scattercarpet": [
           {
            "marker": {
             "colorbar": {
              "outlinewidth": 0,
              "ticks": ""
             }
            },
            "type": "scattercarpet"
           }
          ],
          "scattergeo": [
           {
            "marker": {
             "colorbar": {
              "outlinewidth": 0,
              "ticks": ""
             }
            },
            "type": "scattergeo"
           }
          ],
          "scattergl": [
           {
            "marker": {
             "colorbar": {
              "outlinewidth": 0,
              "ticks": ""
             }
            },
            "type": "scattergl"
           }
          ],
          "scattermapbox": [
           {
            "marker": {
             "colorbar": {
              "outlinewidth": 0,
              "ticks": ""
             }
            },
            "type": "scattermapbox"
           }
          ],
          "scatterpolar": [
           {
            "marker": {
             "colorbar": {
              "outlinewidth": 0,
              "ticks": ""
             }
            },
            "type": "scatterpolar"
           }
          ],
          "scatterpolargl": [
           {
            "marker": {
             "colorbar": {
              "outlinewidth": 0,
              "ticks": ""
             }
            },
            "type": "scatterpolargl"
           }
          ],
          "scatterternary": [
           {
            "marker": {
             "colorbar": {
              "outlinewidth": 0,
              "ticks": ""
             }
            },
            "type": "scatterternary"
           }
          ],
          "surface": [
           {
            "colorbar": {
             "outlinewidth": 0,
             "ticks": ""
            },
            "colorscale": [
             [
              0,
              "#0d0887"
             ],
             [
              0.1111111111111111,
              "#46039f"
             ],
             [
              0.2222222222222222,
              "#7201a8"
             ],
             [
              0.3333333333333333,
              "#9c179e"
             ],
             [
              0.4444444444444444,
              "#bd3786"
             ],
             [
              0.5555555555555556,
              "#d8576b"
             ],
             [
              0.6666666666666666,
              "#ed7953"
             ],
             [
              0.7777777777777778,
              "#fb9f3a"
             ],
             [
              0.8888888888888888,
              "#fdca26"
             ],
             [
              1,
              "#f0f921"
             ]
            ],
            "type": "surface"
           }
          ],
          "table": [
           {
            "cells": {
             "fill": {
              "color": "#EBF0F8"
             },
             "line": {
              "color": "white"
             }
            },
            "header": {
             "fill": {
              "color": "#C8D4E3"
             },
             "line": {
              "color": "white"
             }
            },
            "type": "table"
           }
          ]
         },
         "layout": {
          "annotationdefaults": {
           "arrowcolor": "#2a3f5f",
           "arrowhead": 0,
           "arrowwidth": 1
          },
          "coloraxis": {
           "colorbar": {
            "outlinewidth": 0,
            "ticks": ""
           }
          },
          "colorscale": {
           "diverging": [
            [
             0,
             "#8e0152"
            ],
            [
             0.1,
             "#c51b7d"
            ],
            [
             0.2,
             "#de77ae"
            ],
            [
             0.3,
             "#f1b6da"
            ],
            [
             0.4,
             "#fde0ef"
            ],
            [
             0.5,
             "#f7f7f7"
            ],
            [
             0.6,
             "#e6f5d0"
            ],
            [
             0.7,
             "#b8e186"
            ],
            [
             0.8,
             "#7fbc41"
            ],
            [
             0.9,
             "#4d9221"
            ],
            [
             1,
             "#276419"
            ]
           ],
           "sequential": [
            [
             0,
             "#0d0887"
            ],
            [
             0.1111111111111111,
             "#46039f"
            ],
            [
             0.2222222222222222,
             "#7201a8"
            ],
            [
             0.3333333333333333,
             "#9c179e"
            ],
            [
             0.4444444444444444,
             "#bd3786"
            ],
            [
             0.5555555555555556,
             "#d8576b"
            ],
            [
             0.6666666666666666,
             "#ed7953"
            ],
            [
             0.7777777777777778,
             "#fb9f3a"
            ],
            [
             0.8888888888888888,
             "#fdca26"
            ],
            [
             1,
             "#f0f921"
            ]
           ],
           "sequentialminus": [
            [
             0,
             "#0d0887"
            ],
            [
             0.1111111111111111,
             "#46039f"
            ],
            [
             0.2222222222222222,
             "#7201a8"
            ],
            [
             0.3333333333333333,
             "#9c179e"
            ],
            [
             0.4444444444444444,
             "#bd3786"
            ],
            [
             0.5555555555555556,
             "#d8576b"
            ],
            [
             0.6666666666666666,
             "#ed7953"
            ],
            [
             0.7777777777777778,
             "#fb9f3a"
            ],
            [
             0.8888888888888888,
             "#fdca26"
            ],
            [
             1,
             "#f0f921"
            ]
           ]
          },
          "colorway": [
           "#636efa",
           "#EF553B",
           "#00cc96",
           "#ab63fa",
           "#FFA15A",
           "#19d3f3",
           "#FF6692",
           "#B6E880",
           "#FF97FF",
           "#FECB52"
          ],
          "font": {
           "color": "#2a3f5f"
          },
          "geo": {
           "bgcolor": "white",
           "lakecolor": "white",
           "landcolor": "#E5ECF6",
           "showlakes": true,
           "showland": true,
           "subunitcolor": "white"
          },
          "hoverlabel": {
           "align": "left"
          },
          "hovermode": "closest",
          "mapbox": {
           "style": "light"
          },
          "paper_bgcolor": "white",
          "plot_bgcolor": "#E5ECF6",
          "polar": {
           "angularaxis": {
            "gridcolor": "white",
            "linecolor": "white",
            "ticks": ""
           },
           "bgcolor": "#E5ECF6",
           "radialaxis": {
            "gridcolor": "white",
            "linecolor": "white",
            "ticks": ""
           }
          },
          "scene": {
           "xaxis": {
            "backgroundcolor": "#E5ECF6",
            "gridcolor": "white",
            "gridwidth": 2,
            "linecolor": "white",
            "showbackground": true,
            "ticks": "",
            "zerolinecolor": "white"
           },
           "yaxis": {
            "backgroundcolor": "#E5ECF6",
            "gridcolor": "white",
            "gridwidth": 2,
            "linecolor": "white",
            "showbackground": true,
            "ticks": "",
            "zerolinecolor": "white"
           },
           "zaxis": {
            "backgroundcolor": "#E5ECF6",
            "gridcolor": "white",
            "gridwidth": 2,
            "linecolor": "white",
            "showbackground": true,
            "ticks": "",
            "zerolinecolor": "white"
           }
          },
          "shapedefaults": {
           "line": {
            "color": "#2a3f5f"
           }
          },
          "ternary": {
           "aaxis": {
            "gridcolor": "white",
            "linecolor": "white",
            "ticks": ""
           },
           "baxis": {
            "gridcolor": "white",
            "linecolor": "white",
            "ticks": ""
           },
           "bgcolor": "#E5ECF6",
           "caxis": {
            "gridcolor": "white",
            "linecolor": "white",
            "ticks": ""
           }
          },
          "title": {
           "x": 0.05
          },
          "xaxis": {
           "automargin": true,
           "gridcolor": "white",
           "linecolor": "white",
           "ticks": "",
           "title": {
            "standoff": 15
           },
           "zerolinecolor": "white",
           "zerolinewidth": 2
          },
          "yaxis": {
           "automargin": true,
           "gridcolor": "white",
           "linecolor": "white",
           "ticks": "",
           "title": {
            "standoff": 15
           },
           "zerolinecolor": "white",
           "zerolinewidth": 2
          }
         }
        },
        "width": 1000,
        "xaxis": {
         "anchor": "y",
         "domain": [
          0,
          1
         ],
         "title": {
          "text": "Marque"
         }
        },
        "yaxis": {
         "anchor": "x",
         "domain": [
          0,
          1
         ],
         "title": {
          "text": "count"
         }
        }
       }
      },
      "text/html": [
       "<div>\n",
       "        \n",
       "        \n",
       "            <div id=\"fc46a236-9eaf-4fd5-ace1-533ea008f591\" class=\"plotly-graph-div\" style=\"height:740px; width:1000px;\"></div>\n",
       "            <script type=\"text/javascript\">\n",
       "                require([\"plotly\"], function(Plotly) {\n",
       "                    window.PLOTLYENV=window.PLOTLYENV || {};\n",
       "                    \n",
       "                if (document.getElementById(\"fc46a236-9eaf-4fd5-ace1-533ea008f591\")) {\n",
       "                    Plotly.newPlot(\n",
       "                        'fc46a236-9eaf-4fd5-ace1-533ea008f591',\n",
       "                        [{\"alignmentgroup\": \"True\", \"bingroup\": \"x\", \"hovertemplate\": \"Fraud=Non<br>Marque=%{x}<br>count=%{y}<extra></extra>\", \"legendgroup\": \"Non\", \"marker\": {\"color\": \"#636efa\"}, \"name\": \"Non\", \"offsetgroup\": \"Non\", \"orientation\": \"v\", \"showlegend\": true, \"type\": \"histogram\", \"x\": [\"ISUZU \", \"ALFA ROMEO \", \"KIA \", \"VOLKSWAGEN \", \"VOLKSWAGEN \", \"KIA \", \"RENAULT \", \"HYUNDAI \", \"PEUGEOT \", \"PEUGEOT \", \"CHEVROLET \", \"ISUZU \", \"PEUGEOT \", \"VOLKSWAGEN \", \"FORD \", \"MERCEDES-BENZ \", \"TOYOTA \", \"KIA \", \"PEUGEOT \", \"VOLKSWAGEN \", \"KIA \", \"MAZDA \", \"CITRO\\u00cbN \", \"RENAULT \", \"HYUNDAI \", \"VOLKSWAGEN \", \"PEUGEOT \", \"RENAULT \", \"PEUGEOT \", \"RENAULT \", \"VOLKSWAGEN \", \"CITRO\\u00cbN \", \"SUZUKI\", \"HONDA \", \"TOYOTA \", \"FORD \", \"JAGUAR \", \"VOLKSWAGEN \", \"FIAT \", \"VOLKSWAGEN \", \"CITRO\\u00cbN \", \"FOTON\", \"TOYOTA \", \"TOYOTA \", \"VOLKSWAGEN \", \"PEUGEOT \", \"ISUZU \", \"VOLKSWAGEN \", \"HYUNDAI \", \"MAZDA \", \"SSANGYONG \", \"KIA \", \"KIA \", \"CITRO\\u00cbN \", \"MERCEDES-BENZ \", \"KIA \", \"TOYOTA \", \"CITRO\\u00cbN \", \"KIA \", \"RENAULT \", \"FIAT \", \"PEUGEOT \", \"NISSAN \", \"CHEVROLET \", \"PEUGEOT \", \"FIAT \", \"KIA \", \"CITRO\\u00cbN \", \"FIAT \", \"FIAT \", \"TOYOTA \", \"SEAT \", \"NISSAN \", \"PEUGEOT \", \"MERCEDES-BENZ \", \"VOLKSWAGEN \", \"CITRO\\u00cbN \", \"MAZDA \", \"CITRO\\u00cbN \", \"VOLKSWAGEN \", \"CITRO\\u00cbN \", \"CHEVROLET \", \"IVECO \", \"PEUGEOT \", \"FIAT \", \"RENAULT \", \"BMW \", \"TOYOTA \", \"PEUGEOT \", \"KIA \", \"NISSAN \", \"ISUZU \", \"PEUGEOT \", \"CITRO\\u00cbN \", \"KIA \", \"RENAULT \", \"FIAT \", \"MAHINDRA \", \"MERCEDES-BENZ \", \"MAHINDRA \", \"KIA \", \"MITSUBISHI \", \"CITRO\\u00cbN \", \"PEUGEOT \", \"HYUNDAI \", \"SEAT \", \"PEUGEOT \", \"BMW \", \"SEAT \", \"VOLKSWAGEN \", \"CHEVROLET \", \"KIA \", \"VOLKSWAGEN \", \"BMW \", \"OPEL \", \"PEUGEOT \", \"PEUGEOT \", \"VOLKSWAGEN \", \"RENAULT \", \"HYUNDAI \", \"VOLKSWAGEN \", \"VOLKSWAGEN \", \"ISUZU \", \"KIA \", \"RENAULT \", \"MAHINDRA \", \"RENAULT \", \"VOLKSWAGEN \", \"AUDI \", \"FIAT \", \"FORD \", \"VOLKSWAGEN \", \"PEUGEOT \", \"FORD \", \"CITRO\\u00cbN \", \"KIA \", \"MERCEDES-BENZ \", \"MERCEDES-BENZ \", \"HYUNDAI \", \"SEAT \", \"CHEVROLET \", \"PEUGEOT \", \"FIAT \", \"FIAT \", \"NISSAN \", \"VOLKSWAGEN \", \"FIAT \", \"BAIC \", \"MERCEDES-BENZ \", \"DACIA \", \"VOLKSWAGEN \", \"FORD \", \"FORD \", \"FIAT \", \"RENAULT \", \"PEUGEOT \", \"FORD \", \"VOLKSWAGEN \", \"SEAT \", \"OPEL \", \"PEUGEOT \", \"TOYOTA \", \"KIA \", \"CITRO\\u00cbN \", \"PEUGEOT \", \"MORRIS \", \"OPEL \", \"FIAT \", \"MAZDA \", \"CITRO\\u00cbN \", \"FOTON\", \"PEUGEOT \", \"SUZUKI\", \"FIAT \", \"LADA \", \"MERCEDES-BENZ \", \"CITRO\\u00cbN \", \"KIA \", \"FORD \", \"VOLKSWAGEN \", \"CITRO\\u00cbN \", \"HYUNDAI \", \"SUZUKI\", \"CITRO\\u00cbN \", \"TOYOTA \", \"NISSAN \", \"TOYOTA \", \"HYUNDAI \", \"MG \", \"ISUZU \", \"CITRO\\u00cbN \", \"VOLKSWAGEN \", \"HONDA \", \"KIA \", \"SKODA \", \"FIAT \", \"CHEVROLET \", \"CHEVROLET \", \"RENAULT \", \"RENAULT \", \"VOLKSWAGEN \", \"SEAT \", \"RENAULT \", \"VOLKSWAGEN \", \"FIAT \", \"BMW \", \"VOLKSWAGEN \", \"VOLKSWAGEN \", \"SEAT \", \"KIA \", \"MAZDA \", \"VOLKSWAGEN \", \"CITRO\\u00cbN \", \"VOLKSWAGEN \", \"HYUNDAI \", \"TOYOTA \", \"HYUNDAI \", \"PEUGEOT \", \"HYUNDAI \", \"DACIA \", \"CHERY \", \"BMW \", \"KIA \", \"VOLKSWAGEN \", \"TOYOTA \", \"PEUGEOT \", \"CITRO\\u00cbN \", \"RENAULT \", \"RENAULT \", \"KIA \", \"PEUGEOT \", \"NISSAN \", \"VOLKSWAGEN \", \"RENAULT \", \"VOLKSWAGEN \", \"MAZDA \", \"VOLKSWAGEN \", \"CITRO\\u00cbN \", \"DACIA \", \"SEAT \", \"VOLKSWAGEN \", \"SEAT \", \"CITRO\\u00cbN \", \"FIAT \", \"AUDI \", \"VOLKSWAGEN \", \"PEUGEOT \", \"DACIA \", \"RENAULT \", \"VOLKSWAGEN \", \"NISSAN \", \"RENAULT \", \"VOLKSWAGEN \", \"TATA \", \"MAZDA \", \"KIA \", \"RENAULT \", \"CHEVROLET \", \"VOLKSWAGEN \", \"TOYOTA \", \"MAZDA \", \"RENAULT \", \"HYUNDAI \", \"VOLKSWAGEN \", \"DAEWOO \", \"LANCIA \", \"LANCIA \", \"KIA \", \"CITRO\\u00cbN \", \"NISSAN \", \"SMART \", \"KIA \", \"MAZDA \", \"TOYOTA \", \"NISSAN \", \"RENAULT \", \"FIAT \", \"CITRO\\u00cbN \", \"FORD \", \"KIA \", \"CHEVROLET \", \"VOLKSWAGEN \", \"FORD \", \"VOLKSWAGEN \", \"CITRO\\u00cbN \", \"MITSUBISHI \", \"HYUNDAI \", \"AUDI \", \"BMW \", \"RENAULT \", \"VOLKSWAGEN \", \"FORD \", \"KIA \", \"CITRO\\u00cbN \", \"MG \", \"RENAULT \", \"FORD \", \"KIA \", \"RENAULT \", \"KIA \", \"VOLKSWAGEN \", \"PEUGEOT \", \"FORD \", \"ALFA ROMEO \", \"MAZDA \", \"OPEL \", \"CHEVROLET \", \"CHEVROLET \", \"CITRO\\u00cbN \", \"KIA \", \"KIA \", \"HYUNDAI \", \"FORD \", \"BAIC \", \"MERCEDES-BENZ \", \"PEUGEOT \", \"VOLKSWAGEN \", \"AUDI \", \"FIAT \", \"HONDA \", \"FORD \", \"MERCEDES-BENZ \", \"SEAT \", \"VOLKSWAGEN \", \"VOLKSWAGEN \", \"RENAULT \", \"VOLKSWAGEN \", \"AUDI \", \"VOLKSWAGEN \", \"CHERY \", \"RENAULT \", \"RENAULT \", \"ISUZU \", \"VOLKSWAGEN \", \"CITRO\\u00cbN \", \"VOLKSWAGEN \", \"FIAT \", \"PEUGEOT \", \"CITRO\\u00cbN \", \"ISUZU \", \"PEUGEOT \", \"SSANGYONG \", \"VOLKSWAGEN \", \"FIAT \", \"FIAT \", \"RENAULT \", \"VOLKSWAGEN \", \"MERCEDES-BENZ \", \"PEUGEOT \", \"CITRO\\u00cbN \", \"FORD \", \"PEUGEOT \", \"TOYOTA \", \"VOLKSWAGEN \", \"CITRO\\u00cbN \", \"TOYOTA \", \"FORD \", \"VOLKSWAGEN \", \"RENAULT \", \"MAZDA \", \"VOLKSWAGEN \", \"CITRO\\u00cbN \", \"MERCEDES-BENZ \", \"MERCEDES-BENZ \", \"RENAULT \", \"BMW \", \"RENAULT \", \"NISSAN \", \"FIAT \", \"KIA \", \"OPEL \", \"CITRO\\u00cbN \", \"VOLKSWAGEN \", \"FIAT \", \"FORD \", \"KIA \", \"NISSAN \", \"VOLKSWAGEN \", \"OPEL \", \"PEUGEOT \", \"CITRO\\u00cbN \", \"VOLKSWAGEN \", \"DACIA \", \"VOLKSWAGEN \", \"FORD \", \"VOLKSWAGEN \", \"SSANGYONG \", \"MAZDA \", \"OPEL \", \"KIA \", \"TOYOTA \", \"PEUGEOT \", \"VOLKSWAGEN \", \"FORD \", \"MAZDA \", \"HYUNDAI \", \"SKODA \", \"RENAULT \", \"MERCEDES-BENZ \", \"MERCEDES-BENZ \", \"KIA \", \"OPEL \", \"MERCEDES-BENZ \", \"PEUGEOT \", \"RENAULT \", \"MERCEDES-BENZ \", \"OPEL \", \"CITRO\\u00cbN \", \"HYUNDAI \", \"BMW \", \"PEUGEOT \", \"RENAULT \", \"CITRO\\u00cbN \", \"FIAT \", \"TOYOTA \", \"VOLKSWAGEN \", \"KIA \", \"VOLKSWAGEN \", \"BMW \", \"FIAT \", \"VOLKSWAGEN \", \"FIAT \", \"FIAT \", \"VOLKSWAGEN \", \"CITRO\\u00cbN \", \"ISUZU \", \"AUDI \", \"FORD \", \"PEUGEOT \", \"BMW \", \"PEUGEOT \", \"PEUGEOT \", \"RENAULT \", \"BMW \", \"CITRO\\u00cbN \", \"MERCEDES-BENZ \", \"VOLKSWAGEN \", \"AUDI \", \"VOLKSWAGEN \", \"MAZDA \", \"RENAULT \", \"VOLKSWAGEN \", \"PEUGEOT \", \"VOLKSWAGEN \", \"MITSUBISHI \", \"PEUGEOT \", \"PEUGEOT \", \"FIAT \", \"MITSUBISHI \", \"RENAULT \", \"VOLKSWAGEN \", \"DACIA \", \"PEUGEOT \", \"RENAULT \", \"CHEVROLET \", \"FORD \", \"MAZDA \", \"RENAULT \", \"SEAT \", \"VOLKSWAGEN \", \"PEUGEOT \", \"RENAULT \", \"FIAT \", \"CHEVROLET \", \"PEUGEOT \", \"PEUGEOT \", \"PEUGEOT \", \"PEUGEOT \", \"SEAT \", \"MERCEDES-BENZ \", \"KIA \", \"VOLKSWAGEN \", \"SSANGYONG \", \"BMW \", \"CHEVROLET \", \"ISUZU \", \"HYUNDAI \", \"BMW \", \"CITRO\\u00cbN \", \"DACIA \", \"RENAULT \", \"VOLKSWAGEN \", \"NISSAN \", \"PEUGEOT \", \"PEUGEOT \", \"RENAULT \", \"ISUZU \", \"PEUGEOT \", \"PEUGEOT \", \"PEUGEOT \", \"FIAT \", \"BMW \", \"CITRO\\u00cbN \", \"FIAT \", \"FIAT \", \"CITRO\\u00cbN \", \"VOLKSWAGEN \", \"RENAULT \", \"KIA \", \"VOLKSWAGEN \", \"MERCEDES-BENZ \", \"AUDI \", \"HYUNDAI \", \"CHERY \", \"KIA \", \"RENAULT \", \"SUZUKI\", \"DACIA \", \"KIA \", \"PEUGEOT \", \"CITRO\\u00cbN \", \"CITRO\\u00cbN \", \"CITRO\\u00cbN \", \"PEUGEOT \", \"VOLKSWAGEN \", \"SMART \", \"VOLKSWAGEN \", \"CHEVROLET \", \"PEUGEOT \", \"MERCEDES-BENZ \", \"RENAULT \", \"KIA \", \"CITRO\\u00cbN \", \"AUDI \", \"FORD \", \"RENAULT \", \"MERCEDES-BENZ \", \"HONDA \", \"CHEVROLET \", \"RENAULT \", \"KIA \", \"FIAT \", \"ISUZU \", \"PEUGEOT \", \"RENAULT \", \"HONDA \", \"VOLKSWAGEN \", \"RENAULT \", \"PEUGEOT \", \"ISUZU \", \"KIA \", \"MAZDA \", \"FIAT \", \"ISUZU \", \"AUDI \", \"MERCEDES-BENZ \", \"VOLKSWAGEN \", \"SSANGYONG \", \"MAZDA \", \"DACIA \", \"PEUGEOT \", \"BMW \", \"CITRO\\u00cbN \", \"MG \", \"MG \", \"SUZUKI\", \"FIAT \", \"PEUGEOT \", \"ISUZU \", \"FIAT \", \"KIA \", \"CITRO\\u00cbN \", \"RENAULT \", \"ISUZU \", \"IVECO \", \"VOLKSWAGEN \", \"VOLKSWAGEN \", \"VOLKSWAGEN \", \"PEUGEOT \", \"HYUNDAI \", \"NISSAN \", \"VOLKSWAGEN \", \"RENAULT \", \"PEUGEOT \", \"MITSUBISHI \", \"ISUZU \", \"RENAULT \", \"MINIONE\", \"FORD \", \"PEUGEOT \", \"RENAULT \", \"MERCEDES-BENZ \", \"CITRO\\u00cbN \", \"FIAT \", \"CHEVROLET \", \"PEUGEOT \", \"HYUNDAI \", \"VOLKSWAGEN \", \"MERCEDES-BENZ \", \"PEUGEOT \", \"MAZDA \", \"VOLKSWAGEN \", \"VOLKSWAGEN \", \"MITSUBISHI \", \"MERCEDES-BENZ \", \"PEUGEOT \", \"FIAT \", \"CITRO\\u00cbN \", \"CITRO\\u00cbN \", \"CITRO\\u00cbN \", \"RENAULT \", \"FIAT \", \"SEAT \", \"VOLKSWAGEN \", \"VOLKSWAGEN \", \"FORD \", \"CITRO\\u00cbN \", \"CITRO\\u00cbN \", \"CITRO\\u00cbN \", \"VOLKSWAGEN \", \"CITRO\\u00cbN \", \"VOLKSWAGEN \", \"PEUGEOT \", \"TATA \", \"FORD \", \"DACIA \", \"PEUGEOT \", \"ALFA ROMEO \", \"MERCEDES-BENZ \", \"VOLKSWAGEN \", \"DACIA \", \"FIAT \", \"RENAULT \", \"MAHINDRA \", \"KIA \", \"VOLKSWAGEN \", \"FIAT \", \"FORD \", \"ISUZU \", \"HYUNDAI \", \"MERCEDES-BENZ \", \"KIA \", \"FORD \", \"TOYOTA \", \"PEUGEOT \", \"LAND ROVER \", \"VOLKSWAGEN \", \"MAZDA \", \"KIA \", \"PEUGEOT \", \"RENAULT \", \"KIA \", \"VOLKSWAGEN \", \"SSANGYONG \", \"PEUGEOT \", \"CITRO\\u00cbN \", \"CITRO\\u00cbN \", \"MERCEDES-BENZ \", \"RENAULT \", \"KIA \", \"KIA \", \"KIA \", \"KIA \", \"FIAT \", \"RENAULT \", \"CITRO\\u00cbN \", \"RENAULT \", \"RENAULT \", \"CITRO\\u00cbN \", \"MERCEDES-BENZ \", \"CITRO\\u00cbN \", \"KIA \", \"FORD \", \"HYUNDAI \", \"FIAT \", \"VOLKSWAGEN \", \"FORD \", \"VOLKSWAGEN \", \"VOLKSWAGEN \", \"BMW \", \"KIA \", \"VOLKSWAGEN \", \"FORD \", \"VOLKSWAGEN \", \"MG \", \"RENAULT \", \"MERCEDES-BENZ \", \"OPEL \", \"PEUGEOT \", \"BMW \", \"VOLKSWAGEN \", \"PEUGEOT \", \"NISSAN \", \"PEUGEOT \", \"CITRO\\u00cbN \", \"RENAULT \", \"BMW \", \"RENAULT \", \"FIAT \", \"RENAULT \", \"VOLKSWAGEN \", \"CHEVROLET \", \"PEUGEOT \", \"CITRO\\u00cbN \", \"RENAULT \", \"VOLKSWAGEN \", \"CITRO\\u00cbN \", \"CITRO\\u00cbN \", \"NISSAN \", \"BMW \", \"SEAT \", \"SEAT \", \"HYUNDAI \", \"MAZDA \", \"RENAULT \", \"PEUGEOT \", \"PEUGEOT \", \"MITSUBISHI \", \"DFSK\", \"ISUZU \", \"PEUGEOT \", \"MERCEDES-BENZ \", \"BMW \", \"VOLKSWAGEN \", \"VOLKSWAGEN \", \"KIA \", \"PEUGEOT \", \"RENAULT \", \"VOLKSWAGEN \", \"PEUGEOT \", \"SEAT \", \"TOYOTA \", \"CITRO\\u00cbN \", \"FORD \", \"RENAULT \", \"HYUNDAI \", \"CITRO\\u00cbN \", \"PEUGEOT \", \"DACIA \", \"ISUZU \", \"RENAULT \", \"CITRO\\u00cbN \", \"DACIA \", \"SEAT \", \"CITRO\\u00cbN \", \"KIA \", \"VOLKSWAGEN \", \"TOYOTA \", \"CHEVROLET \", \"FIAT \", \"RENAULT \", \"FORD \", \"PEUGEOT \", \"VOLKSWAGEN \", \"TOYOTA \", \"KIA \", \"FORD \", \"ISUZU \", \"CHERY \", \"MAZDA \", \"SEAT \", \"VOLKSWAGEN \", \"PEUGEOT \", \"RENAULT \", \"RENAULT \", \"MITSUBISHI \", \"SEAT \", \"RENAULT \", \"VOLKSWAGEN \", \"FORD \", \"KIA \", \"PEUGEOT \", \"FIAT \", \"VOLKSWAGEN \", \"KIA \", \"RENAULT \", \"CITRO\\u00cbN \", \"VOLKSWAGEN \", \"VOLKSWAGEN \", \"PEUGEOT \", \"ISUZU \", \"CITRO\\u00cbN \", \"MG \", \"SEAT \", \"PEUGEOT \", \"RENAULT \", \"RENAULT \", \"MERCEDES-BENZ \", \"FORD \", \"FIAT \", \"VOLKSWAGEN \", \"HYUNDAI \", \"HYUNDAI \", \"DACIA \", \"FIAT \", \"PEUGEOT \", \"VOLKSWAGEN \", \"DACIA \", \"CITRO\\u00cbN \", \"PEUGEOT \", \"PEUGEOT \", \"RENAULT \", \"PEUGEOT \", \"RENAULT \", \"FORD \", \"HYUNDAI \", \"VOLKSWAGEN \", \"CITRO\\u00cbN \", \"PEUGEOT \", \"VOLKSWAGEN \", \"DACIA \", \"DACIA \", \"RENAULT \", \"RENAULT \", \"AUDI \", \"RENAULT \", \"VOLKSWAGEN \", \"CITRO\\u00cbN \", \"FIAT \", \"CITRO\\u00cbN \", \"TOYOTA \", \"VOLKSWAGEN \", \"VOLKSWAGEN \", \"CITRO\\u00cbN \", \"CHERY \", \"VOLKSWAGEN \", \"FIAT \", \"PEUGEOT \", \"KIA \", \"TOYOTA \", \"RENAULT \", \"DACIA \", \"CITRO\\u00cbN \", \"VOLKSWAGEN \", \"PEUGEOT \", \"RENAULT \", \"VOLKSWAGEN \", \"DACIA \", \"RENAULT \", \"RENAULT \", \"CITRO\\u00cbN \", \"TOYOTA \", \"CITRO\\u00cbN \", \"VOLKSWAGEN \", \"SUZUKI\", \"VOLKSWAGEN \", \"SKODA \", \"PEUGEOT \", \"FORD \", \"PEUGEOT \", \"PEUGEOT \", \"VOLKSWAGEN \", \"MERCEDES-BENZ \", \"VOLKSWAGEN \", \"DACIA \", \"AUDI \", \"SKODA \", \"FIAT \", \"PEUGEOT \", \"MAHINDRA \", \"SEAT \", \"MAZDA \", \"KIA \", \"FORD \", \"FIAT \", \"DACIA \", \"RENAULT \", \"VOLKSWAGEN \", \"BMW \", \"VOLKSWAGEN \", \"RENAULT \", \"OPEL \", \"KIA \", \"VOLKSWAGEN \", \"CHEVROLET \", \"FORD \", \"FIAT \", \"DACIA \", \"RENAULT \", \"FORD \", \"TOYOTA \", \"VOLKSWAGEN \", \"FORD \", \"MERCEDES-BENZ \", \"ISUZU \", \"VOLKSWAGEN \", \"DACIA \", \"MAHINDRA \", \"VOLKSWAGEN \", \"FIAT \", \"CITRO\\u00cbN \", \"VOLKSWAGEN \"], \"xaxis\": \"x\", \"yaxis\": \"y\"}, {\"alignmentgroup\": \"True\", \"bingroup\": \"x\", \"hovertemplate\": \"Fraud=Oui<br>Marque=%{x}<br>count=%{y}<extra></extra>\", \"legendgroup\": \"Oui\", \"marker\": {\"color\": \"#EF553B\"}, \"name\": \"Oui\", \"offsetgroup\": \"Oui\", \"orientation\": \"v\", \"showlegend\": true, \"type\": \"histogram\", \"x\": [\"PEUGEOT \", \"SEAT \", \"RENAULT \", \"RENAULT \", \"MAZDA \", \"CITRO\\u00cbN \", \"FIAT \", \"CITRO\\u00cbN \", \"KIA \", \"DACIA \", \"CHERY \", \"DACIA \", \"KIA \", \"TOYOTA \", \"FIAT \", \"VOLKSWAGEN \", \"DACIA \", \"RENAULT \", \"DAEWOO \", \"CHEVROLET \", \"VOLKSWAGEN \", \"VOLKSWAGEN \", \"CHERY \", \"DACIA \", \"RENAULT \", \"KIA \", \"MITSUBISHI \", \"RENAULT \", \"CITRO\\u00cbN \", \"FIAT \", \"RENAULT \", \"FORD \", \"FIAT \", \"VOLKSWAGEN \", \"CITRO\\u00cbN \", \"CITRO\\u00cbN \", \"KIA \", \"OPEL \", \"DACIA \", \"KIA \", \"CHEVROLET \", \"KIA \", \"SSANGYONG \", \"FIAT \", \"RENAULT \", \"RENAULT \", \"BMW \", \"FIAT \", \"MERCEDES-BENZ \", \"CITRO\\u00cbN \", \"OPEL \", \"VOLKSWAGEN \", \"DACIA \", \"DACIA \", \"FIAT \", \"AUDI \", \"KIA \", \"VOLKSWAGEN \", \"VOLKSWAGEN \", \"CITRO\\u00cbN \", \"CITRO\\u00cbN \", \"VOLKSWAGEN \", \"CITRO\\u00cbN \", \"PEUGEOT \", \"PEUGEOT \", \"FORD \", \"MERCEDES-BENZ \", \"CHEVROLET \", \"DACIA \", \"SUZUKI\", \"VOLKSWAGEN \", \"KIA \", \"CITRO\\u00cbN \", \"DACIA \", \"VOLKSWAGEN \", \"FIAT \", \"ISUZU \", \"SSANGYONG \", \"DACIA \", \"CITRO\\u00cbN \", \"MAHINDRA \", \"KIA \", \"VOLKSWAGEN \", \"SKODA \", \"CITRO\\u00cbN \", \"VOLKSWAGEN \", \"KIA \", \"PEUGEOT \", \"TOYOTA \", \"VOLKSWAGEN \", \"CITRO\\u00cbN \", \"AUDI \", \"VOLKSWAGEN \", \"SEAT \", \"SEAT \", \"KIA \", \"MERCEDES-BENZ \", \"PEUGEOT \", \"RENAULT \", \"TOYOTA \", \"RENAULT \", \"VOLKSWAGEN \", \"VOLKSWAGEN \", \"CITRO\\u00cbN \", \"AUDI \", \"ISUZU \", \"KIA \", \"SEAT \", \"KIA \", \"VOLKSWAGEN \", \"KIA \", \"FORD \", \"NISSAN \", \"KIA \", \"RENAULT \", \"FIAT \", \"SUZUKI\", \"PEUGEOT \", \"KIA \", \"KIA \", \"RENAULT \", \"SEAT \", \"PEUGEOT \", \"RENAULT \", \"CITRO\\u00cbN \", \"NISSAN \", \"KIA \", \"VOLKSWAGEN \", \"CITRO\\u00cbN \", \"KIA \", \"KIA \", \"CITRO\\u00cbN \", \"FORD \", \"FORD \", \"VOLKSWAGEN \", \"PEUGEOT \", \"FIAT \", \"CITRO\\u00cbN \", \"CITRO\\u00cbN \", \"VOLKSWAGEN \", \"FIAT \", \"KIA \", \"SEAT \", \"KIA \", \"PEUGEOT \", \"FORD \", \"SEAT \", \"VOLKSWAGEN \", \"VOLKSWAGEN \", \"KIA \", \"HYUNDAI \", \"VOLKSWAGEN \", \"PEUGEOT \", \"PEUGEOT \", \"PEUGEOT \", \"KIA \", \"SEAT \", \"PEUGEOT \", \"RENAULT \", \"FORD \", \"CITRO\\u00cbN \", \"TOYOTA \", \"RENAULT \", \"KIA \", \"VOLKSWAGEN \", \"KIA \", \"FIAT \", \"RENAULT \", \"SEAT \", \"CITRO\\u00cbN \", \"VOLKSWAGEN \", \"PEUGEOT \", \"OPEL \", \"FIAT \", \"VOLKSWAGEN \", \"CITRO\\u00cbN \", \"VOLKSWAGEN \", \"PEUGEOT \", \"FORD \", \"CHERY \", \"RENAULT \", \"CITRO\\u00cbN \", \"PEUGEOT \", \"KIA \", \"VOLKSWAGEN \", \"CITRO\\u00cbN \", \"CITRO\\u00cbN \", \"PEUGEOT \", \"PEUGEOT \", \"FIAT \", \"PEUGEOT \", \"SEAT \", \"MAZDA \", \"FIAT \", \"OPEL \", \"FIAT \", \"MERCEDES-BENZ \", \"RENAULT \", \"VOLKSWAGEN \", \"TATA \", \"VOLKSWAGEN \", \"SUZUKI\", \"CITRO\\u00cbN \", \"CHEVROLET \", \"CITRO\\u00cbN \", \"FIAT \", \"VOLKSWAGEN \", \"VOLKSWAGEN \", \"PEUGEOT \", \"PEUGEOT \", \"CITRO\\u00cbN \", \"PEUGEOT \", \"RENAULT \", \"FORD \", \"PEUGEOT \"], \"xaxis\": \"x\", \"yaxis\": \"y\"}],\n",
       "                        {\"barmode\": \"relative\", \"height\": 740, \"legend\": {\"title\": {\"text\": \"Fraud\"}, \"tracegroupgap\": 0}, \"margin\": {\"t\": 60}, \"template\": {\"data\": {\"bar\": [{\"error_x\": {\"color\": \"#2a3f5f\"}, \"error_y\": {\"color\": \"#2a3f5f\"}, \"marker\": {\"line\": {\"color\": \"#E5ECF6\", \"width\": 0.5}}, \"type\": \"bar\"}], \"barpolar\": [{\"marker\": {\"line\": {\"color\": \"#E5ECF6\", \"width\": 0.5}}, \"type\": \"barpolar\"}], \"carpet\": [{\"aaxis\": {\"endlinecolor\": \"#2a3f5f\", \"gridcolor\": \"white\", \"linecolor\": \"white\", \"minorgridcolor\": \"white\", \"startlinecolor\": \"#2a3f5f\"}, \"baxis\": {\"endlinecolor\": \"#2a3f5f\", \"gridcolor\": \"white\", \"linecolor\": \"white\", \"minorgridcolor\": \"white\", \"startlinecolor\": \"#2a3f5f\"}, \"type\": \"carpet\"}], \"choropleth\": [{\"colorbar\": {\"outlinewidth\": 0, \"ticks\": \"\"}, \"type\": \"choropleth\"}], \"contour\": [{\"colorbar\": {\"outlinewidth\": 0, \"ticks\": \"\"}, \"colorscale\": [[0.0, \"#0d0887\"], [0.1111111111111111, \"#46039f\"], [0.2222222222222222, \"#7201a8\"], [0.3333333333333333, \"#9c179e\"], [0.4444444444444444, \"#bd3786\"], [0.5555555555555556, \"#d8576b\"], [0.6666666666666666, \"#ed7953\"], [0.7777777777777778, \"#fb9f3a\"], [0.8888888888888888, \"#fdca26\"], [1.0, \"#f0f921\"]], \"type\": \"contour\"}], \"contourcarpet\": [{\"colorbar\": {\"outlinewidth\": 0, \"ticks\": \"\"}, \"type\": \"contourcarpet\"}], \"heatmap\": [{\"colorbar\": {\"outlinewidth\": 0, \"ticks\": \"\"}, \"colorscale\": [[0.0, \"#0d0887\"], [0.1111111111111111, \"#46039f\"], [0.2222222222222222, \"#7201a8\"], [0.3333333333333333, \"#9c179e\"], [0.4444444444444444, \"#bd3786\"], [0.5555555555555556, \"#d8576b\"], [0.6666666666666666, \"#ed7953\"], [0.7777777777777778, \"#fb9f3a\"], [0.8888888888888888, \"#fdca26\"], [1.0, \"#f0f921\"]], \"type\": \"heatmap\"}], \"heatmapgl\": [{\"colorbar\": {\"outlinewidth\": 0, \"ticks\": \"\"}, \"colorscale\": [[0.0, \"#0d0887\"], [0.1111111111111111, \"#46039f\"], [0.2222222222222222, \"#7201a8\"], [0.3333333333333333, \"#9c179e\"], [0.4444444444444444, \"#bd3786\"], [0.5555555555555556, \"#d8576b\"], [0.6666666666666666, \"#ed7953\"], [0.7777777777777778, \"#fb9f3a\"], [0.8888888888888888, \"#fdca26\"], [1.0, \"#f0f921\"]], \"type\": \"heatmapgl\"}], \"histogram\": [{\"marker\": {\"colorbar\": {\"outlinewidth\": 0, \"ticks\": \"\"}}, \"type\": \"histogram\"}], \"histogram2d\": [{\"colorbar\": {\"outlinewidth\": 0, \"ticks\": \"\"}, \"colorscale\": [[0.0, \"#0d0887\"], [0.1111111111111111, \"#46039f\"], [0.2222222222222222, \"#7201a8\"], [0.3333333333333333, \"#9c179e\"], [0.4444444444444444, \"#bd3786\"], [0.5555555555555556, \"#d8576b\"], [0.6666666666666666, \"#ed7953\"], [0.7777777777777778, \"#fb9f3a\"], [0.8888888888888888, \"#fdca26\"], [1.0, \"#f0f921\"]], \"type\": \"histogram2d\"}], \"histogram2dcontour\": [{\"colorbar\": {\"outlinewidth\": 0, \"ticks\": \"\"}, \"colorscale\": [[0.0, \"#0d0887\"], [0.1111111111111111, \"#46039f\"], [0.2222222222222222, \"#7201a8\"], [0.3333333333333333, \"#9c179e\"], [0.4444444444444444, \"#bd3786\"], [0.5555555555555556, \"#d8576b\"], [0.6666666666666666, \"#ed7953\"], [0.7777777777777778, \"#fb9f3a\"], [0.8888888888888888, \"#fdca26\"], [1.0, \"#f0f921\"]], \"type\": \"histogram2dcontour\"}], \"mesh3d\": [{\"colorbar\": {\"outlinewidth\": 0, \"ticks\": \"\"}, \"type\": \"mesh3d\"}], \"parcoords\": [{\"line\": {\"colorbar\": {\"outlinewidth\": 0, \"ticks\": \"\"}}, \"type\": \"parcoords\"}], \"pie\": [{\"automargin\": true, \"type\": \"pie\"}], \"scatter\": [{\"marker\": {\"colorbar\": {\"outlinewidth\": 0, \"ticks\": \"\"}}, \"type\": \"scatter\"}], \"scatter3d\": [{\"line\": {\"colorbar\": {\"outlinewidth\": 0, \"ticks\": \"\"}}, \"marker\": {\"colorbar\": {\"outlinewidth\": 0, \"ticks\": \"\"}}, \"type\": \"scatter3d\"}], \"scattercarpet\": [{\"marker\": {\"colorbar\": {\"outlinewidth\": 0, \"ticks\": \"\"}}, \"type\": \"scattercarpet\"}], \"scattergeo\": [{\"marker\": {\"colorbar\": {\"outlinewidth\": 0, \"ticks\": \"\"}}, \"type\": \"scattergeo\"}], \"scattergl\": [{\"marker\": {\"colorbar\": {\"outlinewidth\": 0, \"ticks\": \"\"}}, \"type\": \"scattergl\"}], \"scattermapbox\": [{\"marker\": {\"colorbar\": {\"outlinewidth\": 0, \"ticks\": \"\"}}, \"type\": \"scattermapbox\"}], \"scatterpolar\": [{\"marker\": {\"colorbar\": {\"outlinewidth\": 0, \"ticks\": \"\"}}, \"type\": \"scatterpolar\"}], \"scatterpolargl\": [{\"marker\": {\"colorbar\": {\"outlinewidth\": 0, \"ticks\": \"\"}}, \"type\": \"scatterpolargl\"}], \"scatterternary\": [{\"marker\": {\"colorbar\": {\"outlinewidth\": 0, \"ticks\": \"\"}}, \"type\": \"scatterternary\"}], \"surface\": [{\"colorbar\": {\"outlinewidth\": 0, \"ticks\": \"\"}, \"colorscale\": [[0.0, \"#0d0887\"], [0.1111111111111111, \"#46039f\"], [0.2222222222222222, \"#7201a8\"], [0.3333333333333333, \"#9c179e\"], [0.4444444444444444, \"#bd3786\"], [0.5555555555555556, \"#d8576b\"], [0.6666666666666666, \"#ed7953\"], [0.7777777777777778, \"#fb9f3a\"], [0.8888888888888888, \"#fdca26\"], [1.0, \"#f0f921\"]], \"type\": \"surface\"}], \"table\": [{\"cells\": {\"fill\": {\"color\": \"#EBF0F8\"}, \"line\": {\"color\": \"white\"}}, \"header\": {\"fill\": {\"color\": \"#C8D4E3\"}, \"line\": {\"color\": \"white\"}}, \"type\": \"table\"}]}, \"layout\": {\"annotationdefaults\": {\"arrowcolor\": \"#2a3f5f\", \"arrowhead\": 0, \"arrowwidth\": 1}, \"coloraxis\": {\"colorbar\": {\"outlinewidth\": 0, \"ticks\": \"\"}}, \"colorscale\": {\"diverging\": [[0, \"#8e0152\"], [0.1, \"#c51b7d\"], [0.2, \"#de77ae\"], [0.3, \"#f1b6da\"], [0.4, \"#fde0ef\"], [0.5, \"#f7f7f7\"], [0.6, \"#e6f5d0\"], [0.7, \"#b8e186\"], [0.8, \"#7fbc41\"], [0.9, \"#4d9221\"], [1, \"#276419\"]], \"sequential\": [[0.0, \"#0d0887\"], [0.1111111111111111, \"#46039f\"], [0.2222222222222222, \"#7201a8\"], [0.3333333333333333, \"#9c179e\"], [0.4444444444444444, \"#bd3786\"], [0.5555555555555556, \"#d8576b\"], [0.6666666666666666, \"#ed7953\"], [0.7777777777777778, \"#fb9f3a\"], [0.8888888888888888, \"#fdca26\"], [1.0, \"#f0f921\"]], \"sequentialminus\": [[0.0, \"#0d0887\"], [0.1111111111111111, \"#46039f\"], [0.2222222222222222, \"#7201a8\"], [0.3333333333333333, \"#9c179e\"], [0.4444444444444444, \"#bd3786\"], [0.5555555555555556, \"#d8576b\"], [0.6666666666666666, \"#ed7953\"], [0.7777777777777778, \"#fb9f3a\"], [0.8888888888888888, \"#fdca26\"], [1.0, \"#f0f921\"]]}, \"colorway\": [\"#636efa\", \"#EF553B\", \"#00cc96\", \"#ab63fa\", \"#FFA15A\", \"#19d3f3\", \"#FF6692\", \"#B6E880\", \"#FF97FF\", \"#FECB52\"], \"font\": {\"color\": \"#2a3f5f\"}, \"geo\": {\"bgcolor\": \"white\", \"lakecolor\": \"white\", \"landcolor\": \"#E5ECF6\", \"showlakes\": true, \"showland\": true, \"subunitcolor\": \"white\"}, \"hoverlabel\": {\"align\": \"left\"}, \"hovermode\": \"closest\", \"mapbox\": {\"style\": \"light\"}, \"paper_bgcolor\": \"white\", \"plot_bgcolor\": \"#E5ECF6\", \"polar\": {\"angularaxis\": {\"gridcolor\": \"white\", \"linecolor\": \"white\", \"ticks\": \"\"}, \"bgcolor\": \"#E5ECF6\", \"radialaxis\": {\"gridcolor\": \"white\", \"linecolor\": \"white\", \"ticks\": \"\"}}, \"scene\": {\"xaxis\": {\"backgroundcolor\": \"#E5ECF6\", \"gridcolor\": \"white\", \"gridwidth\": 2, \"linecolor\": \"white\", \"showbackground\": true, \"ticks\": \"\", \"zerolinecolor\": \"white\"}, \"yaxis\": {\"backgroundcolor\": \"#E5ECF6\", \"gridcolor\": \"white\", \"gridwidth\": 2, \"linecolor\": \"white\", \"showbackground\": true, \"ticks\": \"\", \"zerolinecolor\": \"white\"}, \"zaxis\": {\"backgroundcolor\": \"#E5ECF6\", \"gridcolor\": \"white\", \"gridwidth\": 2, \"linecolor\": \"white\", \"showbackground\": true, \"ticks\": \"\", \"zerolinecolor\": \"white\"}}, \"shapedefaults\": {\"line\": {\"color\": \"#2a3f5f\"}}, \"ternary\": {\"aaxis\": {\"gridcolor\": \"white\", \"linecolor\": \"white\", \"ticks\": \"\"}, \"baxis\": {\"gridcolor\": \"white\", \"linecolor\": \"white\", \"ticks\": \"\"}, \"bgcolor\": \"#E5ECF6\", \"caxis\": {\"gridcolor\": \"white\", \"linecolor\": \"white\", \"ticks\": \"\"}}, \"title\": {\"x\": 0.05}, \"xaxis\": {\"automargin\": true, \"gridcolor\": \"white\", \"linecolor\": \"white\", \"ticks\": \"\", \"title\": {\"standoff\": 15}, \"zerolinecolor\": \"white\", \"zerolinewidth\": 2}, \"yaxis\": {\"automargin\": true, \"gridcolor\": \"white\", \"linecolor\": \"white\", \"ticks\": \"\", \"title\": {\"standoff\": 15}, \"zerolinecolor\": \"white\", \"zerolinewidth\": 2}}}, \"width\": 1000, \"xaxis\": {\"anchor\": \"y\", \"domain\": [0.0, 1.0], \"title\": {\"text\": \"Marque\"}}, \"yaxis\": {\"anchor\": \"x\", \"domain\": [0.0, 1.0], \"title\": {\"text\": \"count\"}}},\n",
       "                        {\"responsive\": true}\n",
       "                    ).then(function(){\n",
       "                            \n",
       "var gd = document.getElementById('fc46a236-9eaf-4fd5-ace1-533ea008f591');\n",
       "var x = new MutationObserver(function (mutations, observer) {{\n",
       "        var display = window.getComputedStyle(gd).display;\n",
       "        if (!display || display === 'none') {{\n",
       "            console.log([gd, 'removed!']);\n",
       "            Plotly.purge(gd);\n",
       "            observer.disconnect();\n",
       "        }}\n",
       "}});\n",
       "\n",
       "// Listen for the removal of the full notebook cells\n",
       "var notebookContainer = gd.closest('#notebook-container');\n",
       "if (notebookContainer) {{\n",
       "    x.observe(notebookContainer, {childList: true});\n",
       "}}\n",
       "\n",
       "// Listen for the clearing of the current output cell\n",
       "var outputEl = gd.closest('.output');\n",
       "if (outputEl) {{\n",
       "    x.observe(outputEl, {childList: true});\n",
       "}}\n",
       "\n",
       "                        })\n",
       "                };\n",
       "                });\n",
       "            </script>\n",
       "        </div>"
      ]
     },
     "metadata": {},
     "output_type": "display_data"
    }
   ],
   "source": [
    "fig = px.histogram(df, x='Marque',  color='Fraud',width=1000,height=740)\n",
    "fig.show()\n",
    "fig.write_image(\"../frontend/src/assets/figure_EDA/marque.png\")"
   ]
  },
  {
   "cell_type": "code",
   "execution_count": null,
   "metadata": {
    "scrolled": false
   },
   "outputs": [],
   "source": [
    "fig = px.histogram(df, x='Point Choc',  color='Fraud',width=1000,height=900)\n",
    "fig.show()\n",
    "fig.write_image(\"../frontend/src/assets/figure_EDA/pt_choc.png\")"
   ]
  },
  {
   "cell_type": "code",
   "execution_count": null,
   "metadata": {
    "scrolled": false
   },
   "outputs": [],
   "source": [
    "fig = px.histogram(df, x='Cas de barème',  color='Fraud')\n",
    "fig.update_xaxes(tick0=0, dtick=1)\n",
    "fig.show()\n",
    "fig.write_image(\"../frontend/src/assets/figure_EDA/cas_bareme.png\")"
   ]
  },
  {
   "cell_type": "code",
   "execution_count": null,
   "metadata": {
    "scrolled": true
   },
   "outputs": [],
   "source": [
    "fig = px.histogram(df, x='Mois Accident',  color='Fraud')\n",
    "fig.show()\n",
    "fig.write_image(\"../frontend/src/assets/figure_EDA/month_accident.png\")"
   ]
  },
  {
   "cell_type": "code",
   "execution_count": null,
   "metadata": {},
   "outputs": [],
   "source": [
    "fig = px.histogram(df, x='Nbr réclamations antérieures',  color='Fraud')\n",
    "fig.show()\n",
    "fig.write_image(\"../frontend/src/assets/figure_EDA/nbr_reclam.png\")"
   ]
  },
  {
   "cell_type": "code",
   "execution_count": null,
   "metadata": {},
   "outputs": [],
   "source": [
    "# df[\"Compagnie d'assurance\"] = df[\"Compagnie d'assurance\"].map({\n",
    "#     \"EL AMANA TAKAFUL\":\"A\", 'LA CARTE ' :\"B\", 'LLOYD TUNISIEN ':\"C\",\n",
    "#        'BIAT assurances':\"D\", 'GAT assurances ':\"E\", 'Assurances ATTAKAFULIA':\"F\",\n",
    "#        'Assurances SALIM':\"G\", 'BH Assurance':\"H\", 'Assurances AMI':\"I\"})"
   ]
  },
  {
   "cell_type": "code",
   "execution_count": null,
   "metadata": {},
   "outputs": [],
   "source": [
    "fig = px.histogram(df, x=\"Compagnie d'assurance\",  color='Fraud')\n",
    "fig.show()\n",
    "fig.write_image(\"../frontend/src/assets/figure_EDA/compagnie_assurance.png\")"
   ]
  },
  {
   "cell_type": "code",
   "execution_count": null,
   "metadata": {},
   "outputs": [],
   "source": [
    "# df[\"Compagnie adverse\"] = df[\"Compagnie adverse\"].map({\n",
    "# 'MAE ':\"A\", 'ASSURANCES STAR ':\"B\", 'BIAT assurances':\"C\", 'LLOYD TUNISIEN ':\"D\",\n",
    "#        'GAT assurances ':\"E\", 'CTAMA':\"F\", 'MAGHREBIA':\"G\", 'Assurances AMI':\"H\",\n",
    "#        'Assurances ASTREE':\"I\", 'ASSURANCE COMAR ':\"J\", 'LA CARTE ':\"K\",\n",
    "#        'Assurances SALIM':\"L\", 'ZITOUNA TAKAFUL':\"M\", 'Compagnie étrangère':\"N\",\n",
    "#        'Assurances ATTAKAFULIA':\"O\", 'EL AMANA TAKAFUL':\"P\"})"
   ]
  },
  {
   "cell_type": "code",
   "execution_count": null,
   "metadata": {
    "scrolled": false
   },
   "outputs": [],
   "source": [
    "fig = px.histogram(df, x='Compagnie adverse',  color='Fraud')\n",
    "fig.show()\n",
    "fig.write_image(\"../frontend/src/assets/figure_EDA/compagnie_adverse.png\")"
   ]
  },
  {
   "cell_type": "code",
   "execution_count": null,
   "metadata": {},
   "outputs": [],
   "source": []
  }
 ],
 "metadata": {
  "kernelspec": {
   "display_name": "Python 3",
   "language": "python",
   "name": "python3"
  },
  "language_info": {
   "codemirror_mode": {
    "name": "ipython",
    "version": 3
   },
   "file_extension": ".py",
   "mimetype": "text/x-python",
   "name": "python",
   "nbconvert_exporter": "python",
   "pygments_lexer": "ipython3",
   "version": "3.7.4"
  }
 },
 "nbformat": 4,
 "nbformat_minor": 2
}
