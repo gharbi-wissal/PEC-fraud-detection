{
 "cells": [
  {
   "cell_type": "markdown",
   "metadata": {},
   "source": [
    "## Exploratory Data Analysis"
   ]
  },
  {
   "cell_type": "code",
   "execution_count": 1,
   "metadata": {},
   "outputs": [
    {
     "data": {
      "text/html": [
       "        <script type=\"text/javascript\">\n",
       "        window.PlotlyConfig = {MathJaxConfig: 'local'};\n",
       "        if (window.MathJax) {MathJax.Hub.Config({SVG: {font: \"STIX-Web\"}});}\n",
       "        if (typeof require !== 'undefined') {\n",
       "        require.undef(\"plotly\");\n",
       "        requirejs.config({\n",
       "            paths: {\n",
       "                'plotly': ['https://cdn.plot.ly/plotly-latest.min']\n",
       "            }\n",
       "        });\n",
       "        require(['plotly'], function(Plotly) {\n",
       "            window._Plotly = Plotly;\n",
       "        });\n",
       "        }\n",
       "        </script>\n",
       "        "
      ]
     },
     "metadata": {},
     "output_type": "display_data"
    }
   ],
   "source": [
    "import pandas as pd\n",
    "import numpy as np\n",
    "from matplotlib import pyplot as plt\n",
    "import plotly as py\n",
    "import plotly.express as px\n",
    "import plotly.graph_objs as go\n",
    "import ipywidgets as widgets\n",
    "from scipy import special\n",
    "\n",
    "py.offline.init_notebook_mode(connected=True)   \n",
    "pd.set_option('display.max_columns', None)\n",
    "pd.set_option('display.max_rows', None)\n",
    "%matplotlib inline"
   ]
  },
  {
   "cell_type": "markdown",
   "metadata": {},
   "source": [
    "### Importer les données"
   ]
  },
  {
   "cell_type": "code",
   "execution_count": 13,
   "metadata": {
    "scrolled": false
   },
   "outputs": [
    {
     "data": {
      "text/html": [
       "<div>\n",
       "<style scoped>\n",
       "    .dataframe tbody tr th:only-of-type {\n",
       "        vertical-align: middle;\n",
       "    }\n",
       "\n",
       "    .dataframe tbody tr th {\n",
       "        vertical-align: top;\n",
       "    }\n",
       "\n",
       "    .dataframe thead th {\n",
       "        text-align: right;\n",
       "    }\n",
       "</style>\n",
       "<table border=\"1\" class=\"dataframe\">\n",
       "  <thead>\n",
       "    <tr style=\"text-align: right;\">\n",
       "      <th></th>\n",
       "      <th>Compagnie d'assurance</th>\n",
       "      <th>Date de création</th>\n",
       "      <th>Nom et Prénom Assuré /Raison Sociale</th>\n",
       "      <th>Immatriculation Véhicule assuré</th>\n",
       "      <th>Mode de gestion</th>\n",
       "      <th>Garantie impliquée</th>\n",
       "      <th>Chargé réparation</th>\n",
       "      <th>Marque</th>\n",
       "      <th>Réparateur</th>\n",
       "      <th>Expert</th>\n",
       "      <th>Compagnie adverse</th>\n",
       "      <th>Accord VR (Véhicule de remplacement)</th>\n",
       "      <th>Agence</th>\n",
       "      <th>Agent</th>\n",
       "      <th>Cas de barème</th>\n",
       "      <th>Chargé acceptation</th>\n",
       "      <th>Code agence</th>\n",
       "      <th>Date Accident</th>\n",
       "      <th>Date acceptation</th>\n",
       "      <th>Date accord (SST)</th>\n",
       "      <th>Date demande</th>\n",
       "      <th>Etape Dossier</th>\n",
       "      <th>Etat d'approbation</th>\n",
       "      <th>Immatriculation tiers</th>\n",
       "      <th>Montant total devis</th>\n",
       "      <th>Nom et Prénom tiers /Raison Sociale</th>\n",
       "      <th>Numero sinistre</th>\n",
       "      <th>Numéro de contrat</th>\n",
       "      <th>Point Choc</th>\n",
       "      <th>Position GA</th>\n",
       "      <th>SST</th>\n",
       "      <th>Nbr réclamations antérieures</th>\n",
       "      <th>Day Accident</th>\n",
       "      <th>Month Accident</th>\n",
       "      <th>Year Accident</th>\n",
       "      <th>Day demande</th>\n",
       "      <th>Month demande</th>\n",
       "      <th>Year demande</th>\n",
       "      <th>Retard reclamation</th>\n",
       "      <th>Fraud</th>\n",
       "    </tr>\n",
       "  </thead>\n",
       "  <tbody>\n",
       "    <tr>\n",
       "      <th>0</th>\n",
       "      <td>EL AMANA TAKAFUL</td>\n",
       "      <td>43664</td>\n",
       "      <td>NACEUR HBIBI</td>\n",
       "      <td>9594TU195</td>\n",
       "      <td>IDA</td>\n",
       "      <td>Défense et recours</td>\n",
       "      <td>Asma  TURKI</td>\n",
       "      <td>ISUZU</td>\n",
       "      <td>MECATOL</td>\n",
       "      <td>Hadiji Yassine</td>\n",
       "      <td>MAE</td>\n",
       "      <td>NON</td>\n",
       "      <td>global assurance</td>\n",
       "      <td>global assurance</td>\n",
       "      <td>10.0</td>\n",
       "      <td>Ouni Hela</td>\n",
       "      <td>744</td>\n",
       "      <td>03/31/2019</td>\n",
       "      <td>04/04/2019 11:15</td>\n",
       "      <td>10/04/2019 13:22</td>\n",
       "      <td>04/04/2019</td>\n",
       "      <td>Véhicule réparé: en instance de Signature du BS</td>\n",
       "      <td>Approuvé ( Chef cellule Acceptation )</td>\n",
       "      <td>5178TU196</td>\n",
       "      <td>914.604</td>\n",
       "      <td>STE ATELIER GHRAPHIQUE</td>\n",
       "      <td>S19/9165</td>\n",
       "      <td>2015.5.0088637/3</td>\n",
       "      <td>Tiers Ar. D,Tiers Lat. D</td>\n",
       "      <td>Recours</td>\n",
       "      <td>Fathi  Nguili</td>\n",
       "      <td>2</td>\n",
       "      <td>31</td>\n",
       "      <td>3</td>\n",
       "      <td>2019</td>\n",
       "      <td>4</td>\n",
       "      <td>4</td>\n",
       "      <td>2019</td>\n",
       "      <td>4</td>\n",
       "      <td>Non</td>\n",
       "    </tr>\n",
       "    <tr>\n",
       "      <th>1</th>\n",
       "      <td>LA CARTE</td>\n",
       "      <td>16/12/2019</td>\n",
       "      <td>STE HOTEL BYZANCE</td>\n",
       "      <td>6657TU193</td>\n",
       "      <td>Dommages</td>\n",
       "      <td>Dommages au véhicule</td>\n",
       "      <td></td>\n",
       "      <td>ALFA ROMEO</td>\n",
       "      <td>NaN</td>\n",
       "      <td>NaN</td>\n",
       "      <td>ASSURANCES STAR</td>\n",
       "      <td>NaN</td>\n",
       "      <td>mohamed boussaa</td>\n",
       "      <td>mohamed boussaa</td>\n",
       "      <td>9.0</td>\n",
       "      <td>Ouni Hela</td>\n",
       "      <td>780</td>\n",
       "      <td>12/04/2019</td>\n",
       "      <td>26/12/2019 17:23</td>\n",
       "      <td>NaN</td>\n",
       "      <td>12/09/2019</td>\n",
       "      <td>En instance d'établissement Devis</td>\n",
       "      <td>Approuvé ( Chef cellule Acceptation )</td>\n",
       "      <td>9332TU62</td>\n",
       "      <td>NaN</td>\n",
       "      <td>EL GHOUL AHMED BEN AMOR</td>\n",
       "      <td>S1955133140</td>\n",
       "      <td>201950000046682</td>\n",
       "      <td>Tiers Ar. D</td>\n",
       "      <td>Recours</td>\n",
       "      <td></td>\n",
       "      <td>1</td>\n",
       "      <td>4</td>\n",
       "      <td>12</td>\n",
       "      <td>2019</td>\n",
       "      <td>9</td>\n",
       "      <td>12</td>\n",
       "      <td>2019</td>\n",
       "      <td>5</td>\n",
       "      <td>Non</td>\n",
       "    </tr>\n",
       "    <tr>\n",
       "      <th>2</th>\n",
       "      <td>LLOYD TUNISIEN</td>\n",
       "      <td>43475.0</td>\n",
       "      <td>MOUNA BEJAOUI</td>\n",
       "      <td>6130TU156</td>\n",
       "      <td>Dommages</td>\n",
       "      <td>Tierce collision</td>\n",
       "      <td>Asma  TURKI</td>\n",
       "      <td>KIA</td>\n",
       "      <td>SPEED SERVICES</td>\n",
       "      <td>Salah BEN HASSINE</td>\n",
       "      <td>BIAT assurances</td>\n",
       "      <td>NON</td>\n",
       "      <td>sondos ayoub</td>\n",
       "      <td>sondos ayoub</td>\n",
       "      <td>15.0</td>\n",
       "      <td>Ouni Hela</td>\n",
       "      <td>658</td>\n",
       "      <td>05/21/2019</td>\n",
       "      <td>28/05/2019 12:40</td>\n",
       "      <td>11/06/2019 13:06</td>\n",
       "      <td>05/24/2019</td>\n",
       "      <td>Véhicule réparé: en instance de Signature du BS</td>\n",
       "      <td>Approuvé ( Chef cellule Acceptation )</td>\n",
       "      <td>1984TU124</td>\n",
       "      <td>1790.491</td>\n",
       "      <td>IMMOBILIERE GRAND ATLAS</td>\n",
       "      <td>S19551114002</td>\n",
       "      <td>201850000077730</td>\n",
       "      <td>Tiers Lat. D</td>\n",
       "      <td>Recours</td>\n",
       "      <td>Tayssir HMAIED</td>\n",
       "      <td>1</td>\n",
       "      <td>21</td>\n",
       "      <td>5</td>\n",
       "      <td>2019</td>\n",
       "      <td>24</td>\n",
       "      <td>5</td>\n",
       "      <td>2019</td>\n",
       "      <td>3</td>\n",
       "      <td>Non</td>\n",
       "    </tr>\n",
       "    <tr>\n",
       "      <th>3</th>\n",
       "      <td>LLOYD TUNISIEN</td>\n",
       "      <td>43518.0</td>\n",
       "      <td>SOUHAIELA RIGHI</td>\n",
       "      <td>341TU196</td>\n",
       "      <td>Dommages</td>\n",
       "      <td>Tierce collision</td>\n",
       "      <td>Ouni Dhekra</td>\n",
       "      <td>VOLKSWAGEN</td>\n",
       "      <td>Société EL-FATAH</td>\n",
       "      <td>Hadiji Yassine</td>\n",
       "      <td>LLOYD TUNISIEN</td>\n",
       "      <td>NON</td>\n",
       "      <td>wajih laamiri</td>\n",
       "      <td>wajih laamiri</td>\n",
       "      <td>NaN</td>\n",
       "      <td>Ouni Hela</td>\n",
       "      <td>776</td>\n",
       "      <td>03/30/2019</td>\n",
       "      <td>05/04/2019 17:39</td>\n",
       "      <td>20/05/2019 14:35</td>\n",
       "      <td>04/05/2019</td>\n",
       "      <td>Véhicule réparé: en instance de Signature du BS</td>\n",
       "      <td>Approuvé ( Chef cellule Acceptation )</td>\n",
       "      <td>NaN</td>\n",
       "      <td>2468.064</td>\n",
       "      <td>NaN</td>\n",
       "      <td>S19551109400</td>\n",
       "      <td>201650000091405</td>\n",
       "      <td>Tiers Ar. D</td>\n",
       "      <td>Défense</td>\n",
       "      <td>Fathi  Nguili</td>\n",
       "      <td>1</td>\n",
       "      <td>30</td>\n",
       "      <td>3</td>\n",
       "      <td>2019</td>\n",
       "      <td>5</td>\n",
       "      <td>4</td>\n",
       "      <td>2019</td>\n",
       "      <td>6</td>\n",
       "      <td>Non</td>\n",
       "    </tr>\n",
       "    <tr>\n",
       "      <th>4</th>\n",
       "      <td>LLOYD TUNISIEN</td>\n",
       "      <td>43521.0</td>\n",
       "      <td>AHMED BRAHAM</td>\n",
       "      <td>7445TU172</td>\n",
       "      <td>Dommages</td>\n",
       "      <td>Tierce collision</td>\n",
       "      <td>Ouni Dhekra</td>\n",
       "      <td>VOLKSWAGEN</td>\n",
       "      <td>Société EL-FATAH</td>\n",
       "      <td>Amara Ayari</td>\n",
       "      <td>GAT assurances</td>\n",
       "      <td>OUI</td>\n",
       "      <td>aisaoui fathi</td>\n",
       "      <td>aisaoui fathi</td>\n",
       "      <td>10.0</td>\n",
       "      <td>Ouni Hela</td>\n",
       "      <td>685</td>\n",
       "      <td>04/07/2019</td>\n",
       "      <td>16/04/2019 17:35</td>\n",
       "      <td>22/04/2019 12:55</td>\n",
       "      <td>04/15/2019</td>\n",
       "      <td>Véhicule réparé: en instance de Signature du BS</td>\n",
       "      <td>Approuvé ( Chef cellule Acceptation )</td>\n",
       "      <td>6214TU68</td>\n",
       "      <td>2972.116</td>\n",
       "      <td>ALI JOUILI</td>\n",
       "      <td>S1955109776</td>\n",
       "      <td>201850000041652</td>\n",
       "      <td>Tiers Av. G</td>\n",
       "      <td>Recours</td>\n",
       "      <td>Fathi  Nguili</td>\n",
       "      <td>1</td>\n",
       "      <td>7</td>\n",
       "      <td>4</td>\n",
       "      <td>2019</td>\n",
       "      <td>15</td>\n",
       "      <td>4</td>\n",
       "      <td>2019</td>\n",
       "      <td>8</td>\n",
       "      <td>Non</td>\n",
       "    </tr>\n",
       "  </tbody>\n",
       "</table>\n",
       "</div>"
      ],
      "text/plain": [
       "  Compagnie d'assurance Date de création Nom et Prénom Assuré /Raison Sociale  \\\n",
       "0      EL AMANA TAKAFUL            43664                         NACEUR HBIBI   \n",
       "1             LA CARTE        16/12/2019                    STE HOTEL BYZANCE   \n",
       "2       LLOYD TUNISIEN           43475.0                        MOUNA BEJAOUI   \n",
       "3       LLOYD TUNISIEN           43518.0                      SOUHAIELA RIGHI   \n",
       "4       LLOYD TUNISIEN           43521.0                         AHMED BRAHAM   \n",
       "\n",
       "  Immatriculation Véhicule assuré Mode de gestion     Garantie impliquée  \\\n",
       "0                       9594TU195             IDA    Défense et recours    \n",
       "1                       6657TU193        Dommages  Dommages au véhicule    \n",
       "2                       6130TU156        Dommages      Tierce collision    \n",
       "3                        341TU196        Dommages      Tierce collision    \n",
       "4                       7445TU172        Dommages      Tierce collision    \n",
       "\n",
       "  Chargé réparation       Marque        Réparateur              Expert  \\\n",
       "0       Asma  TURKI       ISUZU           MECATOL       Hadiji Yassine   \n",
       "1                    ALFA ROMEO                NaN                 NaN   \n",
       "2       Asma  TURKI         KIA     SPEED SERVICES  Salah BEN HASSINE    \n",
       "3      Ouni Dhekra   VOLKSWAGEN   Société EL-FATAH      Hadiji Yassine   \n",
       "4      Ouni Dhekra   VOLKSWAGEN   Société EL-FATAH         Amara Ayari   \n",
       "\n",
       "  Compagnie adverse Accord VR (Véhicule de remplacement)             Agence  \\\n",
       "0              MAE                                   NON  global assurance    \n",
       "1  ASSURANCES STAR                                   NaN   mohamed boussaa    \n",
       "2   BIAT assurances                                  NON      sondos ayoub    \n",
       "3   LLOYD TUNISIEN                                   NON     wajih laamiri    \n",
       "4   GAT assurances                                   OUI     aisaoui fathi    \n",
       "\n",
       "              Agent  Cas de barème Chargé acceptation  Code agence  \\\n",
       "0  global assurance           10.0          Ouni Hela          744   \n",
       "1   mohamed boussaa            9.0          Ouni Hela          780   \n",
       "2      sondos ayoub           15.0          Ouni Hela          658   \n",
       "3     wajih laamiri            NaN          Ouni Hela          776   \n",
       "4     aisaoui fathi           10.0          Ouni Hela          685   \n",
       "\n",
       "  Date Accident  Date acceptation Date accord (SST) Date demande  \\\n",
       "0    03/31/2019  04/04/2019 11:15  10/04/2019 13:22   04/04/2019   \n",
       "1    12/04/2019  26/12/2019 17:23               NaN   12/09/2019   \n",
       "2    05/21/2019  28/05/2019 12:40  11/06/2019 13:06   05/24/2019   \n",
       "3    03/30/2019  05/04/2019 17:39  20/05/2019 14:35   04/05/2019   \n",
       "4    04/07/2019  16/04/2019 17:35  22/04/2019 12:55   04/15/2019   \n",
       "\n",
       "                                     Etape Dossier  \\\n",
       "0  Véhicule réparé: en instance de Signature du BS   \n",
       "1                En instance d'établissement Devis   \n",
       "2  Véhicule réparé: en instance de Signature du BS   \n",
       "3  Véhicule réparé: en instance de Signature du BS   \n",
       "4  Véhicule réparé: en instance de Signature du BS   \n",
       "\n",
       "                      Etat d'approbation Immatriculation tiers  \\\n",
       "0  Approuvé ( Chef cellule Acceptation )             5178TU196   \n",
       "1  Approuvé ( Chef cellule Acceptation )              9332TU62   \n",
       "2  Approuvé ( Chef cellule Acceptation )             1984TU124   \n",
       "3  Approuvé ( Chef cellule Acceptation )                   NaN   \n",
       "4  Approuvé ( Chef cellule Acceptation )              6214TU68   \n",
       "\n",
       "   Montant total devis Nom et Prénom tiers /Raison Sociale Numero sinistre  \\\n",
       "0              914.604              STE ATELIER GHRAPHIQUE       S19/9165    \n",
       "1                  NaN             EL GHOUL AHMED BEN AMOR    S1955133140    \n",
       "2             1790.491             IMMOBILIERE GRAND ATLAS   S19551114002    \n",
       "3             2468.064                                 NaN   S19551109400    \n",
       "4             2972.116                          ALI JOUILI    S1955109776    \n",
       "\n",
       "  Numéro de contrat                Point Choc Position GA             SST  \\\n",
       "0  2015.5.0088637/3  Tiers Ar. D,Tiers Lat. D     Recours   Fathi  Nguili   \n",
       "1   201950000046682               Tiers Ar. D     Recours                   \n",
       "2   201850000077730              Tiers Lat. D     Recours  Tayssir HMAIED   \n",
       "3   201650000091405               Tiers Ar. D     Défense   Fathi  Nguili   \n",
       "4   201850000041652               Tiers Av. G     Recours   Fathi  Nguili   \n",
       "\n",
       "   Nbr réclamations antérieures  Day Accident  Month Accident  Year Accident  \\\n",
       "0                             2            31               3           2019   \n",
       "1                             1             4              12           2019   \n",
       "2                             1            21               5           2019   \n",
       "3                             1            30               3           2019   \n",
       "4                             1             7               4           2019   \n",
       "\n",
       "   Day demande  Month demande  Year demande  Retard reclamation Fraud  \n",
       "0            4              4          2019                   4   Non  \n",
       "1            9             12          2019                   5   Non  \n",
       "2           24              5          2019                   3   Non  \n",
       "3            5              4          2019                   6   Non  \n",
       "4           15              4          2019                   8   Non  "
      ]
     },
     "execution_count": 13,
     "metadata": {},
     "output_type": "execute_result"
    }
   ],
   "source": [
    "#load & view raw data\n",
    "df = pd.read_csv('output/pec_prep_out.csv')\n",
    "df=df.drop([ \"Unnamed: 0\"], axis=1)\n",
    "df.head()"
   ]
  },
  {
   "cell_type": "markdown",
   "metadata": {},
   "source": [
    "#### Statistical descriptions of the columns"
   ]
  },
  {
   "cell_type": "code",
   "execution_count": 3,
   "metadata": {},
   "outputs": [
    {
     "data": {
      "text/plain": [
       "Index(['Compagnie d'assurance', 'Date de création',\n",
       "       'Nom et Prénom Assuré /Raison Sociale',\n",
       "       'Immatriculation Véhicule assuré', 'Mode de gestion',\n",
       "       'Garantie impliquée', 'Chargé réparation', 'Marque', 'Réparateur',\n",
       "       'Expert', 'Compagnie adverse', 'Accord VR (Véhicule de remplacement)',\n",
       "       'Agence', 'Agent', 'Cas de barème', 'Chargé acceptation', 'Code agence',\n",
       "       'Date Accident', 'Date acceptation', 'Date accord (SST)',\n",
       "       'Date demande', 'Etape Dossier', 'Etat d'approbation',\n",
       "       'Immatriculation tiers', 'Montant total devis',\n",
       "       'Nom et Prénom tiers /Raison Sociale', 'Numero sinistre',\n",
       "       'Numéro de contrat', 'Point Choc', 'Position GA', 'SST',\n",
       "       'Nbr réclamations antérieures', 'Day Accident', 'Month Accident',\n",
       "       'Year Accident', 'Day demande', 'Month demande', 'Year demande',\n",
       "       'Retard reclamation', 'Fraud'],\n",
       "      dtype='object')"
      ]
     },
     "execution_count": 3,
     "metadata": {},
     "output_type": "execute_result"
    }
   ],
   "source": [
    "df.columns"
   ]
  },
  {
   "cell_type": "code",
   "execution_count": null,
   "metadata": {},
   "outputs": [],
   "source": [
    "df.describe()"
   ]
  },
  {
   "cell_type": "code",
   "execution_count": null,
   "metadata": {},
   "outputs": [],
   "source": [
    "df.dtypes"
   ]
  },
  {
   "cell_type": "code",
   "execution_count": null,
   "metadata": {},
   "outputs": [],
   "source": [
    "df.shape"
   ]
  },
  {
   "cell_type": "code",
   "execution_count": null,
   "metadata": {},
   "outputs": [],
   "source": [
    "df.nunique()"
   ]
  },
  {
   "cell_type": "code",
   "execution_count": null,
   "metadata": {},
   "outputs": [],
   "source": [
    "ax = pd.value_counts(df['Fraud']).plot.bar(color=['blue', 'magenta'], figsize=(10,5))\n",
    "ax.set_xlabel('Fraud reported')\n",
    "ax.set_ylabel('Nombre de réclamations')\n",
    "plt.savefig('../frontend/src/assets/figure_EDA/Nbr_reclam_fraud.png',dpi=400)\n",
    "\n",
    "plt.show()\n",
    "# plt.savefig('figure_EDA/Nbr_reclam_fraud')"
   ]
  },
  {
   "cell_type": "code",
   "execution_count": null,
   "metadata": {},
   "outputs": [],
   "source": [
    "df['Fraud'].value_counts() "
   ]
  },
  {
   "cell_type": "code",
   "execution_count": null,
   "metadata": {},
   "outputs": [],
   "source": [
    "df['Mode de gestion'].value_counts()"
   ]
  },
  {
   "cell_type": "code",
   "execution_count": null,
   "metadata": {},
   "outputs": [],
   "source": [
    "df['Nbr réclamations antérieures'].value_counts()"
   ]
  },
  {
   "cell_type": "code",
   "execution_count": null,
   "metadata": {},
   "outputs": [],
   "source": [
    "df['Garantie impliquée'].value_counts()"
   ]
  },
  {
   "cell_type": "code",
   "execution_count": null,
   "metadata": {},
   "outputs": [],
   "source": [
    "fig = px.bar(df, x='Garantie impliquée', y='Montant total devis', color='Garantie impliquée' )\n",
    "fig.show()\n",
    "fig.write_image(\"../frontend/src/assets/figure_EDA/montant_garantie.png\")"
   ]
  },
  {
   "cell_type": "code",
   "execution_count": null,
   "metadata": {},
   "outputs": [],
   "source": [
    "fig = px.bar(df, x='Mode de gestion', y='Montant total devis', color='Mode de gestion' )\n",
    "fig.show()\n",
    "fig.write_image(\"../frontend/src/assets/figure_EDA/montant_mode.png\")"
   ]
  },
  {
   "cell_type": "code",
   "execution_count": 14,
   "metadata": {},
   "outputs": [
    {
     "data": {
      "application/vnd.plotly.v1+json": {
       "config": {
        "plotlyServerURL": "https://plot.ly"
       },
       "data": [
        {
         "alignmentgroup": "True",
         "bingroup": "x",
         "histnorm": "probability density",
         "hovertemplate": "Fraud=Non<br>Garantie impliquée=%{x}<br>count=%{y}<extra></extra>",
         "legendgroup": "Non",
         "marker": {
          "color": "#636efa"
         },
         "name": "Non",
         "offsetgroup": "Non",
         "orientation": "v",
         "showlegend": true,
         "type": "histogram",
         "x": [
          "Défense et recours ",
          "Dommages au véhicule ",
          "Tierce collision ",
          "Tierce collision ",
          "Tierce collision ",
          "Tierce collision ",
          "Tierce collision ",
          "Tierce ",
          "Tierce collision ",
          "Défense et recours ",
          "Dommages au véhicule ",
          "Dommages au véhicule ",
          "Défense et recours ",
          "Dommages au véhicule ",
          "Défense et recours ",
          "Vol partiel ",
          "Bris de glace ",
          "Défense et recours ",
          "Défense et recours ",
          "Défense et recours ",
          "Défense et recours ",
          "Dommages au véhicule ",
          "Tierce ",
          "Défense et recours ",
          "Défense et recours ",
          "Défense et recours ",
          "Défense et recours ",
          "Défense et recours ",
          "Défense et recours ",
          "Défense et recours ",
          "Défense et recours ",
          "Défense et recours ",
          "Dommages au véhicule ",
          "Dommages au véhicule ",
          "Dommages au véhicule ",
          "Dommages au véhicule ",
          "Défense et recours ",
          "Dommages au véhicule ",
          "Bris de glace ",
          "Dommages collisions ",
          "Défense et recours ",
          "Dommages au véhicule ",
          "Dommages au véhicule ",
          "Dommages au véhicule ",
          "Défense et recours ",
          "Dommages au véhicule ",
          "Défense et recours ",
          "Défense et recours ",
          "Défense et recours ",
          "Défense et recours ",
          "Dommages collisions ",
          "Défense et recours ",
          "Défense et recours ",
          "Défense et recours ",
          "Défense et recours ",
          "Dommages au véhicule ",
          "Défense et recours ",
          "Défense et recours ",
          "Dommages au véhicule ",
          "Bris de glace ",
          "Défense et recours ",
          "Bris de glace ",
          "Défense et recours ",
          "Défense et recours ",
          "Défense et recours ",
          "Défense et recours ",
          "Bris de glace ",
          "Dommages au véhicule ",
          "Défense et recours ",
          "Défense et recours ",
          "Dommages au véhicule ",
          "Dommages au véhicule ",
          "Défense et recours ",
          "Défense et recours ",
          "Bris de glace ",
          "Défense et recours ",
          "Défense et recours ",
          "Dommages collisions ",
          "Dommages au véhicule ",
          "Dommages au véhicule ",
          "Défense et recours ",
          "Dommages au véhicule ",
          "Bris de glace ",
          "Bris de glace ",
          "Défense et recours ",
          "Défense et recours ",
          "Dommages au véhicule ",
          "Dommages au véhicule ",
          "Dommages au véhicule ",
          "Dommages au véhicule ",
          "Dommages au véhicule ",
          "Défense et recours ",
          "Défense et recours ",
          "Défense et recours ",
          "Défense et recours ",
          "Dommages au véhicule ",
          "Défense et recours ",
          "Défense et recours ",
          "Dommages au véhicule ",
          "Dommages au véhicule ",
          "Dommages au véhicule ",
          "Défense et recours ",
          "Dommages au véhicule ",
          "Dommages au véhicule ",
          "Dommages au véhicule ",
          "Dommages au véhicule ",
          "Dommages au véhicule ",
          "Défense et recours ",
          "Défense et recours ",
          "Dommages au véhicule ",
          "Dommages au véhicule ",
          "Défense et recours ",
          "Bris de glace ",
          "Défense et recours ",
          "Défense et recours ",
          "Défense et recours ",
          "Défense et recours ",
          "Défense et recours ",
          "Dommages au véhicule ",
          "Défense et recours ",
          "Dommages au véhicule ",
          "Défense et recours ",
          "Défense et recours ",
          "Défense et recours ",
          "Défense et recours ",
          "Défense et recours ",
          "Défense et recours ",
          "Tierce ",
          "Tierce ",
          "Bris de glace ",
          "Défense et recours ",
          "Défense et recours ",
          "Défense et recours ",
          "Défense et recours ",
          "Bris de glace ",
          "Défense et recours ",
          "Tierce ",
          "Tierce ",
          "Tierce ",
          "Tierce ",
          "Tierce ",
          "Tierce ",
          "Tierce ",
          "Défense et recours ",
          "Tierce ",
          "Tierce ",
          "Défense et recours ",
          "Dommages au véhicule ",
          "Bris de glace ",
          "Défense et recours ",
          "Défense et recours ",
          "Dommages au véhicule ",
          "Défense et recours ",
          "Dommages collisions ",
          "Dommages au véhicule ",
          "Défense et recours ",
          "Dommages au véhicule ",
          "Défense et recours ",
          "Défense et recours ",
          "Défense et recours ",
          "Défense et recours ",
          "Dommages au véhicule ",
          "Défense et recours ",
          "Défense et recours ",
          "Défense et recours ",
          "Dommages au véhicule ",
          "Défense et recours ",
          "Dommages au véhicule ",
          "Dommages au véhicule ",
          "Dommages au véhicule ",
          "Défense et recours ",
          "Dommages au véhicule ",
          "Bris de glace ",
          "Défense et recours ",
          "Défense et recours ",
          "Défense et recours ",
          "Défense et recours ",
          "Défense et recours ",
          "Tierce ",
          "Tierce ",
          "Défense et recours ",
          "Tierce ",
          "Tierce ",
          "Bris de glace ",
          "Tierce collision ",
          "Tierce collision ",
          "Tierce ",
          "Tierce ",
          "Tierce ",
          "Tierce ",
          "Défense et recours ",
          "Tierce ",
          "Tierce collision ",
          "Tierce ",
          "Tierce ",
          "Bris de glace ",
          "Tierce ",
          "Tierce ",
          "Bris de glace ",
          "Défense et recours ",
          "Défense et recours ",
          "Défense et recours ",
          "Tierce collision ",
          "Tierce ",
          "Défense et recours ",
          "Défense et recours ",
          "Bris de glace ",
          "Tierce collision ",
          "Tierce collision ",
          "Défense et recours ",
          "Tierce ",
          "Tierce ",
          "Défense et recours ",
          "Tierce ",
          "Tierce ",
          "Tierce ",
          "Tierce ",
          "Bris de glace ",
          "Tierce ",
          "Tierce ",
          "Défense et recours ",
          "Tierce collision ",
          "Tierce ",
          "Tierce collision ",
          "Bris de glace ",
          "Tierce ",
          "Tierce ",
          "Défense et recours ",
          "Tierce collision ",
          "Tierce collision ",
          "Bris de glace ",
          "Tierce collision ",
          "Défense et recours ",
          "Tierce collision ",
          "Bris de glace ",
          "Tierce ",
          "Défense et recours ",
          "Bris de glace ",
          "Tierce collision ",
          "Bris de glace ",
          "Défense et recours ",
          "Tierce ",
          "Défense et recours ",
          "Tierce collision ",
          "Tierce ",
          "Tierce collision ",
          "Tierce ",
          "Défense et recours ",
          "Tierce collision ",
          "Bris de glace ",
          "Défense et recours ",
          "Défense et recours ",
          "Tierce collision ",
          "Bris de glace ",
          "Tierce ",
          "Défense et recours ",
          "Tierce ",
          "Tierce ",
          "Défense et recours ",
          "Tierce ",
          "Tierce ",
          "Tierce ",
          "Tierce ",
          "Défense et recours ",
          "Bris de glace ",
          "Tierce collision ",
          "Tierce ",
          "Défense et recours ",
          "Tierce ",
          "Défense et recours ",
          "Tierce collision ",
          "Tierce collision ",
          "Tierce ",
          "Tierce ",
          "Tierce ",
          "Défense et recours ",
          "Défense et recours ",
          "Tierce ",
          "Tierce collision ",
          "Défense et recours ",
          "Tierce ",
          "Tierce ",
          "Tierce collision ",
          "Défense et recours ",
          "Tierce ",
          "Défense et recours ",
          "Tierce ",
          "Tierce ",
          "Tierce collision ",
          "Tierce ",
          "Défense et recours ",
          "Tierce collision ",
          "Tierce ",
          "Tierce ",
          "Tierce ",
          "Tierce collision ",
          "Défense et recours ",
          "Défense et recours ",
          "Défense et recours ",
          "Tierce ",
          "Défense et recours ",
          "Tierce ",
          "Défense et recours ",
          "Tierce ",
          "Tierce ",
          "Tierce ",
          "Tierce ",
          "Tierce ",
          "Défense et recours ",
          "Tierce ",
          "Tierce collision ",
          "Tierce ",
          "Tierce ",
          "Tierce ",
          "Tierce collision ",
          "Défense et recours ",
          "Défense et recours ",
          "Défense et recours ",
          "Défense et recours ",
          "Tierce ",
          "Défense et recours ",
          "Tierce ",
          "Défense et recours ",
          "Dommages collisions ",
          "Défense et recours ",
          "Défense et recours ",
          "Incendie partiel ",
          "Défense et recours ",
          "Tierce ",
          "Tierce ",
          "Défense et recours ",
          "Défense et recours ",
          "Tierce ",
          "Tierce ",
          "Défense et recours ",
          "Tierce ",
          "Tierce ",
          "Défense et recours ",
          "Défense et recours ",
          "Défense et recours ",
          "Défense et recours ",
          "Défense et recours ",
          "Dommages collisions ",
          "Défense et recours ",
          "Défense et recours ",
          "Défense et recours ",
          "Défense et recours ",
          "Dommages au véhicule ",
          "Défense et recours ",
          "Défense et recours ",
          "Défense et recours ",
          "Défense et recours ",
          "Défense et recours ",
          "Dommages au véhicule ",
          "Défense et recours ",
          "Défense et recours ",
          "Défense et recours ",
          "Défense et recours ",
          "Dommages collisions ",
          "Bris de glace ",
          "Défense et recours ",
          "Défense et recours ",
          "Défense et recours ",
          "Dommages collisions ",
          "Défense et recours ",
          "Défense et recours ",
          "Défense et recours ",
          "Défense et recours ",
          "Défense et recours ",
          "Défense et recours ",
          "Défense et recours ",
          "Défense et recours ",
          "Dommages au véhicule ",
          "Défense et recours ",
          "Défense et recours ",
          "Dommages au véhicule ",
          "Défense et recours ",
          "Dommages au véhicule ",
          "Défense et recours ",
          "Bris de glace ",
          "Défense et recours ",
          "Défense et recours ",
          "Dommages collisions ",
          "Défense et recours ",
          "Bris de glace ",
          "Dommages collisions ",
          "Dommages au véhicule ",
          "Dommages au véhicule ",
          "Bris de glace ",
          "Défense et recours ",
          "Dommages collisions ",
          "Défense et recours ",
          "Défense et recours ",
          "Défense et recours ",
          "Défense et recours ",
          "Défense et recours ",
          "Dommages au véhicule ",
          "Incendie partiel ",
          "Dommages au véhicule ",
          "Défense et recours ",
          "Dommages au véhicule ",
          "Défense et recours ",
          "Dommages au véhicule ",
          "Dommages au véhicule ",
          "Dommages collisions ",
          "Défense et recours ",
          "Défense et recours ",
          "Défense et recours ",
          "Défense et recours ",
          "Dommages collisions ",
          "Dommages au véhicule ",
          "Défense et recours ",
          "Défense et recours ",
          "Défense et recours ",
          "Dommages au véhicule ",
          "Dommages au véhicule ",
          "Défense et recours ",
          "Dommages au véhicule ",
          "Dommages au véhicule ",
          "Dommages au véhicule ",
          "Défense et recours ",
          "Tierce ",
          "Tierce ",
          "Tierce ",
          "Bris de glace ",
          "Bris de glace ",
          "Défense et recours ",
          "Dommages au véhicule ",
          "Défense et recours ",
          "Défense et recours ",
          "Défense et recours ",
          "Défense et recours ",
          "Défense et recours ",
          "Défense et recours ",
          "Défense et recours ",
          "Dommages au véhicule ",
          "Bris de glace ",
          "Bris de glace ",
          "Bris de glace ",
          "Bris de glace ",
          "Défense et recours ",
          "Défense et recours ",
          "Défense et recours ",
          "Bris de glace ",
          "Défense et recours ",
          "Défense et recours ",
          "Dommages collisions ",
          "Défense et recours ",
          "Dommages au véhicule ",
          "Défense et recours ",
          "Dommages au véhicule ",
          "Défense et recours ",
          "Défense et recours ",
          "Défense et recours ",
          "Dommages au véhicule ",
          "Défense et recours ",
          "Bris de glace ",
          "Défense et recours ",
          "Défense et recours ",
          "Défense et recours ",
          "Défense et recours ",
          "Bris de glace ",
          "Défense et recours ",
          "Défense et recours ",
          "Défense et recours ",
          "Défense et recours ",
          "Défense et recours ",
          "Dommages au véhicule ",
          "Dommages au véhicule ",
          "Dommages au véhicule ",
          "Défense et recours ",
          "Défense et recours ",
          "Dommages au véhicule ",
          "Défense et recours ",
          "Défense et recours ",
          "Bris de glace ",
          "Dommages au véhicule ",
          "Incendie partiel ",
          "Défense et recours ",
          "Défense et recours ",
          "Dommages collisions ",
          "Défense et recours ",
          "Bris de glace ",
          "Défense et recours ",
          "Dommages au véhicule ",
          "Bris de glace ",
          "Défense et recours ",
          "Défense et recours ",
          "Bris de glace ",
          "Dommages collisions ",
          "Défense et recours ",
          "Défense et recours ",
          "Bris de glace ",
          "Dommages au véhicule ",
          "Défense et recours ",
          "Dommages au véhicule ",
          "Bris de glace ",
          "Défense et recours ",
          "Défense et recours ",
          "Défense et recours ",
          "Défense et recours ",
          "Bris de glace ",
          "Défense et recours ",
          "Défense et recours ",
          "Dommages au véhicule ",
          "Défense et recours ",
          "Défense et recours ",
          "Défense et recours ",
          "Défense et recours ",
          "Dommages au véhicule ",
          "Défense et recours ",
          "Défense et recours ",
          "Défense et recours ",
          "Dommages au véhicule ",
          "Dommages au véhicule ",
          "Défense et recours ",
          "Bris de glace ",
          "Dommages au véhicule ",
          "Dommages au véhicule ",
          "Dommages collisions ",
          "Défense et recours ",
          "Défense et recours ",
          "Défense et recours ",
          "Défense et recours ",
          "Défense et recours ",
          "Défense et recours ",
          "Défense et recours ",
          "Dommages collisions ",
          "Défense et recours ",
          "Dommages collisions ",
          "Défense et recours ",
          "Dommages au véhicule ",
          "Dommages au véhicule ",
          "Défense et recours ",
          "Dommages au véhicule ",
          "Défense et recours ",
          "Dommages collisions ",
          "Dommages collisions ",
          "Dommages au véhicule ",
          "Défense et recours ",
          "Défense et recours ",
          "Dommages au véhicule ",
          "Défense et recours ",
          "Bris de glace ",
          "Défense et recours ",
          "Défense et recours ",
          "Défense et recours ",
          "Dommages au véhicule ",
          "Dommages au véhicule ",
          "Défense et recours ",
          "Dommages au véhicule ",
          "Défense et recours ",
          "Défense et recours ",
          "Dommages au véhicule ",
          "Dommages au véhicule ",
          "Défense et recours ",
          "Défense et recours ",
          "Défense et recours ",
          "Dommages au véhicule ",
          "Défense et recours ",
          "Dommages au véhicule ",
          "Dommages au véhicule ",
          "Défense et recours ",
          "Dommages au véhicule ",
          "Défense et recours ",
          "Défense et recours ",
          "Défense et recours ",
          "Défense et recours ",
          "Défense et recours ",
          "Défense et recours ",
          "Défense et recours ",
          "Dommages au véhicule ",
          "Défense et recours ",
          "Défense et recours ",
          "Défense et recours ",
          "Défense et recours ",
          "Bris de glace ",
          "Dommages collisions ",
          "Bris de glace ",
          "Défense et recours ",
          "Dommages au véhicule ",
          "Dommages au véhicule ",
          "Défense et recours ",
          "Dommages au véhicule ",
          "Défense et recours ",
          "Défense et recours ",
          "Dommages au véhicule ",
          "Bris de glace ",
          "Bris de glace ",
          "Dommages au véhicule ",
          "Bris de glace ",
          "Défense et recours ",
          "Défense et recours ",
          "Bris de glace ",
          "Défense et recours ",
          "Dommages au véhicule ",
          "Dommages au véhicule ",
          "Dommages au véhicule ",
          "Défense et recours ",
          "Bris de glace ",
          "Défense et recours ",
          "Dommages collisions ",
          "Défense et recours ",
          "Défense et recours ",
          "Défense et recours ",
          "Dommages au véhicule ",
          "Bris de glace ",
          "Dommages au véhicule ",
          "Dommages au véhicule ",
          "Dommages au véhicule ",
          "Dommages au véhicule ",
          "Défense et recours ",
          "Dommages au véhicule ",
          "Défense et recours ",
          "Défense et recours ",
          "Défense et recours ",
          "Défense et recours ",
          "Défense et recours ",
          "Dommages au véhicule ",
          "Bris de glace ",
          "Défense et recours ",
          "Dommages au véhicule ",
          "Dommages au véhicule ",
          "Dommages au véhicule ",
          "Défense et recours ",
          "Défense et recours ",
          "Défense et recours ",
          "Défense et recours ",
          "Défense et recours ",
          "Défense et recours ",
          "Dommages collisions ",
          "Dommages au véhicule ",
          "Défense et recours ",
          "Bris de glace ",
          "Défense et recours ",
          "Défense et recours ",
          "Dommages collisions ",
          "Dommages au véhicule ",
          "Défense et recours ",
          "Défense et recours ",
          "Défense et recours ",
          "Défense et recours ",
          "Dommages au véhicule ",
          "Dommages au véhicule ",
          "Dommages au véhicule ",
          "Dommages collisions ",
          "Défense et recours ",
          "Dommages collisions ",
          "Défense et recours ",
          "Défense et recours ",
          "Dommages au véhicule ",
          "Défense et recours ",
          "Dommages au véhicule ",
          "Défense et recours ",
          "Défense et recours ",
          "Défense et recours ",
          "Dommages au véhicule ",
          "Défense et recours ",
          "Défense et recours ",
          "Défense et recours ",
          "Dommages collisions ",
          "Dommages au véhicule ",
          "Dommages au véhicule ",
          "Défense et recours ",
          "Défense et recours ",
          "Défense et recours ",
          "Défense et recours ",
          "Défense et recours ",
          "Défense et recours ",
          "Défense et recours ",
          "Dommages au véhicule ",
          "Défense et recours ",
          "Défense et recours ",
          "Défense et recours ",
          "Dommages au véhicule ",
          "Défense et recours ",
          "Dommages collisions ",
          "Défense et recours ",
          "Défense et recours ",
          "Défense et recours ",
          "Défense et recours ",
          "Défense et recours ",
          "Défense et recours ",
          "Défense et recours ",
          "Défense et recours ",
          "Défense et recours ",
          "Défense et recours ",
          "Défense et recours ",
          "Défense et recours ",
          "Défense et recours ",
          "Défense et recours ",
          "Défense et recours ",
          "Défense et recours ",
          "Défense et recours ",
          "Défense et recours ",
          "Défense et recours ",
          "Défense et recours ",
          "Dommages collisions ",
          "Défense et recours ",
          "Défense et recours ",
          "Dommages au véhicule ",
          "Dommages au véhicule ",
          "Défense et recours ",
          "Défense et recours ",
          "Défense et recours ",
          "Défense et recours ",
          "Défense et recours ",
          "Défense et recours ",
          "Dommages au véhicule ",
          "Défense et recours ",
          "Dommages au véhicule ",
          "Défense et recours ",
          "Défense et recours ",
          "Défense et recours ",
          "Défense et recours ",
          "Défense et recours ",
          "Défense et recours ",
          "Défense et recours ",
          "Défense et recours ",
          "Défense et recours ",
          "Défense et recours ",
          "Défense et recours ",
          "Défense et recours ",
          "Défense et recours ",
          "Défense et recours ",
          "Défense et recours ",
          "Défense et recours ",
          "Défense et recours ",
          "Défense et recours ",
          "Défense et recours ",
          "Défense et recours ",
          "Défense et recours ",
          "Défense et recours ",
          "Dommages au véhicule ",
          "Défense et recours ",
          "Défense et recours ",
          "Défense et recours ",
          "Défense et recours ",
          "Défense et recours ",
          "Défense et recours ",
          "Défense et recours ",
          "Dommages au véhicule ",
          "Défense et recours ",
          "Défense et recours ",
          "Dommages au véhicule ",
          "Défense et recours ",
          "Défense et recours ",
          "Défense et recours ",
          "Défense et recours ",
          "Dommages au véhicule ",
          "Dommages au véhicule ",
          "Défense et recours ",
          "Défense et recours ",
          "Défense et recours ",
          "Défense et recours ",
          "Défense et recours ",
          "Défense et recours ",
          "Défense et recours ",
          "Défense et recours ",
          "Défense et recours ",
          "Défense et recours ",
          "Défense et recours ",
          "Dommages au véhicule ",
          "Défense et recours ",
          "Défense et recours ",
          "Défense et recours ",
          "Dommages au véhicule ",
          "Défense et recours ",
          "Défense et recours ",
          "Défense et recours ",
          "Défense et recours ",
          "Défense et recours ",
          "Dommages au véhicule ",
          "Dommages au véhicule ",
          "Défense et recours ",
          "Dommages au véhicule ",
          "Défense et recours ",
          "Dommages collisions ",
          "Dommages collisions ",
          "Défense et recours ",
          "Dommages au véhicule ",
          "Défense et recours ",
          "Défense et recours ",
          "Dommages au véhicule ",
          "Défense et recours ",
          "Défense et recours ",
          "Défense et recours ",
          "Défense et recours ",
          "Défense et recours ",
          "Défense et recours ",
          "Défense et recours ",
          "Défense et recours ",
          "Défense et recours ",
          "Défense et recours ",
          "Défense et recours ",
          "Défense et recours ",
          "Défense et recours ",
          "Défense et recours ",
          "Défense et recours ",
          "Défense et recours ",
          "Défense et recours ",
          "Défense et recours ",
          "Défense et recours ",
          "Défense et recours ",
          "Dommages au véhicule ",
          "Défense et recours ",
          "Défense et recours ",
          "Défense et recours ",
          "Défense et recours ",
          "Défense et recours ",
          "Défense et recours ",
          "Défense et recours ",
          "Défense et recours ",
          "Dommages au véhicule ",
          "Défense et recours ",
          "Défense et recours ",
          "Défense et recours ",
          "Défense et recours ",
          "Défense et recours ",
          "Défense et recours ",
          "Défense et recours ",
          "Dommages au véhicule ",
          "Dommages au véhicule ",
          "Défense et recours ",
          "Défense et recours ",
          "Défense et recours ",
          "Dommages collisions ",
          "Défense et recours ",
          "Défense et recours ",
          "Défense et recours ",
          "Dommages au véhicule ",
          "Défense et recours ",
          "Défense et recours ",
          "Défense et recours ",
          "Dommages au véhicule ",
          "Défense et recours ",
          "Défense et recours ",
          "Défense et recours ",
          "Défense et recours ",
          "Défense et recours ",
          "Défense et recours ",
          "Défense et recours ",
          "Défense et recours ",
          "Défense et recours ",
          "Défense et recours ",
          "Défense et recours ",
          "Défense et recours ",
          "Dommages au véhicule ",
          "Défense et recours ",
          "Dommages au véhicule ",
          "Défense et recours ",
          "Défense et recours ",
          "Défense et recours ",
          "Défense et recours ",
          "Dommages au véhicule ",
          "Défense et recours ",
          "Défense et recours ",
          "Défense et recours ",
          "Défense et recours ",
          "Défense et recours ",
          "Défense et recours ",
          "Dommages au véhicule ",
          "Défense et recours ",
          "Dommages collisions ",
          "Défense et recours ",
          "Défense et recours ",
          "Défense et recours ",
          "Dommages collisions ",
          "Dommages au véhicule ",
          "Défense et recours ",
          "Défense et recours ",
          "Défense et recours ",
          "Défense et recours ",
          "Dommages au véhicule ",
          "Défense et recours ",
          "Dommages collisions ",
          "Défense et recours ",
          "Dommages collisions ",
          "Défense et recours ",
          "Défense et recours ",
          "Défense et recours ",
          "Défense et recours "
         ],
         "xaxis": "x",
         "yaxis": "y"
        },
        {
         "alignmentgroup": "True",
         "bingroup": "x",
         "histnorm": "probability density",
         "hovertemplate": "Fraud=Oui<br>Garantie impliquée=%{x}<br>count=%{y}<extra></extra>",
         "legendgroup": "Oui",
         "marker": {
          "color": "#EF553B"
         },
         "name": "Oui",
         "offsetgroup": "Oui",
         "orientation": "v",
         "showlegend": true,
         "type": "histogram",
         "x": [
          "Défense et recours ",
          "Défense et recours ",
          "Défense et recours ",
          "Défense et recours ",
          "Dommages collisions ",
          "Tierce ",
          "Défense et recours ",
          "Défense et recours ",
          "Dommages au véhicule ",
          "Défense et recours ",
          "Défense et recours ",
          "Défense et recours ",
          "Défense et recours ",
          "Défense et recours ",
          "Dommages au véhicule ",
          "Défense et recours ",
          "Défense et recours ",
          "Défense et recours ",
          "Défense et recours ",
          "Défense et recours ",
          "Défense et recours ",
          "Défense et recours ",
          "Défense et recours ",
          "Défense et recours ",
          "Dommages au véhicule ",
          "Défense et recours ",
          "Défense et recours ",
          "Défense et recours ",
          "Défense et recours ",
          "Dommages au véhicule ",
          "Défense et recours ",
          "Défense et recours ",
          "Défense et recours ",
          "Défense et recours ",
          "Défense et recours ",
          "Tierce ",
          "Défense et recours ",
          "Défense et recours ",
          "Dommages au véhicule ",
          "Défense et recours ",
          "Défense et recours ",
          "Défense et recours ",
          "Défense et recours ",
          "Défense et recours ",
          "Défense et recours ",
          "Défense et recours ",
          "Défense et recours ",
          "Défense et recours ",
          "Tierce ",
          "Défense et recours ",
          "Défense et recours ",
          "Défense et recours ",
          "Défense et recours ",
          "Défense et recours ",
          "Défense et recours ",
          "Tierce ",
          "Défense et recours ",
          "Défense et recours ",
          "Tierce ",
          "Défense et recours ",
          "Tierce ",
          "Défense et recours ",
          "Tierce ",
          "Défense et recours ",
          "Défense et recours ",
          "Tierce ",
          "Tierce ",
          "Défense et recours ",
          "Défense et recours ",
          "Tierce ",
          "Défense et recours ",
          "Tierce collision ",
          "Défense et recours ",
          "Tierce ",
          "Tierce ",
          "Défense et recours ",
          "Tierce ",
          "Défense et recours ",
          "Défense et recours ",
          "Défense et recours ",
          "Dommages au véhicule ",
          "Défense et recours ",
          "Défense et recours ",
          "Dommages au véhicule ",
          "Défense et recours ",
          "Défense et recours ",
          "Défense et recours ",
          "Défense et recours ",
          "Défense et recours ",
          "Défense et recours ",
          "Défense et recours ",
          "Défense et recours ",
          "Défense et recours ",
          "Défense et recours ",
          "Dommages collisions ",
          "Défense et recours ",
          "Défense et recours ",
          "Défense et recours ",
          "Défense et recours ",
          "Défense et recours ",
          "Défense et recours ",
          "Défense et recours ",
          "Défense et recours ",
          "Défense et recours ",
          "Défense et recours ",
          "Défense et recours ",
          "Défense et recours ",
          "Dommages au véhicule ",
          "Défense et recours ",
          "Défense et recours ",
          "Défense et recours ",
          "Défense et recours ",
          "Défense et recours ",
          "Défense et recours ",
          "Défense et recours ",
          "Défense et recours ",
          "Défense et recours ",
          "Défense et recours ",
          "Défense et recours ",
          "Défense et recours ",
          "Dommages collisions ",
          "Défense et recours ",
          "Défense et recours ",
          "Défense et recours ",
          "Défense et recours ",
          "Dommages au véhicule ",
          "Défense et recours ",
          "Défense et recours ",
          "Défense et recours ",
          "Défense et recours ",
          "Défense et recours ",
          "Incendie partiel ",
          "Défense et recours ",
          "Défense et recours ",
          "Défense et recours ",
          "Défense et recours ",
          "Dommages au véhicule ",
          "Défense et recours ",
          "Défense et recours ",
          "Défense et recours ",
          "Défense et recours ",
          "Défense et recours ",
          "Défense et recours ",
          "Défense et recours ",
          "Défense et recours ",
          "Tierce ",
          "Dommages collisions ",
          "Dommages collisions ",
          "Défense et recours ",
          "Défense et recours ",
          "Dommages au véhicule ",
          "Défense et recours ",
          "Défense et recours ",
          "Défense et recours ",
          "Dommages au véhicule ",
          "Défense et recours ",
          "Dommages au véhicule ",
          "Défense et recours ",
          "Défense et recours ",
          "Défense et recours ",
          "Défense et recours ",
          "Défense et recours ",
          "Défense et recours ",
          "Défense et recours ",
          "Défense et recours ",
          "Défense et recours ",
          "Défense et recours ",
          "Défense et recours ",
          "Dommages collisions ",
          "Défense et recours ",
          "Défense et recours ",
          "Défense et recours ",
          "Défense et recours ",
          "Défense et recours ",
          "Défense et recours ",
          "Défense et recours ",
          "Défense et recours ",
          "Défense et recours ",
          "Défense et recours ",
          "Défense et recours ",
          "Défense et recours ",
          "Défense et recours ",
          "Défense et recours ",
          "Défense et recours ",
          "Défense et recours ",
          "Défense et recours ",
          "Défense et recours ",
          "Défense et recours ",
          "Défense et recours ",
          "Défense et recours ",
          "Défense et recours ",
          "Défense et recours ",
          "Défense et recours ",
          "Défense et recours ",
          "Défense et recours ",
          "Défense et recours ",
          "Défense et recours ",
          "Défense et recours ",
          "Défense et recours ",
          "Défense et recours ",
          "Défense et recours ",
          "Défense et recours ",
          "Défense et recours ",
          "Dommages au véhicule ",
          "Défense et recours ",
          "Défense et recours ",
          "Défense et recours ",
          "Défense et recours ",
          "Défense et recours ",
          "Défense et recours ",
          "Défense et recours ",
          "Défense et recours ",
          "Défense et recours ",
          "Défense et recours ",
          "Défense et recours "
         ],
         "xaxis": "x",
         "yaxis": "y"
        }
       ],
       "layout": {
        "barmode": "relative",
        "legend": {
         "title": {
          "text": "Fraud"
         },
         "tracegroupgap": 0
        },
        "margin": {
         "t": 60
        },
        "template": {
         "data": {
          "bar": [
           {
            "error_x": {
             "color": "#2a3f5f"
            },
            "error_y": {
             "color": "#2a3f5f"
            },
            "marker": {
             "line": {
              "color": "#E5ECF6",
              "width": 0.5
             }
            },
            "type": "bar"
           }
          ],
          "barpolar": [
           {
            "marker": {
             "line": {
              "color": "#E5ECF6",
              "width": 0.5
             }
            },
            "type": "barpolar"
           }
          ],
          "carpet": [
           {
            "aaxis": {
             "endlinecolor": "#2a3f5f",
             "gridcolor": "white",
             "linecolor": "white",
             "minorgridcolor": "white",
             "startlinecolor": "#2a3f5f"
            },
            "baxis": {
             "endlinecolor": "#2a3f5f",
             "gridcolor": "white",
             "linecolor": "white",
             "minorgridcolor": "white",
             "startlinecolor": "#2a3f5f"
            },
            "type": "carpet"
           }
          ],
          "choropleth": [
           {
            "colorbar": {
             "outlinewidth": 0,
             "ticks": ""
            },
            "type": "choropleth"
           }
          ],
          "contour": [
           {
            "colorbar": {
             "outlinewidth": 0,
             "ticks": ""
            },
            "colorscale": [
             [
              0,
              "#0d0887"
             ],
             [
              0.1111111111111111,
              "#46039f"
             ],
             [
              0.2222222222222222,
              "#7201a8"
             ],
             [
              0.3333333333333333,
              "#9c179e"
             ],
             [
              0.4444444444444444,
              "#bd3786"
             ],
             [
              0.5555555555555556,
              "#d8576b"
             ],
             [
              0.6666666666666666,
              "#ed7953"
             ],
             [
              0.7777777777777778,
              "#fb9f3a"
             ],
             [
              0.8888888888888888,
              "#fdca26"
             ],
             [
              1,
              "#f0f921"
             ]
            ],
            "type": "contour"
           }
          ],
          "contourcarpet": [
           {
            "colorbar": {
             "outlinewidth": 0,
             "ticks": ""
            },
            "type": "contourcarpet"
           }
          ],
          "heatmap": [
           {
            "colorbar": {
             "outlinewidth": 0,
             "ticks": ""
            },
            "colorscale": [
             [
              0,
              "#0d0887"
             ],
             [
              0.1111111111111111,
              "#46039f"
             ],
             [
              0.2222222222222222,
              "#7201a8"
             ],
             [
              0.3333333333333333,
              "#9c179e"
             ],
             [
              0.4444444444444444,
              "#bd3786"
             ],
             [
              0.5555555555555556,
              "#d8576b"
             ],
             [
              0.6666666666666666,
              "#ed7953"
             ],
             [
              0.7777777777777778,
              "#fb9f3a"
             ],
             [
              0.8888888888888888,
              "#fdca26"
             ],
             [
              1,
              "#f0f921"
             ]
            ],
            "type": "heatmap"
           }
          ],
          "heatmapgl": [
           {
            "colorbar": {
             "outlinewidth": 0,
             "ticks": ""
            },
            "colorscale": [
             [
              0,
              "#0d0887"
             ],
             [
              0.1111111111111111,
              "#46039f"
             ],
             [
              0.2222222222222222,
              "#7201a8"
             ],
             [
              0.3333333333333333,
              "#9c179e"
             ],
             [
              0.4444444444444444,
              "#bd3786"
             ],
             [
              0.5555555555555556,
              "#d8576b"
             ],
             [
              0.6666666666666666,
              "#ed7953"
             ],
             [
              0.7777777777777778,
              "#fb9f3a"
             ],
             [
              0.8888888888888888,
              "#fdca26"
             ],
             [
              1,
              "#f0f921"
             ]
            ],
            "type": "heatmapgl"
           }
          ],
          "histogram": [
           {
            "marker": {
             "colorbar": {
              "outlinewidth": 0,
              "ticks": ""
             }
            },
            "type": "histogram"
           }
          ],
          "histogram2d": [
           {
            "colorbar": {
             "outlinewidth": 0,
             "ticks": ""
            },
            "colorscale": [
             [
              0,
              "#0d0887"
             ],
             [
              0.1111111111111111,
              "#46039f"
             ],
             [
              0.2222222222222222,
              "#7201a8"
             ],
             [
              0.3333333333333333,
              "#9c179e"
             ],
             [
              0.4444444444444444,
              "#bd3786"
             ],
             [
              0.5555555555555556,
              "#d8576b"
             ],
             [
              0.6666666666666666,
              "#ed7953"
             ],
             [
              0.7777777777777778,
              "#fb9f3a"
             ],
             [
              0.8888888888888888,
              "#fdca26"
             ],
             [
              1,
              "#f0f921"
             ]
            ],
            "type": "histogram2d"
           }
          ],
          "histogram2dcontour": [
           {
            "colorbar": {
             "outlinewidth": 0,
             "ticks": ""
            },
            "colorscale": [
             [
              0,
              "#0d0887"
             ],
             [
              0.1111111111111111,
              "#46039f"
             ],
             [
              0.2222222222222222,
              "#7201a8"
             ],
             [
              0.3333333333333333,
              "#9c179e"
             ],
             [
              0.4444444444444444,
              "#bd3786"
             ],
             [
              0.5555555555555556,
              "#d8576b"
             ],
             [
              0.6666666666666666,
              "#ed7953"
             ],
             [
              0.7777777777777778,
              "#fb9f3a"
             ],
             [
              0.8888888888888888,
              "#fdca26"
             ],
             [
              1,
              "#f0f921"
             ]
            ],
            "type": "histogram2dcontour"
           }
          ],
          "mesh3d": [
           {
            "colorbar": {
             "outlinewidth": 0,
             "ticks": ""
            },
            "type": "mesh3d"
           }
          ],
          "parcoords": [
           {
            "line": {
             "colorbar": {
              "outlinewidth": 0,
              "ticks": ""
             }
            },
            "type": "parcoords"
           }
          ],
          "pie": [
           {
            "automargin": true,
            "type": "pie"
           }
          ],
          "scatter": [
           {
            "marker": {
             "colorbar": {
              "outlinewidth": 0,
              "ticks": ""
             }
            },
            "type": "scatter"
           }
          ],
          "scatter3d": [
           {
            "line": {
             "colorbar": {
              "outlinewidth": 0,
              "ticks": ""
             }
            },
            "marker": {
             "colorbar": {
              "outlinewidth": 0,
              "ticks": ""
             }
            },
            "type": "scatter3d"
           }
          ],
          "scattercarpet": [
           {
            "marker": {
             "colorbar": {
              "outlinewidth": 0,
              "ticks": ""
             }
            },
            "type": "scattercarpet"
           }
          ],
          "scattergeo": [
           {
            "marker": {
             "colorbar": {
              "outlinewidth": 0,
              "ticks": ""
             }
            },
            "type": "scattergeo"
           }
          ],
          "scattergl": [
           {
            "marker": {
             "colorbar": {
              "outlinewidth": 0,
              "ticks": ""
             }
            },
            "type": "scattergl"
           }
          ],
          "scattermapbox": [
           {
            "marker": {
             "colorbar": {
              "outlinewidth": 0,
              "ticks": ""
             }
            },
            "type": "scattermapbox"
           }
          ],
          "scatterpolar": [
           {
            "marker": {
             "colorbar": {
              "outlinewidth": 0,
              "ticks": ""
             }
            },
            "type": "scatterpolar"
           }
          ],
          "scatterpolargl": [
           {
            "marker": {
             "colorbar": {
              "outlinewidth": 0,
              "ticks": ""
             }
            },
            "type": "scatterpolargl"
           }
          ],
          "scatterternary": [
           {
            "marker": {
             "colorbar": {
              "outlinewidth": 0,
              "ticks": ""
             }
            },
            "type": "scatterternary"
           }
          ],
          "surface": [
           {
            "colorbar": {
             "outlinewidth": 0,
             "ticks": ""
            },
            "colorscale": [
             [
              0,
              "#0d0887"
             ],
             [
              0.1111111111111111,
              "#46039f"
             ],
             [
              0.2222222222222222,
              "#7201a8"
             ],
             [
              0.3333333333333333,
              "#9c179e"
             ],
             [
              0.4444444444444444,
              "#bd3786"
             ],
             [
              0.5555555555555556,
              "#d8576b"
             ],
             [
              0.6666666666666666,
              "#ed7953"
             ],
             [
              0.7777777777777778,
              "#fb9f3a"
             ],
             [
              0.8888888888888888,
              "#fdca26"
             ],
             [
              1,
              "#f0f921"
             ]
            ],
            "type": "surface"
           }
          ],
          "table": [
           {
            "cells": {
             "fill": {
              "color": "#EBF0F8"
             },
             "line": {
              "color": "white"
             }
            },
            "header": {
             "fill": {
              "color": "#C8D4E3"
             },
             "line": {
              "color": "white"
             }
            },
            "type": "table"
           }
          ]
         },
         "layout": {
          "annotationdefaults": {
           "arrowcolor": "#2a3f5f",
           "arrowhead": 0,
           "arrowwidth": 1
          },
          "coloraxis": {
           "colorbar": {
            "outlinewidth": 0,
            "ticks": ""
           }
          },
          "colorscale": {
           "diverging": [
            [
             0,
             "#8e0152"
            ],
            [
             0.1,
             "#c51b7d"
            ],
            [
             0.2,
             "#de77ae"
            ],
            [
             0.3,
             "#f1b6da"
            ],
            [
             0.4,
             "#fde0ef"
            ],
            [
             0.5,
             "#f7f7f7"
            ],
            [
             0.6,
             "#e6f5d0"
            ],
            [
             0.7,
             "#b8e186"
            ],
            [
             0.8,
             "#7fbc41"
            ],
            [
             0.9,
             "#4d9221"
            ],
            [
             1,
             "#276419"
            ]
           ],
           "sequential": [
            [
             0,
             "#0d0887"
            ],
            [
             0.1111111111111111,
             "#46039f"
            ],
            [
             0.2222222222222222,
             "#7201a8"
            ],
            [
             0.3333333333333333,
             "#9c179e"
            ],
            [
             0.4444444444444444,
             "#bd3786"
            ],
            [
             0.5555555555555556,
             "#d8576b"
            ],
            [
             0.6666666666666666,
             "#ed7953"
            ],
            [
             0.7777777777777778,
             "#fb9f3a"
            ],
            [
             0.8888888888888888,
             "#fdca26"
            ],
            [
             1,
             "#f0f921"
            ]
           ],
           "sequentialminus": [
            [
             0,
             "#0d0887"
            ],
            [
             0.1111111111111111,
             "#46039f"
            ],
            [
             0.2222222222222222,
             "#7201a8"
            ],
            [
             0.3333333333333333,
             "#9c179e"
            ],
            [
             0.4444444444444444,
             "#bd3786"
            ],
            [
             0.5555555555555556,
             "#d8576b"
            ],
            [
             0.6666666666666666,
             "#ed7953"
            ],
            [
             0.7777777777777778,
             "#fb9f3a"
            ],
            [
             0.8888888888888888,
             "#fdca26"
            ],
            [
             1,
             "#f0f921"
            ]
           ]
          },
          "colorway": [
           "#636efa",
           "#EF553B",
           "#00cc96",
           "#ab63fa",
           "#FFA15A",
           "#19d3f3",
           "#FF6692",
           "#B6E880",
           "#FF97FF",
           "#FECB52"
          ],
          "font": {
           "color": "#2a3f5f"
          },
          "geo": {
           "bgcolor": "white",
           "lakecolor": "white",
           "landcolor": "#E5ECF6",
           "showlakes": true,
           "showland": true,
           "subunitcolor": "white"
          },
          "hoverlabel": {
           "align": "left"
          },
          "hovermode": "closest",
          "mapbox": {
           "style": "light"
          },
          "paper_bgcolor": "white",
          "plot_bgcolor": "#E5ECF6",
          "polar": {
           "angularaxis": {
            "gridcolor": "white",
            "linecolor": "white",
            "ticks": ""
           },
           "bgcolor": "#E5ECF6",
           "radialaxis": {
            "gridcolor": "white",
            "linecolor": "white",
            "ticks": ""
           }
          },
          "scene": {
           "xaxis": {
            "backgroundcolor": "#E5ECF6",
            "gridcolor": "white",
            "gridwidth": 2,
            "linecolor": "white",
            "showbackground": true,
            "ticks": "",
            "zerolinecolor": "white"
           },
           "yaxis": {
            "backgroundcolor": "#E5ECF6",
            "gridcolor": "white",
            "gridwidth": 2,
            "linecolor": "white",
            "showbackground": true,
            "ticks": "",
            "zerolinecolor": "white"
           },
           "zaxis": {
            "backgroundcolor": "#E5ECF6",
            "gridcolor": "white",
            "gridwidth": 2,
            "linecolor": "white",
            "showbackground": true,
            "ticks": "",
            "zerolinecolor": "white"
           }
          },
          "shapedefaults": {
           "line": {
            "color": "#2a3f5f"
           }
          },
          "ternary": {
           "aaxis": {
            "gridcolor": "white",
            "linecolor": "white",
            "ticks": ""
           },
           "baxis": {
            "gridcolor": "white",
            "linecolor": "white",
            "ticks": ""
           },
           "bgcolor": "#E5ECF6",
           "caxis": {
            "gridcolor": "white",
            "linecolor": "white",
            "ticks": ""
           }
          },
          "title": {
           "x": 0.05
          },
          "xaxis": {
           "automargin": true,
           "gridcolor": "white",
           "linecolor": "white",
           "ticks": "",
           "title": {
            "standoff": 15
           },
           "zerolinecolor": "white",
           "zerolinewidth": 2
          },
          "yaxis": {
           "automargin": true,
           "gridcolor": "white",
           "linecolor": "white",
           "ticks": "",
           "title": {
            "standoff": 15
           },
           "zerolinecolor": "white",
           "zerolinewidth": 2
          }
         }
        },
        "xaxis": {
         "anchor": "y",
         "domain": [
          0,
          1
         ],
         "title": {
          "text": "Garantie impliquée"
         }
        },
        "yaxis": {
         "anchor": "x",
         "domain": [
          0,
          1
         ],
         "title": {
          "text": "count"
         }
        }
       }
      },
      "text/html": [
       "<div>\n",
       "        \n",
       "        \n",
       "            <div id=\"ac2bcb92-9f23-4259-be32-e574ef4a7a9c\" class=\"plotly-graph-div\" style=\"height:525px; width:100%;\"></div>\n",
       "            <script type=\"text/javascript\">\n",
       "                require([\"plotly\"], function(Plotly) {\n",
       "                    window.PLOTLYENV=window.PLOTLYENV || {};\n",
       "                    \n",
       "                if (document.getElementById(\"ac2bcb92-9f23-4259-be32-e574ef4a7a9c\")) {\n",
       "                    Plotly.newPlot(\n",
       "                        'ac2bcb92-9f23-4259-be32-e574ef4a7a9c',\n",
       "                        [{\"alignmentgroup\": \"True\", \"bingroup\": \"x\", \"histnorm\": \"probability density\", \"hovertemplate\": \"Fraud=Non<br>Garantie impliqu\\u00e9e=%{x}<br>count=%{y}<extra></extra>\", \"legendgroup\": \"Non\", \"marker\": {\"color\": \"#636efa\"}, \"name\": \"Non\", \"offsetgroup\": \"Non\", \"orientation\": \"v\", \"showlegend\": true, \"type\": \"histogram\", \"x\": [\"D\\u00e9fense et recours \", \"Dommages au v\\u00e9hicule \", \"Tierce collision \", \"Tierce collision \", \"Tierce collision \", \"Tierce collision \", \"Tierce collision \", \"Tierce \", \"Tierce collision \", \"D\\u00e9fense et recours \", \"Dommages au v\\u00e9hicule \", \"Dommages au v\\u00e9hicule \", \"D\\u00e9fense et recours \", \"Dommages au v\\u00e9hicule \", \"D\\u00e9fense et recours \", \"Vol partiel \", \"Bris de glace \", \"D\\u00e9fense et recours \", \"D\\u00e9fense et recours \", \"D\\u00e9fense et recours \", \"D\\u00e9fense et recours \", \"Dommages au v\\u00e9hicule \", \"Tierce \", \"D\\u00e9fense et recours \", \"D\\u00e9fense et recours \", \"D\\u00e9fense et recours \", \"D\\u00e9fense et recours \", \"D\\u00e9fense et recours \", \"D\\u00e9fense et recours \", \"D\\u00e9fense et recours \", \"D\\u00e9fense et recours \", \"D\\u00e9fense et recours \", \"Dommages au v\\u00e9hicule \", \"Dommages au v\\u00e9hicule \", \"Dommages au v\\u00e9hicule \", \"Dommages au v\\u00e9hicule \", \"D\\u00e9fense et recours \", \"Dommages au v\\u00e9hicule \", \"Bris de glace \", \"Dommages collisions \", \"D\\u00e9fense et recours \", \"Dommages au v\\u00e9hicule \", \"Dommages au v\\u00e9hicule \", \"Dommages au v\\u00e9hicule \", \"D\\u00e9fense et recours \", \"Dommages au v\\u00e9hicule \", \"D\\u00e9fense et recours \", \"D\\u00e9fense et recours \", \"D\\u00e9fense et recours \", \"D\\u00e9fense et recours \", \"Dommages collisions \", \"D\\u00e9fense et recours \", \"D\\u00e9fense et recours \", \"D\\u00e9fense et recours \", \"D\\u00e9fense et recours \", \"Dommages au v\\u00e9hicule \", \"D\\u00e9fense et recours \", \"D\\u00e9fense et recours \", \"Dommages au v\\u00e9hicule \", \"Bris de glace \", \"D\\u00e9fense et recours \", \"Bris de glace \", \"D\\u00e9fense et recours \", \"D\\u00e9fense et recours \", \"D\\u00e9fense et recours \", \"D\\u00e9fense et recours \", \"Bris de glace \", \"Dommages au v\\u00e9hicule \", \"D\\u00e9fense et recours \", \"D\\u00e9fense et recours \", \"Dommages au v\\u00e9hicule \", \"Dommages au v\\u00e9hicule \", \"D\\u00e9fense et recours \", \"D\\u00e9fense et recours \", \"Bris de glace \", \"D\\u00e9fense et recours \", \"D\\u00e9fense et recours \", \"Dommages collisions \", \"Dommages au v\\u00e9hicule \", \"Dommages au v\\u00e9hicule \", \"D\\u00e9fense et recours \", \"Dommages au v\\u00e9hicule \", \"Bris de glace \", \"Bris de glace \", \"D\\u00e9fense et recours \", \"D\\u00e9fense et recours \", \"Dommages au v\\u00e9hicule \", \"Dommages au v\\u00e9hicule \", \"Dommages au v\\u00e9hicule \", \"Dommages au v\\u00e9hicule \", \"Dommages au v\\u00e9hicule \", \"D\\u00e9fense et recours \", \"D\\u00e9fense et recours \", \"D\\u00e9fense et recours \", \"D\\u00e9fense et recours \", \"Dommages au v\\u00e9hicule \", \"D\\u00e9fense et recours \", \"D\\u00e9fense et recours \", \"Dommages au v\\u00e9hicule \", \"Dommages au v\\u00e9hicule \", \"Dommages au v\\u00e9hicule \", \"D\\u00e9fense et recours \", \"Dommages au v\\u00e9hicule \", \"Dommages au v\\u00e9hicule \", \"Dommages au v\\u00e9hicule \", \"Dommages au v\\u00e9hicule \", \"Dommages au v\\u00e9hicule \", \"D\\u00e9fense et recours \", \"D\\u00e9fense et recours \", \"Dommages au v\\u00e9hicule \", \"Dommages au v\\u00e9hicule \", \"D\\u00e9fense et recours \", \"Bris de glace \", \"D\\u00e9fense et recours \", \"D\\u00e9fense et recours \", \"D\\u00e9fense et recours \", \"D\\u00e9fense et recours \", \"D\\u00e9fense et recours \", \"Dommages au v\\u00e9hicule \", \"D\\u00e9fense et recours \", \"Dommages au v\\u00e9hicule \", \"D\\u00e9fense et recours \", \"D\\u00e9fense et recours \", \"D\\u00e9fense et recours \", \"D\\u00e9fense et recours \", \"D\\u00e9fense et recours \", \"D\\u00e9fense et recours \", \"Tierce \", \"Tierce \", \"Bris de glace \", \"D\\u00e9fense et recours \", \"D\\u00e9fense et recours \", \"D\\u00e9fense et recours \", \"D\\u00e9fense et recours \", \"Bris de glace \", \"D\\u00e9fense et recours \", \"Tierce \", \"Tierce \", \"Tierce \", \"Tierce \", \"Tierce \", \"Tierce \", \"Tierce \", \"D\\u00e9fense et recours \", \"Tierce \", \"Tierce \", \"D\\u00e9fense et recours \", \"Dommages au v\\u00e9hicule \", \"Bris de glace \", \"D\\u00e9fense et recours \", \"D\\u00e9fense et recours \", \"Dommages au v\\u00e9hicule \", \"D\\u00e9fense et recours \", \"Dommages collisions \", \"Dommages au v\\u00e9hicule \", \"D\\u00e9fense et recours \", \"Dommages au v\\u00e9hicule \", \"D\\u00e9fense et recours \", \"D\\u00e9fense et recours \", \"D\\u00e9fense et recours \", \"D\\u00e9fense et recours \", \"Dommages au v\\u00e9hicule \", \"D\\u00e9fense et recours \", \"D\\u00e9fense et recours \", \"D\\u00e9fense et recours \", \"Dommages au v\\u00e9hicule \", \"D\\u00e9fense et recours \", \"Dommages au v\\u00e9hicule \", \"Dommages au v\\u00e9hicule \", \"Dommages au v\\u00e9hicule \", \"D\\u00e9fense et recours \", \"Dommages au v\\u00e9hicule \", \"Bris de glace \", \"D\\u00e9fense et recours \", \"D\\u00e9fense et recours \", \"D\\u00e9fense et recours \", \"D\\u00e9fense et recours \", \"D\\u00e9fense et recours \", \"Tierce \", \"Tierce \", \"D\\u00e9fense et recours \", \"Tierce \", \"Tierce \", \"Bris de glace \", \"Tierce collision \", \"Tierce collision \", \"Tierce \", \"Tierce \", \"Tierce \", \"Tierce \", \"D\\u00e9fense et recours \", \"Tierce \", \"Tierce collision \", \"Tierce \", \"Tierce \", \"Bris de glace \", \"Tierce \", \"Tierce \", \"Bris de glace \", \"D\\u00e9fense et recours \", \"D\\u00e9fense et recours \", \"D\\u00e9fense et recours \", \"Tierce collision \", \"Tierce \", \"D\\u00e9fense et recours \", \"D\\u00e9fense et recours \", \"Bris de glace \", \"Tierce collision \", \"Tierce collision \", \"D\\u00e9fense et recours \", \"Tierce \", \"Tierce \", \"D\\u00e9fense et recours \", \"Tierce \", \"Tierce \", \"Tierce \", \"Tierce \", \"Bris de glace \", \"Tierce \", \"Tierce \", \"D\\u00e9fense et recours \", \"Tierce collision \", \"Tierce \", \"Tierce collision \", \"Bris de glace \", \"Tierce \", \"Tierce \", \"D\\u00e9fense et recours \", \"Tierce collision \", \"Tierce collision \", \"Bris de glace \", \"Tierce collision \", \"D\\u00e9fense et recours \", \"Tierce collision \", \"Bris de glace \", \"Tierce \", \"D\\u00e9fense et recours \", \"Bris de glace \", \"Tierce collision \", \"Bris de glace \", \"D\\u00e9fense et recours \", \"Tierce \", \"D\\u00e9fense et recours \", \"Tierce collision \", \"Tierce \", \"Tierce collision \", \"Tierce \", \"D\\u00e9fense et recours \", \"Tierce collision \", \"Bris de glace \", \"D\\u00e9fense et recours \", \"D\\u00e9fense et recours \", \"Tierce collision \", \"Bris de glace \", \"Tierce \", \"D\\u00e9fense et recours \", \"Tierce \", \"Tierce \", \"D\\u00e9fense et recours \", \"Tierce \", \"Tierce \", \"Tierce \", \"Tierce \", \"D\\u00e9fense et recours \", \"Bris de glace \", \"Tierce collision \", \"Tierce \", \"D\\u00e9fense et recours \", \"Tierce \", \"D\\u00e9fense et recours \", \"Tierce collision \", \"Tierce collision \", \"Tierce \", \"Tierce \", \"Tierce \", \"D\\u00e9fense et recours \", \"D\\u00e9fense et recours \", \"Tierce \", \"Tierce collision \", \"D\\u00e9fense et recours \", \"Tierce \", \"Tierce \", \"Tierce collision \", \"D\\u00e9fense et recours \", \"Tierce \", \"D\\u00e9fense et recours \", \"Tierce \", \"Tierce \", \"Tierce collision \", \"Tierce \", \"D\\u00e9fense et recours \", \"Tierce collision \", \"Tierce \", \"Tierce \", \"Tierce \", \"Tierce collision \", \"D\\u00e9fense et recours \", \"D\\u00e9fense et recours \", \"D\\u00e9fense et recours \", \"Tierce \", \"D\\u00e9fense et recours \", \"Tierce \", \"D\\u00e9fense et recours \", \"Tierce \", \"Tierce \", \"Tierce \", \"Tierce \", \"Tierce \", \"D\\u00e9fense et recours \", \"Tierce \", \"Tierce collision \", \"Tierce \", \"Tierce \", \"Tierce \", \"Tierce collision \", \"D\\u00e9fense et recours \", \"D\\u00e9fense et recours \", \"D\\u00e9fense et recours \", \"D\\u00e9fense et recours \", \"Tierce \", \"D\\u00e9fense et recours \", \"Tierce \", \"D\\u00e9fense et recours \", \"Dommages collisions \", \"D\\u00e9fense et recours \", \"D\\u00e9fense et recours \", \"Incendie partiel \", \"D\\u00e9fense et recours \", \"Tierce \", \"Tierce \", \"D\\u00e9fense et recours \", \"D\\u00e9fense et recours \", \"Tierce \", \"Tierce \", \"D\\u00e9fense et recours \", \"Tierce \", \"Tierce \", \"D\\u00e9fense et recours \", \"D\\u00e9fense et recours \", \"D\\u00e9fense et recours \", \"D\\u00e9fense et recours \", \"D\\u00e9fense et recours \", \"Dommages collisions \", \"D\\u00e9fense et recours \", \"D\\u00e9fense et recours \", \"D\\u00e9fense et recours \", \"D\\u00e9fense et recours \", \"Dommages au v\\u00e9hicule \", \"D\\u00e9fense et recours \", \"D\\u00e9fense et recours \", \"D\\u00e9fense et recours \", \"D\\u00e9fense et recours \", \"D\\u00e9fense et recours \", \"Dommages au v\\u00e9hicule \", \"D\\u00e9fense et recours \", \"D\\u00e9fense et recours \", \"D\\u00e9fense et recours \", \"D\\u00e9fense et recours \", \"Dommages collisions \", \"Bris de glace \", \"D\\u00e9fense et recours \", \"D\\u00e9fense et recours \", \"D\\u00e9fense et recours \", \"Dommages collisions \", \"D\\u00e9fense et recours \", \"D\\u00e9fense et recours \", \"D\\u00e9fense et recours \", \"D\\u00e9fense et recours \", \"D\\u00e9fense et recours \", \"D\\u00e9fense et recours \", \"D\\u00e9fense et recours \", \"D\\u00e9fense et recours \", \"Dommages au v\\u00e9hicule \", \"D\\u00e9fense et recours \", \"D\\u00e9fense et recours \", \"Dommages au v\\u00e9hicule \", \"D\\u00e9fense et recours \", \"Dommages au v\\u00e9hicule \", \"D\\u00e9fense et recours \", \"Bris de glace \", \"D\\u00e9fense et recours \", \"D\\u00e9fense et recours \", \"Dommages collisions \", \"D\\u00e9fense et recours \", \"Bris de glace \", \"Dommages collisions \", \"Dommages au v\\u00e9hicule \", \"Dommages au v\\u00e9hicule \", \"Bris de glace \", \"D\\u00e9fense et recours \", \"Dommages collisions \", \"D\\u00e9fense et recours \", \"D\\u00e9fense et recours \", \"D\\u00e9fense et recours \", \"D\\u00e9fense et recours \", \"D\\u00e9fense et recours \", \"Dommages au v\\u00e9hicule \", \"Incendie partiel \", \"Dommages au v\\u00e9hicule \", \"D\\u00e9fense et recours \", \"Dommages au v\\u00e9hicule \", \"D\\u00e9fense et recours \", \"Dommages au v\\u00e9hicule \", \"Dommages au v\\u00e9hicule \", \"Dommages collisions \", \"D\\u00e9fense et recours \", \"D\\u00e9fense et recours \", \"D\\u00e9fense et recours \", \"D\\u00e9fense et recours \", \"Dommages collisions \", \"Dommages au v\\u00e9hicule \", \"D\\u00e9fense et recours \", \"D\\u00e9fense et recours \", \"D\\u00e9fense et recours \", \"Dommages au v\\u00e9hicule \", \"Dommages au v\\u00e9hicule \", \"D\\u00e9fense et recours \", \"Dommages au v\\u00e9hicule \", \"Dommages au v\\u00e9hicule \", \"Dommages au v\\u00e9hicule \", \"D\\u00e9fense et recours \", \"Tierce \", \"Tierce \", \"Tierce \", \"Bris de glace \", \"Bris de glace \", \"D\\u00e9fense et recours \", \"Dommages au v\\u00e9hicule \", \"D\\u00e9fense et recours \", \"D\\u00e9fense et recours \", \"D\\u00e9fense et recours \", \"D\\u00e9fense et recours \", \"D\\u00e9fense et recours \", \"D\\u00e9fense et recours \", \"D\\u00e9fense et recours \", \"Dommages au v\\u00e9hicule \", \"Bris de glace \", \"Bris de glace \", \"Bris de glace \", \"Bris de glace \", \"D\\u00e9fense et recours \", \"D\\u00e9fense et recours \", \"D\\u00e9fense et recours \", \"Bris de glace \", \"D\\u00e9fense et recours \", \"D\\u00e9fense et recours \", \"Dommages collisions \", \"D\\u00e9fense et recours \", \"Dommages au v\\u00e9hicule \", \"D\\u00e9fense et recours \", \"Dommages au v\\u00e9hicule \", \"D\\u00e9fense et recours \", \"D\\u00e9fense et recours \", \"D\\u00e9fense et recours \", \"Dommages au v\\u00e9hicule \", \"D\\u00e9fense et recours \", \"Bris de glace \", \"D\\u00e9fense et recours \", \"D\\u00e9fense et recours \", \"D\\u00e9fense et recours \", \"D\\u00e9fense et recours \", \"Bris de glace \", \"D\\u00e9fense et recours \", \"D\\u00e9fense et recours \", \"D\\u00e9fense et recours \", \"D\\u00e9fense et recours \", \"D\\u00e9fense et recours \", \"Dommages au v\\u00e9hicule \", \"Dommages au v\\u00e9hicule \", \"Dommages au v\\u00e9hicule \", \"D\\u00e9fense et recours \", \"D\\u00e9fense et recours \", \"Dommages au v\\u00e9hicule \", \"D\\u00e9fense et recours \", \"D\\u00e9fense et recours \", \"Bris de glace \", \"Dommages au v\\u00e9hicule \", \"Incendie partiel \", \"D\\u00e9fense et recours \", \"D\\u00e9fense et recours \", \"Dommages collisions \", \"D\\u00e9fense et recours \", \"Bris de glace \", \"D\\u00e9fense et recours \", \"Dommages au v\\u00e9hicule \", \"Bris de glace \", \"D\\u00e9fense et recours \", \"D\\u00e9fense et recours \", \"Bris de glace \", \"Dommages collisions \", \"D\\u00e9fense et recours \", \"D\\u00e9fense et recours \", \"Bris de glace \", \"Dommages au v\\u00e9hicule \", \"D\\u00e9fense et recours \", \"Dommages au v\\u00e9hicule \", \"Bris de glace \", \"D\\u00e9fense et recours \", \"D\\u00e9fense et recours \", \"D\\u00e9fense et recours \", \"D\\u00e9fense et recours \", \"Bris de glace \", \"D\\u00e9fense et recours \", \"D\\u00e9fense et recours \", \"Dommages au v\\u00e9hicule \", \"D\\u00e9fense et recours \", \"D\\u00e9fense et recours \", \"D\\u00e9fense et recours \", \"D\\u00e9fense et recours \", \"Dommages au v\\u00e9hicule \", \"D\\u00e9fense et recours \", \"D\\u00e9fense et recours \", \"D\\u00e9fense et recours \", \"Dommages au v\\u00e9hicule \", \"Dommages au v\\u00e9hicule \", \"D\\u00e9fense et recours \", \"Bris de glace \", \"Dommages au v\\u00e9hicule \", \"Dommages au v\\u00e9hicule \", \"Dommages collisions \", \"D\\u00e9fense et recours \", \"D\\u00e9fense et recours \", \"D\\u00e9fense et recours \", \"D\\u00e9fense et recours \", \"D\\u00e9fense et recours \", \"D\\u00e9fense et recours \", \"D\\u00e9fense et recours \", \"Dommages collisions \", \"D\\u00e9fense et recours \", \"Dommages collisions \", \"D\\u00e9fense et recours \", \"Dommages au v\\u00e9hicule \", \"Dommages au v\\u00e9hicule \", \"D\\u00e9fense et recours \", \"Dommages au v\\u00e9hicule \", \"D\\u00e9fense et recours \", \"Dommages collisions \", \"Dommages collisions \", \"Dommages au v\\u00e9hicule \", \"D\\u00e9fense et recours \", \"D\\u00e9fense et recours \", \"Dommages au v\\u00e9hicule \", \"D\\u00e9fense et recours \", \"Bris de glace \", \"D\\u00e9fense et recours \", \"D\\u00e9fense et recours \", \"D\\u00e9fense et recours \", \"Dommages au v\\u00e9hicule \", \"Dommages au v\\u00e9hicule \", \"D\\u00e9fense et recours \", \"Dommages au v\\u00e9hicule \", \"D\\u00e9fense et recours \", \"D\\u00e9fense et recours \", \"Dommages au v\\u00e9hicule \", \"Dommages au v\\u00e9hicule \", \"D\\u00e9fense et recours \", \"D\\u00e9fense et recours \", \"D\\u00e9fense et recours \", \"Dommages au v\\u00e9hicule \", \"D\\u00e9fense et recours \", \"Dommages au v\\u00e9hicule \", \"Dommages au v\\u00e9hicule \", \"D\\u00e9fense et recours \", \"Dommages au v\\u00e9hicule \", \"D\\u00e9fense et recours \", \"D\\u00e9fense et recours \", \"D\\u00e9fense et recours \", \"D\\u00e9fense et recours \", \"D\\u00e9fense et recours \", \"D\\u00e9fense et recours \", \"D\\u00e9fense et recours \", \"Dommages au v\\u00e9hicule \", \"D\\u00e9fense et recours \", \"D\\u00e9fense et recours \", \"D\\u00e9fense et recours \", \"D\\u00e9fense et recours \", \"Bris de glace \", \"Dommages collisions \", \"Bris de glace \", \"D\\u00e9fense et recours \", \"Dommages au v\\u00e9hicule \", \"Dommages au v\\u00e9hicule \", \"D\\u00e9fense et recours \", \"Dommages au v\\u00e9hicule \", \"D\\u00e9fense et recours \", \"D\\u00e9fense et recours \", \"Dommages au v\\u00e9hicule \", \"Bris de glace \", \"Bris de glace \", \"Dommages au v\\u00e9hicule \", \"Bris de glace \", \"D\\u00e9fense et recours \", \"D\\u00e9fense et recours \", \"Bris de glace \", \"D\\u00e9fense et recours \", \"Dommages au v\\u00e9hicule \", \"Dommages au v\\u00e9hicule \", \"Dommages au v\\u00e9hicule \", \"D\\u00e9fense et recours \", \"Bris de glace \", \"D\\u00e9fense et recours \", \"Dommages collisions \", \"D\\u00e9fense et recours \", \"D\\u00e9fense et recours \", \"D\\u00e9fense et recours \", \"Dommages au v\\u00e9hicule \", \"Bris de glace \", \"Dommages au v\\u00e9hicule \", \"Dommages au v\\u00e9hicule \", \"Dommages au v\\u00e9hicule \", \"Dommages au v\\u00e9hicule \", \"D\\u00e9fense et recours \", \"Dommages au v\\u00e9hicule \", \"D\\u00e9fense et recours \", \"D\\u00e9fense et recours \", \"D\\u00e9fense et recours \", \"D\\u00e9fense et recours \", \"D\\u00e9fense et recours \", \"Dommages au v\\u00e9hicule \", \"Bris de glace \", \"D\\u00e9fense et recours \", \"Dommages au v\\u00e9hicule \", \"Dommages au v\\u00e9hicule \", \"Dommages au v\\u00e9hicule \", \"D\\u00e9fense et recours \", \"D\\u00e9fense et recours \", \"D\\u00e9fense et recours \", \"D\\u00e9fense et recours \", \"D\\u00e9fense et recours \", \"D\\u00e9fense et recours \", \"Dommages collisions \", \"Dommages au v\\u00e9hicule \", \"D\\u00e9fense et recours \", \"Bris de glace \", \"D\\u00e9fense et recours \", \"D\\u00e9fense et recours \", \"Dommages collisions \", \"Dommages au v\\u00e9hicule \", \"D\\u00e9fense et recours \", \"D\\u00e9fense et recours \", \"D\\u00e9fense et recours \", \"D\\u00e9fense et recours \", \"Dommages au v\\u00e9hicule \", \"Dommages au v\\u00e9hicule \", \"Dommages au v\\u00e9hicule \", \"Dommages collisions \", \"D\\u00e9fense et recours \", \"Dommages collisions \", \"D\\u00e9fense et recours \", \"D\\u00e9fense et recours \", \"Dommages au v\\u00e9hicule \", \"D\\u00e9fense et recours \", \"Dommages au v\\u00e9hicule \", \"D\\u00e9fense et recours \", \"D\\u00e9fense et recours \", \"D\\u00e9fense et recours \", \"Dommages au v\\u00e9hicule \", \"D\\u00e9fense et recours \", \"D\\u00e9fense et recours \", \"D\\u00e9fense et recours \", \"Dommages collisions \", \"Dommages au v\\u00e9hicule \", \"Dommages au v\\u00e9hicule \", \"D\\u00e9fense et recours \", \"D\\u00e9fense et recours \", \"D\\u00e9fense et recours \", \"D\\u00e9fense et recours \", \"D\\u00e9fense et recours \", \"D\\u00e9fense et recours \", \"D\\u00e9fense et recours \", \"Dommages au v\\u00e9hicule \", \"D\\u00e9fense et recours \", \"D\\u00e9fense et recours \", \"D\\u00e9fense et recours \", \"Dommages au v\\u00e9hicule \", \"D\\u00e9fense et recours \", \"Dommages collisions \", \"D\\u00e9fense et recours \", \"D\\u00e9fense et recours \", \"D\\u00e9fense et recours \", \"D\\u00e9fense et recours \", \"D\\u00e9fense et recours \", \"D\\u00e9fense et recours \", \"D\\u00e9fense et recours \", \"D\\u00e9fense et recours \", \"D\\u00e9fense et recours \", \"D\\u00e9fense et recours \", \"D\\u00e9fense et recours \", \"D\\u00e9fense et recours \", \"D\\u00e9fense et recours \", \"D\\u00e9fense et recours \", \"D\\u00e9fense et recours \", \"D\\u00e9fense et recours \", \"D\\u00e9fense et recours \", \"D\\u00e9fense et recours \", \"D\\u00e9fense et recours \", \"D\\u00e9fense et recours \", \"Dommages collisions \", \"D\\u00e9fense et recours \", \"D\\u00e9fense et recours \", \"Dommages au v\\u00e9hicule \", \"Dommages au v\\u00e9hicule \", \"D\\u00e9fense et recours \", \"D\\u00e9fense et recours \", \"D\\u00e9fense et recours \", \"D\\u00e9fense et recours \", \"D\\u00e9fense et recours \", \"D\\u00e9fense et recours \", \"Dommages au v\\u00e9hicule \", \"D\\u00e9fense et recours \", \"Dommages au v\\u00e9hicule \", \"D\\u00e9fense et recours \", \"D\\u00e9fense et recours \", \"D\\u00e9fense et recours \", \"D\\u00e9fense et recours \", \"D\\u00e9fense et recours \", \"D\\u00e9fense et recours \", \"D\\u00e9fense et recours \", \"D\\u00e9fense et recours \", \"D\\u00e9fense et recours \", \"D\\u00e9fense et recours \", \"D\\u00e9fense et recours \", \"D\\u00e9fense et recours \", \"D\\u00e9fense et recours \", \"D\\u00e9fense et recours \", \"D\\u00e9fense et recours \", \"D\\u00e9fense et recours \", \"D\\u00e9fense et recours \", \"D\\u00e9fense et recours \", \"D\\u00e9fense et recours \", \"D\\u00e9fense et recours \", \"D\\u00e9fense et recours \", \"D\\u00e9fense et recours \", \"Dommages au v\\u00e9hicule \", \"D\\u00e9fense et recours \", \"D\\u00e9fense et recours \", \"D\\u00e9fense et recours \", \"D\\u00e9fense et recours \", \"D\\u00e9fense et recours \", \"D\\u00e9fense et recours \", \"D\\u00e9fense et recours \", \"Dommages au v\\u00e9hicule \", \"D\\u00e9fense et recours \", \"D\\u00e9fense et recours \", \"Dommages au v\\u00e9hicule \", \"D\\u00e9fense et recours \", \"D\\u00e9fense et recours \", \"D\\u00e9fense et recours \", \"D\\u00e9fense et recours \", \"Dommages au v\\u00e9hicule \", \"Dommages au v\\u00e9hicule \", \"D\\u00e9fense et recours \", \"D\\u00e9fense et recours \", \"D\\u00e9fense et recours \", \"D\\u00e9fense et recours \", \"D\\u00e9fense et recours \", \"D\\u00e9fense et recours \", \"D\\u00e9fense et recours \", \"D\\u00e9fense et recours \", \"D\\u00e9fense et recours \", \"D\\u00e9fense et recours \", \"D\\u00e9fense et recours \", \"Dommages au v\\u00e9hicule \", \"D\\u00e9fense et recours \", \"D\\u00e9fense et recours \", \"D\\u00e9fense et recours \", \"Dommages au v\\u00e9hicule \", \"D\\u00e9fense et recours \", \"D\\u00e9fense et recours \", \"D\\u00e9fense et recours \", \"D\\u00e9fense et recours \", \"D\\u00e9fense et recours \", \"Dommages au v\\u00e9hicule \", \"Dommages au v\\u00e9hicule \", \"D\\u00e9fense et recours \", \"Dommages au v\\u00e9hicule \", \"D\\u00e9fense et recours \", \"Dommages collisions \", \"Dommages collisions \", \"D\\u00e9fense et recours \", \"Dommages au v\\u00e9hicule \", \"D\\u00e9fense et recours \", \"D\\u00e9fense et recours \", \"Dommages au v\\u00e9hicule \", \"D\\u00e9fense et recours \", \"D\\u00e9fense et recours \", \"D\\u00e9fense et recours \", \"D\\u00e9fense et recours \", \"D\\u00e9fense et recours \", \"D\\u00e9fense et recours \", \"D\\u00e9fense et recours \", \"D\\u00e9fense et recours \", \"D\\u00e9fense et recours \", \"D\\u00e9fense et recours \", \"D\\u00e9fense et recours \", \"D\\u00e9fense et recours \", \"D\\u00e9fense et recours \", \"D\\u00e9fense et recours \", \"D\\u00e9fense et recours \", \"D\\u00e9fense et recours \", \"D\\u00e9fense et recours \", \"D\\u00e9fense et recours \", \"D\\u00e9fense et recours \", \"D\\u00e9fense et recours \", \"Dommages au v\\u00e9hicule \", \"D\\u00e9fense et recours \", \"D\\u00e9fense et recours \", \"D\\u00e9fense et recours \", \"D\\u00e9fense et recours \", \"D\\u00e9fense et recours \", \"D\\u00e9fense et recours \", \"D\\u00e9fense et recours \", \"D\\u00e9fense et recours \", \"Dommages au v\\u00e9hicule \", \"D\\u00e9fense et recours \", \"D\\u00e9fense et recours \", \"D\\u00e9fense et recours \", \"D\\u00e9fense et recours \", \"D\\u00e9fense et recours \", \"D\\u00e9fense et recours \", \"D\\u00e9fense et recours \", \"Dommages au v\\u00e9hicule \", \"Dommages au v\\u00e9hicule \", \"D\\u00e9fense et recours \", \"D\\u00e9fense et recours \", \"D\\u00e9fense et recours \", \"Dommages collisions \", \"D\\u00e9fense et recours \", \"D\\u00e9fense et recours \", \"D\\u00e9fense et recours \", \"Dommages au v\\u00e9hicule \", \"D\\u00e9fense et recours \", \"D\\u00e9fense et recours \", \"D\\u00e9fense et recours \", \"Dommages au v\\u00e9hicule \", \"D\\u00e9fense et recours \", \"D\\u00e9fense et recours \", \"D\\u00e9fense et recours \", \"D\\u00e9fense et recours \", \"D\\u00e9fense et recours \", \"D\\u00e9fense et recours \", \"D\\u00e9fense et recours \", \"D\\u00e9fense et recours \", \"D\\u00e9fense et recours \", \"D\\u00e9fense et recours \", \"D\\u00e9fense et recours \", \"D\\u00e9fense et recours \", \"Dommages au v\\u00e9hicule \", \"D\\u00e9fense et recours \", \"Dommages au v\\u00e9hicule \", \"D\\u00e9fense et recours \", \"D\\u00e9fense et recours \", \"D\\u00e9fense et recours \", \"D\\u00e9fense et recours \", \"Dommages au v\\u00e9hicule \", \"D\\u00e9fense et recours \", \"D\\u00e9fense et recours \", \"D\\u00e9fense et recours \", \"D\\u00e9fense et recours \", \"D\\u00e9fense et recours \", \"D\\u00e9fense et recours \", \"Dommages au v\\u00e9hicule \", \"D\\u00e9fense et recours \", \"Dommages collisions \", \"D\\u00e9fense et recours \", \"D\\u00e9fense et recours \", \"D\\u00e9fense et recours \", \"Dommages collisions \", \"Dommages au v\\u00e9hicule \", \"D\\u00e9fense et recours \", \"D\\u00e9fense et recours \", \"D\\u00e9fense et recours \", \"D\\u00e9fense et recours \", \"Dommages au v\\u00e9hicule \", \"D\\u00e9fense et recours \", \"Dommages collisions \", \"D\\u00e9fense et recours \", \"Dommages collisions \", \"D\\u00e9fense et recours \", \"D\\u00e9fense et recours \", \"D\\u00e9fense et recours \", \"D\\u00e9fense et recours \"], \"xaxis\": \"x\", \"yaxis\": \"y\"}, {\"alignmentgroup\": \"True\", \"bingroup\": \"x\", \"histnorm\": \"probability density\", \"hovertemplate\": \"Fraud=Oui<br>Garantie impliqu\\u00e9e=%{x}<br>count=%{y}<extra></extra>\", \"legendgroup\": \"Oui\", \"marker\": {\"color\": \"#EF553B\"}, \"name\": \"Oui\", \"offsetgroup\": \"Oui\", \"orientation\": \"v\", \"showlegend\": true, \"type\": \"histogram\", \"x\": [\"D\\u00e9fense et recours \", \"D\\u00e9fense et recours \", \"D\\u00e9fense et recours \", \"D\\u00e9fense et recours \", \"Dommages collisions \", \"Tierce \", \"D\\u00e9fense et recours \", \"D\\u00e9fense et recours \", \"Dommages au v\\u00e9hicule \", \"D\\u00e9fense et recours \", \"D\\u00e9fense et recours \", \"D\\u00e9fense et recours \", \"D\\u00e9fense et recours \", \"D\\u00e9fense et recours \", \"Dommages au v\\u00e9hicule \", \"D\\u00e9fense et recours \", \"D\\u00e9fense et recours \", \"D\\u00e9fense et recours \", \"D\\u00e9fense et recours \", \"D\\u00e9fense et recours \", \"D\\u00e9fense et recours \", \"D\\u00e9fense et recours \", \"D\\u00e9fense et recours \", \"D\\u00e9fense et recours \", \"Dommages au v\\u00e9hicule \", \"D\\u00e9fense et recours \", \"D\\u00e9fense et recours \", \"D\\u00e9fense et recours \", \"D\\u00e9fense et recours \", \"Dommages au v\\u00e9hicule \", \"D\\u00e9fense et recours \", \"D\\u00e9fense et recours \", \"D\\u00e9fense et recours \", \"D\\u00e9fense et recours \", \"D\\u00e9fense et recours \", \"Tierce \", \"D\\u00e9fense et recours \", \"D\\u00e9fense et recours \", \"Dommages au v\\u00e9hicule \", \"D\\u00e9fense et recours \", \"D\\u00e9fense et recours \", \"D\\u00e9fense et recours \", \"D\\u00e9fense et recours \", \"D\\u00e9fense et recours \", \"D\\u00e9fense et recours \", \"D\\u00e9fense et recours \", \"D\\u00e9fense et recours \", \"D\\u00e9fense et recours \", \"Tierce \", \"D\\u00e9fense et recours \", \"D\\u00e9fense et recours \", \"D\\u00e9fense et recours \", \"D\\u00e9fense et recours \", \"D\\u00e9fense et recours \", \"D\\u00e9fense et recours \", \"Tierce \", \"D\\u00e9fense et recours \", \"D\\u00e9fense et recours \", \"Tierce \", \"D\\u00e9fense et recours \", \"Tierce \", \"D\\u00e9fense et recours \", \"Tierce \", \"D\\u00e9fense et recours \", \"D\\u00e9fense et recours \", \"Tierce \", \"Tierce \", \"D\\u00e9fense et recours \", \"D\\u00e9fense et recours \", \"Tierce \", \"D\\u00e9fense et recours \", \"Tierce collision \", \"D\\u00e9fense et recours \", \"Tierce \", \"Tierce \", \"D\\u00e9fense et recours \", \"Tierce \", \"D\\u00e9fense et recours \", \"D\\u00e9fense et recours \", \"D\\u00e9fense et recours \", \"Dommages au v\\u00e9hicule \", \"D\\u00e9fense et recours \", \"D\\u00e9fense et recours \", \"Dommages au v\\u00e9hicule \", \"D\\u00e9fense et recours \", \"D\\u00e9fense et recours \", \"D\\u00e9fense et recours \", \"D\\u00e9fense et recours \", \"D\\u00e9fense et recours \", \"D\\u00e9fense et recours \", \"D\\u00e9fense et recours \", \"D\\u00e9fense et recours \", \"D\\u00e9fense et recours \", \"D\\u00e9fense et recours \", \"Dommages collisions \", \"D\\u00e9fense et recours \", \"D\\u00e9fense et recours \", \"D\\u00e9fense et recours \", \"D\\u00e9fense et recours \", \"D\\u00e9fense et recours \", \"D\\u00e9fense et recours \", \"D\\u00e9fense et recours \", \"D\\u00e9fense et recours \", \"D\\u00e9fense et recours \", \"D\\u00e9fense et recours \", \"D\\u00e9fense et recours \", \"D\\u00e9fense et recours \", \"Dommages au v\\u00e9hicule \", \"D\\u00e9fense et recours \", \"D\\u00e9fense et recours \", \"D\\u00e9fense et recours \", \"D\\u00e9fense et recours \", \"D\\u00e9fense et recours \", \"D\\u00e9fense et recours \", \"D\\u00e9fense et recours \", \"D\\u00e9fense et recours \", \"D\\u00e9fense et recours \", \"D\\u00e9fense et recours \", \"D\\u00e9fense et recours \", \"D\\u00e9fense et recours \", \"Dommages collisions \", \"D\\u00e9fense et recours \", \"D\\u00e9fense et recours \", \"D\\u00e9fense et recours \", \"D\\u00e9fense et recours \", \"Dommages au v\\u00e9hicule \", \"D\\u00e9fense et recours \", \"D\\u00e9fense et recours \", \"D\\u00e9fense et recours \", \"D\\u00e9fense et recours \", \"D\\u00e9fense et recours \", \"Incendie partiel \", \"D\\u00e9fense et recours \", \"D\\u00e9fense et recours \", \"D\\u00e9fense et recours \", \"D\\u00e9fense et recours \", \"Dommages au v\\u00e9hicule \", \"D\\u00e9fense et recours \", \"D\\u00e9fense et recours \", \"D\\u00e9fense et recours \", \"D\\u00e9fense et recours \", \"D\\u00e9fense et recours \", \"D\\u00e9fense et recours \", \"D\\u00e9fense et recours \", \"D\\u00e9fense et recours \", \"Tierce \", \"Dommages collisions \", \"Dommages collisions \", \"D\\u00e9fense et recours \", \"D\\u00e9fense et recours \", \"Dommages au v\\u00e9hicule \", \"D\\u00e9fense et recours \", \"D\\u00e9fense et recours \", \"D\\u00e9fense et recours \", \"Dommages au v\\u00e9hicule \", \"D\\u00e9fense et recours \", \"Dommages au v\\u00e9hicule \", \"D\\u00e9fense et recours \", \"D\\u00e9fense et recours \", \"D\\u00e9fense et recours \", \"D\\u00e9fense et recours \", \"D\\u00e9fense et recours \", \"D\\u00e9fense et recours \", \"D\\u00e9fense et recours \", \"D\\u00e9fense et recours \", \"D\\u00e9fense et recours \", \"D\\u00e9fense et recours \", \"D\\u00e9fense et recours \", \"Dommages collisions \", \"D\\u00e9fense et recours \", \"D\\u00e9fense et recours \", \"D\\u00e9fense et recours \", \"D\\u00e9fense et recours \", \"D\\u00e9fense et recours \", \"D\\u00e9fense et recours \", \"D\\u00e9fense et recours \", \"D\\u00e9fense et recours \", \"D\\u00e9fense et recours \", \"D\\u00e9fense et recours \", \"D\\u00e9fense et recours \", \"D\\u00e9fense et recours \", \"D\\u00e9fense et recours \", \"D\\u00e9fense et recours \", \"D\\u00e9fense et recours \", \"D\\u00e9fense et recours \", \"D\\u00e9fense et recours \", \"D\\u00e9fense et recours \", \"D\\u00e9fense et recours \", \"D\\u00e9fense et recours \", \"D\\u00e9fense et recours \", \"D\\u00e9fense et recours \", \"D\\u00e9fense et recours \", \"D\\u00e9fense et recours \", \"D\\u00e9fense et recours \", \"D\\u00e9fense et recours \", \"D\\u00e9fense et recours \", \"D\\u00e9fense et recours \", \"D\\u00e9fense et recours \", \"D\\u00e9fense et recours \", \"D\\u00e9fense et recours \", \"D\\u00e9fense et recours \", \"D\\u00e9fense et recours \", \"D\\u00e9fense et recours \", \"Dommages au v\\u00e9hicule \", \"D\\u00e9fense et recours \", \"D\\u00e9fense et recours \", \"D\\u00e9fense et recours \", \"D\\u00e9fense et recours \", \"D\\u00e9fense et recours \", \"D\\u00e9fense et recours \", \"D\\u00e9fense et recours \", \"D\\u00e9fense et recours \", \"D\\u00e9fense et recours \", \"D\\u00e9fense et recours \", \"D\\u00e9fense et recours \"], \"xaxis\": \"x\", \"yaxis\": \"y\"}],\n",
       "                        {\"barmode\": \"relative\", \"legend\": {\"title\": {\"text\": \"Fraud\"}, \"tracegroupgap\": 0}, \"margin\": {\"t\": 60}, \"template\": {\"data\": {\"bar\": [{\"error_x\": {\"color\": \"#2a3f5f\"}, \"error_y\": {\"color\": \"#2a3f5f\"}, \"marker\": {\"line\": {\"color\": \"#E5ECF6\", \"width\": 0.5}}, \"type\": \"bar\"}], \"barpolar\": [{\"marker\": {\"line\": {\"color\": \"#E5ECF6\", \"width\": 0.5}}, \"type\": \"barpolar\"}], \"carpet\": [{\"aaxis\": {\"endlinecolor\": \"#2a3f5f\", \"gridcolor\": \"white\", \"linecolor\": \"white\", \"minorgridcolor\": \"white\", \"startlinecolor\": \"#2a3f5f\"}, \"baxis\": {\"endlinecolor\": \"#2a3f5f\", \"gridcolor\": \"white\", \"linecolor\": \"white\", \"minorgridcolor\": \"white\", \"startlinecolor\": \"#2a3f5f\"}, \"type\": \"carpet\"}], \"choropleth\": [{\"colorbar\": {\"outlinewidth\": 0, \"ticks\": \"\"}, \"type\": \"choropleth\"}], \"contour\": [{\"colorbar\": {\"outlinewidth\": 0, \"ticks\": \"\"}, \"colorscale\": [[0.0, \"#0d0887\"], [0.1111111111111111, \"#46039f\"], [0.2222222222222222, \"#7201a8\"], [0.3333333333333333, \"#9c179e\"], [0.4444444444444444, \"#bd3786\"], [0.5555555555555556, \"#d8576b\"], [0.6666666666666666, \"#ed7953\"], [0.7777777777777778, \"#fb9f3a\"], [0.8888888888888888, \"#fdca26\"], [1.0, \"#f0f921\"]], \"type\": \"contour\"}], \"contourcarpet\": [{\"colorbar\": {\"outlinewidth\": 0, \"ticks\": \"\"}, \"type\": \"contourcarpet\"}], \"heatmap\": [{\"colorbar\": {\"outlinewidth\": 0, \"ticks\": \"\"}, \"colorscale\": [[0.0, \"#0d0887\"], [0.1111111111111111, \"#46039f\"], [0.2222222222222222, \"#7201a8\"], [0.3333333333333333, \"#9c179e\"], [0.4444444444444444, \"#bd3786\"], [0.5555555555555556, \"#d8576b\"], [0.6666666666666666, \"#ed7953\"], [0.7777777777777778, \"#fb9f3a\"], [0.8888888888888888, \"#fdca26\"], [1.0, \"#f0f921\"]], \"type\": \"heatmap\"}], \"heatmapgl\": [{\"colorbar\": {\"outlinewidth\": 0, \"ticks\": \"\"}, \"colorscale\": [[0.0, \"#0d0887\"], [0.1111111111111111, \"#46039f\"], [0.2222222222222222, \"#7201a8\"], [0.3333333333333333, \"#9c179e\"], [0.4444444444444444, \"#bd3786\"], [0.5555555555555556, \"#d8576b\"], [0.6666666666666666, \"#ed7953\"], [0.7777777777777778, \"#fb9f3a\"], [0.8888888888888888, \"#fdca26\"], [1.0, \"#f0f921\"]], \"type\": \"heatmapgl\"}], \"histogram\": [{\"marker\": {\"colorbar\": {\"outlinewidth\": 0, \"ticks\": \"\"}}, \"type\": \"histogram\"}], \"histogram2d\": [{\"colorbar\": {\"outlinewidth\": 0, \"ticks\": \"\"}, \"colorscale\": [[0.0, \"#0d0887\"], [0.1111111111111111, \"#46039f\"], [0.2222222222222222, \"#7201a8\"], [0.3333333333333333, \"#9c179e\"], [0.4444444444444444, \"#bd3786\"], [0.5555555555555556, \"#d8576b\"], [0.6666666666666666, \"#ed7953\"], [0.7777777777777778, \"#fb9f3a\"], [0.8888888888888888, \"#fdca26\"], [1.0, \"#f0f921\"]], \"type\": \"histogram2d\"}], \"histogram2dcontour\": [{\"colorbar\": {\"outlinewidth\": 0, \"ticks\": \"\"}, \"colorscale\": [[0.0, \"#0d0887\"], [0.1111111111111111, \"#46039f\"], [0.2222222222222222, \"#7201a8\"], [0.3333333333333333, \"#9c179e\"], [0.4444444444444444, \"#bd3786\"], [0.5555555555555556, \"#d8576b\"], [0.6666666666666666, \"#ed7953\"], [0.7777777777777778, \"#fb9f3a\"], [0.8888888888888888, \"#fdca26\"], [1.0, \"#f0f921\"]], \"type\": \"histogram2dcontour\"}], \"mesh3d\": [{\"colorbar\": {\"outlinewidth\": 0, \"ticks\": \"\"}, \"type\": \"mesh3d\"}], \"parcoords\": [{\"line\": {\"colorbar\": {\"outlinewidth\": 0, \"ticks\": \"\"}}, \"type\": \"parcoords\"}], \"pie\": [{\"automargin\": true, \"type\": \"pie\"}], \"scatter\": [{\"marker\": {\"colorbar\": {\"outlinewidth\": 0, \"ticks\": \"\"}}, \"type\": \"scatter\"}], \"scatter3d\": [{\"line\": {\"colorbar\": {\"outlinewidth\": 0, \"ticks\": \"\"}}, \"marker\": {\"colorbar\": {\"outlinewidth\": 0, \"ticks\": \"\"}}, \"type\": \"scatter3d\"}], \"scattercarpet\": [{\"marker\": {\"colorbar\": {\"outlinewidth\": 0, \"ticks\": \"\"}}, \"type\": \"scattercarpet\"}], \"scattergeo\": [{\"marker\": {\"colorbar\": {\"outlinewidth\": 0, \"ticks\": \"\"}}, \"type\": \"scattergeo\"}], \"scattergl\": [{\"marker\": {\"colorbar\": {\"outlinewidth\": 0, \"ticks\": \"\"}}, \"type\": \"scattergl\"}], \"scattermapbox\": [{\"marker\": {\"colorbar\": {\"outlinewidth\": 0, \"ticks\": \"\"}}, \"type\": \"scattermapbox\"}], \"scatterpolar\": [{\"marker\": {\"colorbar\": {\"outlinewidth\": 0, \"ticks\": \"\"}}, \"type\": \"scatterpolar\"}], \"scatterpolargl\": [{\"marker\": {\"colorbar\": {\"outlinewidth\": 0, \"ticks\": \"\"}}, \"type\": \"scatterpolargl\"}], \"scatterternary\": [{\"marker\": {\"colorbar\": {\"outlinewidth\": 0, \"ticks\": \"\"}}, \"type\": \"scatterternary\"}], \"surface\": [{\"colorbar\": {\"outlinewidth\": 0, \"ticks\": \"\"}, \"colorscale\": [[0.0, \"#0d0887\"], [0.1111111111111111, \"#46039f\"], [0.2222222222222222, \"#7201a8\"], [0.3333333333333333, \"#9c179e\"], [0.4444444444444444, \"#bd3786\"], [0.5555555555555556, \"#d8576b\"], [0.6666666666666666, \"#ed7953\"], [0.7777777777777778, \"#fb9f3a\"], [0.8888888888888888, \"#fdca26\"], [1.0, \"#f0f921\"]], \"type\": \"surface\"}], \"table\": [{\"cells\": {\"fill\": {\"color\": \"#EBF0F8\"}, \"line\": {\"color\": \"white\"}}, \"header\": {\"fill\": {\"color\": \"#C8D4E3\"}, \"line\": {\"color\": \"white\"}}, \"type\": \"table\"}]}, \"layout\": {\"annotationdefaults\": {\"arrowcolor\": \"#2a3f5f\", \"arrowhead\": 0, \"arrowwidth\": 1}, \"coloraxis\": {\"colorbar\": {\"outlinewidth\": 0, \"ticks\": \"\"}}, \"colorscale\": {\"diverging\": [[0, \"#8e0152\"], [0.1, \"#c51b7d\"], [0.2, \"#de77ae\"], [0.3, \"#f1b6da\"], [0.4, \"#fde0ef\"], [0.5, \"#f7f7f7\"], [0.6, \"#e6f5d0\"], [0.7, \"#b8e186\"], [0.8, \"#7fbc41\"], [0.9, \"#4d9221\"], [1, \"#276419\"]], \"sequential\": [[0.0, \"#0d0887\"], [0.1111111111111111, \"#46039f\"], [0.2222222222222222, \"#7201a8\"], [0.3333333333333333, \"#9c179e\"], [0.4444444444444444, \"#bd3786\"], [0.5555555555555556, \"#d8576b\"], [0.6666666666666666, \"#ed7953\"], [0.7777777777777778, \"#fb9f3a\"], [0.8888888888888888, \"#fdca26\"], [1.0, \"#f0f921\"]], \"sequentialminus\": [[0.0, \"#0d0887\"], [0.1111111111111111, \"#46039f\"], [0.2222222222222222, \"#7201a8\"], [0.3333333333333333, \"#9c179e\"], [0.4444444444444444, \"#bd3786\"], [0.5555555555555556, \"#d8576b\"], [0.6666666666666666, \"#ed7953\"], [0.7777777777777778, \"#fb9f3a\"], [0.8888888888888888, \"#fdca26\"], [1.0, \"#f0f921\"]]}, \"colorway\": [\"#636efa\", \"#EF553B\", \"#00cc96\", \"#ab63fa\", \"#FFA15A\", \"#19d3f3\", \"#FF6692\", \"#B6E880\", \"#FF97FF\", \"#FECB52\"], \"font\": {\"color\": \"#2a3f5f\"}, \"geo\": {\"bgcolor\": \"white\", \"lakecolor\": \"white\", \"landcolor\": \"#E5ECF6\", \"showlakes\": true, \"showland\": true, \"subunitcolor\": \"white\"}, \"hoverlabel\": {\"align\": \"left\"}, \"hovermode\": \"closest\", \"mapbox\": {\"style\": \"light\"}, \"paper_bgcolor\": \"white\", \"plot_bgcolor\": \"#E5ECF6\", \"polar\": {\"angularaxis\": {\"gridcolor\": \"white\", \"linecolor\": \"white\", \"ticks\": \"\"}, \"bgcolor\": \"#E5ECF6\", \"radialaxis\": {\"gridcolor\": \"white\", \"linecolor\": \"white\", \"ticks\": \"\"}}, \"scene\": {\"xaxis\": {\"backgroundcolor\": \"#E5ECF6\", \"gridcolor\": \"white\", \"gridwidth\": 2, \"linecolor\": \"white\", \"showbackground\": true, \"ticks\": \"\", \"zerolinecolor\": \"white\"}, \"yaxis\": {\"backgroundcolor\": \"#E5ECF6\", \"gridcolor\": \"white\", \"gridwidth\": 2, \"linecolor\": \"white\", \"showbackground\": true, \"ticks\": \"\", \"zerolinecolor\": \"white\"}, \"zaxis\": {\"backgroundcolor\": \"#E5ECF6\", \"gridcolor\": \"white\", \"gridwidth\": 2, \"linecolor\": \"white\", \"showbackground\": true, \"ticks\": \"\", \"zerolinecolor\": \"white\"}}, \"shapedefaults\": {\"line\": {\"color\": \"#2a3f5f\"}}, \"ternary\": {\"aaxis\": {\"gridcolor\": \"white\", \"linecolor\": \"white\", \"ticks\": \"\"}, \"baxis\": {\"gridcolor\": \"white\", \"linecolor\": \"white\", \"ticks\": \"\"}, \"bgcolor\": \"#E5ECF6\", \"caxis\": {\"gridcolor\": \"white\", \"linecolor\": \"white\", \"ticks\": \"\"}}, \"title\": {\"x\": 0.05}, \"xaxis\": {\"automargin\": true, \"gridcolor\": \"white\", \"linecolor\": \"white\", \"ticks\": \"\", \"title\": {\"standoff\": 15}, \"zerolinecolor\": \"white\", \"zerolinewidth\": 2}, \"yaxis\": {\"automargin\": true, \"gridcolor\": \"white\", \"linecolor\": \"white\", \"ticks\": \"\", \"title\": {\"standoff\": 15}, \"zerolinecolor\": \"white\", \"zerolinewidth\": 2}}}, \"xaxis\": {\"anchor\": \"y\", \"domain\": [0.0, 1.0], \"title\": {\"text\": \"Garantie impliqu\\u00e9e\"}}, \"yaxis\": {\"anchor\": \"x\", \"domain\": [0.0, 1.0], \"title\": {\"text\": \"count\"}}},\n",
       "                        {\"responsive\": true}\n",
       "                    ).then(function(){\n",
       "                            \n",
       "var gd = document.getElementById('ac2bcb92-9f23-4259-be32-e574ef4a7a9c');\n",
       "var x = new MutationObserver(function (mutations, observer) {{\n",
       "        var display = window.getComputedStyle(gd).display;\n",
       "        if (!display || display === 'none') {{\n",
       "            console.log([gd, 'removed!']);\n",
       "            Plotly.purge(gd);\n",
       "            observer.disconnect();\n",
       "        }}\n",
       "}});\n",
       "\n",
       "// Listen for the removal of the full notebook cells\n",
       "var notebookContainer = gd.closest('#notebook-container');\n",
       "if (notebookContainer) {{\n",
       "    x.observe(notebookContainer, {childList: true});\n",
       "}}\n",
       "\n",
       "// Listen for the clearing of the current output cell\n",
       "var outputEl = gd.closest('.output');\n",
       "if (outputEl) {{\n",
       "    x.observe(outputEl, {childList: true});\n",
       "}}\n",
       "\n",
       "                        })\n",
       "                };\n",
       "                });\n",
       "            </script>\n",
       "        </div>"
      ]
     },
     "metadata": {},
     "output_type": "display_data"
    }
   ],
   "source": [
    "fig = px.histogram(df, x='Garantie impliquée', color='Fraud', histnorm='probability density')\n",
    "fig.show()\n",
    "fig.write_image(\"../frontend/src/assets/figure_EDA/garantie_fraud.png\")"
   ]
  },
  {
   "cell_type": "code",
   "execution_count": null,
   "metadata": {
    "scrolled": true
   },
   "outputs": [],
   "source": [
    "fig = px.bar(df, x='Point Choc', y='Fraud', color='Cas de barème' )\n",
    "fig.show()\n",
    "fig.write_image(\"../frontend/src/assets/figure_EDA/pt_choc_fraud.png\")"
   ]
  },
  {
   "cell_type": "code",
   "execution_count": null,
   "metadata": {
    "scrolled": true
   },
   "outputs": [],
   "source": [
    "fig = px.histogram(df, x='Mode de gestion', color='Fraud', histnorm='probability density')\n",
    "fig.show()\n",
    "fig.write_image(\"../frontend/src/assets/figure_EDA/mode_gestion_fraud.png\")"
   ]
  },
  {
   "cell_type": "code",
   "execution_count": null,
   "metadata": {
    "scrolled": true
   },
   "outputs": [],
   "source": [
    "fig = px.histogram(df, x=\"Montant total devis\", color=\"Fraud\", marginal=\"box\", hover_data=df.columns)\n",
    "fig.show()\n",
    "fig.write_image(\"../frontend/src/assets/figure_EDA/montant_fraud.png\")"
   ]
  },
  {
   "cell_type": "code",
   "execution_count": null,
   "metadata": {},
   "outputs": [],
   "source": [
    "labels = ['Recours', 'Défense']\n",
    "fig = px.pie(df, values=df['Position GA'].value_counts(), names=labels, title='Position GA')\n",
    "fig.show()\n",
    "fig.write_image(\"../frontend/src/assets/figure_EDA/positionGA.png\")"
   ]
  },
  {
   "cell_type": "code",
   "execution_count": 4,
   "metadata": {},
   "outputs": [
    {
     "data": {
      "application/vnd.plotly.v1+json": {
       "config": {
        "plotlyServerURL": "https://plot.ly"
       },
       "data": [
        {
         "alignmentgroup": "True",
         "bingroup": "x",
         "histnorm": "probability density",
         "hovertemplate": "Fraud=Non<br>Position GA=%{x}<br>count=%{y}<extra></extra>",
         "legendgroup": "Non",
         "marker": {
          "color": "#636efa"
         },
         "name": "Non",
         "offsetgroup": "Non",
         "orientation": "v",
         "showlegend": true,
         "type": "histogram",
         "x": [
          "Recours",
          "Recours",
          "Recours",
          "Défense",
          "Recours",
          "Recours",
          "Recours",
          "Recours",
          "Recours",
          "Recours",
          "Recours",
          "Recours",
          "Recours",
          "Recours",
          "Recours",
          "Recours",
          "Recours",
          "Recours",
          "Recours",
          "Recours",
          "Recours",
          "Recours",
          "Recours",
          "Recours",
          "Recours",
          "Recours",
          "Recours",
          "Recours",
          "Défense",
          "Recours",
          "Recours",
          "Défense",
          "Recours",
          "Recours",
          "Recours",
          "Recours",
          "Défense",
          "Recours",
          "Défense",
          "Recours",
          "Recours",
          "Recours",
          "Défense",
          "Défense",
          "Recours",
          "Recours",
          "Recours",
          "Recours",
          "Recours",
          "Recours",
          "Recours",
          "Recours",
          "Recours",
          "Recours",
          "Recours",
          "Recours",
          "Défense",
          "Recours",
          "Recours",
          "Recours",
          "Défense",
          "Recours",
          "Recours",
          "Recours",
          "Défense",
          "Recours",
          "Recours",
          "Recours",
          "Recours",
          "Recours",
          "Recours",
          "Recours",
          "Recours",
          "Recours",
          "Recours",
          "Recours",
          "Recours",
          "Recours",
          "Défense",
          "Recours",
          "Recours",
          "Défense",
          "Recours",
          "Recours",
          "Recours",
          "Recours",
          "Défense",
          "Recours",
          "Recours",
          "Recours",
          "Recours",
          "Recours",
          "Recours",
          "Recours",
          "Recours",
          "Défense",
          "Défense",
          "Défense",
          "Recours",
          "Recours",
          "Recours",
          "Recours",
          "Recours",
          "Recours",
          "Recours",
          "Recours",
          "Recours",
          "Défense",
          "Recours",
          "Recours",
          "Défense",
          "Recours",
          "Défense",
          "Défense",
          "Défense",
          "Recours",
          "Recours",
          "Recours",
          "Recours",
          "Recours",
          "Recours",
          "Recours",
          "Défense",
          "Recours",
          "Recours",
          "Défense",
          "Recours",
          "Recours",
          "Recours",
          "Recours",
          "Recours",
          "Recours",
          "Défense",
          "Recours",
          "Recours",
          "Recours",
          "Recours",
          "Défense",
          "Défense",
          "Recours",
          "Défense",
          "Recours",
          "Recours",
          "Recours",
          "Recours",
          "Recours",
          "Recours",
          "Défense",
          "Recours",
          "Recours",
          "Recours",
          "Recours",
          "Recours",
          "Recours",
          "Défense",
          "Recours",
          "Recours",
          "Recours",
          "Recours",
          "Défense",
          "Défense",
          "Recours",
          "Défense",
          "Défense",
          "Recours",
          "Recours",
          "Recours",
          "Recours",
          "Recours",
          "Recours",
          "Défense",
          "Recours",
          "Recours",
          "Recours",
          "Recours",
          "Recours",
          "Recours",
          "Recours",
          "Recours",
          "Défense",
          "Recours",
          "Recours",
          "Recours",
          "Recours",
          "Recours",
          "Recours",
          "Défense",
          "Recours",
          "Recours",
          "Recours",
          "Défense",
          "Recours",
          "Recours",
          "Recours",
          "Recours",
          "Recours",
          "Recours",
          "Recours",
          "Défense",
          "Recours",
          "Recours",
          "Recours",
          "Recours",
          "Recours",
          "Défense",
          "Défense",
          "Défense",
          "Recours",
          "Recours",
          "Recours",
          "Recours",
          "Défense",
          "Recours",
          "Recours",
          "Recours",
          "Recours",
          "Recours",
          "Défense",
          "Recours",
          "Défense",
          "Recours",
          "Recours",
          "Défense",
          "Recours",
          "Recours",
          "Recours",
          "Recours",
          "Recours",
          "Défense",
          "Recours",
          "Défense",
          "Recours",
          "Recours",
          "Recours",
          "Recours",
          "Recours",
          "Recours",
          "Recours",
          "Recours",
          "Recours",
          "Recours",
          "Recours",
          "Recours",
          "Recours",
          "Recours",
          "Recours",
          "Recours",
          "Recours",
          "Défense",
          "Recours",
          "Recours",
          "Recours",
          "Recours",
          "Recours",
          "Recours",
          "Recours",
          "Recours",
          "Recours",
          "Recours",
          "Recours",
          "Recours",
          "Défense",
          "Recours",
          "Recours",
          "Recours",
          "Défense",
          "Recours",
          "Recours",
          "Recours",
          "Recours",
          "Recours",
          "Recours",
          "Recours",
          "Recours",
          "Recours",
          "Recours",
          "Recours",
          "Recours",
          "Recours",
          "Recours",
          "Recours",
          "Recours",
          "Recours",
          "Défense",
          "Recours",
          "Recours",
          "Recours",
          "Recours",
          "Recours",
          "Recours",
          "Recours",
          "Recours",
          "Recours",
          "Recours",
          "Recours",
          "Recours",
          "Recours",
          "Recours",
          "Recours",
          "Recours",
          "Recours",
          "Recours",
          "Recours",
          "Recours",
          "Recours",
          "Recours",
          "Recours",
          "Recours",
          "Recours",
          "Défense",
          "Recours",
          "Recours",
          "Défense",
          "Recours",
          "Recours",
          "Défense",
          "Recours",
          "Recours",
          "Recours",
          "Recours",
          "Défense",
          "Recours",
          "Recours",
          "Recours",
          "Recours",
          "Recours",
          "Recours",
          "Recours",
          "Recours",
          "Recours",
          "Recours",
          "Recours",
          "Défense",
          "Recours",
          "Recours",
          "Recours",
          "Recours",
          "Recours",
          "Recours",
          "Recours",
          "Recours",
          "Recours",
          "Recours",
          "Recours",
          "Recours",
          "Défense",
          "Recours",
          "Recours",
          "Recours",
          "Recours",
          "Recours",
          "Recours",
          "Recours",
          "Recours",
          "Recours",
          "Recours",
          "Recours",
          "Recours",
          "Recours",
          "Recours",
          "Recours",
          "Recours",
          "Recours",
          "Recours",
          "Recours",
          "Recours",
          "Recours",
          "Recours",
          "Recours",
          "Recours",
          "Recours",
          "Recours",
          "Recours",
          "Recours",
          "Recours",
          "Recours",
          "Recours",
          "Recours",
          "Recours",
          "Recours",
          "Recours",
          "Recours",
          "Recours",
          "Recours",
          "Recours",
          "Recours",
          "Recours",
          "Recours",
          "Défense",
          "Recours",
          "Défense",
          "Recours",
          "Défense",
          "Recours",
          "Recours",
          "Recours",
          "Recours",
          "Recours",
          "Recours",
          "Recours",
          "Recours",
          "Recours",
          "Recours",
          "Défense",
          "Recours",
          "Recours",
          "Défense",
          "Recours",
          "Recours",
          "Recours",
          "Recours",
          "Recours",
          "Recours",
          "Recours",
          "Recours",
          "Recours",
          "Recours",
          "Recours",
          "Recours",
          "Recours",
          "Recours",
          "Recours",
          "Recours",
          "Recours",
          "Recours",
          "Recours",
          "Recours",
          "Recours",
          "Recours",
          "Recours",
          "Défense",
          "Défense",
          "Recours",
          "Recours",
          "Recours",
          "Recours",
          "Recours",
          "Défense",
          "Recours",
          "Défense",
          "Recours",
          "Recours",
          "Recours",
          "Recours",
          "Recours",
          "Recours",
          "Recours",
          "Recours",
          "Recours",
          "Recours",
          "Recours",
          "Défense",
          "Recours",
          "Recours",
          "Recours",
          "Recours",
          "Défense",
          "Recours",
          "Recours",
          "Recours",
          "Recours",
          "Défense",
          "Défense",
          "Recours",
          "Recours",
          "Recours",
          "Recours",
          "Recours",
          "Recours",
          "Recours",
          "Recours",
          "Recours",
          "Recours",
          "Recours",
          "Recours",
          "Recours",
          "Recours",
          "Recours",
          "Recours",
          "Recours",
          "Recours",
          "Recours",
          "Recours",
          "Recours",
          "Défense",
          "Recours",
          "Recours",
          "Recours",
          "Recours",
          "Recours",
          "Recours",
          "Recours",
          "Défense",
          "Défense",
          "Recours",
          "Recours",
          "Recours",
          "Défense",
          "Recours",
          "Recours",
          "Recours",
          "Recours",
          "Recours",
          "Recours",
          "Recours",
          "Défense",
          "Défense",
          "Recours",
          "Défense",
          "Recours",
          "Recours",
          "Recours",
          "Recours",
          "Recours",
          "Recours",
          "Recours",
          "Recours",
          "Recours",
          "Recours",
          "Recours",
          "Recours",
          "Recours",
          "Recours",
          "Recours",
          "Recours",
          "Recours",
          "Recours",
          "Défense",
          "Recours",
          "Recours",
          "Défense",
          "Recours",
          "Recours",
          "Défense",
          "Recours",
          "Recours",
          "Recours",
          "Recours",
          "Défense",
          "Recours",
          "Recours",
          "Recours",
          "Recours",
          "Défense",
          "Recours",
          "Recours",
          "Défense",
          "Recours",
          "Défense",
          "Recours",
          "Recours",
          "Recours",
          "Recours",
          "Recours",
          "Recours",
          "Recours",
          "Défense",
          "Défense",
          "Recours",
          "Recours",
          "Recours",
          "Défense",
          "Recours",
          "Recours",
          "Recours",
          "Défense",
          "Recours",
          "Recours",
          "Recours",
          "Recours",
          "Recours",
          "Défense",
          "Recours",
          "Recours",
          "Défense",
          "Défense",
          "Recours",
          "Recours",
          "Recours",
          "Recours",
          "Recours",
          "Recours",
          "Recours",
          "Recours",
          "Recours",
          "Recours",
          "Défense",
          "Recours",
          "Recours",
          "Recours",
          "Défense",
          "Recours",
          "Recours",
          "Recours",
          "Recours",
          "Défense",
          "Recours",
          "Recours",
          "Recours",
          "Recours",
          "Recours",
          "Défense",
          "Recours",
          "Recours",
          "Recours",
          "Recours",
          "Recours",
          "Défense",
          "Recours",
          "Recours",
          "Recours",
          "Recours",
          "Recours",
          "Défense",
          "Défense",
          "Défense",
          "Recours",
          "Recours",
          "Recours",
          "Défense",
          "Recours",
          "Recours",
          "Recours",
          "Recours",
          "Défense",
          "Recours",
          "Recours",
          "Recours",
          "Recours",
          "Recours",
          "Recours",
          "Défense",
          "Défense",
          "Recours",
          "Recours",
          "Recours",
          "Recours",
          "Recours",
          "Recours",
          "Défense",
          "Recours",
          "Recours",
          "Recours",
          "Recours",
          "Recours",
          "Recours",
          "Recours",
          "Défense",
          "Recours",
          "Défense",
          "Défense",
          "Recours",
          "Défense",
          "Recours",
          "Défense",
          "Recours",
          "Recours",
          "Défense",
          "Recours",
          "Recours",
          "Recours",
          "Défense",
          "Recours",
          "Défense",
          "Recours",
          "Recours",
          "Recours",
          "Recours",
          "Recours",
          "Défense",
          "Recours",
          "Recours",
          "Recours",
          "Recours",
          "Recours",
          "Défense",
          "Recours",
          "Recours",
          "Recours",
          "Recours",
          "Défense",
          "Défense",
          "Recours",
          "Recours",
          "Recours",
          "Défense",
          "Recours",
          "Recours",
          "Défense",
          "Recours",
          "Défense",
          "Recours",
          "Défense",
          "Recours",
          "Défense",
          "Recours",
          "Recours",
          "Recours",
          "Défense",
          "Recours",
          "Défense",
          "Recours",
          "Recours",
          "Recours",
          "Recours",
          "Défense",
          "Défense",
          "Recours",
          "Recours",
          "Recours",
          "Défense",
          "Recours",
          "Défense",
          "Recours",
          "Recours",
          "Défense",
          "Défense",
          "Recours",
          "Recours",
          "Recours",
          "Recours",
          "Recours",
          "Recours",
          "Recours",
          "Recours",
          "Recours",
          "Recours",
          "Défense",
          "Recours",
          "Recours",
          "Défense",
          "Recours",
          "Recours",
          "Recours",
          "Recours",
          "Recours",
          "Recours",
          "Recours",
          "Défense",
          "Recours",
          "Recours",
          "Recours",
          "Défense",
          "Recours",
          "Recours",
          "Recours",
          "Recours",
          "Recours",
          "Défense",
          "Recours",
          "Recours",
          "Défense",
          "Recours",
          "Recours",
          "Recours",
          "Recours",
          "Défense",
          "Recours",
          "Défense",
          "Défense",
          "Recours",
          "Recours",
          "Défense",
          "Défense",
          "Recours",
          "Recours",
          "Recours",
          "Recours",
          "Recours",
          "Défense",
          "Défense",
          "Recours",
          "Défense",
          "Défense",
          "Recours",
          "Recours",
          "Recours",
          "Recours",
          "Recours",
          "Recours",
          "Recours",
          "Défense",
          "Recours",
          "Défense",
          "Recours",
          "Recours",
          "Recours",
          "Recours",
          "Défense",
          "Recours",
          "Recours",
          "Recours",
          "Recours",
          "Recours",
          "Recours",
          "Recours",
          "Recours",
          "Recours",
          "Recours",
          "Recours",
          "Recours",
          "Recours",
          "Recours",
          "Recours",
          "Recours",
          "Recours",
          "Recours",
          "Recours",
          "Recours",
          "Recours",
          "Défense",
          "Recours",
          "Recours",
          "Recours",
          "Défense",
          "Recours",
          "Recours",
          "Recours",
          "Défense",
          "Défense",
          "Recours",
          "Recours",
          "Recours",
          "Recours",
          "Défense",
          "Recours",
          "Recours",
          "Défense",
          "Défense",
          "Recours",
          "Défense",
          "Recours",
          "Défense",
          "Recours",
          "Recours",
          "Recours",
          "Défense",
          "Recours",
          "Défense",
          "Recours",
          "Recours",
          "Recours",
          "Recours",
          "Recours",
          "Recours",
          "Recours",
          "Recours",
          "Défense",
          "Recours",
          "Recours",
          "Recours",
          "Défense",
          "Recours",
          "Recours",
          "Recours",
          "Défense",
          "Recours",
          "Recours",
          "Recours",
          "Recours",
          "Défense",
          "Recours",
          "Recours",
          "Recours",
          "Recours",
          "Recours",
          "Recours",
          "Recours",
          "Recours",
          "Recours",
          "Recours",
          "Recours",
          "Défense",
          "Défense",
          "Recours",
          "Recours",
          "Recours",
          "Recours",
          "Défense",
          "Recours",
          "Recours",
          "Recours"
         ],
         "xaxis": "x",
         "yaxis": "y"
        },
        {
         "alignmentgroup": "True",
         "bingroup": "x",
         "histnorm": "probability density",
         "hovertemplate": "Fraud=Oui<br>Position GA=%{x}<br>count=%{y}<extra></extra>",
         "legendgroup": "Oui",
         "marker": {
          "color": "#EF553B"
         },
         "name": "Oui",
         "offsetgroup": "Oui",
         "orientation": "v",
         "showlegend": true,
         "type": "histogram",
         "x": [
          "Recours",
          "Recours",
          "Recours",
          "Recours",
          "Recours",
          "Recours",
          "Recours",
          "Recours",
          "Recours",
          "Recours",
          "Recours",
          "Recours",
          "Recours",
          "Recours",
          "Recours",
          "Défense",
          "Recours",
          "Défense",
          "Recours",
          "Recours",
          "Recours",
          "Défense",
          "Recours",
          "Recours",
          "Recours",
          "Recours",
          "Défense",
          "Recours",
          "Défense",
          "Défense",
          "Recours",
          "Défense",
          "Recours",
          "Défense",
          "Recours",
          "Recours",
          "Défense",
          "Défense",
          "Recours",
          "Recours",
          "Recours",
          "Recours",
          "Recours",
          "Recours",
          "Recours",
          "Recours",
          "Recours",
          "Recours",
          "Recours",
          "Recours",
          "Recours",
          "Recours",
          "Recours",
          "Recours",
          "Défense",
          "Recours",
          "Recours",
          "Recours",
          "Recours",
          "Recours",
          "Recours",
          "Recours",
          "Recours",
          "Recours",
          "Recours",
          "Recours",
          "Recours",
          "Recours",
          "Recours",
          "Recours",
          "Recours",
          "Recours",
          "Recours",
          "Recours",
          "Recours",
          "Recours",
          "Recours",
          "Recours",
          "Recours",
          "Recours",
          "Recours",
          "Recours",
          "Recours",
          "Recours",
          "Défense",
          "Recours",
          "Recours",
          "Défense",
          "Recours",
          "Recours",
          "Recours",
          "Recours",
          "Recours",
          "Recours",
          "Recours",
          "Recours",
          "Recours",
          "Recours",
          "Recours",
          "Recours",
          "Recours",
          "Recours",
          "Recours",
          "Recours",
          "Recours",
          "Recours",
          "Recours",
          "Recours",
          "Recours",
          "Recours",
          "Recours",
          "Recours",
          "Recours",
          "Défense",
          "Recours",
          "Recours",
          "Recours",
          "Recours",
          "Recours",
          "Recours",
          "Recours",
          "Défense",
          "Défense",
          "Recours",
          "Recours",
          "Recours",
          "Recours",
          "Recours",
          "Recours",
          "Recours",
          "Recours",
          "Recours",
          "Recours",
          "Recours",
          "Défense",
          "Recours",
          "Recours",
          "Recours",
          "Recours",
          "Recours",
          "Défense",
          "Recours",
          "Recours",
          "Recours",
          "Défense",
          "Défense",
          "Recours",
          "Recours",
          "Recours",
          "Recours",
          "Recours",
          "Recours",
          "Recours",
          "Défense",
          "Recours",
          "Recours",
          "Recours",
          "Recours",
          "Recours",
          "Défense",
          "Recours",
          "Recours",
          "Défense",
          "Défense",
          "Recours",
          "Défense",
          "Recours",
          "Recours",
          "Recours",
          "Recours",
          "Défense",
          "Recours",
          "Recours",
          "Recours",
          "Défense",
          "Recours",
          "Défense",
          "Recours",
          "Recours",
          "Recours",
          "Défense",
          "Recours",
          "Recours",
          "Recours",
          "Recours",
          "Recours",
          "Recours",
          "Défense",
          "Recours",
          "Recours",
          "Recours",
          "Recours",
          "Recours",
          "Recours",
          "Recours",
          "Recours",
          "Recours",
          "Recours",
          "Recours",
          "Recours",
          "Recours",
          "Recours",
          "Recours",
          "Défense",
          "Recours",
          "Recours",
          "Défense",
          "Recours",
          "Défense",
          "Recours",
          "Recours",
          "Recours",
          "Recours",
          "Recours",
          "Recours"
         ],
         "xaxis": "x",
         "yaxis": "y"
        }
       ],
       "layout": {
        "barmode": "relative",
        "legend": {
         "title": {
          "text": "Fraud"
         },
         "tracegroupgap": 0
        },
        "margin": {
         "t": 60
        },
        "template": {
         "data": {
          "bar": [
           {
            "error_x": {
             "color": "#2a3f5f"
            },
            "error_y": {
             "color": "#2a3f5f"
            },
            "marker": {
             "line": {
              "color": "#E5ECF6",
              "width": 0.5
             }
            },
            "type": "bar"
           }
          ],
          "barpolar": [
           {
            "marker": {
             "line": {
              "color": "#E5ECF6",
              "width": 0.5
             }
            },
            "type": "barpolar"
           }
          ],
          "carpet": [
           {
            "aaxis": {
             "endlinecolor": "#2a3f5f",
             "gridcolor": "white",
             "linecolor": "white",
             "minorgridcolor": "white",
             "startlinecolor": "#2a3f5f"
            },
            "baxis": {
             "endlinecolor": "#2a3f5f",
             "gridcolor": "white",
             "linecolor": "white",
             "minorgridcolor": "white",
             "startlinecolor": "#2a3f5f"
            },
            "type": "carpet"
           }
          ],
          "choropleth": [
           {
            "colorbar": {
             "outlinewidth": 0,
             "ticks": ""
            },
            "type": "choropleth"
           }
          ],
          "contour": [
           {
            "colorbar": {
             "outlinewidth": 0,
             "ticks": ""
            },
            "colorscale": [
             [
              0,
              "#0d0887"
             ],
             [
              0.1111111111111111,
              "#46039f"
             ],
             [
              0.2222222222222222,
              "#7201a8"
             ],
             [
              0.3333333333333333,
              "#9c179e"
             ],
             [
              0.4444444444444444,
              "#bd3786"
             ],
             [
              0.5555555555555556,
              "#d8576b"
             ],
             [
              0.6666666666666666,
              "#ed7953"
             ],
             [
              0.7777777777777778,
              "#fb9f3a"
             ],
             [
              0.8888888888888888,
              "#fdca26"
             ],
             [
              1,
              "#f0f921"
             ]
            ],
            "type": "contour"
           }
          ],
          "contourcarpet": [
           {
            "colorbar": {
             "outlinewidth": 0,
             "ticks": ""
            },
            "type": "contourcarpet"
           }
          ],
          "heatmap": [
           {
            "colorbar": {
             "outlinewidth": 0,
             "ticks": ""
            },
            "colorscale": [
             [
              0,
              "#0d0887"
             ],
             [
              0.1111111111111111,
              "#46039f"
             ],
             [
              0.2222222222222222,
              "#7201a8"
             ],
             [
              0.3333333333333333,
              "#9c179e"
             ],
             [
              0.4444444444444444,
              "#bd3786"
             ],
             [
              0.5555555555555556,
              "#d8576b"
             ],
             [
              0.6666666666666666,
              "#ed7953"
             ],
             [
              0.7777777777777778,
              "#fb9f3a"
             ],
             [
              0.8888888888888888,
              "#fdca26"
             ],
             [
              1,
              "#f0f921"
             ]
            ],
            "type": "heatmap"
           }
          ],
          "heatmapgl": [
           {
            "colorbar": {
             "outlinewidth": 0,
             "ticks": ""
            },
            "colorscale": [
             [
              0,
              "#0d0887"
             ],
             [
              0.1111111111111111,
              "#46039f"
             ],
             [
              0.2222222222222222,
              "#7201a8"
             ],
             [
              0.3333333333333333,
              "#9c179e"
             ],
             [
              0.4444444444444444,
              "#bd3786"
             ],
             [
              0.5555555555555556,
              "#d8576b"
             ],
             [
              0.6666666666666666,
              "#ed7953"
             ],
             [
              0.7777777777777778,
              "#fb9f3a"
             ],
             [
              0.8888888888888888,
              "#fdca26"
             ],
             [
              1,
              "#f0f921"
             ]
            ],
            "type": "heatmapgl"
           }
          ],
          "histogram": [
           {
            "marker": {
             "colorbar": {
              "outlinewidth": 0,
              "ticks": ""
             }
            },
            "type": "histogram"
           }
          ],
          "histogram2d": [
           {
            "colorbar": {
             "outlinewidth": 0,
             "ticks": ""
            },
            "colorscale": [
             [
              0,
              "#0d0887"
             ],
             [
              0.1111111111111111,
              "#46039f"
             ],
             [
              0.2222222222222222,
              "#7201a8"
             ],
             [
              0.3333333333333333,
              "#9c179e"
             ],
             [
              0.4444444444444444,
              "#bd3786"
             ],
             [
              0.5555555555555556,
              "#d8576b"
             ],
             [
              0.6666666666666666,
              "#ed7953"
             ],
             [
              0.7777777777777778,
              "#fb9f3a"
             ],
             [
              0.8888888888888888,
              "#fdca26"
             ],
             [
              1,
              "#f0f921"
             ]
            ],
            "type": "histogram2d"
           }
          ],
          "histogram2dcontour": [
           {
            "colorbar": {
             "outlinewidth": 0,
             "ticks": ""
            },
            "colorscale": [
             [
              0,
              "#0d0887"
             ],
             [
              0.1111111111111111,
              "#46039f"
             ],
             [
              0.2222222222222222,
              "#7201a8"
             ],
             [
              0.3333333333333333,
              "#9c179e"
             ],
             [
              0.4444444444444444,
              "#bd3786"
             ],
             [
              0.5555555555555556,
              "#d8576b"
             ],
             [
              0.6666666666666666,
              "#ed7953"
             ],
             [
              0.7777777777777778,
              "#fb9f3a"
             ],
             [
              0.8888888888888888,
              "#fdca26"
             ],
             [
              1,
              "#f0f921"
             ]
            ],
            "type": "histogram2dcontour"
           }
          ],
          "mesh3d": [
           {
            "colorbar": {
             "outlinewidth": 0,
             "ticks": ""
            },
            "type": "mesh3d"
           }
          ],
          "parcoords": [
           {
            "line": {
             "colorbar": {
              "outlinewidth": 0,
              "ticks": ""
             }
            },
            "type": "parcoords"
           }
          ],
          "pie": [
           {
            "automargin": true,
            "type": "pie"
           }
          ],
          "scatter": [
           {
            "marker": {
             "colorbar": {
              "outlinewidth": 0,
              "ticks": ""
             }
            },
            "type": "scatter"
           }
          ],
          "scatter3d": [
           {
            "line": {
             "colorbar": {
              "outlinewidth": 0,
              "ticks": ""
             }
            },
            "marker": {
             "colorbar": {
              "outlinewidth": 0,
              "ticks": ""
             }
            },
            "type": "scatter3d"
           }
          ],
          "scattercarpet": [
           {
            "marker": {
             "colorbar": {
              "outlinewidth": 0,
              "ticks": ""
             }
            },
            "type": "scattercarpet"
           }
          ],
          "scattergeo": [
           {
            "marker": {
             "colorbar": {
              "outlinewidth": 0,
              "ticks": ""
             }
            },
            "type": "scattergeo"
           }
          ],
          "scattergl": [
           {
            "marker": {
             "colorbar": {
              "outlinewidth": 0,
              "ticks": ""
             }
            },
            "type": "scattergl"
           }
          ],
          "scattermapbox": [
           {
            "marker": {
             "colorbar": {
              "outlinewidth": 0,
              "ticks": ""
             }
            },
            "type": "scattermapbox"
           }
          ],
          "scatterpolar": [
           {
            "marker": {
             "colorbar": {
              "outlinewidth": 0,
              "ticks": ""
             }
            },
            "type": "scatterpolar"
           }
          ],
          "scatterpolargl": [
           {
            "marker": {
             "colorbar": {
              "outlinewidth": 0,
              "ticks": ""
             }
            },
            "type": "scatterpolargl"
           }
          ],
          "scatterternary": [
           {
            "marker": {
             "colorbar": {
              "outlinewidth": 0,
              "ticks": ""
             }
            },
            "type": "scatterternary"
           }
          ],
          "surface": [
           {
            "colorbar": {
             "outlinewidth": 0,
             "ticks": ""
            },
            "colorscale": [
             [
              0,
              "#0d0887"
             ],
             [
              0.1111111111111111,
              "#46039f"
             ],
             [
              0.2222222222222222,
              "#7201a8"
             ],
             [
              0.3333333333333333,
              "#9c179e"
             ],
             [
              0.4444444444444444,
              "#bd3786"
             ],
             [
              0.5555555555555556,
              "#d8576b"
             ],
             [
              0.6666666666666666,
              "#ed7953"
             ],
             [
              0.7777777777777778,
              "#fb9f3a"
             ],
             [
              0.8888888888888888,
              "#fdca26"
             ],
             [
              1,
              "#f0f921"
             ]
            ],
            "type": "surface"
           }
          ],
          "table": [
           {
            "cells": {
             "fill": {
              "color": "#EBF0F8"
             },
             "line": {
              "color": "white"
             }
            },
            "header": {
             "fill": {
              "color": "#C8D4E3"
             },
             "line": {
              "color": "white"
             }
            },
            "type": "table"
           }
          ]
         },
         "layout": {
          "annotationdefaults": {
           "arrowcolor": "#2a3f5f",
           "arrowhead": 0,
           "arrowwidth": 1
          },
          "coloraxis": {
           "colorbar": {
            "outlinewidth": 0,
            "ticks": ""
           }
          },
          "colorscale": {
           "diverging": [
            [
             0,
             "#8e0152"
            ],
            [
             0.1,
             "#c51b7d"
            ],
            [
             0.2,
             "#de77ae"
            ],
            [
             0.3,
             "#f1b6da"
            ],
            [
             0.4,
             "#fde0ef"
            ],
            [
             0.5,
             "#f7f7f7"
            ],
            [
             0.6,
             "#e6f5d0"
            ],
            [
             0.7,
             "#b8e186"
            ],
            [
             0.8,
             "#7fbc41"
            ],
            [
             0.9,
             "#4d9221"
            ],
            [
             1,
             "#276419"
            ]
           ],
           "sequential": [
            [
             0,
             "#0d0887"
            ],
            [
             0.1111111111111111,
             "#46039f"
            ],
            [
             0.2222222222222222,
             "#7201a8"
            ],
            [
             0.3333333333333333,
             "#9c179e"
            ],
            [
             0.4444444444444444,
             "#bd3786"
            ],
            [
             0.5555555555555556,
             "#d8576b"
            ],
            [
             0.6666666666666666,
             "#ed7953"
            ],
            [
             0.7777777777777778,
             "#fb9f3a"
            ],
            [
             0.8888888888888888,
             "#fdca26"
            ],
            [
             1,
             "#f0f921"
            ]
           ],
           "sequentialminus": [
            [
             0,
             "#0d0887"
            ],
            [
             0.1111111111111111,
             "#46039f"
            ],
            [
             0.2222222222222222,
             "#7201a8"
            ],
            [
             0.3333333333333333,
             "#9c179e"
            ],
            [
             0.4444444444444444,
             "#bd3786"
            ],
            [
             0.5555555555555556,
             "#d8576b"
            ],
            [
             0.6666666666666666,
             "#ed7953"
            ],
            [
             0.7777777777777778,
             "#fb9f3a"
            ],
            [
             0.8888888888888888,
             "#fdca26"
            ],
            [
             1,
             "#f0f921"
            ]
           ]
          },
          "colorway": [
           "#636efa",
           "#EF553B",
           "#00cc96",
           "#ab63fa",
           "#FFA15A",
           "#19d3f3",
           "#FF6692",
           "#B6E880",
           "#FF97FF",
           "#FECB52"
          ],
          "font": {
           "color": "#2a3f5f"
          },
          "geo": {
           "bgcolor": "white",
           "lakecolor": "white",
           "landcolor": "#E5ECF6",
           "showlakes": true,
           "showland": true,
           "subunitcolor": "white"
          },
          "hoverlabel": {
           "align": "left"
          },
          "hovermode": "closest",
          "mapbox": {
           "style": "light"
          },
          "paper_bgcolor": "white",
          "plot_bgcolor": "#E5ECF6",
          "polar": {
           "angularaxis": {
            "gridcolor": "white",
            "linecolor": "white",
            "ticks": ""
           },
           "bgcolor": "#E5ECF6",
           "radialaxis": {
            "gridcolor": "white",
            "linecolor": "white",
            "ticks": ""
           }
          },
          "scene": {
           "xaxis": {
            "backgroundcolor": "#E5ECF6",
            "gridcolor": "white",
            "gridwidth": 2,
            "linecolor": "white",
            "showbackground": true,
            "ticks": "",
            "zerolinecolor": "white"
           },
           "yaxis": {
            "backgroundcolor": "#E5ECF6",
            "gridcolor": "white",
            "gridwidth": 2,
            "linecolor": "white",
            "showbackground": true,
            "ticks": "",
            "zerolinecolor": "white"
           },
           "zaxis": {
            "backgroundcolor": "#E5ECF6",
            "gridcolor": "white",
            "gridwidth": 2,
            "linecolor": "white",
            "showbackground": true,
            "ticks": "",
            "zerolinecolor": "white"
           }
          },
          "shapedefaults": {
           "line": {
            "color": "#2a3f5f"
           }
          },
          "ternary": {
           "aaxis": {
            "gridcolor": "white",
            "linecolor": "white",
            "ticks": ""
           },
           "baxis": {
            "gridcolor": "white",
            "linecolor": "white",
            "ticks": ""
           },
           "bgcolor": "#E5ECF6",
           "caxis": {
            "gridcolor": "white",
            "linecolor": "white",
            "ticks": ""
           }
          },
          "title": {
           "x": 0.05
          },
          "xaxis": {
           "automargin": true,
           "gridcolor": "white",
           "linecolor": "white",
           "ticks": "",
           "title": {
            "standoff": 15
           },
           "zerolinecolor": "white",
           "zerolinewidth": 2
          },
          "yaxis": {
           "automargin": true,
           "gridcolor": "white",
           "linecolor": "white",
           "ticks": "",
           "title": {
            "standoff": 15
           },
           "zerolinecolor": "white",
           "zerolinewidth": 2
          }
         }
        },
        "xaxis": {
         "anchor": "y",
         "domain": [
          0,
          1
         ],
         "title": {
          "text": "Position GA"
         }
        },
        "yaxis": {
         "anchor": "x",
         "domain": [
          0,
          1
         ],
         "title": {
          "text": "count"
         }
        }
       }
      },
      "text/html": [
       "<div>\n",
       "        \n",
       "        \n",
       "            <div id=\"ac0e9ec4-71f2-4e9f-a47b-4855609af7f6\" class=\"plotly-graph-div\" style=\"height:525px; width:100%;\"></div>\n",
       "            <script type=\"text/javascript\">\n",
       "                require([\"plotly\"], function(Plotly) {\n",
       "                    window.PLOTLYENV=window.PLOTLYENV || {};\n",
       "                    \n",
       "                if (document.getElementById(\"ac0e9ec4-71f2-4e9f-a47b-4855609af7f6\")) {\n",
       "                    Plotly.newPlot(\n",
       "                        'ac0e9ec4-71f2-4e9f-a47b-4855609af7f6',\n",
       "                        [{\"alignmentgroup\": \"True\", \"bingroup\": \"x\", \"histnorm\": \"probability density\", \"hovertemplate\": \"Fraud=Non<br>Position GA=%{x}<br>count=%{y}<extra></extra>\", \"legendgroup\": \"Non\", \"marker\": {\"color\": \"#636efa\"}, \"name\": \"Non\", \"offsetgroup\": \"Non\", \"orientation\": \"v\", \"showlegend\": true, \"type\": \"histogram\", \"x\": [\"Recours\", \"Recours\", \"Recours\", \"D\\u00e9fense\", \"Recours\", \"Recours\", \"Recours\", \"Recours\", \"Recours\", \"Recours\", \"Recours\", \"Recours\", \"Recours\", \"Recours\", \"Recours\", \"Recours\", \"Recours\", \"Recours\", \"Recours\", \"Recours\", \"Recours\", \"Recours\", \"Recours\", \"Recours\", \"Recours\", \"Recours\", \"Recours\", \"Recours\", \"D\\u00e9fense\", \"Recours\", \"Recours\", \"D\\u00e9fense\", \"Recours\", \"Recours\", \"Recours\", \"Recours\", \"D\\u00e9fense\", \"Recours\", \"D\\u00e9fense\", \"Recours\", \"Recours\", \"Recours\", \"D\\u00e9fense\", \"D\\u00e9fense\", \"Recours\", \"Recours\", \"Recours\", \"Recours\", \"Recours\", \"Recours\", \"Recours\", \"Recours\", \"Recours\", \"Recours\", \"Recours\", \"Recours\", \"D\\u00e9fense\", \"Recours\", \"Recours\", \"Recours\", \"D\\u00e9fense\", \"Recours\", \"Recours\", \"Recours\", \"D\\u00e9fense\", \"Recours\", \"Recours\", \"Recours\", \"Recours\", \"Recours\", \"Recours\", \"Recours\", \"Recours\", \"Recours\", \"Recours\", \"Recours\", \"Recours\", \"Recours\", \"D\\u00e9fense\", \"Recours\", \"Recours\", \"D\\u00e9fense\", \"Recours\", \"Recours\", \"Recours\", \"Recours\", \"D\\u00e9fense\", \"Recours\", \"Recours\", \"Recours\", \"Recours\", \"Recours\", \"Recours\", \"Recours\", \"Recours\", \"D\\u00e9fense\", \"D\\u00e9fense\", \"D\\u00e9fense\", \"Recours\", \"Recours\", \"Recours\", \"Recours\", \"Recours\", \"Recours\", \"Recours\", \"Recours\", \"Recours\", \"D\\u00e9fense\", \"Recours\", \"Recours\", \"D\\u00e9fense\", \"Recours\", \"D\\u00e9fense\", \"D\\u00e9fense\", \"D\\u00e9fense\", \"Recours\", \"Recours\", \"Recours\", \"Recours\", \"Recours\", \"Recours\", \"Recours\", \"D\\u00e9fense\", \"Recours\", \"Recours\", \"D\\u00e9fense\", \"Recours\", \"Recours\", \"Recours\", \"Recours\", \"Recours\", \"Recours\", \"D\\u00e9fense\", \"Recours\", \"Recours\", \"Recours\", \"Recours\", \"D\\u00e9fense\", \"D\\u00e9fense\", \"Recours\", \"D\\u00e9fense\", \"Recours\", \"Recours\", \"Recours\", \"Recours\", \"Recours\", \"Recours\", \"D\\u00e9fense\", \"Recours\", \"Recours\", \"Recours\", \"Recours\", \"Recours\", \"Recours\", \"D\\u00e9fense\", \"Recours\", \"Recours\", \"Recours\", \"Recours\", \"D\\u00e9fense\", \"D\\u00e9fense\", \"Recours\", \"D\\u00e9fense\", \"D\\u00e9fense\", \"Recours\", \"Recours\", \"Recours\", \"Recours\", \"Recours\", \"Recours\", \"D\\u00e9fense\", \"Recours\", \"Recours\", \"Recours\", \"Recours\", \"Recours\", \"Recours\", \"Recours\", \"Recours\", \"D\\u00e9fense\", \"Recours\", \"Recours\", \"Recours\", \"Recours\", \"Recours\", \"Recours\", \"D\\u00e9fense\", \"Recours\", \"Recours\", \"Recours\", \"D\\u00e9fense\", \"Recours\", \"Recours\", \"Recours\", \"Recours\", \"Recours\", \"Recours\", \"Recours\", \"D\\u00e9fense\", \"Recours\", \"Recours\", \"Recours\", \"Recours\", \"Recours\", \"D\\u00e9fense\", \"D\\u00e9fense\", \"D\\u00e9fense\", \"Recours\", \"Recours\", \"Recours\", \"Recours\", \"D\\u00e9fense\", \"Recours\", \"Recours\", \"Recours\", \"Recours\", \"Recours\", \"D\\u00e9fense\", \"Recours\", \"D\\u00e9fense\", \"Recours\", \"Recours\", \"D\\u00e9fense\", \"Recours\", \"Recours\", \"Recours\", \"Recours\", \"Recours\", \"D\\u00e9fense\", \"Recours\", \"D\\u00e9fense\", \"Recours\", \"Recours\", \"Recours\", \"Recours\", \"Recours\", \"Recours\", \"Recours\", \"Recours\", \"Recours\", \"Recours\", \"Recours\", \"Recours\", \"Recours\", \"Recours\", \"Recours\", \"Recours\", \"Recours\", \"D\\u00e9fense\", \"Recours\", \"Recours\", \"Recours\", \"Recours\", \"Recours\", \"Recours\", \"Recours\", \"Recours\", \"Recours\", \"Recours\", \"Recours\", \"Recours\", \"D\\u00e9fense\", \"Recours\", \"Recours\", \"Recours\", \"D\\u00e9fense\", \"Recours\", \"Recours\", \"Recours\", \"Recours\", \"Recours\", \"Recours\", \"Recours\", \"Recours\", \"Recours\", \"Recours\", \"Recours\", \"Recours\", \"Recours\", \"Recours\", \"Recours\", \"Recours\", \"Recours\", \"D\\u00e9fense\", \"Recours\", \"Recours\", \"Recours\", \"Recours\", \"Recours\", \"Recours\", \"Recours\", \"Recours\", \"Recours\", \"Recours\", \"Recours\", \"Recours\", \"Recours\", \"Recours\", \"Recours\", \"Recours\", \"Recours\", \"Recours\", \"Recours\", \"Recours\", \"Recours\", \"Recours\", \"Recours\", \"Recours\", \"Recours\", \"D\\u00e9fense\", \"Recours\", \"Recours\", \"D\\u00e9fense\", \"Recours\", \"Recours\", \"D\\u00e9fense\", \"Recours\", \"Recours\", \"Recours\", \"Recours\", \"D\\u00e9fense\", \"Recours\", \"Recours\", \"Recours\", \"Recours\", \"Recours\", \"Recours\", \"Recours\", \"Recours\", \"Recours\", \"Recours\", \"Recours\", \"D\\u00e9fense\", \"Recours\", \"Recours\", \"Recours\", \"Recours\", \"Recours\", \"Recours\", \"Recours\", \"Recours\", \"Recours\", \"Recours\", \"Recours\", \"Recours\", \"D\\u00e9fense\", \"Recours\", \"Recours\", \"Recours\", \"Recours\", \"Recours\", \"Recours\", \"Recours\", \"Recours\", \"Recours\", \"Recours\", \"Recours\", \"Recours\", \"Recours\", \"Recours\", \"Recours\", \"Recours\", \"Recours\", \"Recours\", \"Recours\", \"Recours\", \"Recours\", \"Recours\", \"Recours\", \"Recours\", \"Recours\", \"Recours\", \"Recours\", \"Recours\", \"Recours\", \"Recours\", \"Recours\", \"Recours\", \"Recours\", \"Recours\", \"Recours\", \"Recours\", \"Recours\", \"Recours\", \"Recours\", \"Recours\", \"Recours\", \"Recours\", \"D\\u00e9fense\", \"Recours\", \"D\\u00e9fense\", \"Recours\", \"D\\u00e9fense\", \"Recours\", \"Recours\", \"Recours\", \"Recours\", \"Recours\", \"Recours\", \"Recours\", \"Recours\", \"Recours\", \"Recours\", \"D\\u00e9fense\", \"Recours\", \"Recours\", \"D\\u00e9fense\", \"Recours\", \"Recours\", \"Recours\", \"Recours\", \"Recours\", \"Recours\", \"Recours\", \"Recours\", \"Recours\", \"Recours\", \"Recours\", \"Recours\", \"Recours\", \"Recours\", \"Recours\", \"Recours\", \"Recours\", \"Recours\", \"Recours\", \"Recours\", \"Recours\", \"Recours\", \"Recours\", \"D\\u00e9fense\", \"D\\u00e9fense\", \"Recours\", \"Recours\", \"Recours\", \"Recours\", \"Recours\", \"D\\u00e9fense\", \"Recours\", \"D\\u00e9fense\", \"Recours\", \"Recours\", \"Recours\", \"Recours\", \"Recours\", \"Recours\", \"Recours\", \"Recours\", \"Recours\", \"Recours\", \"Recours\", \"D\\u00e9fense\", \"Recours\", \"Recours\", \"Recours\", \"Recours\", \"D\\u00e9fense\", \"Recours\", \"Recours\", \"Recours\", \"Recours\", \"D\\u00e9fense\", \"D\\u00e9fense\", \"Recours\", \"Recours\", \"Recours\", \"Recours\", \"Recours\", \"Recours\", \"Recours\", \"Recours\", \"Recours\", \"Recours\", \"Recours\", \"Recours\", \"Recours\", \"Recours\", \"Recours\", \"Recours\", \"Recours\", \"Recours\", \"Recours\", \"Recours\", \"Recours\", \"D\\u00e9fense\", \"Recours\", \"Recours\", \"Recours\", \"Recours\", \"Recours\", \"Recours\", \"Recours\", \"D\\u00e9fense\", \"D\\u00e9fense\", \"Recours\", \"Recours\", \"Recours\", \"D\\u00e9fense\", \"Recours\", \"Recours\", \"Recours\", \"Recours\", \"Recours\", \"Recours\", \"Recours\", \"D\\u00e9fense\", \"D\\u00e9fense\", \"Recours\", \"D\\u00e9fense\", \"Recours\", \"Recours\", \"Recours\", \"Recours\", \"Recours\", \"Recours\", \"Recours\", \"Recours\", \"Recours\", \"Recours\", \"Recours\", \"Recours\", \"Recours\", \"Recours\", \"Recours\", \"Recours\", \"Recours\", \"Recours\", \"D\\u00e9fense\", \"Recours\", \"Recours\", \"D\\u00e9fense\", \"Recours\", \"Recours\", \"D\\u00e9fense\", \"Recours\", \"Recours\", \"Recours\", \"Recours\", \"D\\u00e9fense\", \"Recours\", \"Recours\", \"Recours\", \"Recours\", \"D\\u00e9fense\", \"Recours\", \"Recours\", \"D\\u00e9fense\", \"Recours\", \"D\\u00e9fense\", \"Recours\", \"Recours\", \"Recours\", \"Recours\", \"Recours\", \"Recours\", \"Recours\", \"D\\u00e9fense\", \"D\\u00e9fense\", \"Recours\", \"Recours\", \"Recours\", \"D\\u00e9fense\", \"Recours\", \"Recours\", \"Recours\", \"D\\u00e9fense\", \"Recours\", \"Recours\", \"Recours\", \"Recours\", \"Recours\", \"D\\u00e9fense\", \"Recours\", \"Recours\", \"D\\u00e9fense\", \"D\\u00e9fense\", \"Recours\", \"Recours\", \"Recours\", \"Recours\", \"Recours\", \"Recours\", \"Recours\", \"Recours\", \"Recours\", \"Recours\", \"D\\u00e9fense\", \"Recours\", \"Recours\", \"Recours\", \"D\\u00e9fense\", \"Recours\", \"Recours\", \"Recours\", \"Recours\", \"D\\u00e9fense\", \"Recours\", \"Recours\", \"Recours\", \"Recours\", \"Recours\", \"D\\u00e9fense\", \"Recours\", \"Recours\", \"Recours\", \"Recours\", \"Recours\", \"D\\u00e9fense\", \"Recours\", \"Recours\", \"Recours\", \"Recours\", \"Recours\", \"D\\u00e9fense\", \"D\\u00e9fense\", \"D\\u00e9fense\", \"Recours\", \"Recours\", \"Recours\", \"D\\u00e9fense\", \"Recours\", \"Recours\", \"Recours\", \"Recours\", \"D\\u00e9fense\", \"Recours\", \"Recours\", \"Recours\", \"Recours\", \"Recours\", \"Recours\", \"D\\u00e9fense\", \"D\\u00e9fense\", \"Recours\", \"Recours\", \"Recours\", \"Recours\", \"Recours\", \"Recours\", \"D\\u00e9fense\", \"Recours\", \"Recours\", \"Recours\", \"Recours\", \"Recours\", \"Recours\", \"Recours\", \"D\\u00e9fense\", \"Recours\", \"D\\u00e9fense\", \"D\\u00e9fense\", \"Recours\", \"D\\u00e9fense\", \"Recours\", \"D\\u00e9fense\", \"Recours\", \"Recours\", \"D\\u00e9fense\", \"Recours\", \"Recours\", \"Recours\", \"D\\u00e9fense\", \"Recours\", \"D\\u00e9fense\", \"Recours\", \"Recours\", \"Recours\", \"Recours\", \"Recours\", \"D\\u00e9fense\", \"Recours\", \"Recours\", \"Recours\", \"Recours\", \"Recours\", \"D\\u00e9fense\", \"Recours\", \"Recours\", \"Recours\", \"Recours\", \"D\\u00e9fense\", \"D\\u00e9fense\", \"Recours\", \"Recours\", \"Recours\", \"D\\u00e9fense\", \"Recours\", \"Recours\", \"D\\u00e9fense\", \"Recours\", \"D\\u00e9fense\", \"Recours\", \"D\\u00e9fense\", \"Recours\", \"D\\u00e9fense\", \"Recours\", \"Recours\", \"Recours\", \"D\\u00e9fense\", \"Recours\", \"D\\u00e9fense\", \"Recours\", \"Recours\", \"Recours\", \"Recours\", \"D\\u00e9fense\", \"D\\u00e9fense\", \"Recours\", \"Recours\", \"Recours\", \"D\\u00e9fense\", \"Recours\", \"D\\u00e9fense\", \"Recours\", \"Recours\", \"D\\u00e9fense\", \"D\\u00e9fense\", \"Recours\", \"Recours\", \"Recours\", \"Recours\", \"Recours\", \"Recours\", \"Recours\", \"Recours\", \"Recours\", \"Recours\", \"D\\u00e9fense\", \"Recours\", \"Recours\", \"D\\u00e9fense\", \"Recours\", \"Recours\", \"Recours\", \"Recours\", \"Recours\", \"Recours\", \"Recours\", \"D\\u00e9fense\", \"Recours\", \"Recours\", \"Recours\", \"D\\u00e9fense\", \"Recours\", \"Recours\", \"Recours\", \"Recours\", \"Recours\", \"D\\u00e9fense\", \"Recours\", \"Recours\", \"D\\u00e9fense\", \"Recours\", \"Recours\", \"Recours\", \"Recours\", \"D\\u00e9fense\", \"Recours\", \"D\\u00e9fense\", \"D\\u00e9fense\", \"Recours\", \"Recours\", \"D\\u00e9fense\", \"D\\u00e9fense\", \"Recours\", \"Recours\", \"Recours\", \"Recours\", \"Recours\", \"D\\u00e9fense\", \"D\\u00e9fense\", \"Recours\", \"D\\u00e9fense\", \"D\\u00e9fense\", \"Recours\", \"Recours\", \"Recours\", \"Recours\", \"Recours\", \"Recours\", \"Recours\", \"D\\u00e9fense\", \"Recours\", \"D\\u00e9fense\", \"Recours\", \"Recours\", \"Recours\", \"Recours\", \"D\\u00e9fense\", \"Recours\", \"Recours\", \"Recours\", \"Recours\", \"Recours\", \"Recours\", \"Recours\", \"Recours\", \"Recours\", \"Recours\", \"Recours\", \"Recours\", \"Recours\", \"Recours\", \"Recours\", \"Recours\", \"Recours\", \"Recours\", \"Recours\", \"Recours\", \"Recours\", \"D\\u00e9fense\", \"Recours\", \"Recours\", \"Recours\", \"D\\u00e9fense\", \"Recours\", \"Recours\", \"Recours\", \"D\\u00e9fense\", \"D\\u00e9fense\", \"Recours\", \"Recours\", \"Recours\", \"Recours\", \"D\\u00e9fense\", \"Recours\", \"Recours\", \"D\\u00e9fense\", \"D\\u00e9fense\", \"Recours\", \"D\\u00e9fense\", \"Recours\", \"D\\u00e9fense\", \"Recours\", \"Recours\", \"Recours\", \"D\\u00e9fense\", \"Recours\", \"D\\u00e9fense\", \"Recours\", \"Recours\", \"Recours\", \"Recours\", \"Recours\", \"Recours\", \"Recours\", \"Recours\", \"D\\u00e9fense\", \"Recours\", \"Recours\", \"Recours\", \"D\\u00e9fense\", \"Recours\", \"Recours\", \"Recours\", \"D\\u00e9fense\", \"Recours\", \"Recours\", \"Recours\", \"Recours\", \"D\\u00e9fense\", \"Recours\", \"Recours\", \"Recours\", \"Recours\", \"Recours\", \"Recours\", \"Recours\", \"Recours\", \"Recours\", \"Recours\", \"Recours\", \"D\\u00e9fense\", \"D\\u00e9fense\", \"Recours\", \"Recours\", \"Recours\", \"Recours\", \"D\\u00e9fense\", \"Recours\", \"Recours\", \"Recours\"], \"xaxis\": \"x\", \"yaxis\": \"y\"}, {\"alignmentgroup\": \"True\", \"bingroup\": \"x\", \"histnorm\": \"probability density\", \"hovertemplate\": \"Fraud=Oui<br>Position GA=%{x}<br>count=%{y}<extra></extra>\", \"legendgroup\": \"Oui\", \"marker\": {\"color\": \"#EF553B\"}, \"name\": \"Oui\", \"offsetgroup\": \"Oui\", \"orientation\": \"v\", \"showlegend\": true, \"type\": \"histogram\", \"x\": [\"Recours\", \"Recours\", \"Recours\", \"Recours\", \"Recours\", \"Recours\", \"Recours\", \"Recours\", \"Recours\", \"Recours\", \"Recours\", \"Recours\", \"Recours\", \"Recours\", \"Recours\", \"D\\u00e9fense\", \"Recours\", \"D\\u00e9fense\", \"Recours\", \"Recours\", \"Recours\", \"D\\u00e9fense\", \"Recours\", \"Recours\", \"Recours\", \"Recours\", \"D\\u00e9fense\", \"Recours\", \"D\\u00e9fense\", \"D\\u00e9fense\", \"Recours\", \"D\\u00e9fense\", \"Recours\", \"D\\u00e9fense\", \"Recours\", \"Recours\", \"D\\u00e9fense\", \"D\\u00e9fense\", \"Recours\", \"Recours\", \"Recours\", \"Recours\", \"Recours\", \"Recours\", \"Recours\", \"Recours\", \"Recours\", \"Recours\", \"Recours\", \"Recours\", \"Recours\", \"Recours\", \"Recours\", \"Recours\", \"D\\u00e9fense\", \"Recours\", \"Recours\", \"Recours\", \"Recours\", \"Recours\", \"Recours\", \"Recours\", \"Recours\", \"Recours\", \"Recours\", \"Recours\", \"Recours\", \"Recours\", \"Recours\", \"Recours\", \"Recours\", \"Recours\", \"Recours\", \"Recours\", \"Recours\", \"Recours\", \"Recours\", \"Recours\", \"Recours\", \"Recours\", \"Recours\", \"Recours\", \"Recours\", \"Recours\", \"D\\u00e9fense\", \"Recours\", \"Recours\", \"D\\u00e9fense\", \"Recours\", \"Recours\", \"Recours\", \"Recours\", \"Recours\", \"Recours\", \"Recours\", \"Recours\", \"Recours\", \"Recours\", \"Recours\", \"Recours\", \"Recours\", \"Recours\", \"Recours\", \"Recours\", \"Recours\", \"Recours\", \"Recours\", \"Recours\", \"Recours\", \"Recours\", \"Recours\", \"Recours\", \"Recours\", \"D\\u00e9fense\", \"Recours\", \"Recours\", \"Recours\", \"Recours\", \"Recours\", \"Recours\", \"Recours\", \"D\\u00e9fense\", \"D\\u00e9fense\", \"Recours\", \"Recours\", \"Recours\", \"Recours\", \"Recours\", \"Recours\", \"Recours\", \"Recours\", \"Recours\", \"Recours\", \"Recours\", \"D\\u00e9fense\", \"Recours\", \"Recours\", \"Recours\", \"Recours\", \"Recours\", \"D\\u00e9fense\", \"Recours\", \"Recours\", \"Recours\", \"D\\u00e9fense\", \"D\\u00e9fense\", \"Recours\", \"Recours\", \"Recours\", \"Recours\", \"Recours\", \"Recours\", \"Recours\", \"D\\u00e9fense\", \"Recours\", \"Recours\", \"Recours\", \"Recours\", \"Recours\", \"D\\u00e9fense\", \"Recours\", \"Recours\", \"D\\u00e9fense\", \"D\\u00e9fense\", \"Recours\", \"D\\u00e9fense\", \"Recours\", \"Recours\", \"Recours\", \"Recours\", \"D\\u00e9fense\", \"Recours\", \"Recours\", \"Recours\", \"D\\u00e9fense\", \"Recours\", \"D\\u00e9fense\", \"Recours\", \"Recours\", \"Recours\", \"D\\u00e9fense\", \"Recours\", \"Recours\", \"Recours\", \"Recours\", \"Recours\", \"Recours\", \"D\\u00e9fense\", \"Recours\", \"Recours\", \"Recours\", \"Recours\", \"Recours\", \"Recours\", \"Recours\", \"Recours\", \"Recours\", \"Recours\", \"Recours\", \"Recours\", \"Recours\", \"Recours\", \"Recours\", \"D\\u00e9fense\", \"Recours\", \"Recours\", \"D\\u00e9fense\", \"Recours\", \"D\\u00e9fense\", \"Recours\", \"Recours\", \"Recours\", \"Recours\", \"Recours\", \"Recours\"], \"xaxis\": \"x\", \"yaxis\": \"y\"}],\n",
       "                        {\"barmode\": \"relative\", \"legend\": {\"title\": {\"text\": \"Fraud\"}, \"tracegroupgap\": 0}, \"margin\": {\"t\": 60}, \"template\": {\"data\": {\"bar\": [{\"error_x\": {\"color\": \"#2a3f5f\"}, \"error_y\": {\"color\": \"#2a3f5f\"}, \"marker\": {\"line\": {\"color\": \"#E5ECF6\", \"width\": 0.5}}, \"type\": \"bar\"}], \"barpolar\": [{\"marker\": {\"line\": {\"color\": \"#E5ECF6\", \"width\": 0.5}}, \"type\": \"barpolar\"}], \"carpet\": [{\"aaxis\": {\"endlinecolor\": \"#2a3f5f\", \"gridcolor\": \"white\", \"linecolor\": \"white\", \"minorgridcolor\": \"white\", \"startlinecolor\": \"#2a3f5f\"}, \"baxis\": {\"endlinecolor\": \"#2a3f5f\", \"gridcolor\": \"white\", \"linecolor\": \"white\", \"minorgridcolor\": \"white\", \"startlinecolor\": \"#2a3f5f\"}, \"type\": \"carpet\"}], \"choropleth\": [{\"colorbar\": {\"outlinewidth\": 0, \"ticks\": \"\"}, \"type\": \"choropleth\"}], \"contour\": [{\"colorbar\": {\"outlinewidth\": 0, \"ticks\": \"\"}, \"colorscale\": [[0.0, \"#0d0887\"], [0.1111111111111111, \"#46039f\"], [0.2222222222222222, \"#7201a8\"], [0.3333333333333333, \"#9c179e\"], [0.4444444444444444, \"#bd3786\"], [0.5555555555555556, \"#d8576b\"], [0.6666666666666666, \"#ed7953\"], [0.7777777777777778, \"#fb9f3a\"], [0.8888888888888888, \"#fdca26\"], [1.0, \"#f0f921\"]], \"type\": \"contour\"}], \"contourcarpet\": [{\"colorbar\": {\"outlinewidth\": 0, \"ticks\": \"\"}, \"type\": \"contourcarpet\"}], \"heatmap\": [{\"colorbar\": {\"outlinewidth\": 0, \"ticks\": \"\"}, \"colorscale\": [[0.0, \"#0d0887\"], [0.1111111111111111, \"#46039f\"], [0.2222222222222222, \"#7201a8\"], [0.3333333333333333, \"#9c179e\"], [0.4444444444444444, \"#bd3786\"], [0.5555555555555556, \"#d8576b\"], [0.6666666666666666, \"#ed7953\"], [0.7777777777777778, \"#fb9f3a\"], [0.8888888888888888, \"#fdca26\"], [1.0, \"#f0f921\"]], \"type\": \"heatmap\"}], \"heatmapgl\": [{\"colorbar\": {\"outlinewidth\": 0, \"ticks\": \"\"}, \"colorscale\": [[0.0, \"#0d0887\"], [0.1111111111111111, \"#46039f\"], [0.2222222222222222, \"#7201a8\"], [0.3333333333333333, \"#9c179e\"], [0.4444444444444444, \"#bd3786\"], [0.5555555555555556, \"#d8576b\"], [0.6666666666666666, \"#ed7953\"], [0.7777777777777778, \"#fb9f3a\"], [0.8888888888888888, \"#fdca26\"], [1.0, \"#f0f921\"]], \"type\": \"heatmapgl\"}], \"histogram\": [{\"marker\": {\"colorbar\": {\"outlinewidth\": 0, \"ticks\": \"\"}}, \"type\": \"histogram\"}], \"histogram2d\": [{\"colorbar\": {\"outlinewidth\": 0, \"ticks\": \"\"}, \"colorscale\": [[0.0, \"#0d0887\"], [0.1111111111111111, \"#46039f\"], [0.2222222222222222, \"#7201a8\"], [0.3333333333333333, \"#9c179e\"], [0.4444444444444444, \"#bd3786\"], [0.5555555555555556, \"#d8576b\"], [0.6666666666666666, \"#ed7953\"], [0.7777777777777778, \"#fb9f3a\"], [0.8888888888888888, \"#fdca26\"], [1.0, \"#f0f921\"]], \"type\": \"histogram2d\"}], \"histogram2dcontour\": [{\"colorbar\": {\"outlinewidth\": 0, \"ticks\": \"\"}, \"colorscale\": [[0.0, \"#0d0887\"], [0.1111111111111111, \"#46039f\"], [0.2222222222222222, \"#7201a8\"], [0.3333333333333333, \"#9c179e\"], [0.4444444444444444, \"#bd3786\"], [0.5555555555555556, \"#d8576b\"], [0.6666666666666666, \"#ed7953\"], [0.7777777777777778, \"#fb9f3a\"], [0.8888888888888888, \"#fdca26\"], [1.0, \"#f0f921\"]], \"type\": \"histogram2dcontour\"}], \"mesh3d\": [{\"colorbar\": {\"outlinewidth\": 0, \"ticks\": \"\"}, \"type\": \"mesh3d\"}], \"parcoords\": [{\"line\": {\"colorbar\": {\"outlinewidth\": 0, \"ticks\": \"\"}}, \"type\": \"parcoords\"}], \"pie\": [{\"automargin\": true, \"type\": \"pie\"}], \"scatter\": [{\"marker\": {\"colorbar\": {\"outlinewidth\": 0, \"ticks\": \"\"}}, \"type\": \"scatter\"}], \"scatter3d\": [{\"line\": {\"colorbar\": {\"outlinewidth\": 0, \"ticks\": \"\"}}, \"marker\": {\"colorbar\": {\"outlinewidth\": 0, \"ticks\": \"\"}}, \"type\": \"scatter3d\"}], \"scattercarpet\": [{\"marker\": {\"colorbar\": {\"outlinewidth\": 0, \"ticks\": \"\"}}, \"type\": \"scattercarpet\"}], \"scattergeo\": [{\"marker\": {\"colorbar\": {\"outlinewidth\": 0, \"ticks\": \"\"}}, \"type\": \"scattergeo\"}], \"scattergl\": [{\"marker\": {\"colorbar\": {\"outlinewidth\": 0, \"ticks\": \"\"}}, \"type\": \"scattergl\"}], \"scattermapbox\": [{\"marker\": {\"colorbar\": {\"outlinewidth\": 0, \"ticks\": \"\"}}, \"type\": \"scattermapbox\"}], \"scatterpolar\": [{\"marker\": {\"colorbar\": {\"outlinewidth\": 0, \"ticks\": \"\"}}, \"type\": \"scatterpolar\"}], \"scatterpolargl\": [{\"marker\": {\"colorbar\": {\"outlinewidth\": 0, \"ticks\": \"\"}}, \"type\": \"scatterpolargl\"}], \"scatterternary\": [{\"marker\": {\"colorbar\": {\"outlinewidth\": 0, \"ticks\": \"\"}}, \"type\": \"scatterternary\"}], \"surface\": [{\"colorbar\": {\"outlinewidth\": 0, \"ticks\": \"\"}, \"colorscale\": [[0.0, \"#0d0887\"], [0.1111111111111111, \"#46039f\"], [0.2222222222222222, \"#7201a8\"], [0.3333333333333333, \"#9c179e\"], [0.4444444444444444, \"#bd3786\"], [0.5555555555555556, \"#d8576b\"], [0.6666666666666666, \"#ed7953\"], [0.7777777777777778, \"#fb9f3a\"], [0.8888888888888888, \"#fdca26\"], [1.0, \"#f0f921\"]], \"type\": \"surface\"}], \"table\": [{\"cells\": {\"fill\": {\"color\": \"#EBF0F8\"}, \"line\": {\"color\": \"white\"}}, \"header\": {\"fill\": {\"color\": \"#C8D4E3\"}, \"line\": {\"color\": \"white\"}}, \"type\": \"table\"}]}, \"layout\": {\"annotationdefaults\": {\"arrowcolor\": \"#2a3f5f\", \"arrowhead\": 0, \"arrowwidth\": 1}, \"coloraxis\": {\"colorbar\": {\"outlinewidth\": 0, \"ticks\": \"\"}}, \"colorscale\": {\"diverging\": [[0, \"#8e0152\"], [0.1, \"#c51b7d\"], [0.2, \"#de77ae\"], [0.3, \"#f1b6da\"], [0.4, \"#fde0ef\"], [0.5, \"#f7f7f7\"], [0.6, \"#e6f5d0\"], [0.7, \"#b8e186\"], [0.8, \"#7fbc41\"], [0.9, \"#4d9221\"], [1, \"#276419\"]], \"sequential\": [[0.0, \"#0d0887\"], [0.1111111111111111, \"#46039f\"], [0.2222222222222222, \"#7201a8\"], [0.3333333333333333, \"#9c179e\"], [0.4444444444444444, \"#bd3786\"], [0.5555555555555556, \"#d8576b\"], [0.6666666666666666, \"#ed7953\"], [0.7777777777777778, \"#fb9f3a\"], [0.8888888888888888, \"#fdca26\"], [1.0, \"#f0f921\"]], \"sequentialminus\": [[0.0, \"#0d0887\"], [0.1111111111111111, \"#46039f\"], [0.2222222222222222, \"#7201a8\"], [0.3333333333333333, \"#9c179e\"], [0.4444444444444444, \"#bd3786\"], [0.5555555555555556, \"#d8576b\"], [0.6666666666666666, \"#ed7953\"], [0.7777777777777778, \"#fb9f3a\"], [0.8888888888888888, \"#fdca26\"], [1.0, \"#f0f921\"]]}, \"colorway\": [\"#636efa\", \"#EF553B\", \"#00cc96\", \"#ab63fa\", \"#FFA15A\", \"#19d3f3\", \"#FF6692\", \"#B6E880\", \"#FF97FF\", \"#FECB52\"], \"font\": {\"color\": \"#2a3f5f\"}, \"geo\": {\"bgcolor\": \"white\", \"lakecolor\": \"white\", \"landcolor\": \"#E5ECF6\", \"showlakes\": true, \"showland\": true, \"subunitcolor\": \"white\"}, \"hoverlabel\": {\"align\": \"left\"}, \"hovermode\": \"closest\", \"mapbox\": {\"style\": \"light\"}, \"paper_bgcolor\": \"white\", \"plot_bgcolor\": \"#E5ECF6\", \"polar\": {\"angularaxis\": {\"gridcolor\": \"white\", \"linecolor\": \"white\", \"ticks\": \"\"}, \"bgcolor\": \"#E5ECF6\", \"radialaxis\": {\"gridcolor\": \"white\", \"linecolor\": \"white\", \"ticks\": \"\"}}, \"scene\": {\"xaxis\": {\"backgroundcolor\": \"#E5ECF6\", \"gridcolor\": \"white\", \"gridwidth\": 2, \"linecolor\": \"white\", \"showbackground\": true, \"ticks\": \"\", \"zerolinecolor\": \"white\"}, \"yaxis\": {\"backgroundcolor\": \"#E5ECF6\", \"gridcolor\": \"white\", \"gridwidth\": 2, \"linecolor\": \"white\", \"showbackground\": true, \"ticks\": \"\", \"zerolinecolor\": \"white\"}, \"zaxis\": {\"backgroundcolor\": \"#E5ECF6\", \"gridcolor\": \"white\", \"gridwidth\": 2, \"linecolor\": \"white\", \"showbackground\": true, \"ticks\": \"\", \"zerolinecolor\": \"white\"}}, \"shapedefaults\": {\"line\": {\"color\": \"#2a3f5f\"}}, \"ternary\": {\"aaxis\": {\"gridcolor\": \"white\", \"linecolor\": \"white\", \"ticks\": \"\"}, \"baxis\": {\"gridcolor\": \"white\", \"linecolor\": \"white\", \"ticks\": \"\"}, \"bgcolor\": \"#E5ECF6\", \"caxis\": {\"gridcolor\": \"white\", \"linecolor\": \"white\", \"ticks\": \"\"}}, \"title\": {\"x\": 0.05}, \"xaxis\": {\"automargin\": true, \"gridcolor\": \"white\", \"linecolor\": \"white\", \"ticks\": \"\", \"title\": {\"standoff\": 15}, \"zerolinecolor\": \"white\", \"zerolinewidth\": 2}, \"yaxis\": {\"automargin\": true, \"gridcolor\": \"white\", \"linecolor\": \"white\", \"ticks\": \"\", \"title\": {\"standoff\": 15}, \"zerolinecolor\": \"white\", \"zerolinewidth\": 2}}}, \"xaxis\": {\"anchor\": \"y\", \"domain\": [0.0, 1.0], \"title\": {\"text\": \"Position GA\"}}, \"yaxis\": {\"anchor\": \"x\", \"domain\": [0.0, 1.0], \"title\": {\"text\": \"count\"}}},\n",
       "                        {\"responsive\": true}\n",
       "                    ).then(function(){\n",
       "                            \n",
       "var gd = document.getElementById('ac0e9ec4-71f2-4e9f-a47b-4855609af7f6');\n",
       "var x = new MutationObserver(function (mutations, observer) {{\n",
       "        var display = window.getComputedStyle(gd).display;\n",
       "        if (!display || display === 'none') {{\n",
       "            console.log([gd, 'removed!']);\n",
       "            Plotly.purge(gd);\n",
       "            observer.disconnect();\n",
       "        }}\n",
       "}});\n",
       "\n",
       "// Listen for the removal of the full notebook cells\n",
       "var notebookContainer = gd.closest('#notebook-container');\n",
       "if (notebookContainer) {{\n",
       "    x.observe(notebookContainer, {childList: true});\n",
       "}}\n",
       "\n",
       "// Listen for the clearing of the current output cell\n",
       "var outputEl = gd.closest('.output');\n",
       "if (outputEl) {{\n",
       "    x.observe(outputEl, {childList: true});\n",
       "}}\n",
       "\n",
       "                        })\n",
       "                };\n",
       "                });\n",
       "            </script>\n",
       "        </div>"
      ]
     },
     "metadata": {},
     "output_type": "display_data"
    }
   ],
   "source": [
    "fig = px.histogram(df, x='Position GA', color='Fraud', histnorm='probability density')\n",
    "fig.show()\n",
    "fig.write_image(\"../frontend/src/assets/figure_EDA/positionGA_fraud.png\")"
   ]
  },
  {
   "cell_type": "code",
   "execution_count": null,
   "metadata": {},
   "outputs": [],
   "source": [
    "fig = px.pie(df, values=df['Mode de gestion'].value_counts(), names=df['Mode de gestion'].value_counts().keys(), title='Incident Type', )\n",
    "fig.show()\n",
    "fig.write_image(\"../frontend/src/assets/figure_EDA/mode_gestion.png\")"
   ]
  },
  {
   "cell_type": "code",
   "execution_count": null,
   "metadata": {},
   "outputs": [],
   "source": [
    "# df[df[\"Marque\"] =='VOLKSWAGEN']['Fraud'].value_counts()"
   ]
  },
  {
   "cell_type": "code",
   "execution_count": null,
   "metadata": {},
   "outputs": [],
   "source": [
    "# df[df[\"Marque\"] =='CITROËN']['Fraud'].value_counts()"
   ]
  },
  {
   "cell_type": "code",
   "execution_count": null,
   "metadata": {
    "scrolled": false
   },
   "outputs": [],
   "source": [
    "fig = px.histogram(df, x='Marque',  color='Fraud')\n",
    "fig.show()\n",
    "fig.write_image(\"../frontend/src/assets/figure_EDA/marque.png\")"
   ]
  },
  {
   "cell_type": "code",
   "execution_count": 15,
   "metadata": {
    "scrolled": false
   },
   "outputs": [
    {
     "data": {
      "application/vnd.plotly.v1+json": {
       "config": {
        "plotlyServerURL": "https://plot.ly"
       },
       "data": [
        {
         "alignmentgroup": "True",
         "bingroup": "x",
         "hovertemplate": "Fraud=Non<br>Point Choc=%{x}<br>count=%{y}<extra></extra>",
         "legendgroup": "Non",
         "marker": {
          "color": "#636efa"
         },
         "name": "Non",
         "offsetgroup": "Non",
         "orientation": "v",
         "showlegend": true,
         "type": "histogram",
         "x": [
          "Tiers Ar. D,Tiers Lat. D",
          "Tiers Ar. D",
          "Tiers Lat. D",
          "Tiers Ar. D",
          "Tiers Av. G",
          "Face Ar",
          "Tiers Ar. D,Tiers Lat. D",
          "Face Av",
          "Tiers Ar. D",
          "Face Ar",
          "Pare Brise",
          "Tiers Ar. G",
          "Tiers Av. D",
          "Tiers Lat. D",
          "Tiers Ar. G",
          "Tiers Av. D",
          "Tiers Av. G",
          "Face Ar",
          "Tiers Av. G",
          "Tiers Av. D,Tiers Lat. D",
          "Tiers Av. G,Tiers Lat. G",
          "Tiers Lat. D",
          "Tiers Ar. G",
          "Face Av,Tiers Av. D",
          "Face Av",
          "Face Ar",
          "Tiers Lat. G",
          "Tiers Ar. G",
          "Face Av,Tiers Av. D",
          "Face Ar",
          "Face Ar",
          "Face Ar,Face Av,Tiers Av. D",
          "Tiers Ar. G",
          "Face Av,Tiers Av. G,Tiers Lat. G",
          "Tiers Ar. G",
          "Face Ar",
          "Face Av",
          "Tiers Ar. G",
          "Tiers Av. G,Tiers Lat. G",
          "Tiers Lat. D",
          "Face Ar",
          "Tiers Av. G",
          "Face Av",
          "Face Av",
          "Tiers Av. D",
          "Face Av",
          "Tiers Ar. D",
          "Face Av,Tiers Av. D",
          "Tiers Av. D,Tiers Lat. D",
          "Face Ar",
          "Tiers Lat. D",
          "Tiers Av. D",
          "Face Ar",
          "Lat G",
          "Lat G",
          "Lat D",
          "Divers Chocs",
          "Face Ar",
          "Face Ar,Tiers Av. D",
          "Face Ar,Face Av",
          "Face Av",
          "Face Av",
          "Face Av",
          "Tiers Av. G",
          "Tiers Av. D",
          "Tiers Av. G",
          "Tiers Ar. G",
          "Tiers Ar. D,Tiers Lat. D",
          "Face Ar",
          "Face Av,Tiers Av. G",
          "Tiers Av. D",
          "Face Ar",
          "Tiers Av. G",
          "Face Av",
          "Face Ar",
          "Tiers Lat. G",
          "Tiers Av. D,Tiers Lat. D",
          "Tiers Ar. D",
          "Lat G",
          "Tiers Ar. D",
          "Face Ar,Face Av",
          "Face Av",
          "Face Ar,Tiers Ar. G",
          "Tiers Av. G",
          "Face Ar,Tiers Ar. D",
          "Tiers Av. D",
          "Lat G",
          "Face Av,Tiers Lat. D",
          "Face Av",
          "Face Av,Tiers Av. G",
          "Tiers Ar. G",
          "Face Av",
          "Tiers Ar. G",
          "Tiers Av. G",
          "Tiers Av. G",
          "Tiers Av. D,Tiers Lat. D",
          "Face Av",
          "Divers Chocs,Face Av",
          "Face Av",
          "Tiers Av. D",
          "Tiers Lat. D",
          "Tiers Av. G",
          "Face Ar,Face Av",
          "Tiers Ar. D",
          "Tiers Av. G",
          "Tiers Av. D",
          "Tiers Ar. D",
          "Face Av",
          "Tiers Av. D",
          "Tiers Av. D",
          "Tiers Av. D",
          "Pare Brise",
          "Face Av,Tiers Av. D",
          "Lat D",
          "Face Ar",
          "Face Ar,Face Av",
          "Face Ar",
          "Tiers Av. D",
          "Tiers Av. D",
          "Tiers Ar. D,Tiers Ar. G",
          "Face Av",
          "Face Ar",
          "Face Av",
          "Face Av",
          "Pare Brise",
          "Face Av",
          "Tiers Av. G",
          "Face Ar",
          "Tiers Av. G",
          "Face Ar",
          "Tiers Av. G",
          "Tiers Av. G",
          "Lat D",
          "Tiers Ar. D",
          "Face Ar",
          "Face Av",
          "Face Av",
          "Face Av",
          "Face Ar,Tiers Ar. D",
          "Face Ar",
          "Face Av",
          "Tiers Ar. G",
          "Tiers Ar. G",
          "Tiers Ar. D",
          "Tiers Ar. G",
          "Face Av",
          "Tiers Av. G,Tiers Lat. G",
          "Face Ar,Face Av,Lat D,Lat G",
          "Tiers Av. G,Tiers Lat. G",
          "Face Av",
          "Tiers Av. G",
          "Tiers Av. D",
          "Face Av",
          "Tiers Av. D",
          "Tiers Ar. D",
          "Face Ar",
          "Face Ar",
          "Tiers Ar. G",
          "Tiers Av. D",
          "Divers Chocs",
          "Tiers Av. G",
          "Face Ar",
          "Face Ar",
          "Face Av",
          "Face Av",
          "Tiers Av. D",
          "Face Ar",
          "Tiers Ar. G",
          "Tiers Av. D",
          "Tiers Av. G",
          "Tiers Ar. G,Tiers Av. D",
          "Face Av",
          "Tiers Ar. D",
          "Face Ar",
          "Tiers Av. D",
          "Tiers Av. G",
          "Tiers Av. G",
          "Tiers Av. G",
          "Tiers Ar. D",
          "Tiers Av. G",
          "Lat G",
          "Tiers Av. G,Tiers Lat. G",
          "Face Ar,Tiers Ar. G",
          "Face Av,Tiers Av. G",
          "Tiers Av. G",
          "Face Ar,Tiers Ar. G",
          "Face Av,Tiers Av. G",
          "Tiers Ar. G",
          "Tiers Ar. D",
          "Tiers Ar. D",
          "Face Av,Tiers Av. D",
          "Face Av",
          "Tiers Ar. G,Tiers Lat. G",
          "Face Av,Tiers Av. G",
          "Face Av",
          "Tiers Av. D,Tiers Lat. D",
          "Face Av",
          "Face Ar,Tiers Ar. D,Tiers Ar. G",
          "Tiers Ar. G",
          "Face Av",
          "Face Ar,Face Av,Tiers Ar. D,Tiers Ar. G",
          "Tiers Ar. G,Tiers Lat. G",
          "Pare Brise",
          "Face Ar",
          "Tiers Ar. D",
          "Tiers Av. D",
          "Face Av",
          "Tiers Av. D",
          "Face Av",
          "Lat G",
          "Tiers Lat. G",
          "Tiers Av. D",
          "Tiers Av. G",
          "Tiers Lat. G",
          "Tiers Av. G,Tiers Lat. G",
          "Tiers Av. G",
          "Tiers Av. D",
          "Face Av",
          "Tiers Av. D",
          "Face Av",
          "Face Ar",
          "Tiers Av. G",
          "Face Av",
          "Tiers Ar. D",
          "Tiers Ar. D",
          "Tiers Ar. G",
          "Face Ar,Face Av",
          "Face Ar",
          "Face Av",
          "Tiers Av. G,Tiers Lat. G",
          "Face Av",
          "Tiers Ar. G",
          "Tiers Av. G",
          "Tiers Av. D",
          "Tiers Av. D",
          "Pare Brise",
          "Tiers Av. G",
          "Face Av",
          "Tiers Av. D",
          "Tiers Ar. G",
          "Pare Brise",
          "Face Ar",
          "Tiers Ar. G",
          "Lat G",
          "Face Ar",
          "Face Ar",
          "Tiers Av. D",
          "Tiers Lat. G",
          "Face Av",
          "Tiers Ar. D",
          "Pare Brise",
          "Face Av",
          "Face Ar",
          "Tiers Ar. D",
          "Face Ar,Face Av",
          "Tiers Ar. D,Tiers Lat. D",
          "Tiers Av. D",
          "Tiers Ar. D",
          "Tiers Av. D",
          "Face Av",
          "Face Ar,Face Av",
          "Tiers Ar. G,Tiers Lat. G",
          "Tiers Av. G",
          "Face Ar,Tiers Ar. G",
          "Face Ar",
          "Face Ar,Face Av",
          "Tiers Ar. D",
          "Face Ar",
          "Face Ar",
          "Face Ar",
          "Face Av",
          "Tiers Lat. G",
          "Face Av",
          "Face Ar,Tiers Ar. D",
          "Face Ar",
          "Face Ar,Face Av",
          "Tiers Av. G",
          "Face Av,Tiers Av. D,Tiers Av. G",
          "Face Ar,Tiers Ar. G,Tiers Lat. G,Vitre Ar. G",
          "Face Av",
          "Tiers Av. G,Tiers Lat. G",
          "Tiers Av. D",
          "Tiers Ar. D",
          "Face Av",
          "Tiers Ar. G",
          "Tiers Av. D",
          "Pare Brise",
          "Face Ar",
          "Face Av",
          "Tiers Av. G",
          "Face Av",
          "Face Ar",
          "Face Ar",
          "Tiers Lat. G",
          "Face Av",
          "Tiers Av. D",
          "Tiers Ar. G",
          "Face Av,Tiers Av. G",
          "Tiers Av. D",
          "Face Ar",
          "Face Av",
          "Lat D",
          "Tiers Ar. D",
          "Face Ar",
          "Face Av",
          "Tiers Av. G",
          "Tiers Av. D",
          "Face Ar",
          "Tiers Av. G",
          "Tiers Ar. D",
          "Face Ar",
          "Tiers Ar. G",
          "Face Av",
          "Face Ar",
          "Tiers Ar. D",
          "Face Av,Pare Brise",
          "Face Av",
          "Tiers Av. D",
          "Lat G",
          "Tiers Av. D",
          "Tiers Ar. G",
          "Face Ar",
          "Face Av,Tiers Av. D",
          "Tiers Av. G",
          "Face Av",
          "Tiers Ar. G",
          "Pare Brise",
          "Tiers Av. D",
          "Pare Brise",
          "Tiers Ar. D",
          "Face Ar",
          "Face Ar",
          "Face Av",
          "Tiers Ar. G",
          "Tiers Av. G",
          "Face Ar",
          "Face Ar",
          "Face Av,Tiers Av. D",
          "Tiers Av. D",
          "Face Av",
          "Tiers Av. D",
          "Face Ar",
          "Face Ar",
          "Face Av",
          "Tiers Ar. D",
          "Face Av",
          "Face Av",
          "Face Ar",
          "Tiers Av. D",
          "Face Ar",
          "Tiers Av. D",
          "Face Av",
          "Lat G",
          "Tiers Av. G,Tiers Lat. G",
          "Face Ar,Lat D",
          "Face Av",
          "Tiers Av. D",
          "Tiers Av. G",
          "Tiers Av. D,Tiers Av. G",
          "Face Av,Lat D",
          "Face Av",
          "Face Av",
          "Face Ar",
          "Face Ar,Face Av",
          "Tiers Ar. G",
          "Tiers Av. D",
          "Tiers Lat. G",
          "Tiers Av. G",
          "Tiers Av. G,Tiers Lat. G",
          "Tiers Av. D",
          "Tiers Av. G",
          "Tiers Av. G,Tiers Lat. G",
          "Tiers Av. G",
          "Tiers Lat. G",
          "Tiers Av. D,Tiers Lat. D",
          "Tiers Av. G",
          "Tiers Av. D",
          "Face Av",
          "Tiers Av. G",
          "Tiers Lat. D",
          "Tiers Av. G,Tiers Lat. G",
          "Tiers Ar. D",
          "Tiers Av. G,Vitre Av. G",
          "Face Ar",
          "Face Ar",
          "Tiers Av. G",
          "Face Av,Tiers Av. D",
          "Tiers Av. G",
          "Face Av,Tiers Av. D",
          "Face Av,Tiers Av. G",
          "Face Av",
          "Lat D",
          "Face Av",
          "Face Ar",
          "Tiers Lat. D",
          "Face Ar",
          "Tiers Ar. D",
          "Tiers Ar. D",
          "Face Ar",
          "Tiers Ar. G",
          "Lat G",
          "Tiers Av. G",
          "Face Av",
          "Divers Chocs,Face Ar,Face Av,Lat G,Tiers Av. D,Tiers Lat. D",
          "Face Av",
          "Face Av",
          "Face Av",
          "Lat G",
          "Tiers Av. G",
          "Face Ar",
          "Tiers Ar. G,Tiers Lat. G",
          "Tiers Av. G",
          "Tiers Av. D",
          "Face Av",
          "Face Ar",
          "Tiers Av. G",
          "Tiers Av. D",
          "Tiers Ar. G",
          "Tiers Av. D",
          "Face Ar",
          "Face Av,Tiers Av. D",
          "Lat D",
          "Tiers Ar. G,Tiers Lat. G",
          "Face Ar",
          "Face Ar",
          "Face Av",
          "Pare Brise",
          "Tiers Ar. D",
          "Tiers Av. D",
          "Tiers Av. G",
          "Face Ar,Tiers Ar. D",
          "Face Av,Tiers Av. G",
          "Tiers Av. G",
          "Tiers Ar. G",
          "Lunette AR",
          "Face Ar",
          "Face Ar",
          "Tiers Av. G",
          "Face Av",
          "Tiers Av. D",
          "Lat D",
          "Face Ar",
          "Face Ar",
          "Face Av",
          "Face Av,Tiers Av. G",
          "Face Av",
          "Tiers Ar. G",
          "Tiers Av. G",
          "Tiers Av. G",
          "Face Ar",
          "Face Ar,Tiers Ar. D",
          "Lat D",
          "Face Ar",
          "Face Av,Tiers Av. D",
          "Pare Brise",
          "Face Ar",
          "Lat D",
          "Pare Brise",
          "Vitre Ar. G",
          "Face Ar,Tiers Ar. G",
          "Tiers Av. G",
          "Tiers Ar. D,Tiers Lat. D",
          "Face Ar,Face Av,Tiers Ar. D,Tiers Av. D",
          "Pare Brise",
          "Tiers Lat. G",
          "Face Av,Tiers Av. G",
          "Face Ar",
          "Tiers Ar. D,Tiers Lat. D",
          "Pare Brise",
          "Tiers Lat. D",
          "Face Ar,Tiers Ar. G",
          "Face Av,Tiers Av. D",
          "Face Av",
          "Face Ar",
          "Tiers Av. D",
          "Tiers Av. G",
          "Tiers Ar. D,Tiers Lat. D",
          "Face Ar",
          "Face Ar",
          "Face Av",
          "Tiers Av. D",
          "Tiers Ar. D",
          "Tiers Av. G",
          "Face Ar",
          "Face Av",
          "Tiers Av. D,Tiers Av. G",
          "Tiers Av. G",
          "Tiers Av. D",
          "Face Av,Tiers Av. D,Tiers Av. G,Tiers Lat. G",
          "Tiers Av. G,Tiers Lat. G",
          "Tiers Av. D,Tiers Av. G,Tiers Lat. D",
          "Tiers Av. D",
          "Tiers Av. G",
          "Face Av,Tiers Av. D,Tiers Lat. D",
          "Face Ar",
          "Lat G",
          "Tiers Ar. G,Tiers Lat. D",
          "Tiers Av. D",
          "Face Av",
          "Face Ar",
          "Tiers Ar. G,Tiers Av. D",
          "Tiers Av. D",
          "Tiers Av. D",
          "Face Av",
          "Face Ar,Lunette AR",
          "Face Av,Tiers Av. G",
          "Divers Chocs",
          "Face Ar,Tiers Ar. D",
          "Face Av",
          "Tiers Av. G",
          "Tiers Ar. G",
          "Tiers Av. G",
          "Face Av,Tiers Av. G",
          "Face Ar",
          "Lat D",
          "Tiers Ar. G",
          "Face Ar",
          "Face Av",
          "Face Ar,Tiers Ar. G,Tiers Lat. G",
          "Tiers Av. D,Tiers Lat. D",
          "Face Ar",
          "Tiers Ar. D,Tiers Lat. D",
          "Tiers Av. G",
          "Face Ar,Tiers Ar. D",
          "Tiers Av. D",
          "Tiers Av. G",
          "Tiers Av. G,Tiers Lat. G",
          "Face Av",
          "Tiers Av. D,Tiers Lat. D",
          "Face Ar",
          "Face Av,Tiers Av. D",
          "Lat G",
          "Face Av",
          "Face Av",
          "Tiers Av. D,Tiers Lat. G",
          "Face Av,Tiers Av. G",
          "Lat G",
          "Face Ar",
          "Tiers Av. D",
          "Face Av",
          "Lat G,Tiers Av. D",
          "Tiers Ar. D",
          "Tiers Ar. G",
          "Face Av",
          "Tiers Av. D",
          "Face Ar",
          "Face Ar,Face Av,Tiers Av. D,Tiers Av. G",
          "Lunette AR,Pare Brise,Tiers Av. D,Tiers Lat. D",
          "Face Av",
          "Face Ar,Face Av",
          "Face Ar",
          "Face Av",
          "Face Ar,Face Av",
          "Face Ar,Tiers Ar. D,Tiers Ar. G,Tiers Lat. G",
          "Face Ar",
          "Face Av",
          "Face Av,Pare Brise",
          "Lat G",
          "Tiers Av. D",
          "Face Av,Tiers Av. D",
          "Tiers Av. G",
          "Tiers Ar. D,Tiers Av. D,Tiers Av. G,Tiers Lat. G",
          "Face Av",
          "Face Ar",
          "Tiers Av. D",
          "Face Av",
          "Face Av",
          "Face Ar,Tiers Ar. D,Tiers Ar. G",
          "Tiers Ar. G",
          "Tiers Ar. G",
          "Face Av,Tiers Av. G",
          "Tiers Lat. D",
          "Face Ar",
          "Face Ar,Tiers Ar. G",
          "Tiers Av. D,Tiers Lat. D",
          "Tiers Av. G",
          "Face Av,Tiers Av. G",
          "Face Ar,Tiers Lat. D",
          "Face Ar",
          "Tiers Av. G,Tiers Lat. G",
          "Tiers Av. G,Tiers Lat. G",
          "Face Ar,Face Av",
          "Face Ar",
          "Face Ar",
          "Tiers Av. G",
          "Tiers Av. D",
          "Face Av",
          "Tiers Av. G",
          "Tiers Av. D",
          "Face Ar",
          "Tiers Lat. D",
          "Tiers Lat. D",
          "Face Ar,Face Av",
          "Face Ar",
          "Pare Brise",
          "Divers Chocs",
          "Tiers Av. D",
          "Tiers Av. D",
          "Face Ar,Face Av,Tiers Av. D",
          "Face Ar,Face Av,Tiers Av. D,Tiers Av. G",
          "Face Ar",
          "Tiers Ar. D",
          "Face Ar",
          "Face Ar,Face Av",
          "Tiers Lat. G",
          "Face Av",
          "Tiers Lat. G",
          "Tiers Av. D",
          "Face Ar,Face Av",
          "Face Ar,Face Av,Tiers Ar. G,Tiers Av. D",
          "Tiers Lat. D",
          "Face Ar",
          "Face Av",
          "Divers Chocs,Face Av",
          "Face Av",
          "Face Ar",
          "Tiers Av. D,Tiers Av. G",
          "Tiers Lat. D",
          "Face Ar",
          "Pare Brise",
          "Face Av",
          "Face Av",
          "Face Av",
          "Face Ar",
          "Lat G",
          "Face Ar",
          "Tiers Av. G",
          "Lat D",
          "Face Av",
          "Face Ar",
          "Face Ar",
          "Face Av",
          "Tiers Av. D",
          "Face Av",
          "Face Ar",
          "Face Ar,Face Av",
          "Face Ar",
          "Tiers Av. G",
          "Face Ar,Lunette AR",
          "Tiers Av. G,Tiers Lat. G",
          "Tiers Ar. G",
          "Tiers Ar. G,Tiers Lat. G",
          "Face Ar,Tiers Ar. D",
          "Face Av",
          "Face Ar",
          "Face Av,Tiers Av. D",
          "Face Ar,Tiers Ar. G,Tiers Lat. G",
          "Face Av,Tiers Ar. D,Tiers Av. G,Tiers Lat. D",
          "Tiers Av. D,Tiers Lat. D",
          "Face Av",
          "Divers Chocs",
          "Face Ar",
          "Face Av,Tiers Ar. D",
          "Face Ar,Face Av",
          "Face Ar,Lat G,Tiers Av. D",
          "Face Ar",
          "Tiers Ar. G,Tiers Lat. G",
          "Tiers Av. D,Tiers Lat. G",
          "Tiers Av. G",
          "Tiers Ar. G",
          "Face Av",
          "Face Av,Lat G,Tiers Lat. D",
          "Tiers Ar. D,Tiers Lat. D",
          "Tiers Ar. D,Tiers Lat. D",
          "Face Av,Tiers Av. G",
          "Tiers Ar. G,Tiers Lat. G",
          "Tiers Av. D",
          "Face Ar,Face Av",
          "Tiers Ar. G",
          "Face Av",
          "Tiers Av. G",
          "Tiers Ar. G",
          "Face Av",
          "Face Ar,Face Av,Tiers Ar. G",
          "Tiers Lat. D",
          "Face Ar",
          "Face Ar",
          "Tiers Ar. G",
          "Tiers Av. D",
          "Tiers Av. D",
          "Face Av,Tiers Av. G",
          "Tiers Av. D",
          "Face Av",
          "Tiers Ar. D",
          "Face Av,Tiers Av. G",
          "Face Ar",
          "Tiers Av. G,Tiers Lat. G",
          "Face Ar,Face Av",
          "Face Av,Tiers Ar. G,Tiers Av. D,Tiers Av. G",
          "Tiers Ar. G,Tiers Av. G",
          "Tiers Av. D",
          "Face Av,Tiers Av. D",
          "Tiers Av. G",
          "Pare Brise,Tiers Av. D",
          "Face Av,Tiers Av. G",
          "Tiers Ar. D",
          "Face Ar",
          "Face Ar",
          "Divers Chocs",
          "Face Ar",
          "Tiers Av. D",
          "Lat D",
          "Face Av,Tiers Av. D,Tiers Av. G",
          "Face Ar,Face Av",
          "Face Ar",
          "Tiers Av. D",
          "Tiers Lat. D",
          "Tiers Av. D",
          "Face Ar",
          "Tiers Ar. G",
          "Face Av",
          "Face Av",
          "Tiers Av. G",
          "Face Ar,Face Av",
          "Tiers Av. D",
          "Tiers Av. D",
          "Face Av,Tiers Av. D",
          "Tiers Ar. G",
          "Tiers Ar. G",
          "Face Ar",
          "Tiers Av. G",
          "Tiers Av. G",
          "Pare Brise,Tiers Ar. G",
          "Face Av",
          "Face Av,Pare Brise",
          "Tiers Av. G",
          "Face Ar",
          "Tiers Av. G,Tiers Lat. G",
          "Face Ar",
          "Face Ar",
          "Tiers Av. G",
          "Tiers Av. D",
          "Tiers Ar. D",
          "Face Ar",
          "Face Av",
          "Tiers Av. G",
          "Tiers Av. G",
          "Face Ar",
          "Face Av,Tiers Av. D",
          "Face Ar,Lunette AR",
          "Face Ar",
          "Lat D",
          "Tiers Ar. D,Tiers Av. G",
          "Lat G",
          "Tiers Ar. G",
          "Face Av",
          "Face Ar",
          "Tiers Av. G",
          "Face Av",
          "Tiers Av. D",
          "Face Av",
          "Face Ar",
          "Tiers Ar. G,Tiers Lat. G",
          "Tiers Av. D,Tiers Av. G,Tiers Lat. G",
          "Face Av",
          "Tiers Av. G",
          "Tiers Lat. G",
          "Face Av",
          "Divers Chocs",
          "Face Ar,Tiers Ar. G",
          "Face Av",
          "Tiers Av. D",
          "Tiers Lat. G",
          "Divers Chocs,Face Av,Tiers Av. D,Tiers Lat. D",
          "Face Ar",
          "Face Av",
          "Face Ar,Face Av",
          "Tiers Ar. G",
          "Tiers Ar. D",
          "Face Av",
          "Face Av,Tiers Av. D",
          "Tiers Av. G,Tiers Lat. G",
          "Tiers Av. D",
          "Face Ar",
          "Tiers Ar. G",
          "Face Av",
          "Tiers Ar. D",
          "Face Av,Tiers Av. D",
          "Face Av",
          "Face Av,Tiers Av. D",
          "Tiers Av. G",
          "Tiers Av. G",
          "Tiers Av. G",
          "Tiers Av. G",
          "Face Av",
          "Face Ar",
          "Tiers Ar. G",
          "Face Ar",
          "Face Av",
          "Face Ar",
          "Face Av,Tiers Av. D",
          "Tiers Ar. D",
          "Tiers Av. D",
          "Tiers Av. G",
          "Tiers Av. G",
          "Face Av",
          "Tiers Av. G",
          "Tiers Av. G",
          "Tiers Av. G",
          "Tiers Ar. G",
          "Tiers Av. D,Tiers Lat. D",
          "Face Av",
          "Face Ar",
          "Tiers Ar. G,Tiers Av. D",
          "Tiers Av. D",
          "Face Ar",
          "Face Ar,Face Av,Tiers Ar. G,Tiers Av. D",
          "Face Av",
          "Face Ar",
          "Face Av,Tiers Av. G",
          "Tiers Av. G",
          "Face Av",
          "Face Ar,Face Av",
          "Tiers Ar. D",
          "Divers Chocs",
          "Tiers Lat. D",
          "Face Ar,Face Av",
          "Face Ar,Face Av,Tiers Av. D,Tiers Av. G",
          "Face Av,Tiers Av. D",
          "Face Ar,Tiers Av. G",
          "Tiers Lat. G",
          "Face Ar",
          "Face Av",
          "Face Av",
          "Divers Chocs",
          "Face Ar,Tiers Ar. D",
          "Tiers Av. D,Tiers Lat. D",
          "Face Av",
          "Tiers Av. D",
          "Tiers Ar. D,Tiers Lat. D",
          "Tiers Ar. G",
          "Tiers Av. D",
          "Face Ar",
          "Tiers Av. G,Tiers Lat. G",
          "Tiers Ar. G",
          "Tiers Ar. G",
          "Face Ar,Tiers Ar. G,Vitre Ar. G",
          "Tiers Av. G",
          "Tiers Ar. G",
          "Face Ar",
          "Tiers Ar. D",
          "Tiers Av. D",
          "Tiers Ar. G",
          "Tiers Ar. G",
          "Face Ar,Tiers Ar. D",
          "Face Av",
          "Tiers Lat. D",
          "Face Av",
          "Face Ar",
          "Lat D",
          "Face Av",
          "Tiers Ar. G",
          "Tiers Lat. G",
          "Lat G,Tiers Ar. D",
          "Face Av",
          "Divers Chocs",
          "Lat G",
          "Face Ar",
          "Face Av",
          "Face Ar",
          "Face Av,Tiers Ar. G,Tiers Av. D,Tiers Av. G",
          "Lat G",
          "Tiers Av. G",
          "Tiers Ar. G",
          "Tiers Ar. D",
          "Face Ar,Face Av",
          "Face Ar",
          "Lat D",
          "Tiers Ar. G",
          "Face Ar",
          "Face Av",
          "Face Ar",
          "Divers Chocs",
          "Tiers Av. D",
          "Tiers Lat. G",
          "Tiers Ar. D",
          "Tiers Av. G",
          "Face Ar",
          "Pare Brise",
          "Face Ar,Face Av,Lat D,Tiers Lat. G",
          "Face Av,Tiers Ar. G",
          "Tiers Ar. G"
         ],
         "xaxis": "x",
         "yaxis": "y"
        },
        {
         "alignmentgroup": "True",
         "bingroup": "x",
         "hovertemplate": "Fraud=Oui<br>Point Choc=%{x}<br>count=%{y}<extra></extra>",
         "legendgroup": "Oui",
         "marker": {
          "color": "#EF553B"
         },
         "name": "Oui",
         "offsetgroup": "Oui",
         "orientation": "v",
         "showlegend": true,
         "type": "histogram",
         "x": [
          "Tiers Ar. G",
          "Face Av",
          "Tiers Av. G",
          "Tiers Ar. D,Tiers Lat. D",
          "Face Av",
          "Face Ar,Tiers Ar. G",
          "Tiers Av. G,Tiers Lat. G",
          "Tiers Ar. G",
          "Face Ar,Face Av",
          "Tiers Ar. D",
          "Tiers Ar. G",
          "Tiers Av. G",
          "Face Ar",
          "Lat D",
          "Tiers Av. G",
          "Tiers Av. G",
          "Tiers Ar. G",
          "Face Av",
          "Pare Brise",
          "Tiers Lat. G",
          "Tiers Av. G",
          "Face Av",
          "Tiers Av. G",
          "Face Ar,Face Av",
          "Tiers Av. D",
          "Face Ar",
          "Tiers Av. D,Tiers Av. G",
          "Tiers Av. G",
          "Vitre Av. G",
          "Lat G",
          "Tiers Av. G",
          "Tiers Av. D",
          "Tiers Ar. G",
          "Face Av",
          "Face Ar,Face Av",
          "Face Ar,Tiers Ar. G",
          "Face Ar,Face Av,Lat D,Lat G,Face Ar,Face Av,Tiers Lat. D,Tiers Lat. G",
          "Tiers Av. D",
          "Tiers Av. G",
          "Tiers Ar. G,Tiers Lat. G",
          "Tiers Av. D",
          "Tiers Av. D",
          "Lat G",
          "Tiers Av. D",
          "Lat D",
          "Face Ar",
          "Face Ar",
          "Tiers Ar. D",
          "Tiers Ar. D",
          "Pare Brise",
          "Tiers Ar. D",
          "Tiers Av. D",
          "Tiers Lat. G",
          "Tiers Av. D",
          "Tiers Lat. D",
          "Face Av",
          "Tiers Ar. D",
          "Lat D",
          "Tiers Av. D",
          "Face Av,Tiers Av. G",
          "Face Av",
          "Face Av",
          "Face Ar",
          "Face Av",
          "Face Ar",
          "Face Ar",
          "Face Ar",
          "Face Ar",
          "Tiers Ar. D",
          "Tiers Av. G",
          "Face Ar",
          "Tiers Av. G",
          "Face Ar,Tiers Ar. G",
          "Face Ar,Tiers Ar. G",
          "Tiers Ar. D",
          "Tiers Av. G",
          "Tiers Ar. G",
          "Tiers Ar. G",
          "Tiers Av. G",
          "Face Ar",
          "Face Ar",
          "Lat D",
          "Face Av",
          "Tiers Ar. D",
          "Tiers Av. D",
          "Face Av",
          "Face Ar",
          "Face Av",
          "Pare Brise",
          "Face Av",
          "Tiers Av. D",
          "Face Ar",
          "Tiers Ar. G",
          "Face Ar",
          "Face Ar",
          "Pare Brise",
          "Tiers Ar. G",
          "Tiers Ar. G",
          "Face Av",
          "Tiers Ar. D,Tiers Lat. D",
          "Tiers Av. G,Tiers Lat. G",
          "Tiers Ar. D",
          "Tiers Av. D,Tiers Lat. D",
          "Tiers Av. G",
          "Lat D",
          "Tiers Av. G",
          "Tiers Ar. D",
          "Face Ar",
          "Tiers Av. G",
          "Lat D",
          "Tiers Ar. G",
          "Face Av,Tiers Av. G",
          "Lat G",
          "Face Av,Tiers Av. D,Tiers Av. G",
          "Tiers Av. G",
          "Tiers Ar. D",
          "Face Ar",
          "Tiers Av. G",
          "Face Ar",
          "Face Ar,Tiers Ar. G",
          "Tiers Lat. D",
          "Face Av",
          "Face Av,Tiers Av. D",
          "Face Ar,Face Av",
          "Tiers Av. G",
          "Tiers Ar. D,Tiers Lat. D",
          "Tiers Av. G",
          "Face Av",
          "Face Ar",
          "Tiers Ar. G,Tiers Av. G",
          "Tiers Ar. G",
          "Face Av,Tiers Av. D",
          "Tiers Ar. G,Tiers Av. D",
          "Face Ar,Face Av",
          "Face Av,Tiers Av. D",
          "Face Ar",
          "Lat G",
          "Tiers Av. G",
          "Pare Brise",
          "Tiers Av. D",
          "Face Av",
          "Tiers Lat. D",
          "Tiers Ar. G",
          "Tiers Av. D,Tiers Av. G,Tiers Lat. G",
          "Face Ar,Face Av,Tiers Av. D,Tiers Av. G,Tiers Lat. G",
          "Face Av",
          "Face Ar,Lunette AR,Tiers Ar. D",
          "Face Ar",
          "Tiers Av. G",
          "Face Ar",
          "Face Av,Tiers Av. G,Tiers Lat. G",
          "Tiers Av. G",
          "Face Ar,Face Av",
          "Divers Chocs",
          "Face Av",
          "Face Ar,Tiers Av. G",
          "Tiers Av. D",
          "Tiers Ar. G,Tiers Av. D",
          "Face Ar",
          "Lat D",
          "Face Ar",
          "Tiers Ar. D,Tiers Lat. D",
          "Face Av,Tiers Av. D,Tiers Av. G",
          "Divers Chocs",
          "Tiers Av. G",
          "Face Av",
          "Face Av",
          "Tiers Av. D",
          "Tiers Av. G",
          "Tiers Av. D,Tiers Lat. G",
          "Face Av",
          "Face Ar",
          "Face Av",
          "Tiers Ar. G",
          "Face Av",
          "Face Av,Tiers Av. D",
          "Face Av",
          "Tiers Ar. G",
          "Face Av",
          "Tiers Av. D",
          "Face Av,Tiers Av. D",
          "Face Ar,Face Av",
          "Lat D",
          "Face Av,Pare Brise",
          "Tiers Av. D",
          "Face Ar,Face Av,Tiers Av. D",
          "Tiers Ar. D",
          "Face Av,Tiers Av. G",
          "Face Ar",
          "Tiers Av. G",
          "Face Ar",
          "Face Av",
          "Face Ar",
          "Tiers Av. G",
          "Face Ar",
          "Tiers Ar. D",
          "Lat D",
          "Tiers Av. G",
          "Tiers Av. D",
          "Tiers Ar. G",
          "Face Av,Tiers Av. G",
          "Tiers Av. G,Tiers Lat. G",
          "Face Ar",
          "Face Av,Tiers Av. G",
          "Face Ar,Face Av",
          "Face Av,Pare Brise",
          "Face Av,Tiers Av. D,Tiers Av. G",
          "Face Av",
          "Face Ar",
          "Tiers Av. D",
          "Face Av",
          "Face Ar,Face Av",
          "Face Ar",
          "Lat D",
          "Face Av"
         ],
         "xaxis": "x",
         "yaxis": "y"
        }
       ],
       "layout": {
        "barmode": "relative",
        "legend": {
         "title": {
          "text": "Fraud"
         },
         "tracegroupgap": 0
        },
        "margin": {
         "t": 60
        },
        "template": {
         "data": {
          "bar": [
           {
            "error_x": {
             "color": "#2a3f5f"
            },
            "error_y": {
             "color": "#2a3f5f"
            },
            "marker": {
             "line": {
              "color": "#E5ECF6",
              "width": 0.5
             }
            },
            "type": "bar"
           }
          ],
          "barpolar": [
           {
            "marker": {
             "line": {
              "color": "#E5ECF6",
              "width": 0.5
             }
            },
            "type": "barpolar"
           }
          ],
          "carpet": [
           {
            "aaxis": {
             "endlinecolor": "#2a3f5f",
             "gridcolor": "white",
             "linecolor": "white",
             "minorgridcolor": "white",
             "startlinecolor": "#2a3f5f"
            },
            "baxis": {
             "endlinecolor": "#2a3f5f",
             "gridcolor": "white",
             "linecolor": "white",
             "minorgridcolor": "white",
             "startlinecolor": "#2a3f5f"
            },
            "type": "carpet"
           }
          ],
          "choropleth": [
           {
            "colorbar": {
             "outlinewidth": 0,
             "ticks": ""
            },
            "type": "choropleth"
           }
          ],
          "contour": [
           {
            "colorbar": {
             "outlinewidth": 0,
             "ticks": ""
            },
            "colorscale": [
             [
              0,
              "#0d0887"
             ],
             [
              0.1111111111111111,
              "#46039f"
             ],
             [
              0.2222222222222222,
              "#7201a8"
             ],
             [
              0.3333333333333333,
              "#9c179e"
             ],
             [
              0.4444444444444444,
              "#bd3786"
             ],
             [
              0.5555555555555556,
              "#d8576b"
             ],
             [
              0.6666666666666666,
              "#ed7953"
             ],
             [
              0.7777777777777778,
              "#fb9f3a"
             ],
             [
              0.8888888888888888,
              "#fdca26"
             ],
             [
              1,
              "#f0f921"
             ]
            ],
            "type": "contour"
           }
          ],
          "contourcarpet": [
           {
            "colorbar": {
             "outlinewidth": 0,
             "ticks": ""
            },
            "type": "contourcarpet"
           }
          ],
          "heatmap": [
           {
            "colorbar": {
             "outlinewidth": 0,
             "ticks": ""
            },
            "colorscale": [
             [
              0,
              "#0d0887"
             ],
             [
              0.1111111111111111,
              "#46039f"
             ],
             [
              0.2222222222222222,
              "#7201a8"
             ],
             [
              0.3333333333333333,
              "#9c179e"
             ],
             [
              0.4444444444444444,
              "#bd3786"
             ],
             [
              0.5555555555555556,
              "#d8576b"
             ],
             [
              0.6666666666666666,
              "#ed7953"
             ],
             [
              0.7777777777777778,
              "#fb9f3a"
             ],
             [
              0.8888888888888888,
              "#fdca26"
             ],
             [
              1,
              "#f0f921"
             ]
            ],
            "type": "heatmap"
           }
          ],
          "heatmapgl": [
           {
            "colorbar": {
             "outlinewidth": 0,
             "ticks": ""
            },
            "colorscale": [
             [
              0,
              "#0d0887"
             ],
             [
              0.1111111111111111,
              "#46039f"
             ],
             [
              0.2222222222222222,
              "#7201a8"
             ],
             [
              0.3333333333333333,
              "#9c179e"
             ],
             [
              0.4444444444444444,
              "#bd3786"
             ],
             [
              0.5555555555555556,
              "#d8576b"
             ],
             [
              0.6666666666666666,
              "#ed7953"
             ],
             [
              0.7777777777777778,
              "#fb9f3a"
             ],
             [
              0.8888888888888888,
              "#fdca26"
             ],
             [
              1,
              "#f0f921"
             ]
            ],
            "type": "heatmapgl"
           }
          ],
          "histogram": [
           {
            "marker": {
             "colorbar": {
              "outlinewidth": 0,
              "ticks": ""
             }
            },
            "type": "histogram"
           }
          ],
          "histogram2d": [
           {
            "colorbar": {
             "outlinewidth": 0,
             "ticks": ""
            },
            "colorscale": [
             [
              0,
              "#0d0887"
             ],
             [
              0.1111111111111111,
              "#46039f"
             ],
             [
              0.2222222222222222,
              "#7201a8"
             ],
             [
              0.3333333333333333,
              "#9c179e"
             ],
             [
              0.4444444444444444,
              "#bd3786"
             ],
             [
              0.5555555555555556,
              "#d8576b"
             ],
             [
              0.6666666666666666,
              "#ed7953"
             ],
             [
              0.7777777777777778,
              "#fb9f3a"
             ],
             [
              0.8888888888888888,
              "#fdca26"
             ],
             [
              1,
              "#f0f921"
             ]
            ],
            "type": "histogram2d"
           }
          ],
          "histogram2dcontour": [
           {
            "colorbar": {
             "outlinewidth": 0,
             "ticks": ""
            },
            "colorscale": [
             [
              0,
              "#0d0887"
             ],
             [
              0.1111111111111111,
              "#46039f"
             ],
             [
              0.2222222222222222,
              "#7201a8"
             ],
             [
              0.3333333333333333,
              "#9c179e"
             ],
             [
              0.4444444444444444,
              "#bd3786"
             ],
             [
              0.5555555555555556,
              "#d8576b"
             ],
             [
              0.6666666666666666,
              "#ed7953"
             ],
             [
              0.7777777777777778,
              "#fb9f3a"
             ],
             [
              0.8888888888888888,
              "#fdca26"
             ],
             [
              1,
              "#f0f921"
             ]
            ],
            "type": "histogram2dcontour"
           }
          ],
          "mesh3d": [
           {
            "colorbar": {
             "outlinewidth": 0,
             "ticks": ""
            },
            "type": "mesh3d"
           }
          ],
          "parcoords": [
           {
            "line": {
             "colorbar": {
              "outlinewidth": 0,
              "ticks": ""
             }
            },
            "type": "parcoords"
           }
          ],
          "pie": [
           {
            "automargin": true,
            "type": "pie"
           }
          ],
          "scatter": [
           {
            "marker": {
             "colorbar": {
              "outlinewidth": 0,
              "ticks": ""
             }
            },
            "type": "scatter"
           }
          ],
          "scatter3d": [
           {
            "line": {
             "colorbar": {
              "outlinewidth": 0,
              "ticks": ""
             }
            },
            "marker": {
             "colorbar": {
              "outlinewidth": 0,
              "ticks": ""
             }
            },
            "type": "scatter3d"
           }
          ],
          "scattercarpet": [
           {
            "marker": {
             "colorbar": {
              "outlinewidth": 0,
              "ticks": ""
             }
            },
            "type": "scattercarpet"
           }
          ],
          "scattergeo": [
           {
            "marker": {
             "colorbar": {
              "outlinewidth": 0,
              "ticks": ""
             }
            },
            "type": "scattergeo"
           }
          ],
          "scattergl": [
           {
            "marker": {
             "colorbar": {
              "outlinewidth": 0,
              "ticks": ""
             }
            },
            "type": "scattergl"
           }
          ],
          "scattermapbox": [
           {
            "marker": {
             "colorbar": {
              "outlinewidth": 0,
              "ticks": ""
             }
            },
            "type": "scattermapbox"
           }
          ],
          "scatterpolar": [
           {
            "marker": {
             "colorbar": {
              "outlinewidth": 0,
              "ticks": ""
             }
            },
            "type": "scatterpolar"
           }
          ],
          "scatterpolargl": [
           {
            "marker": {
             "colorbar": {
              "outlinewidth": 0,
              "ticks": ""
             }
            },
            "type": "scatterpolargl"
           }
          ],
          "scatterternary": [
           {
            "marker": {
             "colorbar": {
              "outlinewidth": 0,
              "ticks": ""
             }
            },
            "type": "scatterternary"
           }
          ],
          "surface": [
           {
            "colorbar": {
             "outlinewidth": 0,
             "ticks": ""
            },
            "colorscale": [
             [
              0,
              "#0d0887"
             ],
             [
              0.1111111111111111,
              "#46039f"
             ],
             [
              0.2222222222222222,
              "#7201a8"
             ],
             [
              0.3333333333333333,
              "#9c179e"
             ],
             [
              0.4444444444444444,
              "#bd3786"
             ],
             [
              0.5555555555555556,
              "#d8576b"
             ],
             [
              0.6666666666666666,
              "#ed7953"
             ],
             [
              0.7777777777777778,
              "#fb9f3a"
             ],
             [
              0.8888888888888888,
              "#fdca26"
             ],
             [
              1,
              "#f0f921"
             ]
            ],
            "type": "surface"
           }
          ],
          "table": [
           {
            "cells": {
             "fill": {
              "color": "#EBF0F8"
             },
             "line": {
              "color": "white"
             }
            },
            "header": {
             "fill": {
              "color": "#C8D4E3"
             },
             "line": {
              "color": "white"
             }
            },
            "type": "table"
           }
          ]
         },
         "layout": {
          "annotationdefaults": {
           "arrowcolor": "#2a3f5f",
           "arrowhead": 0,
           "arrowwidth": 1
          },
          "coloraxis": {
           "colorbar": {
            "outlinewidth": 0,
            "ticks": ""
           }
          },
          "colorscale": {
           "diverging": [
            [
             0,
             "#8e0152"
            ],
            [
             0.1,
             "#c51b7d"
            ],
            [
             0.2,
             "#de77ae"
            ],
            [
             0.3,
             "#f1b6da"
            ],
            [
             0.4,
             "#fde0ef"
            ],
            [
             0.5,
             "#f7f7f7"
            ],
            [
             0.6,
             "#e6f5d0"
            ],
            [
             0.7,
             "#b8e186"
            ],
            [
             0.8,
             "#7fbc41"
            ],
            [
             0.9,
             "#4d9221"
            ],
            [
             1,
             "#276419"
            ]
           ],
           "sequential": [
            [
             0,
             "#0d0887"
            ],
            [
             0.1111111111111111,
             "#46039f"
            ],
            [
             0.2222222222222222,
             "#7201a8"
            ],
            [
             0.3333333333333333,
             "#9c179e"
            ],
            [
             0.4444444444444444,
             "#bd3786"
            ],
            [
             0.5555555555555556,
             "#d8576b"
            ],
            [
             0.6666666666666666,
             "#ed7953"
            ],
            [
             0.7777777777777778,
             "#fb9f3a"
            ],
            [
             0.8888888888888888,
             "#fdca26"
            ],
            [
             1,
             "#f0f921"
            ]
           ],
           "sequentialminus": [
            [
             0,
             "#0d0887"
            ],
            [
             0.1111111111111111,
             "#46039f"
            ],
            [
             0.2222222222222222,
             "#7201a8"
            ],
            [
             0.3333333333333333,
             "#9c179e"
            ],
            [
             0.4444444444444444,
             "#bd3786"
            ],
            [
             0.5555555555555556,
             "#d8576b"
            ],
            [
             0.6666666666666666,
             "#ed7953"
            ],
            [
             0.7777777777777778,
             "#fb9f3a"
            ],
            [
             0.8888888888888888,
             "#fdca26"
            ],
            [
             1,
             "#f0f921"
            ]
           ]
          },
          "colorway": [
           "#636efa",
           "#EF553B",
           "#00cc96",
           "#ab63fa",
           "#FFA15A",
           "#19d3f3",
           "#FF6692",
           "#B6E880",
           "#FF97FF",
           "#FECB52"
          ],
          "font": {
           "color": "#2a3f5f"
          },
          "geo": {
           "bgcolor": "white",
           "lakecolor": "white",
           "landcolor": "#E5ECF6",
           "showlakes": true,
           "showland": true,
           "subunitcolor": "white"
          },
          "hoverlabel": {
           "align": "left"
          },
          "hovermode": "closest",
          "mapbox": {
           "style": "light"
          },
          "paper_bgcolor": "white",
          "plot_bgcolor": "#E5ECF6",
          "polar": {
           "angularaxis": {
            "gridcolor": "white",
            "linecolor": "white",
            "ticks": ""
           },
           "bgcolor": "#E5ECF6",
           "radialaxis": {
            "gridcolor": "white",
            "linecolor": "white",
            "ticks": ""
           }
          },
          "scene": {
           "xaxis": {
            "backgroundcolor": "#E5ECF6",
            "gridcolor": "white",
            "gridwidth": 2,
            "linecolor": "white",
            "showbackground": true,
            "ticks": "",
            "zerolinecolor": "white"
           },
           "yaxis": {
            "backgroundcolor": "#E5ECF6",
            "gridcolor": "white",
            "gridwidth": 2,
            "linecolor": "white",
            "showbackground": true,
            "ticks": "",
            "zerolinecolor": "white"
           },
           "zaxis": {
            "backgroundcolor": "#E5ECF6",
            "gridcolor": "white",
            "gridwidth": 2,
            "linecolor": "white",
            "showbackground": true,
            "ticks": "",
            "zerolinecolor": "white"
           }
          },
          "shapedefaults": {
           "line": {
            "color": "#2a3f5f"
           }
          },
          "ternary": {
           "aaxis": {
            "gridcolor": "white",
            "linecolor": "white",
            "ticks": ""
           },
           "baxis": {
            "gridcolor": "white",
            "linecolor": "white",
            "ticks": ""
           },
           "bgcolor": "#E5ECF6",
           "caxis": {
            "gridcolor": "white",
            "linecolor": "white",
            "ticks": ""
           }
          },
          "title": {
           "x": 0.05
          },
          "xaxis": {
           "automargin": true,
           "gridcolor": "white",
           "linecolor": "white",
           "ticks": "",
           "title": {
            "standoff": 15
           },
           "zerolinecolor": "white",
           "zerolinewidth": 2
          },
          "yaxis": {
           "automargin": true,
           "gridcolor": "white",
           "linecolor": "white",
           "ticks": "",
           "title": {
            "standoff": 15
           },
           "zerolinecolor": "white",
           "zerolinewidth": 2
          }
         }
        },
        "xaxis": {
         "anchor": "y",
         "domain": [
          0,
          1
         ],
         "title": {
          "text": "Point Choc"
         }
        },
        "yaxis": {
         "anchor": "x",
         "domain": [
          0,
          1
         ],
         "title": {
          "text": "count"
         }
        }
       }
      },
      "text/html": [
       "<div>\n",
       "        \n",
       "        \n",
       "            <div id=\"75a9359f-faa3-4cab-bac5-8e194d2d4311\" class=\"plotly-graph-div\" style=\"height:525px; width:100%;\"></div>\n",
       "            <script type=\"text/javascript\">\n",
       "                require([\"plotly\"], function(Plotly) {\n",
       "                    window.PLOTLYENV=window.PLOTLYENV || {};\n",
       "                    \n",
       "                if (document.getElementById(\"75a9359f-faa3-4cab-bac5-8e194d2d4311\")) {\n",
       "                    Plotly.newPlot(\n",
       "                        '75a9359f-faa3-4cab-bac5-8e194d2d4311',\n",
       "                        [{\"alignmentgroup\": \"True\", \"bingroup\": \"x\", \"hovertemplate\": \"Fraud=Non<br>Point Choc=%{x}<br>count=%{y}<extra></extra>\", \"legendgroup\": \"Non\", \"marker\": {\"color\": \"#636efa\"}, \"name\": \"Non\", \"offsetgroup\": \"Non\", \"orientation\": \"v\", \"showlegend\": true, \"type\": \"histogram\", \"x\": [\"Tiers Ar. D,Tiers Lat. D\", \"Tiers Ar. D\", \"Tiers Lat. D\", \"Tiers Ar. D\", \"Tiers Av. G\", \"Face Ar\", \"Tiers Ar. D,Tiers Lat. D\", \"Face Av\", \"Tiers Ar. D\", \"Face Ar\", \"Pare Brise\", \"Tiers Ar. G\", \"Tiers Av. D\", \"Tiers Lat. D\", \"Tiers Ar. G\", \"Tiers Av. D\", \"Tiers Av. G\", \"Face Ar\", \"Tiers Av. G\", \"Tiers Av. D,Tiers Lat. D\", \"Tiers Av. G,Tiers Lat. G\", \"Tiers Lat. D\", \"Tiers Ar. G\", \"Face Av,Tiers Av. D\", \"Face Av\", \"Face Ar\", \"Tiers Lat. G\", \"Tiers Ar. G\", \"Face Av,Tiers Av. D\", \"Face Ar\", \"Face Ar\", \"Face Ar,Face Av,Tiers Av. D\", \"Tiers Ar. G\", \"Face Av,Tiers Av. G,Tiers Lat. G\", \"Tiers Ar. G\", \"Face Ar\", \"Face Av\", \"Tiers Ar. G\", \"Tiers Av. G,Tiers Lat. G\", \"Tiers Lat. D\", \"Face Ar\", \"Tiers Av. G\", \"Face Av\", \"Face Av\", \"Tiers Av. D\", \"Face Av\", \"Tiers Ar. D\", \"Face Av,Tiers Av. D\", \"Tiers Av. D,Tiers Lat. D\", \"Face Ar\", \"Tiers Lat. D\", \"Tiers Av. D\", \"Face Ar\", \"Lat G\", \"Lat G\", \"Lat D\", \"Divers Chocs\", \"Face Ar\", \"Face Ar,Tiers Av. D\", \"Face Ar,Face Av\", \"Face Av\", \"Face Av\", \"Face Av\", \"Tiers Av. G\", \"Tiers Av. D\", \"Tiers Av. G\", \"Tiers Ar. G\", \"Tiers Ar. D,Tiers Lat. D\", \"Face Ar\", \"Face Av,Tiers Av. G\", \"Tiers Av. D\", \"Face Ar\", \"Tiers Av. G\", \"Face Av\", \"Face Ar\", \"Tiers Lat. G\", \"Tiers Av. D,Tiers Lat. D\", \"Tiers Ar. D\", \"Lat G\", \"Tiers Ar. D\", \"Face Ar,Face Av\", \"Face Av\", \"Face Ar,Tiers Ar. G\", \"Tiers Av. G\", \"Face Ar,Tiers Ar. D\", \"Tiers Av. D\", \"Lat G\", \"Face Av,Tiers Lat. D\", \"Face Av\", \"Face Av,Tiers Av. G\", \"Tiers Ar. G\", \"Face Av\", \"Tiers Ar. G\", \"Tiers Av. G\", \"Tiers Av. G\", \"Tiers Av. D,Tiers Lat. D\", \"Face Av\", \"Divers Chocs,Face Av\", \"Face Av\", \"Tiers Av. D\", \"Tiers Lat. D\", \"Tiers Av. G\", \"Face Ar,Face Av\", \"Tiers Ar. D\", \"Tiers Av. G\", \"Tiers Av. D\", \"Tiers Ar. D\", \"Face Av\", \"Tiers Av. D\", \"Tiers Av. D\", \"Tiers Av. D\", \"Pare Brise\", \"Face Av,Tiers Av. D\", \"Lat D\", \"Face Ar\", \"Face Ar,Face Av\", \"Face Ar\", \"Tiers Av. D\", \"Tiers Av. D\", \"Tiers Ar. D,Tiers Ar. G\", \"Face Av\", \"Face Ar\", \"Face Av\", \"Face Av\", \"Pare Brise\", \"Face Av\", \"Tiers Av. G\", \"Face Ar\", \"Tiers Av. G\", \"Face Ar\", \"Tiers Av. G\", \"Tiers Av. G\", \"Lat D\", \"Tiers Ar. D\", \"Face Ar\", \"Face Av\", \"Face Av\", \"Face Av\", \"Face Ar,Tiers Ar. D\", \"Face Ar\", \"Face Av\", \"Tiers Ar. G\", \"Tiers Ar. G\", \"Tiers Ar. D\", \"Tiers Ar. G\", \"Face Av\", \"Tiers Av. G,Tiers Lat. G\", \"Face Ar,Face Av,Lat D,Lat G\", \"Tiers Av. G,Tiers Lat. G\", \"Face Av\", \"Tiers Av. G\", \"Tiers Av. D\", \"Face Av\", \"Tiers Av. D\", \"Tiers Ar. D\", \"Face Ar\", \"Face Ar\", \"Tiers Ar. G\", \"Tiers Av. D\", \"Divers Chocs\", \"Tiers Av. G\", \"Face Ar\", \"Face Ar\", \"Face Av\", \"Face Av\", \"Tiers Av. D\", \"Face Ar\", \"Tiers Ar. G\", \"Tiers Av. D\", \"Tiers Av. G\", \"Tiers Ar. G,Tiers Av. D\", \"Face Av\", \"Tiers Ar. D\", \"Face Ar\", \"Tiers Av. D\", \"Tiers Av. G\", \"Tiers Av. G\", \"Tiers Av. G\", \"Tiers Ar. D\", \"Tiers Av. G\", \"Lat G\", \"Tiers Av. G,Tiers Lat. G\", \"Face Ar,Tiers Ar. G\", \"Face Av,Tiers Av. G\", \"Tiers Av. G\", \"Face Ar,Tiers Ar. G\", \"Face Av,Tiers Av. G\", \"Tiers Ar. G\", \"Tiers Ar. D\", \"Tiers Ar. D\", \"Face Av,Tiers Av. D\", \"Face Av\", \"Tiers Ar. G,Tiers Lat. G\", \"Face Av,Tiers Av. G\", \"Face Av\", \"Tiers Av. D,Tiers Lat. D\", \"Face Av\", \"Face Ar,Tiers Ar. D,Tiers Ar. G\", \"Tiers Ar. G\", \"Face Av\", \"Face Ar,Face Av,Tiers Ar. D,Tiers Ar. G\", \"Tiers Ar. G,Tiers Lat. G\", \"Pare Brise\", \"Face Ar\", \"Tiers Ar. D\", \"Tiers Av. D\", \"Face Av\", \"Tiers Av. D\", \"Face Av\", \"Lat G\", \"Tiers Lat. G\", \"Tiers Av. D\", \"Tiers Av. G\", \"Tiers Lat. G\", \"Tiers Av. G,Tiers Lat. G\", \"Tiers Av. G\", \"Tiers Av. D\", \"Face Av\", \"Tiers Av. D\", \"Face Av\", \"Face Ar\", \"Tiers Av. G\", \"Face Av\", \"Tiers Ar. D\", \"Tiers Ar. D\", \"Tiers Ar. G\", \"Face Ar,Face Av\", \"Face Ar\", \"Face Av\", \"Tiers Av. G,Tiers Lat. G\", \"Face Av\", \"Tiers Ar. G\", \"Tiers Av. G\", \"Tiers Av. D\", \"Tiers Av. D\", \"Pare Brise\", \"Tiers Av. G\", \"Face Av\", \"Tiers Av. D\", \"Tiers Ar. G\", \"Pare Brise\", \"Face Ar\", \"Tiers Ar. G\", \"Lat G\", \"Face Ar\", \"Face Ar\", \"Tiers Av. D\", \"Tiers Lat. G\", \"Face Av\", \"Tiers Ar. D\", \"Pare Brise\", \"Face Av\", \"Face Ar\", \"Tiers Ar. D\", \"Face Ar,Face Av\", \"Tiers Ar. D,Tiers Lat. D\", \"Tiers Av. D\", \"Tiers Ar. D\", \"Tiers Av. D\", \"Face Av\", \"Face Ar,Face Av\", \"Tiers Ar. G,Tiers Lat. G\", \"Tiers Av. G\", \"Face Ar,Tiers Ar. G\", \"Face Ar\", \"Face Ar,Face Av\", \"Tiers Ar. D\", \"Face Ar\", \"Face Ar\", \"Face Ar\", \"Face Av\", \"Tiers Lat. G\", \"Face Av\", \"Face Ar,Tiers Ar. D\", \"Face Ar\", \"Face Ar,Face Av\", \"Tiers Av. G\", \"Face Av,Tiers Av. D,Tiers Av. G\", \"Face Ar,Tiers Ar. G,Tiers Lat. G,Vitre Ar. G\", \"Face Av\", \"Tiers Av. G,Tiers Lat. G\", \"Tiers Av. D\", \"Tiers Ar. D\", \"Face Av\", \"Tiers Ar. G\", \"Tiers Av. D\", \"Pare Brise\", \"Face Ar\", \"Face Av\", \"Tiers Av. G\", \"Face Av\", \"Face Ar\", \"Face Ar\", \"Tiers Lat. G\", \"Face Av\", \"Tiers Av. D\", \"Tiers Ar. G\", \"Face Av,Tiers Av. G\", \"Tiers Av. D\", \"Face Ar\", \"Face Av\", \"Lat D\", \"Tiers Ar. D\", \"Face Ar\", \"Face Av\", \"Tiers Av. G\", \"Tiers Av. D\", \"Face Ar\", \"Tiers Av. G\", \"Tiers Ar. D\", \"Face Ar\", \"Tiers Ar. G\", \"Face Av\", \"Face Ar\", \"Tiers Ar. D\", \"Face Av,Pare Brise\", \"Face Av\", \"Tiers Av. D\", \"Lat G\", \"Tiers Av. D\", \"Tiers Ar. G\", \"Face Ar\", \"Face Av,Tiers Av. D\", \"Tiers Av. G\", \"Face Av\", \"Tiers Ar. G\", \"Pare Brise\", \"Tiers Av. D\", \"Pare Brise\", \"Tiers Ar. D\", \"Face Ar\", \"Face Ar\", \"Face Av\", \"Tiers Ar. G\", \"Tiers Av. G\", \"Face Ar\", \"Face Ar\", \"Face Av,Tiers Av. D\", \"Tiers Av. D\", \"Face Av\", \"Tiers Av. D\", \"Face Ar\", \"Face Ar\", \"Face Av\", \"Tiers Ar. D\", \"Face Av\", \"Face Av\", \"Face Ar\", \"Tiers Av. D\", \"Face Ar\", \"Tiers Av. D\", \"Face Av\", \"Lat G\", \"Tiers Av. G,Tiers Lat. G\", \"Face Ar,Lat D\", \"Face Av\", \"Tiers Av. D\", \"Tiers Av. G\", \"Tiers Av. D,Tiers Av. G\", \"Face Av,Lat D\", \"Face Av\", \"Face Av\", \"Face Ar\", \"Face Ar,Face Av\", \"Tiers Ar. G\", \"Tiers Av. D\", \"Tiers Lat. G\", \"Tiers Av. G\", \"Tiers Av. G,Tiers Lat. G\", \"Tiers Av. D\", \"Tiers Av. G\", \"Tiers Av. G,Tiers Lat. G\", \"Tiers Av. G\", \"Tiers Lat. G\", \"Tiers Av. D,Tiers Lat. D\", \"Tiers Av. G\", \"Tiers Av. D\", \"Face Av\", \"Tiers Av. G\", \"Tiers Lat. D\", \"Tiers Av. G,Tiers Lat. G\", \"Tiers Ar. D\", \"Tiers Av. G,Vitre Av. G\", \"Face Ar\", \"Face Ar\", \"Tiers Av. G\", \"Face Av,Tiers Av. D\", \"Tiers Av. G\", \"Face Av,Tiers Av. D\", \"Face Av,Tiers Av. G\", \"Face Av\", \"Lat D\", \"Face Av\", \"Face Ar\", \"Tiers Lat. D\", \"Face Ar\", \"Tiers Ar. D\", \"Tiers Ar. D\", \"Face Ar\", \"Tiers Ar. G\", \"Lat G\", \"Tiers Av. G\", \"Face Av\", \"Divers Chocs,Face Ar,Face Av,Lat G,Tiers Av. D,Tiers Lat. D\", \"Face Av\", \"Face Av\", \"Face Av\", \"Lat G\", \"Tiers Av. G\", \"Face Ar\", \"Tiers Ar. G,Tiers Lat. G\", \"Tiers Av. G\", \"Tiers Av. D\", \"Face Av\", \"Face Ar\", \"Tiers Av. G\", \"Tiers Av. D\", \"Tiers Ar. G\", \"Tiers Av. D\", \"Face Ar\", \"Face Av,Tiers Av. D\", \"Lat D\", \"Tiers Ar. G,Tiers Lat. G\", \"Face Ar\", \"Face Ar\", \"Face Av\", \"Pare Brise\", \"Tiers Ar. D\", \"Tiers Av. D\", \"Tiers Av. G\", \"Face Ar,Tiers Ar. D\", \"Face Av,Tiers Av. G\", \"Tiers Av. G\", \"Tiers Ar. G\", \"Lunette AR\", \"Face Ar\", \"Face Ar\", \"Tiers Av. G\", \"Face Av\", \"Tiers Av. D\", \"Lat D\", \"Face Ar\", \"Face Ar\", \"Face Av\", \"Face Av,Tiers Av. G\", \"Face Av\", \"Tiers Ar. G\", \"Tiers Av. G\", \"Tiers Av. G\", \"Face Ar\", \"Face Ar,Tiers Ar. D\", \"Lat D\", \"Face Ar\", \"Face Av,Tiers Av. D\", \"Pare Brise\", \"Face Ar\", \"Lat D\", \"Pare Brise\", \"Vitre Ar. G\", \"Face Ar,Tiers Ar. G\", \"Tiers Av. G\", \"Tiers Ar. D,Tiers Lat. D\", \"Face Ar,Face Av,Tiers Ar. D,Tiers Av. D\", \"Pare Brise\", \"Tiers Lat. G\", \"Face Av,Tiers Av. G\", \"Face Ar\", \"Tiers Ar. D,Tiers Lat. D\", \"Pare Brise\", \"Tiers Lat. D\", \"Face Ar,Tiers Ar. G\", \"Face Av,Tiers Av. D\", \"Face Av\", \"Face Ar\", \"Tiers Av. D\", \"Tiers Av. G\", \"Tiers Ar. D,Tiers Lat. D\", \"Face Ar\", \"Face Ar\", \"Face Av\", \"Tiers Av. D\", \"Tiers Ar. D\", \"Tiers Av. G\", \"Face Ar\", \"Face Av\", \"Tiers Av. D,Tiers Av. G\", \"Tiers Av. G\", \"Tiers Av. D\", \"Face Av,Tiers Av. D,Tiers Av. G,Tiers Lat. G\", \"Tiers Av. G,Tiers Lat. G\", \"Tiers Av. D,Tiers Av. G,Tiers Lat. D\", \"Tiers Av. D\", \"Tiers Av. G\", \"Face Av,Tiers Av. D,Tiers Lat. D\", \"Face Ar\", \"Lat G\", \"Tiers Ar. G,Tiers Lat. D\", \"Tiers Av. D\", \"Face Av\", \"Face Ar\", \"Tiers Ar. G,Tiers Av. D\", \"Tiers Av. D\", \"Tiers Av. D\", \"Face Av\", \"Face Ar,Lunette AR\", \"Face Av,Tiers Av. G\", \"Divers Chocs\", \"Face Ar,Tiers Ar. D\", \"Face Av\", \"Tiers Av. G\", \"Tiers Ar. G\", \"Tiers Av. G\", \"Face Av,Tiers Av. G\", \"Face Ar\", \"Lat D\", \"Tiers Ar. G\", \"Face Ar\", \"Face Av\", \"Face Ar,Tiers Ar. G,Tiers Lat. G\", \"Tiers Av. D,Tiers Lat. D\", \"Face Ar\", \"Tiers Ar. D,Tiers Lat. D\", \"Tiers Av. G\", \"Face Ar,Tiers Ar. D\", \"Tiers Av. D\", \"Tiers Av. G\", \"Tiers Av. G,Tiers Lat. G\", \"Face Av\", \"Tiers Av. D,Tiers Lat. D\", \"Face Ar\", \"Face Av,Tiers Av. D\", \"Lat G\", \"Face Av\", \"Face Av\", \"Tiers Av. D,Tiers Lat. G\", \"Face Av,Tiers Av. G\", \"Lat G\", \"Face Ar\", \"Tiers Av. D\", \"Face Av\", \"Lat G,Tiers Av. D\", \"Tiers Ar. D\", \"Tiers Ar. G\", \"Face Av\", \"Tiers Av. D\", \"Face Ar\", \"Face Ar,Face Av,Tiers Av. D,Tiers Av. G\", \"Lunette AR,Pare Brise,Tiers Av. D,Tiers Lat. D\", \"Face Av\", \"Face Ar,Face Av\", \"Face Ar\", \"Face Av\", \"Face Ar,Face Av\", \"Face Ar,Tiers Ar. D,Tiers Ar. G,Tiers Lat. G\", \"Face Ar\", \"Face Av\", \"Face Av,Pare Brise\", \"Lat G\", \"Tiers Av. D\", \"Face Av,Tiers Av. D\", \"Tiers Av. G\", \"Tiers Ar. D,Tiers Av. D,Tiers Av. G,Tiers Lat. G\", \"Face Av\", \"Face Ar\", \"Tiers Av. D\", \"Face Av\", \"Face Av\", \"Face Ar,Tiers Ar. D,Tiers Ar. G\", \"Tiers Ar. G\", \"Tiers Ar. G\", \"Face Av,Tiers Av. G\", \"Tiers Lat. D\", \"Face Ar\", \"Face Ar,Tiers Ar. G\", \"Tiers Av. D,Tiers Lat. D\", \"Tiers Av. G\", \"Face Av,Tiers Av. G\", \"Face Ar,Tiers Lat. D\", \"Face Ar\", \"Tiers Av. G,Tiers Lat. G\", \"Tiers Av. G,Tiers Lat. G\", \"Face Ar,Face Av\", \"Face Ar\", \"Face Ar\", \"Tiers Av. G\", \"Tiers Av. D\", \"Face Av\", \"Tiers Av. G\", \"Tiers Av. D\", \"Face Ar\", \"Tiers Lat. D\", \"Tiers Lat. D\", \"Face Ar,Face Av\", \"Face Ar\", \"Pare Brise\", \"Divers Chocs\", \"Tiers Av. D\", \"Tiers Av. D\", \"Face Ar,Face Av,Tiers Av. D\", \"Face Ar,Face Av,Tiers Av. D,Tiers Av. G\", \"Face Ar\", \"Tiers Ar. D\", \"Face Ar\", \"Face Ar,Face Av\", \"Tiers Lat. G\", \"Face Av\", \"Tiers Lat. G\", \"Tiers Av. D\", \"Face Ar,Face Av\", \"Face Ar,Face Av,Tiers Ar. G,Tiers Av. D\", \"Tiers Lat. D\", \"Face Ar\", \"Face Av\", \"Divers Chocs,Face Av\", \"Face Av\", \"Face Ar\", \"Tiers Av. D,Tiers Av. G\", \"Tiers Lat. D\", \"Face Ar\", \"Pare Brise\", \"Face Av\", \"Face Av\", \"Face Av\", \"Face Ar\", \"Lat G\", \"Face Ar\", \"Tiers Av. G\", \"Lat D\", \"Face Av\", \"Face Ar\", \"Face Ar\", \"Face Av\", \"Tiers Av. D\", \"Face Av\", \"Face Ar\", \"Face Ar,Face Av\", \"Face Ar\", \"Tiers Av. G\", \"Face Ar,Lunette AR\", \"Tiers Av. G,Tiers Lat. G\", \"Tiers Ar. G\", \"Tiers Ar. G,Tiers Lat. G\", \"Face Ar,Tiers Ar. D\", \"Face Av\", \"Face Ar\", \"Face Av,Tiers Av. D\", \"Face Ar,Tiers Ar. G,Tiers Lat. G\", \"Face Av,Tiers Ar. D,Tiers Av. G,Tiers Lat. D\", \"Tiers Av. D,Tiers Lat. D\", \"Face Av\", \"Divers Chocs\", \"Face Ar\", \"Face Av,Tiers Ar. D\", \"Face Ar,Face Av\", \"Face Ar,Lat G,Tiers Av. D\", \"Face Ar\", \"Tiers Ar. G,Tiers Lat. G\", \"Tiers Av. D,Tiers Lat. G\", \"Tiers Av. G\", \"Tiers Ar. G\", \"Face Av\", \"Face Av,Lat G,Tiers Lat. D\", \"Tiers Ar. D,Tiers Lat. D\", \"Tiers Ar. D,Tiers Lat. D\", \"Face Av,Tiers Av. G\", \"Tiers Ar. G,Tiers Lat. G\", \"Tiers Av. D\", \"Face Ar,Face Av\", \"Tiers Ar. G\", \"Face Av\", \"Tiers Av. G\", \"Tiers Ar. G\", \"Face Av\", \"Face Ar,Face Av,Tiers Ar. G\", \"Tiers Lat. D\", \"Face Ar\", \"Face Ar\", \"Tiers Ar. G\", \"Tiers Av. D\", \"Tiers Av. D\", \"Face Av,Tiers Av. G\", \"Tiers Av. D\", \"Face Av\", \"Tiers Ar. D\", \"Face Av,Tiers Av. G\", \"Face Ar\", \"Tiers Av. G,Tiers Lat. G\", \"Face Ar,Face Av\", \"Face Av,Tiers Ar. G,Tiers Av. D,Tiers Av. G\", \"Tiers Ar. G,Tiers Av. G\", \"Tiers Av. D\", \"Face Av,Tiers Av. D\", \"Tiers Av. G\", \"Pare Brise,Tiers Av. D\", \"Face Av,Tiers Av. G\", \"Tiers Ar. D\", \"Face Ar\", \"Face Ar\", \"Divers Chocs\", \"Face Ar\", \"Tiers Av. D\", \"Lat D\", \"Face Av,Tiers Av. D,Tiers Av. G\", \"Face Ar,Face Av\", \"Face Ar\", \"Tiers Av. D\", \"Tiers Lat. D\", \"Tiers Av. D\", \"Face Ar\", \"Tiers Ar. G\", \"Face Av\", \"Face Av\", \"Tiers Av. G\", \"Face Ar,Face Av\", \"Tiers Av. D\", \"Tiers Av. D\", \"Face Av,Tiers Av. D\", \"Tiers Ar. G\", \"Tiers Ar. G\", \"Face Ar\", \"Tiers Av. G\", \"Tiers Av. G\", \"Pare Brise,Tiers Ar. G\", \"Face Av\", \"Face Av,Pare Brise\", \"Tiers Av. G\", \"Face Ar\", \"Tiers Av. G,Tiers Lat. G\", \"Face Ar\", \"Face Ar\", \"Tiers Av. G\", \"Tiers Av. D\", \"Tiers Ar. D\", \"Face Ar\", \"Face Av\", \"Tiers Av. G\", \"Tiers Av. G\", \"Face Ar\", \"Face Av,Tiers Av. D\", \"Face Ar,Lunette AR\", \"Face Ar\", \"Lat D\", \"Tiers Ar. D,Tiers Av. G\", \"Lat G\", \"Tiers Ar. G\", \"Face Av\", \"Face Ar\", \"Tiers Av. G\", \"Face Av\", \"Tiers Av. D\", \"Face Av\", \"Face Ar\", \"Tiers Ar. G,Tiers Lat. G\", \"Tiers Av. D,Tiers Av. G,Tiers Lat. G\", \"Face Av\", \"Tiers Av. G\", \"Tiers Lat. G\", \"Face Av\", \"Divers Chocs\", \"Face Ar,Tiers Ar. G\", \"Face Av\", \"Tiers Av. D\", \"Tiers Lat. G\", \"Divers Chocs,Face Av,Tiers Av. D,Tiers Lat. D\", \"Face Ar\", \"Face Av\", \"Face Ar,Face Av\", \"Tiers Ar. G\", \"Tiers Ar. D\", \"Face Av\", \"Face Av,Tiers Av. D\", \"Tiers Av. G,Tiers Lat. G\", \"Tiers Av. D\", \"Face Ar\", \"Tiers Ar. G\", \"Face Av\", \"Tiers Ar. D\", \"Face Av,Tiers Av. D\", \"Face Av\", \"Face Av,Tiers Av. D\", \"Tiers Av. G\", \"Tiers Av. G\", \"Tiers Av. G\", \"Tiers Av. G\", \"Face Av\", \"Face Ar\", \"Tiers Ar. G\", \"Face Ar\", \"Face Av\", \"Face Ar\", \"Face Av,Tiers Av. D\", \"Tiers Ar. D\", \"Tiers Av. D\", \"Tiers Av. G\", \"Tiers Av. G\", \"Face Av\", \"Tiers Av. G\", \"Tiers Av. G\", \"Tiers Av. G\", \"Tiers Ar. G\", \"Tiers Av. D,Tiers Lat. D\", \"Face Av\", \"Face Ar\", \"Tiers Ar. G,Tiers Av. D\", \"Tiers Av. D\", \"Face Ar\", \"Face Ar,Face Av,Tiers Ar. G,Tiers Av. D\", \"Face Av\", \"Face Ar\", \"Face Av,Tiers Av. G\", \"Tiers Av. G\", \"Face Av\", \"Face Ar,Face Av\", \"Tiers Ar. D\", \"Divers Chocs\", \"Tiers Lat. D\", \"Face Ar,Face Av\", \"Face Ar,Face Av,Tiers Av. D,Tiers Av. G\", \"Face Av,Tiers Av. D\", \"Face Ar,Tiers Av. G\", \"Tiers Lat. G\", \"Face Ar\", \"Face Av\", \"Face Av\", \"Divers Chocs\", \"Face Ar,Tiers Ar. D\", \"Tiers Av. D,Tiers Lat. D\", \"Face Av\", \"Tiers Av. D\", \"Tiers Ar. D,Tiers Lat. D\", \"Tiers Ar. G\", \"Tiers Av. D\", \"Face Ar\", \"Tiers Av. G,Tiers Lat. G\", \"Tiers Ar. G\", \"Tiers Ar. G\", \"Face Ar,Tiers Ar. G,Vitre Ar. G\", \"Tiers Av. G\", \"Tiers Ar. G\", \"Face Ar\", \"Tiers Ar. D\", \"Tiers Av. D\", \"Tiers Ar. G\", \"Tiers Ar. G\", \"Face Ar,Tiers Ar. D\", \"Face Av\", \"Tiers Lat. D\", \"Face Av\", \"Face Ar\", \"Lat D\", \"Face Av\", \"Tiers Ar. G\", \"Tiers Lat. G\", \"Lat G,Tiers Ar. D\", \"Face Av\", \"Divers Chocs\", \"Lat G\", \"Face Ar\", \"Face Av\", \"Face Ar\", \"Face Av,Tiers Ar. G,Tiers Av. D,Tiers Av. G\", \"Lat G\", \"Tiers Av. G\", \"Tiers Ar. G\", \"Tiers Ar. D\", \"Face Ar,Face Av\", \"Face Ar\", \"Lat D\", \"Tiers Ar. G\", \"Face Ar\", \"Face Av\", \"Face Ar\", \"Divers Chocs\", \"Tiers Av. D\", \"Tiers Lat. G\", \"Tiers Ar. D\", \"Tiers Av. G\", \"Face Ar\", \"Pare Brise\", \"Face Ar,Face Av,Lat D,Tiers Lat. G\", \"Face Av,Tiers Ar. G\", \"Tiers Ar. G\"], \"xaxis\": \"x\", \"yaxis\": \"y\"}, {\"alignmentgroup\": \"True\", \"bingroup\": \"x\", \"hovertemplate\": \"Fraud=Oui<br>Point Choc=%{x}<br>count=%{y}<extra></extra>\", \"legendgroup\": \"Oui\", \"marker\": {\"color\": \"#EF553B\"}, \"name\": \"Oui\", \"offsetgroup\": \"Oui\", \"orientation\": \"v\", \"showlegend\": true, \"type\": \"histogram\", \"x\": [\"Tiers Ar. G\", \"Face Av\", \"Tiers Av. G\", \"Tiers Ar. D,Tiers Lat. D\", \"Face Av\", \"Face Ar,Tiers Ar. G\", \"Tiers Av. G,Tiers Lat. G\", \"Tiers Ar. G\", \"Face Ar,Face Av\", \"Tiers Ar. D\", \"Tiers Ar. G\", \"Tiers Av. G\", \"Face Ar\", \"Lat D\", \"Tiers Av. G\", \"Tiers Av. G\", \"Tiers Ar. G\", \"Face Av\", \"Pare Brise\", \"Tiers Lat. G\", \"Tiers Av. G\", \"Face Av\", \"Tiers Av. G\", \"Face Ar,Face Av\", \"Tiers Av. D\", \"Face Ar\", \"Tiers Av. D,Tiers Av. G\", \"Tiers Av. G\", \"Vitre Av. G\", \"Lat G\", \"Tiers Av. G\", \"Tiers Av. D\", \"Tiers Ar. G\", \"Face Av\", \"Face Ar,Face Av\", \"Face Ar,Tiers Ar. G\", \"Face Ar,Face Av,Lat D,Lat G,Face Ar,Face Av,Tiers Lat. D,Tiers Lat. G\", \"Tiers Av. D\", \"Tiers Av. G\", \"Tiers Ar. G,Tiers Lat. G\", \"Tiers Av. D\", \"Tiers Av. D\", \"Lat G\", \"Tiers Av. D\", \"Lat D\", \"Face Ar\", \"Face Ar\", \"Tiers Ar. D\", \"Tiers Ar. D\", \"Pare Brise\", \"Tiers Ar. D\", \"Tiers Av. D\", \"Tiers Lat. G\", \"Tiers Av. D\", \"Tiers Lat. D\", \"Face Av\", \"Tiers Ar. D\", \"Lat D\", \"Tiers Av. D\", \"Face Av,Tiers Av. G\", \"Face Av\", \"Face Av\", \"Face Ar\", \"Face Av\", \"Face Ar\", \"Face Ar\", \"Face Ar\", \"Face Ar\", \"Tiers Ar. D\", \"Tiers Av. G\", \"Face Ar\", \"Tiers Av. G\", \"Face Ar,Tiers Ar. G\", \"Face Ar,Tiers Ar. G\", \"Tiers Ar. D\", \"Tiers Av. G\", \"Tiers Ar. G\", \"Tiers Ar. G\", \"Tiers Av. G\", \"Face Ar\", \"Face Ar\", \"Lat D\", \"Face Av\", \"Tiers Ar. D\", \"Tiers Av. D\", \"Face Av\", \"Face Ar\", \"Face Av\", \"Pare Brise\", \"Face Av\", \"Tiers Av. D\", \"Face Ar\", \"Tiers Ar. G\", \"Face Ar\", \"Face Ar\", \"Pare Brise\", \"Tiers Ar. G\", \"Tiers Ar. G\", \"Face Av\", \"Tiers Ar. D,Tiers Lat. D\", \"Tiers Av. G,Tiers Lat. G\", \"Tiers Ar. D\", \"Tiers Av. D,Tiers Lat. D\", \"Tiers Av. G\", \"Lat D\", \"Tiers Av. G\", \"Tiers Ar. D\", \"Face Ar\", \"Tiers Av. G\", \"Lat D\", \"Tiers Ar. G\", \"Face Av,Tiers Av. G\", \"Lat G\", \"Face Av,Tiers Av. D,Tiers Av. G\", \"Tiers Av. G\", \"Tiers Ar. D\", \"Face Ar\", \"Tiers Av. G\", \"Face Ar\", \"Face Ar,Tiers Ar. G\", \"Tiers Lat. D\", \"Face Av\", \"Face Av,Tiers Av. D\", \"Face Ar,Face Av\", \"Tiers Av. G\", \"Tiers Ar. D,Tiers Lat. D\", \"Tiers Av. G\", \"Face Av\", \"Face Ar\", \"Tiers Ar. G,Tiers Av. G\", \"Tiers Ar. G\", \"Face Av,Tiers Av. D\", \"Tiers Ar. G,Tiers Av. D\", \"Face Ar,Face Av\", \"Face Av,Tiers Av. D\", \"Face Ar\", \"Lat G\", \"Tiers Av. G\", \"Pare Brise\", \"Tiers Av. D\", \"Face Av\", \"Tiers Lat. D\", \"Tiers Ar. G\", \"Tiers Av. D,Tiers Av. G,Tiers Lat. G\", \"Face Ar,Face Av,Tiers Av. D,Tiers Av. G,Tiers Lat. G\", \"Face Av\", \"Face Ar,Lunette AR,Tiers Ar. D\", \"Face Ar\", \"Tiers Av. G\", \"Face Ar\", \"Face Av,Tiers Av. G,Tiers Lat. G\", \"Tiers Av. G\", \"Face Ar,Face Av\", \"Divers Chocs\", \"Face Av\", \"Face Ar,Tiers Av. G\", \"Tiers Av. D\", \"Tiers Ar. G,Tiers Av. D\", \"Face Ar\", \"Lat D\", \"Face Ar\", \"Tiers Ar. D,Tiers Lat. D\", \"Face Av,Tiers Av. D,Tiers Av. G\", \"Divers Chocs\", \"Tiers Av. G\", \"Face Av\", \"Face Av\", \"Tiers Av. D\", \"Tiers Av. G\", \"Tiers Av. D,Tiers Lat. G\", \"Face Av\", \"Face Ar\", \"Face Av\", \"Tiers Ar. G\", \"Face Av\", \"Face Av,Tiers Av. D\", \"Face Av\", \"Tiers Ar. G\", \"Face Av\", \"Tiers Av. D\", \"Face Av,Tiers Av. D\", \"Face Ar,Face Av\", \"Lat D\", \"Face Av,Pare Brise\", \"Tiers Av. D\", \"Face Ar,Face Av,Tiers Av. D\", \"Tiers Ar. D\", \"Face Av,Tiers Av. G\", \"Face Ar\", \"Tiers Av. G\", \"Face Ar\", \"Face Av\", \"Face Ar\", \"Tiers Av. G\", \"Face Ar\", \"Tiers Ar. D\", \"Lat D\", \"Tiers Av. G\", \"Tiers Av. D\", \"Tiers Ar. G\", \"Face Av,Tiers Av. G\", \"Tiers Av. G,Tiers Lat. G\", \"Face Ar\", \"Face Av,Tiers Av. G\", \"Face Ar,Face Av\", \"Face Av,Pare Brise\", \"Face Av,Tiers Av. D,Tiers Av. G\", \"Face Av\", \"Face Ar\", \"Tiers Av. D\", \"Face Av\", \"Face Ar,Face Av\", \"Face Ar\", \"Lat D\", \"Face Av\"], \"xaxis\": \"x\", \"yaxis\": \"y\"}],\n",
       "                        {\"barmode\": \"relative\", \"legend\": {\"title\": {\"text\": \"Fraud\"}, \"tracegroupgap\": 0}, \"margin\": {\"t\": 60}, \"template\": {\"data\": {\"bar\": [{\"error_x\": {\"color\": \"#2a3f5f\"}, \"error_y\": {\"color\": \"#2a3f5f\"}, \"marker\": {\"line\": {\"color\": \"#E5ECF6\", \"width\": 0.5}}, \"type\": \"bar\"}], \"barpolar\": [{\"marker\": {\"line\": {\"color\": \"#E5ECF6\", \"width\": 0.5}}, \"type\": \"barpolar\"}], \"carpet\": [{\"aaxis\": {\"endlinecolor\": \"#2a3f5f\", \"gridcolor\": \"white\", \"linecolor\": \"white\", \"minorgridcolor\": \"white\", \"startlinecolor\": \"#2a3f5f\"}, \"baxis\": {\"endlinecolor\": \"#2a3f5f\", \"gridcolor\": \"white\", \"linecolor\": \"white\", \"minorgridcolor\": \"white\", \"startlinecolor\": \"#2a3f5f\"}, \"type\": \"carpet\"}], \"choropleth\": [{\"colorbar\": {\"outlinewidth\": 0, \"ticks\": \"\"}, \"type\": \"choropleth\"}], \"contour\": [{\"colorbar\": {\"outlinewidth\": 0, \"ticks\": \"\"}, \"colorscale\": [[0.0, \"#0d0887\"], [0.1111111111111111, \"#46039f\"], [0.2222222222222222, \"#7201a8\"], [0.3333333333333333, \"#9c179e\"], [0.4444444444444444, \"#bd3786\"], [0.5555555555555556, \"#d8576b\"], [0.6666666666666666, \"#ed7953\"], [0.7777777777777778, \"#fb9f3a\"], [0.8888888888888888, \"#fdca26\"], [1.0, \"#f0f921\"]], \"type\": \"contour\"}], \"contourcarpet\": [{\"colorbar\": {\"outlinewidth\": 0, \"ticks\": \"\"}, \"type\": \"contourcarpet\"}], \"heatmap\": [{\"colorbar\": {\"outlinewidth\": 0, \"ticks\": \"\"}, \"colorscale\": [[0.0, \"#0d0887\"], [0.1111111111111111, \"#46039f\"], [0.2222222222222222, \"#7201a8\"], [0.3333333333333333, \"#9c179e\"], [0.4444444444444444, \"#bd3786\"], [0.5555555555555556, \"#d8576b\"], [0.6666666666666666, \"#ed7953\"], [0.7777777777777778, \"#fb9f3a\"], [0.8888888888888888, \"#fdca26\"], [1.0, \"#f0f921\"]], \"type\": \"heatmap\"}], \"heatmapgl\": [{\"colorbar\": {\"outlinewidth\": 0, \"ticks\": \"\"}, \"colorscale\": [[0.0, \"#0d0887\"], [0.1111111111111111, \"#46039f\"], [0.2222222222222222, \"#7201a8\"], [0.3333333333333333, \"#9c179e\"], [0.4444444444444444, \"#bd3786\"], [0.5555555555555556, \"#d8576b\"], [0.6666666666666666, \"#ed7953\"], [0.7777777777777778, \"#fb9f3a\"], [0.8888888888888888, \"#fdca26\"], [1.0, \"#f0f921\"]], \"type\": \"heatmapgl\"}], \"histogram\": [{\"marker\": {\"colorbar\": {\"outlinewidth\": 0, \"ticks\": \"\"}}, \"type\": \"histogram\"}], \"histogram2d\": [{\"colorbar\": {\"outlinewidth\": 0, \"ticks\": \"\"}, \"colorscale\": [[0.0, \"#0d0887\"], [0.1111111111111111, \"#46039f\"], [0.2222222222222222, \"#7201a8\"], [0.3333333333333333, \"#9c179e\"], [0.4444444444444444, \"#bd3786\"], [0.5555555555555556, \"#d8576b\"], [0.6666666666666666, \"#ed7953\"], [0.7777777777777778, \"#fb9f3a\"], [0.8888888888888888, \"#fdca26\"], [1.0, \"#f0f921\"]], \"type\": \"histogram2d\"}], \"histogram2dcontour\": [{\"colorbar\": {\"outlinewidth\": 0, \"ticks\": \"\"}, \"colorscale\": [[0.0, \"#0d0887\"], [0.1111111111111111, \"#46039f\"], [0.2222222222222222, \"#7201a8\"], [0.3333333333333333, \"#9c179e\"], [0.4444444444444444, \"#bd3786\"], [0.5555555555555556, \"#d8576b\"], [0.6666666666666666, \"#ed7953\"], [0.7777777777777778, \"#fb9f3a\"], [0.8888888888888888, \"#fdca26\"], [1.0, \"#f0f921\"]], \"type\": \"histogram2dcontour\"}], \"mesh3d\": [{\"colorbar\": {\"outlinewidth\": 0, \"ticks\": \"\"}, \"type\": \"mesh3d\"}], \"parcoords\": [{\"line\": {\"colorbar\": {\"outlinewidth\": 0, \"ticks\": \"\"}}, \"type\": \"parcoords\"}], \"pie\": [{\"automargin\": true, \"type\": \"pie\"}], \"scatter\": [{\"marker\": {\"colorbar\": {\"outlinewidth\": 0, \"ticks\": \"\"}}, \"type\": \"scatter\"}], \"scatter3d\": [{\"line\": {\"colorbar\": {\"outlinewidth\": 0, \"ticks\": \"\"}}, \"marker\": {\"colorbar\": {\"outlinewidth\": 0, \"ticks\": \"\"}}, \"type\": \"scatter3d\"}], \"scattercarpet\": [{\"marker\": {\"colorbar\": {\"outlinewidth\": 0, \"ticks\": \"\"}}, \"type\": \"scattercarpet\"}], \"scattergeo\": [{\"marker\": {\"colorbar\": {\"outlinewidth\": 0, \"ticks\": \"\"}}, \"type\": \"scattergeo\"}], \"scattergl\": [{\"marker\": {\"colorbar\": {\"outlinewidth\": 0, \"ticks\": \"\"}}, \"type\": \"scattergl\"}], \"scattermapbox\": [{\"marker\": {\"colorbar\": {\"outlinewidth\": 0, \"ticks\": \"\"}}, \"type\": \"scattermapbox\"}], \"scatterpolar\": [{\"marker\": {\"colorbar\": {\"outlinewidth\": 0, \"ticks\": \"\"}}, \"type\": \"scatterpolar\"}], \"scatterpolargl\": [{\"marker\": {\"colorbar\": {\"outlinewidth\": 0, \"ticks\": \"\"}}, \"type\": \"scatterpolargl\"}], \"scatterternary\": [{\"marker\": {\"colorbar\": {\"outlinewidth\": 0, \"ticks\": \"\"}}, \"type\": \"scatterternary\"}], \"surface\": [{\"colorbar\": {\"outlinewidth\": 0, \"ticks\": \"\"}, \"colorscale\": [[0.0, \"#0d0887\"], [0.1111111111111111, \"#46039f\"], [0.2222222222222222, \"#7201a8\"], [0.3333333333333333, \"#9c179e\"], [0.4444444444444444, \"#bd3786\"], [0.5555555555555556, \"#d8576b\"], [0.6666666666666666, \"#ed7953\"], [0.7777777777777778, \"#fb9f3a\"], [0.8888888888888888, \"#fdca26\"], [1.0, \"#f0f921\"]], \"type\": \"surface\"}], \"table\": [{\"cells\": {\"fill\": {\"color\": \"#EBF0F8\"}, \"line\": {\"color\": \"white\"}}, \"header\": {\"fill\": {\"color\": \"#C8D4E3\"}, \"line\": {\"color\": \"white\"}}, \"type\": \"table\"}]}, \"layout\": {\"annotationdefaults\": {\"arrowcolor\": \"#2a3f5f\", \"arrowhead\": 0, \"arrowwidth\": 1}, \"coloraxis\": {\"colorbar\": {\"outlinewidth\": 0, \"ticks\": \"\"}}, \"colorscale\": {\"diverging\": [[0, \"#8e0152\"], [0.1, \"#c51b7d\"], [0.2, \"#de77ae\"], [0.3, \"#f1b6da\"], [0.4, \"#fde0ef\"], [0.5, \"#f7f7f7\"], [0.6, \"#e6f5d0\"], [0.7, \"#b8e186\"], [0.8, \"#7fbc41\"], [0.9, \"#4d9221\"], [1, \"#276419\"]], \"sequential\": [[0.0, \"#0d0887\"], [0.1111111111111111, \"#46039f\"], [0.2222222222222222, \"#7201a8\"], [0.3333333333333333, \"#9c179e\"], [0.4444444444444444, \"#bd3786\"], [0.5555555555555556, \"#d8576b\"], [0.6666666666666666, \"#ed7953\"], [0.7777777777777778, \"#fb9f3a\"], [0.8888888888888888, \"#fdca26\"], [1.0, \"#f0f921\"]], \"sequentialminus\": [[0.0, \"#0d0887\"], [0.1111111111111111, \"#46039f\"], [0.2222222222222222, \"#7201a8\"], [0.3333333333333333, \"#9c179e\"], [0.4444444444444444, \"#bd3786\"], [0.5555555555555556, \"#d8576b\"], [0.6666666666666666, \"#ed7953\"], [0.7777777777777778, \"#fb9f3a\"], [0.8888888888888888, \"#fdca26\"], [1.0, \"#f0f921\"]]}, \"colorway\": [\"#636efa\", \"#EF553B\", \"#00cc96\", \"#ab63fa\", \"#FFA15A\", \"#19d3f3\", \"#FF6692\", \"#B6E880\", \"#FF97FF\", \"#FECB52\"], \"font\": {\"color\": \"#2a3f5f\"}, \"geo\": {\"bgcolor\": \"white\", \"lakecolor\": \"white\", \"landcolor\": \"#E5ECF6\", \"showlakes\": true, \"showland\": true, \"subunitcolor\": \"white\"}, \"hoverlabel\": {\"align\": \"left\"}, \"hovermode\": \"closest\", \"mapbox\": {\"style\": \"light\"}, \"paper_bgcolor\": \"white\", \"plot_bgcolor\": \"#E5ECF6\", \"polar\": {\"angularaxis\": {\"gridcolor\": \"white\", \"linecolor\": \"white\", \"ticks\": \"\"}, \"bgcolor\": \"#E5ECF6\", \"radialaxis\": {\"gridcolor\": \"white\", \"linecolor\": \"white\", \"ticks\": \"\"}}, \"scene\": {\"xaxis\": {\"backgroundcolor\": \"#E5ECF6\", \"gridcolor\": \"white\", \"gridwidth\": 2, \"linecolor\": \"white\", \"showbackground\": true, \"ticks\": \"\", \"zerolinecolor\": \"white\"}, \"yaxis\": {\"backgroundcolor\": \"#E5ECF6\", \"gridcolor\": \"white\", \"gridwidth\": 2, \"linecolor\": \"white\", \"showbackground\": true, \"ticks\": \"\", \"zerolinecolor\": \"white\"}, \"zaxis\": {\"backgroundcolor\": \"#E5ECF6\", \"gridcolor\": \"white\", \"gridwidth\": 2, \"linecolor\": \"white\", \"showbackground\": true, \"ticks\": \"\", \"zerolinecolor\": \"white\"}}, \"shapedefaults\": {\"line\": {\"color\": \"#2a3f5f\"}}, \"ternary\": {\"aaxis\": {\"gridcolor\": \"white\", \"linecolor\": \"white\", \"ticks\": \"\"}, \"baxis\": {\"gridcolor\": \"white\", \"linecolor\": \"white\", \"ticks\": \"\"}, \"bgcolor\": \"#E5ECF6\", \"caxis\": {\"gridcolor\": \"white\", \"linecolor\": \"white\", \"ticks\": \"\"}}, \"title\": {\"x\": 0.05}, \"xaxis\": {\"automargin\": true, \"gridcolor\": \"white\", \"linecolor\": \"white\", \"ticks\": \"\", \"title\": {\"standoff\": 15}, \"zerolinecolor\": \"white\", \"zerolinewidth\": 2}, \"yaxis\": {\"automargin\": true, \"gridcolor\": \"white\", \"linecolor\": \"white\", \"ticks\": \"\", \"title\": {\"standoff\": 15}, \"zerolinecolor\": \"white\", \"zerolinewidth\": 2}}}, \"xaxis\": {\"anchor\": \"y\", \"domain\": [0.0, 1.0], \"title\": {\"text\": \"Point Choc\"}}, \"yaxis\": {\"anchor\": \"x\", \"domain\": [0.0, 1.0], \"title\": {\"text\": \"count\"}}},\n",
       "                        {\"responsive\": true}\n",
       "                    ).then(function(){\n",
       "                            \n",
       "var gd = document.getElementById('75a9359f-faa3-4cab-bac5-8e194d2d4311');\n",
       "var x = new MutationObserver(function (mutations, observer) {{\n",
       "        var display = window.getComputedStyle(gd).display;\n",
       "        if (!display || display === 'none') {{\n",
       "            console.log([gd, 'removed!']);\n",
       "            Plotly.purge(gd);\n",
       "            observer.disconnect();\n",
       "        }}\n",
       "}});\n",
       "\n",
       "// Listen for the removal of the full notebook cells\n",
       "var notebookContainer = gd.closest('#notebook-container');\n",
       "if (notebookContainer) {{\n",
       "    x.observe(notebookContainer, {childList: true});\n",
       "}}\n",
       "\n",
       "// Listen for the clearing of the current output cell\n",
       "var outputEl = gd.closest('.output');\n",
       "if (outputEl) {{\n",
       "    x.observe(outputEl, {childList: true});\n",
       "}}\n",
       "\n",
       "                        })\n",
       "                };\n",
       "                });\n",
       "            </script>\n",
       "        </div>"
      ]
     },
     "metadata": {},
     "output_type": "display_data"
    }
   ],
   "source": [
    "fig = px.histogram(df, x='Point Choc',  color='Fraud')\n",
    "fig.show()\n",
    "fig.write_image(\"../frontend/src/assets/figure_EDA/pt_choc.png\")"
   ]
  },
  {
   "cell_type": "code",
   "execution_count": null,
   "metadata": {
    "scrolled": false
   },
   "outputs": [],
   "source": [
    "fig = px.histogram(df, x='Cas de barème',  color='Fraud')\n",
    "fig.show()\n",
    "fig.write_image(\"../frontend/src/assets/figure_EDA/cas_bareme.png\")"
   ]
  },
  {
   "cell_type": "code",
   "execution_count": null,
   "metadata": {
    "scrolled": true
   },
   "outputs": [],
   "source": [
    "fig = px.histogram(df, x='Month Accident',  color='Fraud')\n",
    "fig.show()\n",
    "fig.write_image(\"../frontend/src/assets/figure_EDA/month_accident.png\")"
   ]
  },
  {
   "cell_type": "code",
   "execution_count": null,
   "metadata": {},
   "outputs": [],
   "source": [
    "fig = px.histogram(df, x='Nbr réclamations antérieures',  color='Fraud')\n",
    "fig.show()\n",
    "fig.write_image(\"../frontend/src/assets/figure_EDA/nbr_reclam.png\")"
   ]
  },
  {
   "cell_type": "code",
   "execution_count": 6,
   "metadata": {},
   "outputs": [
    {
     "data": {
      "application/vnd.plotly.v1+json": {
       "config": {
        "plotlyServerURL": "https://plot.ly"
       },
       "data": [
        {
         "alignmentgroup": "True",
         "bingroup": "x",
         "hovertemplate": "Fraud=0<br>Compagnie d'assurance=%{x}<br>count=%{y}<extra></extra>",
         "legendgroup": "0",
         "marker": {
          "color": "#636efa"
         },
         "name": "0",
         "offsetgroup": "0",
         "orientation": "v",
         "showlegend": true,
         "type": "histogram",
         "x": [
          5,
          7,
          8,
          8,
          8,
          8,
          8,
          8,
          8,
          4,
          4,
          4,
          4,
          4,
          8,
          8,
          8,
          8,
          6,
          6,
          6,
          1,
          8,
          8,
          7,
          8,
          8,
          8,
          8,
          8,
          8,
          5,
          5,
          5,
          5,
          5,
          8,
          5,
          5,
          5,
          5,
          5,
          5,
          5,
          5,
          5,
          5,
          5,
          5,
          5,
          5,
          5,
          5,
          5,
          5,
          5,
          5,
          5,
          5,
          5,
          5,
          5,
          5,
          5,
          5,
          5,
          5,
          5,
          5,
          5,
          5,
          5,
          5,
          5,
          5,
          5,
          5,
          5,
          5,
          5,
          5,
          5,
          5,
          5,
          5,
          5,
          5,
          5,
          5,
          5,
          5,
          5,
          5,
          5,
          5,
          5,
          5,
          5,
          5,
          5,
          5,
          5,
          5,
          5,
          5,
          5,
          5,
          5,
          5,
          5,
          5,
          5,
          5,
          5,
          5,
          5,
          5,
          5,
          5,
          5,
          5,
          5,
          5,
          5,
          5,
          5,
          5,
          8,
          8,
          8,
          6,
          6,
          6,
          6,
          7,
          6,
          8,
          8,
          8,
          8,
          8,
          8,
          8,
          8,
          8,
          8,
          7,
          7,
          7,
          7,
          7,
          2,
          2,
          2,
          2,
          3,
          2,
          3,
          3,
          0,
          6,
          1,
          6,
          6,
          6,
          1,
          1,
          1,
          1,
          1,
          1,
          1,
          1,
          1,
          1,
          6,
          6,
          6,
          8,
          8,
          8,
          8,
          8,
          8,
          8,
          8,
          8,
          8,
          8,
          8,
          8,
          8,
          8,
          8,
          8,
          8,
          8,
          8,
          8,
          8,
          8,
          8,
          8,
          8,
          8,
          8,
          8,
          8,
          8,
          8,
          8,
          8,
          8,
          8,
          8,
          8,
          8,
          8,
          8,
          8,
          8,
          8,
          8,
          8,
          8,
          8,
          8,
          8,
          8,
          8,
          8,
          8,
          8,
          8,
          8,
          8,
          8,
          8,
          8,
          8,
          8,
          8,
          8,
          8,
          8,
          8,
          8,
          8,
          8,
          8,
          8,
          8,
          8,
          8,
          8,
          8,
          8,
          8,
          8,
          8,
          8,
          8,
          8,
          8,
          8,
          8,
          8,
          8,
          8,
          8,
          8,
          8,
          8,
          8,
          8,
          8,
          8,
          8,
          8,
          8,
          8,
          8,
          8,
          8,
          8,
          8,
          8,
          8,
          8,
          8,
          8,
          8,
          8,
          8,
          8,
          8,
          8,
          8,
          8,
          8,
          8,
          8,
          8,
          8,
          8,
          8,
          8,
          8,
          8,
          8,
          8,
          8,
          8,
          8,
          8,
          8,
          8,
          8,
          8,
          8,
          8,
          8,
          8,
          8,
          8,
          8,
          8,
          8,
          8,
          8,
          8,
          8,
          8,
          8,
          8,
          8,
          8,
          8,
          8,
          8,
          7,
          7,
          7,
          7,
          7,
          7,
          7,
          7,
          7,
          7,
          7,
          7,
          7,
          7,
          7,
          7,
          7,
          7,
          7,
          7,
          7,
          7,
          7,
          7,
          7,
          7,
          7,
          7,
          7,
          7,
          7,
          7,
          7,
          7,
          7,
          7,
          7,
          7,
          7,
          7,
          7,
          7,
          7,
          7,
          7,
          7,
          7,
          7,
          7,
          7,
          7,
          7,
          7,
          7,
          7,
          7,
          7,
          7,
          7,
          7,
          7,
          7,
          7,
          7,
          7,
          7,
          7,
          7,
          7,
          7,
          7,
          7,
          7,
          7,
          7,
          7,
          7,
          7,
          7,
          7,
          8,
          8,
          8,
          8,
          7,
          2,
          2,
          2,
          2,
          3,
          2,
          3,
          2,
          2,
          3,
          2,
          3,
          2,
          2,
          2,
          2,
          2,
          2,
          2,
          2,
          2,
          2,
          2,
          2,
          3,
          2,
          2,
          2,
          2,
          2,
          2,
          2,
          3,
          3,
          3,
          3,
          2,
          3,
          3,
          3,
          3,
          3,
          2,
          2,
          2,
          3,
          3,
          2,
          3,
          2,
          2,
          2,
          2,
          3,
          3,
          3,
          2,
          3,
          2,
          3,
          2,
          2,
          3,
          3,
          2,
          2,
          2,
          2,
          2,
          3,
          2,
          3,
          3,
          2,
          2,
          2,
          2,
          2,
          2,
          2,
          2,
          2,
          2,
          2,
          2,
          2,
          2,
          3,
          2,
          2,
          2,
          3,
          3,
          3,
          2,
          2,
          2,
          3,
          2,
          2,
          2,
          2,
          2,
          2,
          2,
          3,
          2,
          2,
          2,
          2,
          2,
          2,
          2,
          3,
          3,
          3,
          3,
          3,
          3,
          3,
          3,
          3,
          2,
          3,
          2,
          2,
          2,
          3,
          2,
          2,
          3,
          2,
          3,
          3,
          3,
          2,
          2,
          3,
          3,
          3,
          3,
          3,
          3,
          3,
          3,
          3,
          3,
          3,
          8,
          8,
          8,
          8,
          4,
          4,
          4,
          4,
          4,
          4,
          4,
          4,
          4,
          4,
          4,
          4,
          4,
          4,
          4,
          4,
          4,
          4,
          4,
          4,
          4,
          4,
          4,
          4,
          4,
          4,
          4,
          4,
          4,
          4,
          4,
          4,
          4,
          4,
          4,
          4,
          4,
          4,
          4,
          4,
          4,
          4,
          4,
          4,
          4,
          4,
          4,
          4,
          4,
          4,
          4,
          4,
          4,
          4,
          4,
          4,
          4,
          4,
          4,
          4,
          4,
          4,
          4,
          4,
          4,
          4,
          4,
          4,
          4,
          4,
          4,
          4,
          4,
          4,
          0,
          0,
          0,
          0,
          0,
          0,
          0,
          0,
          0,
          0,
          0,
          0,
          0,
          0,
          0,
          0,
          0,
          0,
          0,
          0,
          0,
          0,
          0,
          0,
          0,
          0,
          0,
          0,
          0,
          0,
          0,
          0,
          0,
          0,
          0,
          0,
          0,
          0,
          0,
          0,
          0,
          0,
          0,
          0,
          0,
          0,
          0,
          0,
          0,
          0,
          0,
          0,
          0,
          0,
          0,
          0,
          0,
          0,
          0,
          0,
          0,
          0,
          0,
          0,
          0,
          0,
          0,
          0,
          0,
          0,
          0,
          0,
          0,
          0,
          0,
          0,
          0,
          0,
          0,
          0,
          0,
          0,
          0,
          0,
          0,
          0,
          0,
          0,
          0,
          0,
          0,
          0,
          0,
          0,
          0,
          0,
          0,
          0,
          0,
          0,
          0,
          0,
          0,
          0,
          0,
          0,
          0,
          0,
          0,
          0,
          0,
          0,
          0,
          0,
          0,
          0,
          0,
          0,
          0,
          0,
          0,
          0,
          0,
          0,
          0,
          0,
          0,
          0,
          0,
          0,
          0,
          0,
          0,
          0,
          0,
          0,
          0,
          0,
          0,
          0,
          0,
          0,
          0,
          0,
          0,
          0,
          0,
          0,
          0,
          0,
          0,
          0,
          0,
          0,
          0,
          0,
          0,
          0,
          0,
          0,
          0,
          0,
          0,
          0,
          0,
          0,
          0,
          0,
          0,
          0,
          0,
          0,
          0,
          0,
          0,
          0,
          0,
          0,
          0,
          0,
          0,
          0,
          0,
          0,
          0,
          0,
          0,
          0,
          0,
          0,
          0,
          0,
          0,
          0,
          0,
          0,
          0,
          0,
          4,
          4,
          4,
          4,
          4,
          4,
          0,
          0,
          0,
          0,
          0,
          0,
          0,
          0,
          0,
          0,
          0,
          0,
          0,
          0,
          0,
          0,
          0,
          0,
          0,
          0,
          0,
          0,
          0,
          0,
          0,
          0,
          0
         ],
         "xaxis": "x",
         "yaxis": "y"
        },
        {
         "alignmentgroup": "True",
         "bingroup": "x",
         "hovertemplate": "Fraud=1<br>Compagnie d'assurance=%{x}<br>count=%{y}<extra></extra>",
         "legendgroup": "1",
         "marker": {
          "color": "#EF553B"
         },
         "name": "1",
         "offsetgroup": "1",
         "orientation": "v",
         "showlegend": true,
         "type": "histogram",
         "x": [
          8,
          8,
          4,
          8,
          8,
          8,
          8,
          8,
          5,
          5,
          5,
          5,
          5,
          5,
          5,
          5,
          5,
          5,
          5,
          5,
          5,
          5,
          5,
          5,
          5,
          5,
          5,
          5,
          5,
          5,
          5,
          5,
          5,
          5,
          8,
          8,
          3,
          3,
          3,
          1,
          1,
          1,
          1,
          8,
          8,
          8,
          8,
          8,
          8,
          8,
          8,
          8,
          8,
          8,
          8,
          8,
          8,
          8,
          8,
          8,
          8,
          8,
          8,
          8,
          8,
          8,
          8,
          8,
          8,
          8,
          8,
          8,
          8,
          8,
          8,
          8,
          8,
          8,
          7,
          7,
          7,
          7,
          7,
          7,
          7,
          7,
          7,
          7,
          7,
          7,
          7,
          7,
          7,
          7,
          7,
          7,
          7,
          7,
          7,
          7,
          7,
          7,
          7,
          2,
          3,
          8,
          3,
          3,
          3,
          3,
          3,
          3,
          3,
          3,
          3,
          3,
          3,
          3,
          3,
          3,
          3,
          3,
          3,
          3,
          3,
          3,
          3,
          3,
          3,
          3,
          3,
          3,
          3,
          3,
          3,
          3,
          3,
          3,
          3,
          3,
          3,
          8,
          8,
          8,
          8,
          8,
          4,
          4,
          4,
          4,
          4,
          4,
          4,
          4,
          4,
          4,
          0,
          0,
          0,
          0,
          0,
          0,
          0,
          0,
          0,
          0,
          0,
          0,
          0,
          0,
          0,
          0,
          0,
          0,
          0,
          0,
          0,
          0,
          0,
          0,
          0,
          0,
          0,
          0,
          0,
          0,
          0,
          0,
          0,
          0,
          0,
          0,
          0,
          0,
          0,
          0,
          0,
          0,
          0,
          0,
          0,
          0,
          0,
          0,
          0,
          0,
          0,
          0,
          0,
          4,
          0,
          0,
          0,
          0,
          0
         ],
         "xaxis": "x",
         "yaxis": "y"
        }
       ],
       "layout": {
        "barmode": "relative",
        "legend": {
         "title": {
          "text": "Fraud"
         },
         "tracegroupgap": 0
        },
        "margin": {
         "t": 60
        },
        "template": {
         "data": {
          "bar": [
           {
            "error_x": {
             "color": "#2a3f5f"
            },
            "error_y": {
             "color": "#2a3f5f"
            },
            "marker": {
             "line": {
              "color": "#E5ECF6",
              "width": 0.5
             }
            },
            "type": "bar"
           }
          ],
          "barpolar": [
           {
            "marker": {
             "line": {
              "color": "#E5ECF6",
              "width": 0.5
             }
            },
            "type": "barpolar"
           }
          ],
          "carpet": [
           {
            "aaxis": {
             "endlinecolor": "#2a3f5f",
             "gridcolor": "white",
             "linecolor": "white",
             "minorgridcolor": "white",
             "startlinecolor": "#2a3f5f"
            },
            "baxis": {
             "endlinecolor": "#2a3f5f",
             "gridcolor": "white",
             "linecolor": "white",
             "minorgridcolor": "white",
             "startlinecolor": "#2a3f5f"
            },
            "type": "carpet"
           }
          ],
          "choropleth": [
           {
            "colorbar": {
             "outlinewidth": 0,
             "ticks": ""
            },
            "type": "choropleth"
           }
          ],
          "contour": [
           {
            "colorbar": {
             "outlinewidth": 0,
             "ticks": ""
            },
            "colorscale": [
             [
              0,
              "#0d0887"
             ],
             [
              0.1111111111111111,
              "#46039f"
             ],
             [
              0.2222222222222222,
              "#7201a8"
             ],
             [
              0.3333333333333333,
              "#9c179e"
             ],
             [
              0.4444444444444444,
              "#bd3786"
             ],
             [
              0.5555555555555556,
              "#d8576b"
             ],
             [
              0.6666666666666666,
              "#ed7953"
             ],
             [
              0.7777777777777778,
              "#fb9f3a"
             ],
             [
              0.8888888888888888,
              "#fdca26"
             ],
             [
              1,
              "#f0f921"
             ]
            ],
            "type": "contour"
           }
          ],
          "contourcarpet": [
           {
            "colorbar": {
             "outlinewidth": 0,
             "ticks": ""
            },
            "type": "contourcarpet"
           }
          ],
          "heatmap": [
           {
            "colorbar": {
             "outlinewidth": 0,
             "ticks": ""
            },
            "colorscale": [
             [
              0,
              "#0d0887"
             ],
             [
              0.1111111111111111,
              "#46039f"
             ],
             [
              0.2222222222222222,
              "#7201a8"
             ],
             [
              0.3333333333333333,
              "#9c179e"
             ],
             [
              0.4444444444444444,
              "#bd3786"
             ],
             [
              0.5555555555555556,
              "#d8576b"
             ],
             [
              0.6666666666666666,
              "#ed7953"
             ],
             [
              0.7777777777777778,
              "#fb9f3a"
             ],
             [
              0.8888888888888888,
              "#fdca26"
             ],
             [
              1,
              "#f0f921"
             ]
            ],
            "type": "heatmap"
           }
          ],
          "heatmapgl": [
           {
            "colorbar": {
             "outlinewidth": 0,
             "ticks": ""
            },
            "colorscale": [
             [
              0,
              "#0d0887"
             ],
             [
              0.1111111111111111,
              "#46039f"
             ],
             [
              0.2222222222222222,
              "#7201a8"
             ],
             [
              0.3333333333333333,
              "#9c179e"
             ],
             [
              0.4444444444444444,
              "#bd3786"
             ],
             [
              0.5555555555555556,
              "#d8576b"
             ],
             [
              0.6666666666666666,
              "#ed7953"
             ],
             [
              0.7777777777777778,
              "#fb9f3a"
             ],
             [
              0.8888888888888888,
              "#fdca26"
             ],
             [
              1,
              "#f0f921"
             ]
            ],
            "type": "heatmapgl"
           }
          ],
          "histogram": [
           {
            "marker": {
             "colorbar": {
              "outlinewidth": 0,
              "ticks": ""
             }
            },
            "type": "histogram"
           }
          ],
          "histogram2d": [
           {
            "colorbar": {
             "outlinewidth": 0,
             "ticks": ""
            },
            "colorscale": [
             [
              0,
              "#0d0887"
             ],
             [
              0.1111111111111111,
              "#46039f"
             ],
             [
              0.2222222222222222,
              "#7201a8"
             ],
             [
              0.3333333333333333,
              "#9c179e"
             ],
             [
              0.4444444444444444,
              "#bd3786"
             ],
             [
              0.5555555555555556,
              "#d8576b"
             ],
             [
              0.6666666666666666,
              "#ed7953"
             ],
             [
              0.7777777777777778,
              "#fb9f3a"
             ],
             [
              0.8888888888888888,
              "#fdca26"
             ],
             [
              1,
              "#f0f921"
             ]
            ],
            "type": "histogram2d"
           }
          ],
          "histogram2dcontour": [
           {
            "colorbar": {
             "outlinewidth": 0,
             "ticks": ""
            },
            "colorscale": [
             [
              0,
              "#0d0887"
             ],
             [
              0.1111111111111111,
              "#46039f"
             ],
             [
              0.2222222222222222,
              "#7201a8"
             ],
             [
              0.3333333333333333,
              "#9c179e"
             ],
             [
              0.4444444444444444,
              "#bd3786"
             ],
             [
              0.5555555555555556,
              "#d8576b"
             ],
             [
              0.6666666666666666,
              "#ed7953"
             ],
             [
              0.7777777777777778,
              "#fb9f3a"
             ],
             [
              0.8888888888888888,
              "#fdca26"
             ],
             [
              1,
              "#f0f921"
             ]
            ],
            "type": "histogram2dcontour"
           }
          ],
          "mesh3d": [
           {
            "colorbar": {
             "outlinewidth": 0,
             "ticks": ""
            },
            "type": "mesh3d"
           }
          ],
          "parcoords": [
           {
            "line": {
             "colorbar": {
              "outlinewidth": 0,
              "ticks": ""
             }
            },
            "type": "parcoords"
           }
          ],
          "pie": [
           {
            "automargin": true,
            "type": "pie"
           }
          ],
          "scatter": [
           {
            "marker": {
             "colorbar": {
              "outlinewidth": 0,
              "ticks": ""
             }
            },
            "type": "scatter"
           }
          ],
          "scatter3d": [
           {
            "line": {
             "colorbar": {
              "outlinewidth": 0,
              "ticks": ""
             }
            },
            "marker": {
             "colorbar": {
              "outlinewidth": 0,
              "ticks": ""
             }
            },
            "type": "scatter3d"
           }
          ],
          "scattercarpet": [
           {
            "marker": {
             "colorbar": {
              "outlinewidth": 0,
              "ticks": ""
             }
            },
            "type": "scattercarpet"
           }
          ],
          "scattergeo": [
           {
            "marker": {
             "colorbar": {
              "outlinewidth": 0,
              "ticks": ""
             }
            },
            "type": "scattergeo"
           }
          ],
          "scattergl": [
           {
            "marker": {
             "colorbar": {
              "outlinewidth": 0,
              "ticks": ""
             }
            },
            "type": "scattergl"
           }
          ],
          "scattermapbox": [
           {
            "marker": {
             "colorbar": {
              "outlinewidth": 0,
              "ticks": ""
             }
            },
            "type": "scattermapbox"
           }
          ],
          "scatterpolar": [
           {
            "marker": {
             "colorbar": {
              "outlinewidth": 0,
              "ticks": ""
             }
            },
            "type": "scatterpolar"
           }
          ],
          "scatterpolargl": [
           {
            "marker": {
             "colorbar": {
              "outlinewidth": 0,
              "ticks": ""
             }
            },
            "type": "scatterpolargl"
           }
          ],
          "scatterternary": [
           {
            "marker": {
             "colorbar": {
              "outlinewidth": 0,
              "ticks": ""
             }
            },
            "type": "scatterternary"
           }
          ],
          "surface": [
           {
            "colorbar": {
             "outlinewidth": 0,
             "ticks": ""
            },
            "colorscale": [
             [
              0,
              "#0d0887"
             ],
             [
              0.1111111111111111,
              "#46039f"
             ],
             [
              0.2222222222222222,
              "#7201a8"
             ],
             [
              0.3333333333333333,
              "#9c179e"
             ],
             [
              0.4444444444444444,
              "#bd3786"
             ],
             [
              0.5555555555555556,
              "#d8576b"
             ],
             [
              0.6666666666666666,
              "#ed7953"
             ],
             [
              0.7777777777777778,
              "#fb9f3a"
             ],
             [
              0.8888888888888888,
              "#fdca26"
             ],
             [
              1,
              "#f0f921"
             ]
            ],
            "type": "surface"
           }
          ],
          "table": [
           {
            "cells": {
             "fill": {
              "color": "#EBF0F8"
             },
             "line": {
              "color": "white"
             }
            },
            "header": {
             "fill": {
              "color": "#C8D4E3"
             },
             "line": {
              "color": "white"
             }
            },
            "type": "table"
           }
          ]
         },
         "layout": {
          "annotationdefaults": {
           "arrowcolor": "#2a3f5f",
           "arrowhead": 0,
           "arrowwidth": 1
          },
          "coloraxis": {
           "colorbar": {
            "outlinewidth": 0,
            "ticks": ""
           }
          },
          "colorscale": {
           "diverging": [
            [
             0,
             "#8e0152"
            ],
            [
             0.1,
             "#c51b7d"
            ],
            [
             0.2,
             "#de77ae"
            ],
            [
             0.3,
             "#f1b6da"
            ],
            [
             0.4,
             "#fde0ef"
            ],
            [
             0.5,
             "#f7f7f7"
            ],
            [
             0.6,
             "#e6f5d0"
            ],
            [
             0.7,
             "#b8e186"
            ],
            [
             0.8,
             "#7fbc41"
            ],
            [
             0.9,
             "#4d9221"
            ],
            [
             1,
             "#276419"
            ]
           ],
           "sequential": [
            [
             0,
             "#0d0887"
            ],
            [
             0.1111111111111111,
             "#46039f"
            ],
            [
             0.2222222222222222,
             "#7201a8"
            ],
            [
             0.3333333333333333,
             "#9c179e"
            ],
            [
             0.4444444444444444,
             "#bd3786"
            ],
            [
             0.5555555555555556,
             "#d8576b"
            ],
            [
             0.6666666666666666,
             "#ed7953"
            ],
            [
             0.7777777777777778,
             "#fb9f3a"
            ],
            [
             0.8888888888888888,
             "#fdca26"
            ],
            [
             1,
             "#f0f921"
            ]
           ],
           "sequentialminus": [
            [
             0,
             "#0d0887"
            ],
            [
             0.1111111111111111,
             "#46039f"
            ],
            [
             0.2222222222222222,
             "#7201a8"
            ],
            [
             0.3333333333333333,
             "#9c179e"
            ],
            [
             0.4444444444444444,
             "#bd3786"
            ],
            [
             0.5555555555555556,
             "#d8576b"
            ],
            [
             0.6666666666666666,
             "#ed7953"
            ],
            [
             0.7777777777777778,
             "#fb9f3a"
            ],
            [
             0.8888888888888888,
             "#fdca26"
            ],
            [
             1,
             "#f0f921"
            ]
           ]
          },
          "colorway": [
           "#636efa",
           "#EF553B",
           "#00cc96",
           "#ab63fa",
           "#FFA15A",
           "#19d3f3",
           "#FF6692",
           "#B6E880",
           "#FF97FF",
           "#FECB52"
          ],
          "font": {
           "color": "#2a3f5f"
          },
          "geo": {
           "bgcolor": "white",
           "lakecolor": "white",
           "landcolor": "#E5ECF6",
           "showlakes": true,
           "showland": true,
           "subunitcolor": "white"
          },
          "hoverlabel": {
           "align": "left"
          },
          "hovermode": "closest",
          "mapbox": {
           "style": "light"
          },
          "paper_bgcolor": "white",
          "plot_bgcolor": "#E5ECF6",
          "polar": {
           "angularaxis": {
            "gridcolor": "white",
            "linecolor": "white",
            "ticks": ""
           },
           "bgcolor": "#E5ECF6",
           "radialaxis": {
            "gridcolor": "white",
            "linecolor": "white",
            "ticks": ""
           }
          },
          "scene": {
           "xaxis": {
            "backgroundcolor": "#E5ECF6",
            "gridcolor": "white",
            "gridwidth": 2,
            "linecolor": "white",
            "showbackground": true,
            "ticks": "",
            "zerolinecolor": "white"
           },
           "yaxis": {
            "backgroundcolor": "#E5ECF6",
            "gridcolor": "white",
            "gridwidth": 2,
            "linecolor": "white",
            "showbackground": true,
            "ticks": "",
            "zerolinecolor": "white"
           },
           "zaxis": {
            "backgroundcolor": "#E5ECF6",
            "gridcolor": "white",
            "gridwidth": 2,
            "linecolor": "white",
            "showbackground": true,
            "ticks": "",
            "zerolinecolor": "white"
           }
          },
          "shapedefaults": {
           "line": {
            "color": "#2a3f5f"
           }
          },
          "ternary": {
           "aaxis": {
            "gridcolor": "white",
            "linecolor": "white",
            "ticks": ""
           },
           "baxis": {
            "gridcolor": "white",
            "linecolor": "white",
            "ticks": ""
           },
           "bgcolor": "#E5ECF6",
           "caxis": {
            "gridcolor": "white",
            "linecolor": "white",
            "ticks": ""
           }
          },
          "title": {
           "x": 0.05
          },
          "xaxis": {
           "automargin": true,
           "gridcolor": "white",
           "linecolor": "white",
           "ticks": "",
           "title": {
            "standoff": 15
           },
           "zerolinecolor": "white",
           "zerolinewidth": 2
          },
          "yaxis": {
           "automargin": true,
           "gridcolor": "white",
           "linecolor": "white",
           "ticks": "",
           "title": {
            "standoff": 15
           },
           "zerolinecolor": "white",
           "zerolinewidth": 2
          }
         }
        },
        "xaxis": {
         "anchor": "y",
         "domain": [
          0,
          1
         ],
         "title": {
          "text": "Compagnie d'assurance"
         }
        },
        "yaxis": {
         "anchor": "x",
         "domain": [
          0,
          1
         ],
         "title": {
          "text": "count"
         }
        }
       }
      },
      "text/html": [
       "<div>\n",
       "        \n",
       "        \n",
       "            <div id=\"b98e65b8-523b-4c17-9aa3-f71b64c3f663\" class=\"plotly-graph-div\" style=\"height:525px; width:100%;\"></div>\n",
       "            <script type=\"text/javascript\">\n",
       "                require([\"plotly\"], function(Plotly) {\n",
       "                    window.PLOTLYENV=window.PLOTLYENV || {};\n",
       "                    \n",
       "                if (document.getElementById(\"b98e65b8-523b-4c17-9aa3-f71b64c3f663\")) {\n",
       "                    Plotly.newPlot(\n",
       "                        'b98e65b8-523b-4c17-9aa3-f71b64c3f663',\n",
       "                        [{\"alignmentgroup\": \"True\", \"bingroup\": \"x\", \"hovertemplate\": \"Fraud=0<br>Compagnie d'assurance=%{x}<br>count=%{y}<extra></extra>\", \"legendgroup\": \"0\", \"marker\": {\"color\": \"#636efa\"}, \"name\": \"0\", \"offsetgroup\": \"0\", \"orientation\": \"v\", \"showlegend\": true, \"type\": \"histogram\", \"x\": [5, 7, 8, 8, 8, 8, 8, 8, 8, 4, 4, 4, 4, 4, 8, 8, 8, 8, 6, 6, 6, 1, 8, 8, 7, 8, 8, 8, 8, 8, 8, 5, 5, 5, 5, 5, 8, 5, 5, 5, 5, 5, 5, 5, 5, 5, 5, 5, 5, 5, 5, 5, 5, 5, 5, 5, 5, 5, 5, 5, 5, 5, 5, 5, 5, 5, 5, 5, 5, 5, 5, 5, 5, 5, 5, 5, 5, 5, 5, 5, 5, 5, 5, 5, 5, 5, 5, 5, 5, 5, 5, 5, 5, 5, 5, 5, 5, 5, 5, 5, 5, 5, 5, 5, 5, 5, 5, 5, 5, 5, 5, 5, 5, 5, 5, 5, 5, 5, 5, 5, 5, 5, 5, 5, 5, 5, 5, 8, 8, 8, 6, 6, 6, 6, 7, 6, 8, 8, 8, 8, 8, 8, 8, 8, 8, 8, 7, 7, 7, 7, 7, 2, 2, 2, 2, 3, 2, 3, 3, 0, 6, 1, 6, 6, 6, 1, 1, 1, 1, 1, 1, 1, 1, 1, 1, 6, 6, 6, 8, 8, 8, 8, 8, 8, 8, 8, 8, 8, 8, 8, 8, 8, 8, 8, 8, 8, 8, 8, 8, 8, 8, 8, 8, 8, 8, 8, 8, 8, 8, 8, 8, 8, 8, 8, 8, 8, 8, 8, 8, 8, 8, 8, 8, 8, 8, 8, 8, 8, 8, 8, 8, 8, 8, 8, 8, 8, 8, 8, 8, 8, 8, 8, 8, 8, 8, 8, 8, 8, 8, 8, 8, 8, 8, 8, 8, 8, 8, 8, 8, 8, 8, 8, 8, 8, 8, 8, 8, 8, 8, 8, 8, 8, 8, 8, 8, 8, 8, 8, 8, 8, 8, 8, 8, 8, 8, 8, 8, 8, 8, 8, 8, 8, 8, 8, 8, 8, 8, 8, 8, 8, 8, 8, 8, 8, 8, 8, 8, 8, 8, 8, 8, 8, 8, 8, 8, 8, 8, 8, 8, 8, 8, 8, 8, 8, 8, 8, 8, 8, 8, 8, 8, 8, 8, 8, 8, 8, 8, 8, 8, 8, 7, 7, 7, 7, 7, 7, 7, 7, 7, 7, 7, 7, 7, 7, 7, 7, 7, 7, 7, 7, 7, 7, 7, 7, 7, 7, 7, 7, 7, 7, 7, 7, 7, 7, 7, 7, 7, 7, 7, 7, 7, 7, 7, 7, 7, 7, 7, 7, 7, 7, 7, 7, 7, 7, 7, 7, 7, 7, 7, 7, 7, 7, 7, 7, 7, 7, 7, 7, 7, 7, 7, 7, 7, 7, 7, 7, 7, 7, 7, 7, 8, 8, 8, 8, 7, 2, 2, 2, 2, 3, 2, 3, 2, 2, 3, 2, 3, 2, 2, 2, 2, 2, 2, 2, 2, 2, 2, 2, 2, 3, 2, 2, 2, 2, 2, 2, 2, 3, 3, 3, 3, 2, 3, 3, 3, 3, 3, 2, 2, 2, 3, 3, 2, 3, 2, 2, 2, 2, 3, 3, 3, 2, 3, 2, 3, 2, 2, 3, 3, 2, 2, 2, 2, 2, 3, 2, 3, 3, 2, 2, 2, 2, 2, 2, 2, 2, 2, 2, 2, 2, 2, 2, 3, 2, 2, 2, 3, 3, 3, 2, 2, 2, 3, 2, 2, 2, 2, 2, 2, 2, 3, 2, 2, 2, 2, 2, 2, 2, 3, 3, 3, 3, 3, 3, 3, 3, 3, 2, 3, 2, 2, 2, 3, 2, 2, 3, 2, 3, 3, 3, 2, 2, 3, 3, 3, 3, 3, 3, 3, 3, 3, 3, 3, 8, 8, 8, 8, 4, 4, 4, 4, 4, 4, 4, 4, 4, 4, 4, 4, 4, 4, 4, 4, 4, 4, 4, 4, 4, 4, 4, 4, 4, 4, 4, 4, 4, 4, 4, 4, 4, 4, 4, 4, 4, 4, 4, 4, 4, 4, 4, 4, 4, 4, 4, 4, 4, 4, 4, 4, 4, 4, 4, 4, 4, 4, 4, 4, 4, 4, 4, 4, 4, 4, 4, 4, 4, 4, 4, 4, 4, 4, 0, 0, 0, 0, 0, 0, 0, 0, 0, 0, 0, 0, 0, 0, 0, 0, 0, 0, 0, 0, 0, 0, 0, 0, 0, 0, 0, 0, 0, 0, 0, 0, 0, 0, 0, 0, 0, 0, 0, 0, 0, 0, 0, 0, 0, 0, 0, 0, 0, 0, 0, 0, 0, 0, 0, 0, 0, 0, 0, 0, 0, 0, 0, 0, 0, 0, 0, 0, 0, 0, 0, 0, 0, 0, 0, 0, 0, 0, 0, 0, 0, 0, 0, 0, 0, 0, 0, 0, 0, 0, 0, 0, 0, 0, 0, 0, 0, 0, 0, 0, 0, 0, 0, 0, 0, 0, 0, 0, 0, 0, 0, 0, 0, 0, 0, 0, 0, 0, 0, 0, 0, 0, 0, 0, 0, 0, 0, 0, 0, 0, 0, 0, 0, 0, 0, 0, 0, 0, 0, 0, 0, 0, 0, 0, 0, 0, 0, 0, 0, 0, 0, 0, 0, 0, 0, 0, 0, 0, 0, 0, 0, 0, 0, 0, 0, 0, 0, 0, 0, 0, 0, 0, 0, 0, 0, 0, 0, 0, 0, 0, 0, 0, 0, 0, 0, 0, 0, 0, 0, 0, 0, 0, 0, 0, 0, 0, 0, 0, 4, 4, 4, 4, 4, 4, 0, 0, 0, 0, 0, 0, 0, 0, 0, 0, 0, 0, 0, 0, 0, 0, 0, 0, 0, 0, 0, 0, 0, 0, 0, 0, 0], \"xaxis\": \"x\", \"yaxis\": \"y\"}, {\"alignmentgroup\": \"True\", \"bingroup\": \"x\", \"hovertemplate\": \"Fraud=1<br>Compagnie d'assurance=%{x}<br>count=%{y}<extra></extra>\", \"legendgroup\": \"1\", \"marker\": {\"color\": \"#EF553B\"}, \"name\": \"1\", \"offsetgroup\": \"1\", \"orientation\": \"v\", \"showlegend\": true, \"type\": \"histogram\", \"x\": [8, 8, 4, 8, 8, 8, 8, 8, 5, 5, 5, 5, 5, 5, 5, 5, 5, 5, 5, 5, 5, 5, 5, 5, 5, 5, 5, 5, 5, 5, 5, 5, 5, 5, 8, 8, 3, 3, 3, 1, 1, 1, 1, 8, 8, 8, 8, 8, 8, 8, 8, 8, 8, 8, 8, 8, 8, 8, 8, 8, 8, 8, 8, 8, 8, 8, 8, 8, 8, 8, 8, 8, 8, 8, 8, 8, 8, 8, 7, 7, 7, 7, 7, 7, 7, 7, 7, 7, 7, 7, 7, 7, 7, 7, 7, 7, 7, 7, 7, 7, 7, 7, 7, 2, 3, 8, 3, 3, 3, 3, 3, 3, 3, 3, 3, 3, 3, 3, 3, 3, 3, 3, 3, 3, 3, 3, 3, 3, 3, 3, 3, 3, 3, 3, 3, 3, 3, 3, 3, 3, 3, 8, 8, 8, 8, 8, 4, 4, 4, 4, 4, 4, 4, 4, 4, 4, 0, 0, 0, 0, 0, 0, 0, 0, 0, 0, 0, 0, 0, 0, 0, 0, 0, 0, 0, 0, 0, 0, 0, 0, 0, 0, 0, 0, 0, 0, 0, 0, 0, 0, 0, 0, 0, 0, 0, 0, 0, 0, 0, 0, 0, 0, 0, 0, 0, 0, 0, 0, 0, 4, 0, 0, 0, 0, 0], \"xaxis\": \"x\", \"yaxis\": \"y\"}],\n",
       "                        {\"barmode\": \"relative\", \"legend\": {\"title\": {\"text\": \"Fraud\"}, \"tracegroupgap\": 0}, \"margin\": {\"t\": 60}, \"template\": {\"data\": {\"bar\": [{\"error_x\": {\"color\": \"#2a3f5f\"}, \"error_y\": {\"color\": \"#2a3f5f\"}, \"marker\": {\"line\": {\"color\": \"#E5ECF6\", \"width\": 0.5}}, \"type\": \"bar\"}], \"barpolar\": [{\"marker\": {\"line\": {\"color\": \"#E5ECF6\", \"width\": 0.5}}, \"type\": \"barpolar\"}], \"carpet\": [{\"aaxis\": {\"endlinecolor\": \"#2a3f5f\", \"gridcolor\": \"white\", \"linecolor\": \"white\", \"minorgridcolor\": \"white\", \"startlinecolor\": \"#2a3f5f\"}, \"baxis\": {\"endlinecolor\": \"#2a3f5f\", \"gridcolor\": \"white\", \"linecolor\": \"white\", \"minorgridcolor\": \"white\", \"startlinecolor\": \"#2a3f5f\"}, \"type\": \"carpet\"}], \"choropleth\": [{\"colorbar\": {\"outlinewidth\": 0, \"ticks\": \"\"}, \"type\": \"choropleth\"}], \"contour\": [{\"colorbar\": {\"outlinewidth\": 0, \"ticks\": \"\"}, \"colorscale\": [[0.0, \"#0d0887\"], [0.1111111111111111, \"#46039f\"], [0.2222222222222222, \"#7201a8\"], [0.3333333333333333, \"#9c179e\"], [0.4444444444444444, \"#bd3786\"], [0.5555555555555556, \"#d8576b\"], [0.6666666666666666, \"#ed7953\"], [0.7777777777777778, \"#fb9f3a\"], [0.8888888888888888, \"#fdca26\"], [1.0, \"#f0f921\"]], \"type\": \"contour\"}], \"contourcarpet\": [{\"colorbar\": {\"outlinewidth\": 0, \"ticks\": \"\"}, \"type\": \"contourcarpet\"}], \"heatmap\": [{\"colorbar\": {\"outlinewidth\": 0, \"ticks\": \"\"}, \"colorscale\": [[0.0, \"#0d0887\"], [0.1111111111111111, \"#46039f\"], [0.2222222222222222, \"#7201a8\"], [0.3333333333333333, \"#9c179e\"], [0.4444444444444444, \"#bd3786\"], [0.5555555555555556, \"#d8576b\"], [0.6666666666666666, \"#ed7953\"], [0.7777777777777778, \"#fb9f3a\"], [0.8888888888888888, \"#fdca26\"], [1.0, \"#f0f921\"]], \"type\": \"heatmap\"}], \"heatmapgl\": [{\"colorbar\": {\"outlinewidth\": 0, \"ticks\": \"\"}, \"colorscale\": [[0.0, \"#0d0887\"], [0.1111111111111111, \"#46039f\"], [0.2222222222222222, \"#7201a8\"], [0.3333333333333333, \"#9c179e\"], [0.4444444444444444, \"#bd3786\"], [0.5555555555555556, \"#d8576b\"], [0.6666666666666666, \"#ed7953\"], [0.7777777777777778, \"#fb9f3a\"], [0.8888888888888888, \"#fdca26\"], [1.0, \"#f0f921\"]], \"type\": \"heatmapgl\"}], \"histogram\": [{\"marker\": {\"colorbar\": {\"outlinewidth\": 0, \"ticks\": \"\"}}, \"type\": \"histogram\"}], \"histogram2d\": [{\"colorbar\": {\"outlinewidth\": 0, \"ticks\": \"\"}, \"colorscale\": [[0.0, \"#0d0887\"], [0.1111111111111111, \"#46039f\"], [0.2222222222222222, \"#7201a8\"], [0.3333333333333333, \"#9c179e\"], [0.4444444444444444, \"#bd3786\"], [0.5555555555555556, \"#d8576b\"], [0.6666666666666666, \"#ed7953\"], [0.7777777777777778, \"#fb9f3a\"], [0.8888888888888888, \"#fdca26\"], [1.0, \"#f0f921\"]], \"type\": \"histogram2d\"}], \"histogram2dcontour\": [{\"colorbar\": {\"outlinewidth\": 0, \"ticks\": \"\"}, \"colorscale\": [[0.0, \"#0d0887\"], [0.1111111111111111, \"#46039f\"], [0.2222222222222222, \"#7201a8\"], [0.3333333333333333, \"#9c179e\"], [0.4444444444444444, \"#bd3786\"], [0.5555555555555556, \"#d8576b\"], [0.6666666666666666, \"#ed7953\"], [0.7777777777777778, \"#fb9f3a\"], [0.8888888888888888, \"#fdca26\"], [1.0, \"#f0f921\"]], \"type\": \"histogram2dcontour\"}], \"mesh3d\": [{\"colorbar\": {\"outlinewidth\": 0, \"ticks\": \"\"}, \"type\": \"mesh3d\"}], \"parcoords\": [{\"line\": {\"colorbar\": {\"outlinewidth\": 0, \"ticks\": \"\"}}, \"type\": \"parcoords\"}], \"pie\": [{\"automargin\": true, \"type\": \"pie\"}], \"scatter\": [{\"marker\": {\"colorbar\": {\"outlinewidth\": 0, \"ticks\": \"\"}}, \"type\": \"scatter\"}], \"scatter3d\": [{\"line\": {\"colorbar\": {\"outlinewidth\": 0, \"ticks\": \"\"}}, \"marker\": {\"colorbar\": {\"outlinewidth\": 0, \"ticks\": \"\"}}, \"type\": \"scatter3d\"}], \"scattercarpet\": [{\"marker\": {\"colorbar\": {\"outlinewidth\": 0, \"ticks\": \"\"}}, \"type\": \"scattercarpet\"}], \"scattergeo\": [{\"marker\": {\"colorbar\": {\"outlinewidth\": 0, \"ticks\": \"\"}}, \"type\": \"scattergeo\"}], \"scattergl\": [{\"marker\": {\"colorbar\": {\"outlinewidth\": 0, \"ticks\": \"\"}}, \"type\": \"scattergl\"}], \"scattermapbox\": [{\"marker\": {\"colorbar\": {\"outlinewidth\": 0, \"ticks\": \"\"}}, \"type\": \"scattermapbox\"}], \"scatterpolar\": [{\"marker\": {\"colorbar\": {\"outlinewidth\": 0, \"ticks\": \"\"}}, \"type\": \"scatterpolar\"}], \"scatterpolargl\": [{\"marker\": {\"colorbar\": {\"outlinewidth\": 0, \"ticks\": \"\"}}, \"type\": \"scatterpolargl\"}], \"scatterternary\": [{\"marker\": {\"colorbar\": {\"outlinewidth\": 0, \"ticks\": \"\"}}, \"type\": \"scatterternary\"}], \"surface\": [{\"colorbar\": {\"outlinewidth\": 0, \"ticks\": \"\"}, \"colorscale\": [[0.0, \"#0d0887\"], [0.1111111111111111, \"#46039f\"], [0.2222222222222222, \"#7201a8\"], [0.3333333333333333, \"#9c179e\"], [0.4444444444444444, \"#bd3786\"], [0.5555555555555556, \"#d8576b\"], [0.6666666666666666, \"#ed7953\"], [0.7777777777777778, \"#fb9f3a\"], [0.8888888888888888, \"#fdca26\"], [1.0, \"#f0f921\"]], \"type\": \"surface\"}], \"table\": [{\"cells\": {\"fill\": {\"color\": \"#EBF0F8\"}, \"line\": {\"color\": \"white\"}}, \"header\": {\"fill\": {\"color\": \"#C8D4E3\"}, \"line\": {\"color\": \"white\"}}, \"type\": \"table\"}]}, \"layout\": {\"annotationdefaults\": {\"arrowcolor\": \"#2a3f5f\", \"arrowhead\": 0, \"arrowwidth\": 1}, \"coloraxis\": {\"colorbar\": {\"outlinewidth\": 0, \"ticks\": \"\"}}, \"colorscale\": {\"diverging\": [[0, \"#8e0152\"], [0.1, \"#c51b7d\"], [0.2, \"#de77ae\"], [0.3, \"#f1b6da\"], [0.4, \"#fde0ef\"], [0.5, \"#f7f7f7\"], [0.6, \"#e6f5d0\"], [0.7, \"#b8e186\"], [0.8, \"#7fbc41\"], [0.9, \"#4d9221\"], [1, \"#276419\"]], \"sequential\": [[0.0, \"#0d0887\"], [0.1111111111111111, \"#46039f\"], [0.2222222222222222, \"#7201a8\"], [0.3333333333333333, \"#9c179e\"], [0.4444444444444444, \"#bd3786\"], [0.5555555555555556, \"#d8576b\"], [0.6666666666666666, \"#ed7953\"], [0.7777777777777778, \"#fb9f3a\"], [0.8888888888888888, \"#fdca26\"], [1.0, \"#f0f921\"]], \"sequentialminus\": [[0.0, \"#0d0887\"], [0.1111111111111111, \"#46039f\"], [0.2222222222222222, \"#7201a8\"], [0.3333333333333333, \"#9c179e\"], [0.4444444444444444, \"#bd3786\"], [0.5555555555555556, \"#d8576b\"], [0.6666666666666666, \"#ed7953\"], [0.7777777777777778, \"#fb9f3a\"], [0.8888888888888888, \"#fdca26\"], [1.0, \"#f0f921\"]]}, \"colorway\": [\"#636efa\", \"#EF553B\", \"#00cc96\", \"#ab63fa\", \"#FFA15A\", \"#19d3f3\", \"#FF6692\", \"#B6E880\", \"#FF97FF\", \"#FECB52\"], \"font\": {\"color\": \"#2a3f5f\"}, \"geo\": {\"bgcolor\": \"white\", \"lakecolor\": \"white\", \"landcolor\": \"#E5ECF6\", \"showlakes\": true, \"showland\": true, \"subunitcolor\": \"white\"}, \"hoverlabel\": {\"align\": \"left\"}, \"hovermode\": \"closest\", \"mapbox\": {\"style\": \"light\"}, \"paper_bgcolor\": \"white\", \"plot_bgcolor\": \"#E5ECF6\", \"polar\": {\"angularaxis\": {\"gridcolor\": \"white\", \"linecolor\": \"white\", \"ticks\": \"\"}, \"bgcolor\": \"#E5ECF6\", \"radialaxis\": {\"gridcolor\": \"white\", \"linecolor\": \"white\", \"ticks\": \"\"}}, \"scene\": {\"xaxis\": {\"backgroundcolor\": \"#E5ECF6\", \"gridcolor\": \"white\", \"gridwidth\": 2, \"linecolor\": \"white\", \"showbackground\": true, \"ticks\": \"\", \"zerolinecolor\": \"white\"}, \"yaxis\": {\"backgroundcolor\": \"#E5ECF6\", \"gridcolor\": \"white\", \"gridwidth\": 2, \"linecolor\": \"white\", \"showbackground\": true, \"ticks\": \"\", \"zerolinecolor\": \"white\"}, \"zaxis\": {\"backgroundcolor\": \"#E5ECF6\", \"gridcolor\": \"white\", \"gridwidth\": 2, \"linecolor\": \"white\", \"showbackground\": true, \"ticks\": \"\", \"zerolinecolor\": \"white\"}}, \"shapedefaults\": {\"line\": {\"color\": \"#2a3f5f\"}}, \"ternary\": {\"aaxis\": {\"gridcolor\": \"white\", \"linecolor\": \"white\", \"ticks\": \"\"}, \"baxis\": {\"gridcolor\": \"white\", \"linecolor\": \"white\", \"ticks\": \"\"}, \"bgcolor\": \"#E5ECF6\", \"caxis\": {\"gridcolor\": \"white\", \"linecolor\": \"white\", \"ticks\": \"\"}}, \"title\": {\"x\": 0.05}, \"xaxis\": {\"automargin\": true, \"gridcolor\": \"white\", \"linecolor\": \"white\", \"ticks\": \"\", \"title\": {\"standoff\": 15}, \"zerolinecolor\": \"white\", \"zerolinewidth\": 2}, \"yaxis\": {\"automargin\": true, \"gridcolor\": \"white\", \"linecolor\": \"white\", \"ticks\": \"\", \"title\": {\"standoff\": 15}, \"zerolinecolor\": \"white\", \"zerolinewidth\": 2}}}, \"xaxis\": {\"anchor\": \"y\", \"domain\": [0.0, 1.0], \"title\": {\"text\": \"Compagnie d'assurance\"}}, \"yaxis\": {\"anchor\": \"x\", \"domain\": [0.0, 1.0], \"title\": {\"text\": \"count\"}}},\n",
       "                        {\"responsive\": true}\n",
       "                    ).then(function(){\n",
       "                            \n",
       "var gd = document.getElementById('b98e65b8-523b-4c17-9aa3-f71b64c3f663');\n",
       "var x = new MutationObserver(function (mutations, observer) {{\n",
       "        var display = window.getComputedStyle(gd).display;\n",
       "        if (!display || display === 'none') {{\n",
       "            console.log([gd, 'removed!']);\n",
       "            Plotly.purge(gd);\n",
       "            observer.disconnect();\n",
       "        }}\n",
       "}});\n",
       "\n",
       "// Listen for the removal of the full notebook cells\n",
       "var notebookContainer = gd.closest('#notebook-container');\n",
       "if (notebookContainer) {{\n",
       "    x.observe(notebookContainer, {childList: true});\n",
       "}}\n",
       "\n",
       "// Listen for the clearing of the current output cell\n",
       "var outputEl = gd.closest('.output');\n",
       "if (outputEl) {{\n",
       "    x.observe(outputEl, {childList: true});\n",
       "}}\n",
       "\n",
       "                        })\n",
       "                };\n",
       "                });\n",
       "            </script>\n",
       "        </div>"
      ]
     },
     "metadata": {},
     "output_type": "display_data"
    }
   ],
   "source": [
    "fig = px.histogram(df, x=\"Compagnie d'assurance\",  color='Fraud')\n",
    "fig.show()\n",
    "fig.write_image(\"../frontend/src/assets/figure_EDA/compagnie_assurance_t.png\")"
   ]
  },
  {
   "cell_type": "code",
   "execution_count": 7,
   "metadata": {
    "scrolled": false
   },
   "outputs": [
    {
     "data": {
      "application/vnd.plotly.v1+json": {
       "config": {
        "plotlyServerURL": "https://plot.ly"
       },
       "data": [
        {
         "alignmentgroup": "True",
         "bingroup": "x",
         "histnorm": "probability density",
         "hovertemplate": "Fraud=0<br>Compagnie adverse=%{x}<br>count=%{y}<extra></extra>",
         "legendgroup": "0",
         "marker": {
          "color": "#636efa"
         },
         "name": "0",
         "offsetgroup": "0",
         "orientation": "v",
         "showlegend": true,
         "type": "histogram",
         "x": [
          13,
          1,
          6,
          12,
          10,
          7,
          14,
          1,
          1,
          10,
          16,
          16,
          3,
          16,
          13,
          16,
          16,
          12,
          0,
          11,
          1,
          5,
          16,
          0,
          2,
          2,
          3,
          10,
          10,
          1,
          2,
          1,
          16,
          11,
          16,
          16,
          7,
          16,
          16,
          0,
          14,
          16,
          16,
          16,
          0,
          16,
          1,
          1,
          1,
          2,
          7,
          2,
          0,
          2,
          2,
          16,
          1,
          14,
          1,
          16,
          2,
          16,
          10,
          1,
          12,
          14,
          16,
          16,
          2,
          13,
          16,
          16,
          2,
          2,
          16,
          0,
          2,
          1,
          10,
          2,
          12,
          13,
          16,
          16,
          11,
          10,
          5,
          16,
          12,
          1,
          10,
          13,
          1,
          3,
          3,
          16,
          2,
          2,
          16,
          13,
          16,
          2,
          16,
          3,
          16,
          8,
          10,
          12,
          13,
          2,
          10,
          1,
          16,
          5,
          2,
          13,
          1,
          12,
          10,
          2,
          0,
          10,
          0,
          2,
          13,
          1,
          7,
          16,
          16,
          16,
          13,
          4,
          14,
          7,
          16,
          1,
          1,
          16,
          1,
          13,
          16,
          16,
          16,
          7,
          16,
          12,
          2,
          12,
          16,
          2,
          1,
          16,
          2,
          7,
          16,
          0,
          12,
          10,
          10,
          3,
          2,
          7,
          0,
          0,
          2,
          14,
          2,
          16,
          5,
          7,
          10,
          1,
          16,
          1,
          13,
          6,
          3,
          7,
          16,
          1,
          2,
          16,
          16,
          16,
          14,
          3,
          16,
          16,
          16,
          2,
          10,
          11,
          2,
          16,
          16,
          16,
          16,
          13,
          16,
          0,
          7,
          14,
          13,
          14,
          2,
          7,
          16,
          1,
          0,
          1,
          16,
          16,
          1,
          16,
          16,
          2,
          16,
          16,
          11,
          16,
          11,
          13,
          16,
          12,
          16,
          12,
          16,
          10,
          14,
          7,
          16,
          12,
          2,
          2,
          16,
          1,
          0,
          16,
          8,
          16,
          0,
          16,
          0,
          1,
          1,
          1,
          13,
          0,
          3,
          16,
          1,
          0,
          1,
          16,
          16,
          1,
          16,
          10,
          5,
          16,
          16,
          16,
          16,
          1,
          16,
          0,
          1,
          0,
          16,
          13,
          3,
          2,
          16,
          5,
          2,
          3,
          1,
          13,
          0,
          7,
          16,
          0,
          1,
          14,
          12,
          4,
          13,
          16,
          2,
          16,
          14,
          10,
          16,
          0,
          1,
          14,
          10,
          15,
          2,
          16,
          11,
          16,
          13,
          16,
          16,
          16,
          16,
          15,
          0,
          16,
          13,
          16,
          16,
          1,
          11,
          2,
          1,
          14,
          3,
          16,
          7,
          2,
          1,
          7,
          1,
          1,
          16,
          3,
          16,
          16,
          14,
          13,
          12,
          1,
          10,
          9,
          16,
          2,
          9,
          2,
          1,
          1,
          12,
          0,
          1,
          1,
          2,
          13,
          2,
          7,
          12,
          0,
          3,
          1,
          12,
          1,
          5,
          2,
          13,
          16,
          5,
          3,
          1,
          1,
          14,
          10,
          13,
          13,
          7,
          3,
          5,
          0,
          13,
          1,
          14,
          0,
          2,
          16,
          7,
          16,
          14,
          0,
          2,
          0,
          16,
          9,
          16,
          6,
          16,
          13,
          0,
          3,
          2,
          1,
          2,
          3,
          16,
          16,
          13,
          2,
          16,
          2,
          16,
          16,
          1,
          2,
          1,
          2,
          13,
          10,
          16,
          13,
          14,
          1,
          16,
          16,
          2,
          16,
          16,
          16,
          1,
          12,
          2,
          7,
          16,
          16,
          3,
          16,
          12,
          2,
          11,
          0,
          14,
          10,
          13,
          16,
          16,
          16,
          16,
          16,
          12,
          2,
          14,
          16,
          13,
          11,
          2,
          13,
          7,
          13,
          16,
          13,
          13,
          0,
          12,
          2,
          16,
          12,
          12,
          12,
          10,
          16,
          3,
          7,
          10,
          14,
          12,
          16,
          7,
          16,
          1,
          5,
          16,
          1,
          7,
          16,
          14,
          16,
          5,
          15,
          2,
          1,
          16,
          4,
          16,
          16,
          2,
          13,
          16,
          0,
          2,
          6,
          16,
          16,
          10,
          10,
          16,
          2,
          7,
          13,
          10,
          16,
          5,
          10,
          12,
          10,
          2,
          10,
          2,
          16,
          4,
          3,
          1,
          10,
          16,
          1,
          16,
          16,
          16,
          2,
          1,
          2,
          0,
          1,
          1,
          14,
          2,
          3,
          10,
          10,
          13,
          16,
          16,
          0,
          16,
          1,
          0,
          0,
          16,
          15,
          1,
          8,
          0,
          16,
          12,
          13,
          2,
          16,
          16,
          5,
          16,
          1,
          1,
          10,
          16,
          10,
          1,
          10,
          16,
          0,
          1,
          1,
          10,
          16,
          2,
          7,
          11,
          14,
          13,
          9,
          11,
          16,
          2,
          5,
          13,
          2,
          16,
          7,
          16,
          1,
          10,
          7,
          14,
          16,
          2,
          12,
          16,
          16,
          16,
          16,
          16,
          2,
          1,
          16,
          13,
          16,
          2,
          0,
          2,
          16,
          1,
          5,
          13,
          1,
          1,
          16,
          16,
          15,
          16,
          16,
          16,
          3,
          16,
          1,
          12,
          1,
          15,
          9,
          1,
          16,
          10,
          16,
          16,
          12,
          1,
          15,
          1,
          9,
          3,
          13,
          5,
          16,
          1,
          16,
          12,
          7,
          11,
          13,
          10,
          1,
          10,
          13,
          16,
          2,
          1,
          16,
          14,
          1,
          1,
          7,
          14,
          13,
          16,
          2,
          3,
          13,
          1,
          1,
          2,
          12,
          1,
          16,
          16,
          10,
          7,
          2,
          14,
          2,
          10,
          15,
          16,
          0,
          13,
          9,
          1,
          2,
          1,
          2,
          7,
          3,
          11,
          2,
          13,
          14,
          12,
          2,
          1,
          3,
          1,
          7,
          10,
          10,
          13,
          12,
          10,
          1,
          1,
          3,
          1,
          11,
          1,
          13,
          11,
          2,
          12,
          6,
          1,
          13,
          16,
          1,
          0,
          15,
          10,
          1,
          0,
          2,
          0,
          11,
          10,
          2,
          2,
          0,
          13,
          2,
          13,
          15,
          10,
          1,
          1,
          1,
          1,
          11,
          10,
          16,
          0,
          1,
          10,
          0,
          9,
          7,
          3,
          16,
          7,
          1,
          1,
          3,
          2,
          10,
          10,
          16,
          16,
          2,
          2,
          1,
          1,
          7,
          6,
          6,
          1,
          13,
          2,
          1,
          16,
          0,
          0,
          13,
          16,
          1,
          4,
          1,
          14,
          12,
          1,
          7,
          5,
          16,
          10,
          13,
          14,
          12,
          16,
          1,
          11,
          3,
          12,
          0,
          15,
          9,
          4,
          5,
          7,
          13,
          1,
          2,
          1,
          7,
          1,
          6,
          1,
          0,
          7,
          2,
          1,
          1,
          12,
          13,
          7,
          7,
          14,
          1,
          12,
          1,
          2,
          16,
          1,
          2,
          0,
          15,
          5,
          2,
          9,
          16,
          16,
          2,
          6,
          14,
          13,
          0,
          7,
          3,
          16,
          1,
          0,
          3,
          16,
          0,
          3,
          2,
          1,
          7,
          5,
          15,
          3,
          1,
          12,
          2,
          10,
          7,
          1,
          2,
          5,
          10,
          14,
          15,
          10,
          14,
          1,
          1,
          6,
          1,
          1,
          16,
          0,
          2,
          13,
          10,
          12,
          14,
          1,
          13,
          12,
          5,
          1,
          16,
          7,
          1,
          1,
          3,
          1,
          12,
          13,
          7
         ],
         "xaxis": "x",
         "yaxis": "y"
        },
        {
         "alignmentgroup": "True",
         "bingroup": "x",
         "histnorm": "probability density",
         "hovertemplate": "Fraud=1<br>Compagnie adverse=%{x}<br>count=%{y}<extra></extra>",
         "legendgroup": "1",
         "marker": {
          "color": "#EF553B"
         },
         "name": "1",
         "offsetgroup": "1",
         "orientation": "v",
         "showlegend": true,
         "type": "histogram",
         "x": [
          13,
          7,
          2,
          2,
          1,
          1,
          2,
          10,
          16,
          13,
          10,
          7,
          13,
          13,
          1,
          1,
          14,
          6,
          7,
          0,
          2,
          15,
          7,
          10,
          16,
          14,
          1,
          0,
          7,
          10,
          2,
          1,
          1,
          12,
          2,
          16,
          2,
          1,
          12,
          14,
          7,
          0,
          0,
          2,
          0,
          2,
          7,
          2,
          1,
          1,
          0,
          13,
          1,
          10,
          13,
          16,
          13,
          1,
          0,
          7,
          0,
          13,
          1,
          10,
          9,
          13,
          13,
          0,
          0,
          1,
          3,
          13,
          11,
          16,
          16,
          1,
          14,
          10,
          1,
          1,
          16,
          0,
          1,
          16,
          13,
          14,
          2,
          2,
          14,
          13,
          10,
          4,
          12,
          10,
          14,
          9,
          3,
          13,
          15,
          15,
          4,
          1,
          13,
          7,
          13,
          7,
          1,
          2,
          13,
          7,
          0,
          1,
          0,
          10,
          2,
          13,
          7,
          12,
          2,
          0,
          14,
          14,
          2,
          12,
          1,
          13,
          6,
          0,
          7,
          1,
          13,
          16,
          10,
          13,
          12,
          2,
          2,
          13,
          4,
          14,
          13,
          10,
          0,
          13,
          13,
          2,
          9,
          0,
          1,
          3,
          1,
          13,
          2,
          12,
          10,
          9,
          7,
          7,
          13,
          10,
          13,
          16,
          0,
          1,
          7,
          14,
          0,
          0,
          2,
          2,
          1,
          12,
          1,
          0,
          14,
          11,
          13,
          2,
          2,
          10,
          7,
          14,
          7,
          9,
          14,
          10,
          0,
          13,
          13,
          9,
          7,
          4,
          1,
          10,
          1,
          5,
          11,
          1,
          11,
          2,
          13,
          14,
          2,
          7,
          2,
          13,
          12,
          15,
          10,
          1,
          2,
          4,
          5,
          0,
          0
         ],
         "xaxis": "x",
         "yaxis": "y"
        }
       ],
       "layout": {
        "barmode": "relative",
        "legend": {
         "title": {
          "text": "Fraud"
         },
         "tracegroupgap": 0
        },
        "margin": {
         "t": 60
        },
        "template": {
         "data": {
          "bar": [
           {
            "error_x": {
             "color": "#2a3f5f"
            },
            "error_y": {
             "color": "#2a3f5f"
            },
            "marker": {
             "line": {
              "color": "#E5ECF6",
              "width": 0.5
             }
            },
            "type": "bar"
           }
          ],
          "barpolar": [
           {
            "marker": {
             "line": {
              "color": "#E5ECF6",
              "width": 0.5
             }
            },
            "type": "barpolar"
           }
          ],
          "carpet": [
           {
            "aaxis": {
             "endlinecolor": "#2a3f5f",
             "gridcolor": "white",
             "linecolor": "white",
             "minorgridcolor": "white",
             "startlinecolor": "#2a3f5f"
            },
            "baxis": {
             "endlinecolor": "#2a3f5f",
             "gridcolor": "white",
             "linecolor": "white",
             "minorgridcolor": "white",
             "startlinecolor": "#2a3f5f"
            },
            "type": "carpet"
           }
          ],
          "choropleth": [
           {
            "colorbar": {
             "outlinewidth": 0,
             "ticks": ""
            },
            "type": "choropleth"
           }
          ],
          "contour": [
           {
            "colorbar": {
             "outlinewidth": 0,
             "ticks": ""
            },
            "colorscale": [
             [
              0,
              "#0d0887"
             ],
             [
              0.1111111111111111,
              "#46039f"
             ],
             [
              0.2222222222222222,
              "#7201a8"
             ],
             [
              0.3333333333333333,
              "#9c179e"
             ],
             [
              0.4444444444444444,
              "#bd3786"
             ],
             [
              0.5555555555555556,
              "#d8576b"
             ],
             [
              0.6666666666666666,
              "#ed7953"
             ],
             [
              0.7777777777777778,
              "#fb9f3a"
             ],
             [
              0.8888888888888888,
              "#fdca26"
             ],
             [
              1,
              "#f0f921"
             ]
            ],
            "type": "contour"
           }
          ],
          "contourcarpet": [
           {
            "colorbar": {
             "outlinewidth": 0,
             "ticks": ""
            },
            "type": "contourcarpet"
           }
          ],
          "heatmap": [
           {
            "colorbar": {
             "outlinewidth": 0,
             "ticks": ""
            },
            "colorscale": [
             [
              0,
              "#0d0887"
             ],
             [
              0.1111111111111111,
              "#46039f"
             ],
             [
              0.2222222222222222,
              "#7201a8"
             ],
             [
              0.3333333333333333,
              "#9c179e"
             ],
             [
              0.4444444444444444,
              "#bd3786"
             ],
             [
              0.5555555555555556,
              "#d8576b"
             ],
             [
              0.6666666666666666,
              "#ed7953"
             ],
             [
              0.7777777777777778,
              "#fb9f3a"
             ],
             [
              0.8888888888888888,
              "#fdca26"
             ],
             [
              1,
              "#f0f921"
             ]
            ],
            "type": "heatmap"
           }
          ],
          "heatmapgl": [
           {
            "colorbar": {
             "outlinewidth": 0,
             "ticks": ""
            },
            "colorscale": [
             [
              0,
              "#0d0887"
             ],
             [
              0.1111111111111111,
              "#46039f"
             ],
             [
              0.2222222222222222,
              "#7201a8"
             ],
             [
              0.3333333333333333,
              "#9c179e"
             ],
             [
              0.4444444444444444,
              "#bd3786"
             ],
             [
              0.5555555555555556,
              "#d8576b"
             ],
             [
              0.6666666666666666,
              "#ed7953"
             ],
             [
              0.7777777777777778,
              "#fb9f3a"
             ],
             [
              0.8888888888888888,
              "#fdca26"
             ],
             [
              1,
              "#f0f921"
             ]
            ],
            "type": "heatmapgl"
           }
          ],
          "histogram": [
           {
            "marker": {
             "colorbar": {
              "outlinewidth": 0,
              "ticks": ""
             }
            },
            "type": "histogram"
           }
          ],
          "histogram2d": [
           {
            "colorbar": {
             "outlinewidth": 0,
             "ticks": ""
            },
            "colorscale": [
             [
              0,
              "#0d0887"
             ],
             [
              0.1111111111111111,
              "#46039f"
             ],
             [
              0.2222222222222222,
              "#7201a8"
             ],
             [
              0.3333333333333333,
              "#9c179e"
             ],
             [
              0.4444444444444444,
              "#bd3786"
             ],
             [
              0.5555555555555556,
              "#d8576b"
             ],
             [
              0.6666666666666666,
              "#ed7953"
             ],
             [
              0.7777777777777778,
              "#fb9f3a"
             ],
             [
              0.8888888888888888,
              "#fdca26"
             ],
             [
              1,
              "#f0f921"
             ]
            ],
            "type": "histogram2d"
           }
          ],
          "histogram2dcontour": [
           {
            "colorbar": {
             "outlinewidth": 0,
             "ticks": ""
            },
            "colorscale": [
             [
              0,
              "#0d0887"
             ],
             [
              0.1111111111111111,
              "#46039f"
             ],
             [
              0.2222222222222222,
              "#7201a8"
             ],
             [
              0.3333333333333333,
              "#9c179e"
             ],
             [
              0.4444444444444444,
              "#bd3786"
             ],
             [
              0.5555555555555556,
              "#d8576b"
             ],
             [
              0.6666666666666666,
              "#ed7953"
             ],
             [
              0.7777777777777778,
              "#fb9f3a"
             ],
             [
              0.8888888888888888,
              "#fdca26"
             ],
             [
              1,
              "#f0f921"
             ]
            ],
            "type": "histogram2dcontour"
           }
          ],
          "mesh3d": [
           {
            "colorbar": {
             "outlinewidth": 0,
             "ticks": ""
            },
            "type": "mesh3d"
           }
          ],
          "parcoords": [
           {
            "line": {
             "colorbar": {
              "outlinewidth": 0,
              "ticks": ""
             }
            },
            "type": "parcoords"
           }
          ],
          "pie": [
           {
            "automargin": true,
            "type": "pie"
           }
          ],
          "scatter": [
           {
            "marker": {
             "colorbar": {
              "outlinewidth": 0,
              "ticks": ""
             }
            },
            "type": "scatter"
           }
          ],
          "scatter3d": [
           {
            "line": {
             "colorbar": {
              "outlinewidth": 0,
              "ticks": ""
             }
            },
            "marker": {
             "colorbar": {
              "outlinewidth": 0,
              "ticks": ""
             }
            },
            "type": "scatter3d"
           }
          ],
          "scattercarpet": [
           {
            "marker": {
             "colorbar": {
              "outlinewidth": 0,
              "ticks": ""
             }
            },
            "type": "scattercarpet"
           }
          ],
          "scattergeo": [
           {
            "marker": {
             "colorbar": {
              "outlinewidth": 0,
              "ticks": ""
             }
            },
            "type": "scattergeo"
           }
          ],
          "scattergl": [
           {
            "marker": {
             "colorbar": {
              "outlinewidth": 0,
              "ticks": ""
             }
            },
            "type": "scattergl"
           }
          ],
          "scattermapbox": [
           {
            "marker": {
             "colorbar": {
              "outlinewidth": 0,
              "ticks": ""
             }
            },
            "type": "scattermapbox"
           }
          ],
          "scatterpolar": [
           {
            "marker": {
             "colorbar": {
              "outlinewidth": 0,
              "ticks": ""
             }
            },
            "type": "scatterpolar"
           }
          ],
          "scatterpolargl": [
           {
            "marker": {
             "colorbar": {
              "outlinewidth": 0,
              "ticks": ""
             }
            },
            "type": "scatterpolargl"
           }
          ],
          "scatterternary": [
           {
            "marker": {
             "colorbar": {
              "outlinewidth": 0,
              "ticks": ""
             }
            },
            "type": "scatterternary"
           }
          ],
          "surface": [
           {
            "colorbar": {
             "outlinewidth": 0,
             "ticks": ""
            },
            "colorscale": [
             [
              0,
              "#0d0887"
             ],
             [
              0.1111111111111111,
              "#46039f"
             ],
             [
              0.2222222222222222,
              "#7201a8"
             ],
             [
              0.3333333333333333,
              "#9c179e"
             ],
             [
              0.4444444444444444,
              "#bd3786"
             ],
             [
              0.5555555555555556,
              "#d8576b"
             ],
             [
              0.6666666666666666,
              "#ed7953"
             ],
             [
              0.7777777777777778,
              "#fb9f3a"
             ],
             [
              0.8888888888888888,
              "#fdca26"
             ],
             [
              1,
              "#f0f921"
             ]
            ],
            "type": "surface"
           }
          ],
          "table": [
           {
            "cells": {
             "fill": {
              "color": "#EBF0F8"
             },
             "line": {
              "color": "white"
             }
            },
            "header": {
             "fill": {
              "color": "#C8D4E3"
             },
             "line": {
              "color": "white"
             }
            },
            "type": "table"
           }
          ]
         },
         "layout": {
          "annotationdefaults": {
           "arrowcolor": "#2a3f5f",
           "arrowhead": 0,
           "arrowwidth": 1
          },
          "coloraxis": {
           "colorbar": {
            "outlinewidth": 0,
            "ticks": ""
           }
          },
          "colorscale": {
           "diverging": [
            [
             0,
             "#8e0152"
            ],
            [
             0.1,
             "#c51b7d"
            ],
            [
             0.2,
             "#de77ae"
            ],
            [
             0.3,
             "#f1b6da"
            ],
            [
             0.4,
             "#fde0ef"
            ],
            [
             0.5,
             "#f7f7f7"
            ],
            [
             0.6,
             "#e6f5d0"
            ],
            [
             0.7,
             "#b8e186"
            ],
            [
             0.8,
             "#7fbc41"
            ],
            [
             0.9,
             "#4d9221"
            ],
            [
             1,
             "#276419"
            ]
           ],
           "sequential": [
            [
             0,
             "#0d0887"
            ],
            [
             0.1111111111111111,
             "#46039f"
            ],
            [
             0.2222222222222222,
             "#7201a8"
            ],
            [
             0.3333333333333333,
             "#9c179e"
            ],
            [
             0.4444444444444444,
             "#bd3786"
            ],
            [
             0.5555555555555556,
             "#d8576b"
            ],
            [
             0.6666666666666666,
             "#ed7953"
            ],
            [
             0.7777777777777778,
             "#fb9f3a"
            ],
            [
             0.8888888888888888,
             "#fdca26"
            ],
            [
             1,
             "#f0f921"
            ]
           ],
           "sequentialminus": [
            [
             0,
             "#0d0887"
            ],
            [
             0.1111111111111111,
             "#46039f"
            ],
            [
             0.2222222222222222,
             "#7201a8"
            ],
            [
             0.3333333333333333,
             "#9c179e"
            ],
            [
             0.4444444444444444,
             "#bd3786"
            ],
            [
             0.5555555555555556,
             "#d8576b"
            ],
            [
             0.6666666666666666,
             "#ed7953"
            ],
            [
             0.7777777777777778,
             "#fb9f3a"
            ],
            [
             0.8888888888888888,
             "#fdca26"
            ],
            [
             1,
             "#f0f921"
            ]
           ]
          },
          "colorway": [
           "#636efa",
           "#EF553B",
           "#00cc96",
           "#ab63fa",
           "#FFA15A",
           "#19d3f3",
           "#FF6692",
           "#B6E880",
           "#FF97FF",
           "#FECB52"
          ],
          "font": {
           "color": "#2a3f5f"
          },
          "geo": {
           "bgcolor": "white",
           "lakecolor": "white",
           "landcolor": "#E5ECF6",
           "showlakes": true,
           "showland": true,
           "subunitcolor": "white"
          },
          "hoverlabel": {
           "align": "left"
          },
          "hovermode": "closest",
          "mapbox": {
           "style": "light"
          },
          "paper_bgcolor": "white",
          "plot_bgcolor": "#E5ECF6",
          "polar": {
           "angularaxis": {
            "gridcolor": "white",
            "linecolor": "white",
            "ticks": ""
           },
           "bgcolor": "#E5ECF6",
           "radialaxis": {
            "gridcolor": "white",
            "linecolor": "white",
            "ticks": ""
           }
          },
          "scene": {
           "xaxis": {
            "backgroundcolor": "#E5ECF6",
            "gridcolor": "white",
            "gridwidth": 2,
            "linecolor": "white",
            "showbackground": true,
            "ticks": "",
            "zerolinecolor": "white"
           },
           "yaxis": {
            "backgroundcolor": "#E5ECF6",
            "gridcolor": "white",
            "gridwidth": 2,
            "linecolor": "white",
            "showbackground": true,
            "ticks": "",
            "zerolinecolor": "white"
           },
           "zaxis": {
            "backgroundcolor": "#E5ECF6",
            "gridcolor": "white",
            "gridwidth": 2,
            "linecolor": "white",
            "showbackground": true,
            "ticks": "",
            "zerolinecolor": "white"
           }
          },
          "shapedefaults": {
           "line": {
            "color": "#2a3f5f"
           }
          },
          "ternary": {
           "aaxis": {
            "gridcolor": "white",
            "linecolor": "white",
            "ticks": ""
           },
           "baxis": {
            "gridcolor": "white",
            "linecolor": "white",
            "ticks": ""
           },
           "bgcolor": "#E5ECF6",
           "caxis": {
            "gridcolor": "white",
            "linecolor": "white",
            "ticks": ""
           }
          },
          "title": {
           "x": 0.05
          },
          "xaxis": {
           "automargin": true,
           "gridcolor": "white",
           "linecolor": "white",
           "ticks": "",
           "title": {
            "standoff": 15
           },
           "zerolinecolor": "white",
           "zerolinewidth": 2
          },
          "yaxis": {
           "automargin": true,
           "gridcolor": "white",
           "linecolor": "white",
           "ticks": "",
           "title": {
            "standoff": 15
           },
           "zerolinecolor": "white",
           "zerolinewidth": 2
          }
         }
        },
        "xaxis": {
         "anchor": "y",
         "domain": [
          0,
          1
         ],
         "title": {
          "text": "Compagnie adverse"
         }
        },
        "yaxis": {
         "anchor": "x",
         "domain": [
          0,
          1
         ],
         "title": {
          "text": "count"
         }
        }
       }
      },
      "text/html": [
       "<div>\n",
       "        \n",
       "        \n",
       "            <div id=\"a2f9d4d5-127a-4ef8-9692-daf4953eed14\" class=\"plotly-graph-div\" style=\"height:525px; width:100%;\"></div>\n",
       "            <script type=\"text/javascript\">\n",
       "                require([\"plotly\"], function(Plotly) {\n",
       "                    window.PLOTLYENV=window.PLOTLYENV || {};\n",
       "                    \n",
       "                if (document.getElementById(\"a2f9d4d5-127a-4ef8-9692-daf4953eed14\")) {\n",
       "                    Plotly.newPlot(\n",
       "                        'a2f9d4d5-127a-4ef8-9692-daf4953eed14',\n",
       "                        [{\"alignmentgroup\": \"True\", \"bingroup\": \"x\", \"histnorm\": \"probability density\", \"hovertemplate\": \"Fraud=0<br>Compagnie adverse=%{x}<br>count=%{y}<extra></extra>\", \"legendgroup\": \"0\", \"marker\": {\"color\": \"#636efa\"}, \"name\": \"0\", \"offsetgroup\": \"0\", \"orientation\": \"v\", \"showlegend\": true, \"type\": \"histogram\", \"x\": [13, 1, 6, 12, 10, 7, 14, 1, 1, 10, 16, 16, 3, 16, 13, 16, 16, 12, 0, 11, 1, 5, 16, 0, 2, 2, 3, 10, 10, 1, 2, 1, 16, 11, 16, 16, 7, 16, 16, 0, 14, 16, 16, 16, 0, 16, 1, 1, 1, 2, 7, 2, 0, 2, 2, 16, 1, 14, 1, 16, 2, 16, 10, 1, 12, 14, 16, 16, 2, 13, 16, 16, 2, 2, 16, 0, 2, 1, 10, 2, 12, 13, 16, 16, 11, 10, 5, 16, 12, 1, 10, 13, 1, 3, 3, 16, 2, 2, 16, 13, 16, 2, 16, 3, 16, 8, 10, 12, 13, 2, 10, 1, 16, 5, 2, 13, 1, 12, 10, 2, 0, 10, 0, 2, 13, 1, 7, 16, 16, 16, 13, 4, 14, 7, 16, 1, 1, 16, 1, 13, 16, 16, 16, 7, 16, 12, 2, 12, 16, 2, 1, 16, 2, 7, 16, 0, 12, 10, 10, 3, 2, 7, 0, 0, 2, 14, 2, 16, 5, 7, 10, 1, 16, 1, 13, 6, 3, 7, 16, 1, 2, 16, 16, 16, 14, 3, 16, 16, 16, 2, 10, 11, 2, 16, 16, 16, 16, 13, 16, 0, 7, 14, 13, 14, 2, 7, 16, 1, 0, 1, 16, 16, 1, 16, 16, 2, 16, 16, 11, 16, 11, 13, 16, 12, 16, 12, 16, 10, 14, 7, 16, 12, 2, 2, 16, 1, 0, 16, 8, 16, 0, 16, 0, 1, 1, 1, 13, 0, 3, 16, 1, 0, 1, 16, 16, 1, 16, 10, 5, 16, 16, 16, 16, 1, 16, 0, 1, 0, 16, 13, 3, 2, 16, 5, 2, 3, 1, 13, 0, 7, 16, 0, 1, 14, 12, 4, 13, 16, 2, 16, 14, 10, 16, 0, 1, 14, 10, 15, 2, 16, 11, 16, 13, 16, 16, 16, 16, 15, 0, 16, 13, 16, 16, 1, 11, 2, 1, 14, 3, 16, 7, 2, 1, 7, 1, 1, 16, 3, 16, 16, 14, 13, 12, 1, 10, 9, 16, 2, 9, 2, 1, 1, 12, 0, 1, 1, 2, 13, 2, 7, 12, 0, 3, 1, 12, 1, 5, 2, 13, 16, 5, 3, 1, 1, 14, 10, 13, 13, 7, 3, 5, 0, 13, 1, 14, 0, 2, 16, 7, 16, 14, 0, 2, 0, 16, 9, 16, 6, 16, 13, 0, 3, 2, 1, 2, 3, 16, 16, 13, 2, 16, 2, 16, 16, 1, 2, 1, 2, 13, 10, 16, 13, 14, 1, 16, 16, 2, 16, 16, 16, 1, 12, 2, 7, 16, 16, 3, 16, 12, 2, 11, 0, 14, 10, 13, 16, 16, 16, 16, 16, 12, 2, 14, 16, 13, 11, 2, 13, 7, 13, 16, 13, 13, 0, 12, 2, 16, 12, 12, 12, 10, 16, 3, 7, 10, 14, 12, 16, 7, 16, 1, 5, 16, 1, 7, 16, 14, 16, 5, 15, 2, 1, 16, 4, 16, 16, 2, 13, 16, 0, 2, 6, 16, 16, 10, 10, 16, 2, 7, 13, 10, 16, 5, 10, 12, 10, 2, 10, 2, 16, 4, 3, 1, 10, 16, 1, 16, 16, 16, 2, 1, 2, 0, 1, 1, 14, 2, 3, 10, 10, 13, 16, 16, 0, 16, 1, 0, 0, 16, 15, 1, 8, 0, 16, 12, 13, 2, 16, 16, 5, 16, 1, 1, 10, 16, 10, 1, 10, 16, 0, 1, 1, 10, 16, 2, 7, 11, 14, 13, 9, 11, 16, 2, 5, 13, 2, 16, 7, 16, 1, 10, 7, 14, 16, 2, 12, 16, 16, 16, 16, 16, 2, 1, 16, 13, 16, 2, 0, 2, 16, 1, 5, 13, 1, 1, 16, 16, 15, 16, 16, 16, 3, 16, 1, 12, 1, 15, 9, 1, 16, 10, 16, 16, 12, 1, 15, 1, 9, 3, 13, 5, 16, 1, 16, 12, 7, 11, 13, 10, 1, 10, 13, 16, 2, 1, 16, 14, 1, 1, 7, 14, 13, 16, 2, 3, 13, 1, 1, 2, 12, 1, 16, 16, 10, 7, 2, 14, 2, 10, 15, 16, 0, 13, 9, 1, 2, 1, 2, 7, 3, 11, 2, 13, 14, 12, 2, 1, 3, 1, 7, 10, 10, 13, 12, 10, 1, 1, 3, 1, 11, 1, 13, 11, 2, 12, 6, 1, 13, 16, 1, 0, 15, 10, 1, 0, 2, 0, 11, 10, 2, 2, 0, 13, 2, 13, 15, 10, 1, 1, 1, 1, 11, 10, 16, 0, 1, 10, 0, 9, 7, 3, 16, 7, 1, 1, 3, 2, 10, 10, 16, 16, 2, 2, 1, 1, 7, 6, 6, 1, 13, 2, 1, 16, 0, 0, 13, 16, 1, 4, 1, 14, 12, 1, 7, 5, 16, 10, 13, 14, 12, 16, 1, 11, 3, 12, 0, 15, 9, 4, 5, 7, 13, 1, 2, 1, 7, 1, 6, 1, 0, 7, 2, 1, 1, 12, 13, 7, 7, 14, 1, 12, 1, 2, 16, 1, 2, 0, 15, 5, 2, 9, 16, 16, 2, 6, 14, 13, 0, 7, 3, 16, 1, 0, 3, 16, 0, 3, 2, 1, 7, 5, 15, 3, 1, 12, 2, 10, 7, 1, 2, 5, 10, 14, 15, 10, 14, 1, 1, 6, 1, 1, 16, 0, 2, 13, 10, 12, 14, 1, 13, 12, 5, 1, 16, 7, 1, 1, 3, 1, 12, 13, 7], \"xaxis\": \"x\", \"yaxis\": \"y\"}, {\"alignmentgroup\": \"True\", \"bingroup\": \"x\", \"histnorm\": \"probability density\", \"hovertemplate\": \"Fraud=1<br>Compagnie adverse=%{x}<br>count=%{y}<extra></extra>\", \"legendgroup\": \"1\", \"marker\": {\"color\": \"#EF553B\"}, \"name\": \"1\", \"offsetgroup\": \"1\", \"orientation\": \"v\", \"showlegend\": true, \"type\": \"histogram\", \"x\": [13, 7, 2, 2, 1, 1, 2, 10, 16, 13, 10, 7, 13, 13, 1, 1, 14, 6, 7, 0, 2, 15, 7, 10, 16, 14, 1, 0, 7, 10, 2, 1, 1, 12, 2, 16, 2, 1, 12, 14, 7, 0, 0, 2, 0, 2, 7, 2, 1, 1, 0, 13, 1, 10, 13, 16, 13, 1, 0, 7, 0, 13, 1, 10, 9, 13, 13, 0, 0, 1, 3, 13, 11, 16, 16, 1, 14, 10, 1, 1, 16, 0, 1, 16, 13, 14, 2, 2, 14, 13, 10, 4, 12, 10, 14, 9, 3, 13, 15, 15, 4, 1, 13, 7, 13, 7, 1, 2, 13, 7, 0, 1, 0, 10, 2, 13, 7, 12, 2, 0, 14, 14, 2, 12, 1, 13, 6, 0, 7, 1, 13, 16, 10, 13, 12, 2, 2, 13, 4, 14, 13, 10, 0, 13, 13, 2, 9, 0, 1, 3, 1, 13, 2, 12, 10, 9, 7, 7, 13, 10, 13, 16, 0, 1, 7, 14, 0, 0, 2, 2, 1, 12, 1, 0, 14, 11, 13, 2, 2, 10, 7, 14, 7, 9, 14, 10, 0, 13, 13, 9, 7, 4, 1, 10, 1, 5, 11, 1, 11, 2, 13, 14, 2, 7, 2, 13, 12, 15, 10, 1, 2, 4, 5, 0, 0], \"xaxis\": \"x\", \"yaxis\": \"y\"}],\n",
       "                        {\"barmode\": \"relative\", \"legend\": {\"title\": {\"text\": \"Fraud\"}, \"tracegroupgap\": 0}, \"margin\": {\"t\": 60}, \"template\": {\"data\": {\"bar\": [{\"error_x\": {\"color\": \"#2a3f5f\"}, \"error_y\": {\"color\": \"#2a3f5f\"}, \"marker\": {\"line\": {\"color\": \"#E5ECF6\", \"width\": 0.5}}, \"type\": \"bar\"}], \"barpolar\": [{\"marker\": {\"line\": {\"color\": \"#E5ECF6\", \"width\": 0.5}}, \"type\": \"barpolar\"}], \"carpet\": [{\"aaxis\": {\"endlinecolor\": \"#2a3f5f\", \"gridcolor\": \"white\", \"linecolor\": \"white\", \"minorgridcolor\": \"white\", \"startlinecolor\": \"#2a3f5f\"}, \"baxis\": {\"endlinecolor\": \"#2a3f5f\", \"gridcolor\": \"white\", \"linecolor\": \"white\", \"minorgridcolor\": \"white\", \"startlinecolor\": \"#2a3f5f\"}, \"type\": \"carpet\"}], \"choropleth\": [{\"colorbar\": {\"outlinewidth\": 0, \"ticks\": \"\"}, \"type\": \"choropleth\"}], \"contour\": [{\"colorbar\": {\"outlinewidth\": 0, \"ticks\": \"\"}, \"colorscale\": [[0.0, \"#0d0887\"], [0.1111111111111111, \"#46039f\"], [0.2222222222222222, \"#7201a8\"], [0.3333333333333333, \"#9c179e\"], [0.4444444444444444, \"#bd3786\"], [0.5555555555555556, \"#d8576b\"], [0.6666666666666666, \"#ed7953\"], [0.7777777777777778, \"#fb9f3a\"], [0.8888888888888888, \"#fdca26\"], [1.0, \"#f0f921\"]], \"type\": \"contour\"}], \"contourcarpet\": [{\"colorbar\": {\"outlinewidth\": 0, \"ticks\": \"\"}, \"type\": \"contourcarpet\"}], \"heatmap\": [{\"colorbar\": {\"outlinewidth\": 0, \"ticks\": \"\"}, \"colorscale\": [[0.0, \"#0d0887\"], [0.1111111111111111, \"#46039f\"], [0.2222222222222222, \"#7201a8\"], [0.3333333333333333, \"#9c179e\"], [0.4444444444444444, \"#bd3786\"], [0.5555555555555556, \"#d8576b\"], [0.6666666666666666, \"#ed7953\"], [0.7777777777777778, \"#fb9f3a\"], [0.8888888888888888, \"#fdca26\"], [1.0, \"#f0f921\"]], \"type\": \"heatmap\"}], \"heatmapgl\": [{\"colorbar\": {\"outlinewidth\": 0, \"ticks\": \"\"}, \"colorscale\": [[0.0, \"#0d0887\"], [0.1111111111111111, \"#46039f\"], [0.2222222222222222, \"#7201a8\"], [0.3333333333333333, \"#9c179e\"], [0.4444444444444444, \"#bd3786\"], [0.5555555555555556, \"#d8576b\"], [0.6666666666666666, \"#ed7953\"], [0.7777777777777778, \"#fb9f3a\"], [0.8888888888888888, \"#fdca26\"], [1.0, \"#f0f921\"]], \"type\": \"heatmapgl\"}], \"histogram\": [{\"marker\": {\"colorbar\": {\"outlinewidth\": 0, \"ticks\": \"\"}}, \"type\": \"histogram\"}], \"histogram2d\": [{\"colorbar\": {\"outlinewidth\": 0, \"ticks\": \"\"}, \"colorscale\": [[0.0, \"#0d0887\"], [0.1111111111111111, \"#46039f\"], [0.2222222222222222, \"#7201a8\"], [0.3333333333333333, \"#9c179e\"], [0.4444444444444444, \"#bd3786\"], [0.5555555555555556, \"#d8576b\"], [0.6666666666666666, \"#ed7953\"], [0.7777777777777778, \"#fb9f3a\"], [0.8888888888888888, \"#fdca26\"], [1.0, \"#f0f921\"]], \"type\": \"histogram2d\"}], \"histogram2dcontour\": [{\"colorbar\": {\"outlinewidth\": 0, \"ticks\": \"\"}, \"colorscale\": [[0.0, \"#0d0887\"], [0.1111111111111111, \"#46039f\"], [0.2222222222222222, \"#7201a8\"], [0.3333333333333333, \"#9c179e\"], [0.4444444444444444, \"#bd3786\"], [0.5555555555555556, \"#d8576b\"], [0.6666666666666666, \"#ed7953\"], [0.7777777777777778, \"#fb9f3a\"], [0.8888888888888888, \"#fdca26\"], [1.0, \"#f0f921\"]], \"type\": \"histogram2dcontour\"}], \"mesh3d\": [{\"colorbar\": {\"outlinewidth\": 0, \"ticks\": \"\"}, \"type\": \"mesh3d\"}], \"parcoords\": [{\"line\": {\"colorbar\": {\"outlinewidth\": 0, \"ticks\": \"\"}}, \"type\": \"parcoords\"}], \"pie\": [{\"automargin\": true, \"type\": \"pie\"}], \"scatter\": [{\"marker\": {\"colorbar\": {\"outlinewidth\": 0, \"ticks\": \"\"}}, \"type\": \"scatter\"}], \"scatter3d\": [{\"line\": {\"colorbar\": {\"outlinewidth\": 0, \"ticks\": \"\"}}, \"marker\": {\"colorbar\": {\"outlinewidth\": 0, \"ticks\": \"\"}}, \"type\": \"scatter3d\"}], \"scattercarpet\": [{\"marker\": {\"colorbar\": {\"outlinewidth\": 0, \"ticks\": \"\"}}, \"type\": \"scattercarpet\"}], \"scattergeo\": [{\"marker\": {\"colorbar\": {\"outlinewidth\": 0, \"ticks\": \"\"}}, \"type\": \"scattergeo\"}], \"scattergl\": [{\"marker\": {\"colorbar\": {\"outlinewidth\": 0, \"ticks\": \"\"}}, \"type\": \"scattergl\"}], \"scattermapbox\": [{\"marker\": {\"colorbar\": {\"outlinewidth\": 0, \"ticks\": \"\"}}, \"type\": \"scattermapbox\"}], \"scatterpolar\": [{\"marker\": {\"colorbar\": {\"outlinewidth\": 0, \"ticks\": \"\"}}, \"type\": \"scatterpolar\"}], \"scatterpolargl\": [{\"marker\": {\"colorbar\": {\"outlinewidth\": 0, \"ticks\": \"\"}}, \"type\": \"scatterpolargl\"}], \"scatterternary\": [{\"marker\": {\"colorbar\": {\"outlinewidth\": 0, \"ticks\": \"\"}}, \"type\": \"scatterternary\"}], \"surface\": [{\"colorbar\": {\"outlinewidth\": 0, \"ticks\": \"\"}, \"colorscale\": [[0.0, \"#0d0887\"], [0.1111111111111111, \"#46039f\"], [0.2222222222222222, \"#7201a8\"], [0.3333333333333333, \"#9c179e\"], [0.4444444444444444, \"#bd3786\"], [0.5555555555555556, \"#d8576b\"], [0.6666666666666666, \"#ed7953\"], [0.7777777777777778, \"#fb9f3a\"], [0.8888888888888888, \"#fdca26\"], [1.0, \"#f0f921\"]], \"type\": \"surface\"}], \"table\": [{\"cells\": {\"fill\": {\"color\": \"#EBF0F8\"}, \"line\": {\"color\": \"white\"}}, \"header\": {\"fill\": {\"color\": \"#C8D4E3\"}, \"line\": {\"color\": \"white\"}}, \"type\": \"table\"}]}, \"layout\": {\"annotationdefaults\": {\"arrowcolor\": \"#2a3f5f\", \"arrowhead\": 0, \"arrowwidth\": 1}, \"coloraxis\": {\"colorbar\": {\"outlinewidth\": 0, \"ticks\": \"\"}}, \"colorscale\": {\"diverging\": [[0, \"#8e0152\"], [0.1, \"#c51b7d\"], [0.2, \"#de77ae\"], [0.3, \"#f1b6da\"], [0.4, \"#fde0ef\"], [0.5, \"#f7f7f7\"], [0.6, \"#e6f5d0\"], [0.7, \"#b8e186\"], [0.8, \"#7fbc41\"], [0.9, \"#4d9221\"], [1, \"#276419\"]], \"sequential\": [[0.0, \"#0d0887\"], [0.1111111111111111, \"#46039f\"], [0.2222222222222222, \"#7201a8\"], [0.3333333333333333, \"#9c179e\"], [0.4444444444444444, \"#bd3786\"], [0.5555555555555556, \"#d8576b\"], [0.6666666666666666, \"#ed7953\"], [0.7777777777777778, \"#fb9f3a\"], [0.8888888888888888, \"#fdca26\"], [1.0, \"#f0f921\"]], \"sequentialminus\": [[0.0, \"#0d0887\"], [0.1111111111111111, \"#46039f\"], [0.2222222222222222, \"#7201a8\"], [0.3333333333333333, \"#9c179e\"], [0.4444444444444444, \"#bd3786\"], [0.5555555555555556, \"#d8576b\"], [0.6666666666666666, \"#ed7953\"], [0.7777777777777778, \"#fb9f3a\"], [0.8888888888888888, \"#fdca26\"], [1.0, \"#f0f921\"]]}, \"colorway\": [\"#636efa\", \"#EF553B\", \"#00cc96\", \"#ab63fa\", \"#FFA15A\", \"#19d3f3\", \"#FF6692\", \"#B6E880\", \"#FF97FF\", \"#FECB52\"], \"font\": {\"color\": \"#2a3f5f\"}, \"geo\": {\"bgcolor\": \"white\", \"lakecolor\": \"white\", \"landcolor\": \"#E5ECF6\", \"showlakes\": true, \"showland\": true, \"subunitcolor\": \"white\"}, \"hoverlabel\": {\"align\": \"left\"}, \"hovermode\": \"closest\", \"mapbox\": {\"style\": \"light\"}, \"paper_bgcolor\": \"white\", \"plot_bgcolor\": \"#E5ECF6\", \"polar\": {\"angularaxis\": {\"gridcolor\": \"white\", \"linecolor\": \"white\", \"ticks\": \"\"}, \"bgcolor\": \"#E5ECF6\", \"radialaxis\": {\"gridcolor\": \"white\", \"linecolor\": \"white\", \"ticks\": \"\"}}, \"scene\": {\"xaxis\": {\"backgroundcolor\": \"#E5ECF6\", \"gridcolor\": \"white\", \"gridwidth\": 2, \"linecolor\": \"white\", \"showbackground\": true, \"ticks\": \"\", \"zerolinecolor\": \"white\"}, \"yaxis\": {\"backgroundcolor\": \"#E5ECF6\", \"gridcolor\": \"white\", \"gridwidth\": 2, \"linecolor\": \"white\", \"showbackground\": true, \"ticks\": \"\", \"zerolinecolor\": \"white\"}, \"zaxis\": {\"backgroundcolor\": \"#E5ECF6\", \"gridcolor\": \"white\", \"gridwidth\": 2, \"linecolor\": \"white\", \"showbackground\": true, \"ticks\": \"\", \"zerolinecolor\": \"white\"}}, \"shapedefaults\": {\"line\": {\"color\": \"#2a3f5f\"}}, \"ternary\": {\"aaxis\": {\"gridcolor\": \"white\", \"linecolor\": \"white\", \"ticks\": \"\"}, \"baxis\": {\"gridcolor\": \"white\", \"linecolor\": \"white\", \"ticks\": \"\"}, \"bgcolor\": \"#E5ECF6\", \"caxis\": {\"gridcolor\": \"white\", \"linecolor\": \"white\", \"ticks\": \"\"}}, \"title\": {\"x\": 0.05}, \"xaxis\": {\"automargin\": true, \"gridcolor\": \"white\", \"linecolor\": \"white\", \"ticks\": \"\", \"title\": {\"standoff\": 15}, \"zerolinecolor\": \"white\", \"zerolinewidth\": 2}, \"yaxis\": {\"automargin\": true, \"gridcolor\": \"white\", \"linecolor\": \"white\", \"ticks\": \"\", \"title\": {\"standoff\": 15}, \"zerolinecolor\": \"white\", \"zerolinewidth\": 2}}}, \"xaxis\": {\"anchor\": \"y\", \"domain\": [0.0, 1.0], \"title\": {\"text\": \"Compagnie adverse\"}}, \"yaxis\": {\"anchor\": \"x\", \"domain\": [0.0, 1.0], \"title\": {\"text\": \"count\"}}},\n",
       "                        {\"responsive\": true}\n",
       "                    ).then(function(){\n",
       "                            \n",
       "var gd = document.getElementById('a2f9d4d5-127a-4ef8-9692-daf4953eed14');\n",
       "var x = new MutationObserver(function (mutations, observer) {{\n",
       "        var display = window.getComputedStyle(gd).display;\n",
       "        if (!display || display === 'none') {{\n",
       "            console.log([gd, 'removed!']);\n",
       "            Plotly.purge(gd);\n",
       "            observer.disconnect();\n",
       "        }}\n",
       "}});\n",
       "\n",
       "// Listen for the removal of the full notebook cells\n",
       "var notebookContainer = gd.closest('#notebook-container');\n",
       "if (notebookContainer) {{\n",
       "    x.observe(notebookContainer, {childList: true});\n",
       "}}\n",
       "\n",
       "// Listen for the clearing of the current output cell\n",
       "var outputEl = gd.closest('.output');\n",
       "if (outputEl) {{\n",
       "    x.observe(outputEl, {childList: true});\n",
       "}}\n",
       "\n",
       "                        })\n",
       "                };\n",
       "                });\n",
       "            </script>\n",
       "        </div>"
      ]
     },
     "metadata": {},
     "output_type": "display_data"
    }
   ],
   "source": [
    "fig = px.histogram(df, x='Compagnie adverse',  color='Fraud', histnorm='probability density')\n",
    "fig.show()\n",
    "fig.write_image(\"../frontend/src/assets/figure_EDA/compagnie_adverse_t.png\")"
   ]
  }
 ],
 "metadata": {
  "kernelspec": {
   "display_name": "Python 3",
   "language": "python",
   "name": "python3"
  },
  "language_info": {
   "codemirror_mode": {
    "name": "ipython",
    "version": 3
   },
   "file_extension": ".py",
   "mimetype": "text/x-python",
   "name": "python",
   "nbconvert_exporter": "python",
   "pygments_lexer": "ipython3",
   "version": "3.7.4"
  }
 },
 "nbformat": 4,
 "nbformat_minor": 2
}
