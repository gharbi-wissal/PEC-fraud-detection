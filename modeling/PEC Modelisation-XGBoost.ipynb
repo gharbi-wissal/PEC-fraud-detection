{
 "cells": [
  {
   "cell_type": "code",
   "execution_count": 1,
   "metadata": {},
   "outputs": [],
   "source": [
    "import pandas as pd\n",
    "import numpy as np\n",
    "import matplotlib.pyplot as plt\n",
    "import seaborn as sns\n",
    "from sklearn.preprocessing import LabelEncoder\n",
    "import xgboost as xgb\n",
    "from sklearn.model_selection import train_test_split\n",
    "from xgboost import XGBClassifier\n",
    "from sklearn.metrics import plot_confusion_matrix\n",
    "from sklearn import metrics\n",
    "from sklearn.metrics import roc_auc_score, accuracy_score,precision_score, recall_score, f1_score,mean_absolute_error, mean_squared_error,precision_recall_curve\n",
    "from sklearn.model_selection import KFold\n",
    "from sklearn.model_selection import cross_val_score\n",
    "from sklearn.metrics import confusion_matrix\n",
    "from xgboost import cv\n",
    "\n",
    "import warnings\n",
    "warnings.filterwarnings('ignore')\n",
    "%matplotlib inline\n",
    "pd.set_option('display.max_columns', None)\n",
    "pd.set_option('display.max_rows', None)"
   ]
  },
  {
   "cell_type": "code",
   "execution_count": 2,
   "metadata": {},
   "outputs": [],
   "source": [
    "#load & view the data\n",
    "df = pd.read_csv('output/pec_prep_out.csv')\n",
    "df=df.drop([ \"Unnamed: 0\"], axis=1)"
   ]
  },
  {
   "cell_type": "code",
   "execution_count": 3,
   "metadata": {},
   "outputs": [
    {
     "data": {
      "text/plain": [
       "(1097, 40)"
      ]
     },
     "execution_count": 3,
     "metadata": {},
     "output_type": "execute_result"
    }
   ],
   "source": [
    "df.shape"
   ]
  },
  {
   "cell_type": "code",
   "execution_count": 4,
   "metadata": {},
   "outputs": [
    {
     "data": {
      "text/html": [
       "<div>\n",
       "<style scoped>\n",
       "    .dataframe tbody tr th:only-of-type {\n",
       "        vertical-align: middle;\n",
       "    }\n",
       "\n",
       "    .dataframe tbody tr th {\n",
       "        vertical-align: top;\n",
       "    }\n",
       "\n",
       "    .dataframe thead th {\n",
       "        text-align: right;\n",
       "    }\n",
       "</style>\n",
       "<table border=\"1\" class=\"dataframe\">\n",
       "  <thead>\n",
       "    <tr style=\"text-align: right;\">\n",
       "      <th></th>\n",
       "      <th>Compagnie d'assurance</th>\n",
       "      <th>Date de création</th>\n",
       "      <th>Nom et Prénom Assuré /Raison Sociale</th>\n",
       "      <th>Immatriculation Véhicule assuré</th>\n",
       "      <th>Mode de gestion</th>\n",
       "      <th>Garantie impliquée</th>\n",
       "      <th>Chargé réparation</th>\n",
       "      <th>Marque</th>\n",
       "      <th>Réparateur</th>\n",
       "      <th>Expert</th>\n",
       "      <th>Compagnie adverse</th>\n",
       "      <th>Accord VR (Véhicule de remplacement)</th>\n",
       "      <th>Agence</th>\n",
       "      <th>Agent</th>\n",
       "      <th>Cas de barème</th>\n",
       "      <th>Chargé acceptation</th>\n",
       "      <th>Code agence</th>\n",
       "      <th>Date Accident</th>\n",
       "      <th>Date acceptation</th>\n",
       "      <th>Date accord (SST)</th>\n",
       "      <th>Date demande</th>\n",
       "      <th>Etape Dossier</th>\n",
       "      <th>Etat d'approbation</th>\n",
       "      <th>Immatriculation tiers</th>\n",
       "      <th>Montant total devis</th>\n",
       "      <th>Nom et Prénom tiers /Raison Sociale</th>\n",
       "      <th>Numero sinistre</th>\n",
       "      <th>Numéro de contrat</th>\n",
       "      <th>Point Choc</th>\n",
       "      <th>Position GA</th>\n",
       "      <th>SST</th>\n",
       "      <th>Nbr réclamations antérieures</th>\n",
       "      <th>Jour Accident</th>\n",
       "      <th>Mois Accident</th>\n",
       "      <th>Année Accident</th>\n",
       "      <th>Jour demande</th>\n",
       "      <th>Mois demande</th>\n",
       "      <th>Année demande</th>\n",
       "      <th>Retard reclamation</th>\n",
       "      <th>Fraud</th>\n",
       "    </tr>\n",
       "  </thead>\n",
       "  <tbody>\n",
       "    <tr>\n",
       "      <th>0</th>\n",
       "      <td>EL AMANA TAKAFUL</td>\n",
       "      <td>43664</td>\n",
       "      <td>NACEUR HBIBI</td>\n",
       "      <td>9594TU195</td>\n",
       "      <td>IDA</td>\n",
       "      <td>Défense et recours</td>\n",
       "      <td>Asma  TURKI</td>\n",
       "      <td>ISUZU</td>\n",
       "      <td>MECATOL</td>\n",
       "      <td>Hadiji Yassine</td>\n",
       "      <td>MAE</td>\n",
       "      <td>NON</td>\n",
       "      <td>global assurance</td>\n",
       "      <td>global assurance</td>\n",
       "      <td>10.0</td>\n",
       "      <td>Ouni Hela</td>\n",
       "      <td>744</td>\n",
       "      <td>03/31/2019</td>\n",
       "      <td>04/04/2019 11:15</td>\n",
       "      <td>10/04/2019 13:22</td>\n",
       "      <td>04/04/2019</td>\n",
       "      <td>Véhicule réparé: en instance de Signature du BS</td>\n",
       "      <td>Approuvé ( Chef cellule Acceptation )</td>\n",
       "      <td>5178TU196</td>\n",
       "      <td>914.604</td>\n",
       "      <td>STE ATELIER GHRAPHIQUE</td>\n",
       "      <td>S19/9165</td>\n",
       "      <td>2015.5.0088637/3</td>\n",
       "      <td>Tiers Ar. D,Tiers Lat. D</td>\n",
       "      <td>Recours</td>\n",
       "      <td>Fathi  Nguili</td>\n",
       "      <td>2</td>\n",
       "      <td>31</td>\n",
       "      <td>3</td>\n",
       "      <td>2019</td>\n",
       "      <td>4</td>\n",
       "      <td>4</td>\n",
       "      <td>2019</td>\n",
       "      <td>4</td>\n",
       "      <td>Non</td>\n",
       "    </tr>\n",
       "    <tr>\n",
       "      <th>1</th>\n",
       "      <td>LA CARTE</td>\n",
       "      <td>16/12/2019</td>\n",
       "      <td>STE HOTEL BYZANCE</td>\n",
       "      <td>6657TU193</td>\n",
       "      <td>Dommages</td>\n",
       "      <td>Dommages au véhicule</td>\n",
       "      <td></td>\n",
       "      <td>ALFA ROMEO</td>\n",
       "      <td>NaN</td>\n",
       "      <td>NaN</td>\n",
       "      <td>ASSURANCES STAR</td>\n",
       "      <td>NaN</td>\n",
       "      <td>mohamed boussaa</td>\n",
       "      <td>mohamed boussaa</td>\n",
       "      <td>9.0</td>\n",
       "      <td>Ouni Hela</td>\n",
       "      <td>780</td>\n",
       "      <td>12/04/2019</td>\n",
       "      <td>26/12/2019 17:23</td>\n",
       "      <td>NaN</td>\n",
       "      <td>12/09/2019</td>\n",
       "      <td>En instance d'établissement Devis</td>\n",
       "      <td>Approuvé ( Chef cellule Acceptation )</td>\n",
       "      <td>9332TU62</td>\n",
       "      <td>NaN</td>\n",
       "      <td>EL GHOUL AHMED BEN AMOR</td>\n",
       "      <td>S1955133140</td>\n",
       "      <td>201950000046682</td>\n",
       "      <td>Tiers Ar. D</td>\n",
       "      <td>Recours</td>\n",
       "      <td></td>\n",
       "      <td>1</td>\n",
       "      <td>4</td>\n",
       "      <td>12</td>\n",
       "      <td>2019</td>\n",
       "      <td>9</td>\n",
       "      <td>12</td>\n",
       "      <td>2019</td>\n",
       "      <td>5</td>\n",
       "      <td>Non</td>\n",
       "    </tr>\n",
       "    <tr>\n",
       "      <th>2</th>\n",
       "      <td>LLOYD TUNISIEN</td>\n",
       "      <td>43475.0</td>\n",
       "      <td>MOUNA BEJAOUI</td>\n",
       "      <td>6130TU156</td>\n",
       "      <td>Dommages</td>\n",
       "      <td>Tierce collision</td>\n",
       "      <td>Asma  TURKI</td>\n",
       "      <td>KIA</td>\n",
       "      <td>SPEED SERVICES</td>\n",
       "      <td>Salah BEN HASSINE</td>\n",
       "      <td>BIAT assurances</td>\n",
       "      <td>NON</td>\n",
       "      <td>sondos ayoub</td>\n",
       "      <td>sondos ayoub</td>\n",
       "      <td>15.0</td>\n",
       "      <td>Ouni Hela</td>\n",
       "      <td>658</td>\n",
       "      <td>05/21/2019</td>\n",
       "      <td>28/05/2019 12:40</td>\n",
       "      <td>11/06/2019 13:06</td>\n",
       "      <td>05/24/2019</td>\n",
       "      <td>Véhicule réparé: en instance de Signature du BS</td>\n",
       "      <td>Approuvé ( Chef cellule Acceptation )</td>\n",
       "      <td>1984TU124</td>\n",
       "      <td>1790.491</td>\n",
       "      <td>IMMOBILIERE GRAND ATLAS</td>\n",
       "      <td>S19551114002</td>\n",
       "      <td>201850000077730</td>\n",
       "      <td>Tiers Lat. D</td>\n",
       "      <td>Recours</td>\n",
       "      <td>Tayssir HMAIED</td>\n",
       "      <td>1</td>\n",
       "      <td>21</td>\n",
       "      <td>5</td>\n",
       "      <td>2019</td>\n",
       "      <td>24</td>\n",
       "      <td>5</td>\n",
       "      <td>2019</td>\n",
       "      <td>3</td>\n",
       "      <td>Non</td>\n",
       "    </tr>\n",
       "    <tr>\n",
       "      <th>3</th>\n",
       "      <td>LLOYD TUNISIEN</td>\n",
       "      <td>43518.0</td>\n",
       "      <td>SOUHAIELA RIGHI</td>\n",
       "      <td>341TU196</td>\n",
       "      <td>Dommages</td>\n",
       "      <td>Tierce collision</td>\n",
       "      <td>Ouni Dhekra</td>\n",
       "      <td>VOLKSWAGEN</td>\n",
       "      <td>Société EL-FATAH</td>\n",
       "      <td>Hadiji Yassine</td>\n",
       "      <td>LLOYD TUNISIEN</td>\n",
       "      <td>NON</td>\n",
       "      <td>wajih laamiri</td>\n",
       "      <td>wajih laamiri</td>\n",
       "      <td>NaN</td>\n",
       "      <td>Ouni Hela</td>\n",
       "      <td>776</td>\n",
       "      <td>03/30/2019</td>\n",
       "      <td>05/04/2019 17:39</td>\n",
       "      <td>20/05/2019 14:35</td>\n",
       "      <td>04/05/2019</td>\n",
       "      <td>Véhicule réparé: en instance de Signature du BS</td>\n",
       "      <td>Approuvé ( Chef cellule Acceptation )</td>\n",
       "      <td>NaN</td>\n",
       "      <td>2468.064</td>\n",
       "      <td>NaN</td>\n",
       "      <td>S19551109400</td>\n",
       "      <td>201650000091405</td>\n",
       "      <td>Tiers Ar. D</td>\n",
       "      <td>Défense</td>\n",
       "      <td>Fathi  Nguili</td>\n",
       "      <td>1</td>\n",
       "      <td>30</td>\n",
       "      <td>3</td>\n",
       "      <td>2019</td>\n",
       "      <td>5</td>\n",
       "      <td>4</td>\n",
       "      <td>2019</td>\n",
       "      <td>6</td>\n",
       "      <td>Non</td>\n",
       "    </tr>\n",
       "    <tr>\n",
       "      <th>4</th>\n",
       "      <td>LLOYD TUNISIEN</td>\n",
       "      <td>43521.0</td>\n",
       "      <td>AHMED BRAHAM</td>\n",
       "      <td>7445TU172</td>\n",
       "      <td>Dommages</td>\n",
       "      <td>Tierce collision</td>\n",
       "      <td>Ouni Dhekra</td>\n",
       "      <td>VOLKSWAGEN</td>\n",
       "      <td>Société EL-FATAH</td>\n",
       "      <td>Amara Ayari</td>\n",
       "      <td>GAT assurances</td>\n",
       "      <td>OUI</td>\n",
       "      <td>aisaoui fathi</td>\n",
       "      <td>aisaoui fathi</td>\n",
       "      <td>10.0</td>\n",
       "      <td>Ouni Hela</td>\n",
       "      <td>685</td>\n",
       "      <td>04/07/2019</td>\n",
       "      <td>16/04/2019 17:35</td>\n",
       "      <td>22/04/2019 12:55</td>\n",
       "      <td>04/15/2019</td>\n",
       "      <td>Véhicule réparé: en instance de Signature du BS</td>\n",
       "      <td>Approuvé ( Chef cellule Acceptation )</td>\n",
       "      <td>6214TU68</td>\n",
       "      <td>2972.116</td>\n",
       "      <td>ALI JOUILI</td>\n",
       "      <td>S1955109776</td>\n",
       "      <td>201850000041652</td>\n",
       "      <td>Tiers Av. G</td>\n",
       "      <td>Recours</td>\n",
       "      <td>Fathi  Nguili</td>\n",
       "      <td>1</td>\n",
       "      <td>7</td>\n",
       "      <td>4</td>\n",
       "      <td>2019</td>\n",
       "      <td>15</td>\n",
       "      <td>4</td>\n",
       "      <td>2019</td>\n",
       "      <td>8</td>\n",
       "      <td>Non</td>\n",
       "    </tr>\n",
       "  </tbody>\n",
       "</table>\n",
       "</div>"
      ],
      "text/plain": [
       "  Compagnie d'assurance Date de création Nom et Prénom Assuré /Raison Sociale  \\\n",
       "0      EL AMANA TAKAFUL            43664                         NACEUR HBIBI   \n",
       "1             LA CARTE        16/12/2019                    STE HOTEL BYZANCE   \n",
       "2       LLOYD TUNISIEN           43475.0                        MOUNA BEJAOUI   \n",
       "3       LLOYD TUNISIEN           43518.0                      SOUHAIELA RIGHI   \n",
       "4       LLOYD TUNISIEN           43521.0                         AHMED BRAHAM   \n",
       "\n",
       "  Immatriculation Véhicule assuré Mode de gestion     Garantie impliquée  \\\n",
       "0                       9594TU195             IDA    Défense et recours    \n",
       "1                       6657TU193        Dommages  Dommages au véhicule    \n",
       "2                       6130TU156        Dommages      Tierce collision    \n",
       "3                        341TU196        Dommages      Tierce collision    \n",
       "4                       7445TU172        Dommages      Tierce collision    \n",
       "\n",
       "  Chargé réparation       Marque        Réparateur              Expert  \\\n",
       "0       Asma  TURKI       ISUZU           MECATOL       Hadiji Yassine   \n",
       "1                    ALFA ROMEO                NaN                 NaN   \n",
       "2       Asma  TURKI         KIA     SPEED SERVICES  Salah BEN HASSINE    \n",
       "3      Ouni Dhekra   VOLKSWAGEN   Société EL-FATAH      Hadiji Yassine   \n",
       "4      Ouni Dhekra   VOLKSWAGEN   Société EL-FATAH         Amara Ayari   \n",
       "\n",
       "  Compagnie adverse Accord VR (Véhicule de remplacement)             Agence  \\\n",
       "0              MAE                                   NON  global assurance    \n",
       "1  ASSURANCES STAR                                   NaN   mohamed boussaa    \n",
       "2   BIAT assurances                                  NON      sondos ayoub    \n",
       "3   LLOYD TUNISIEN                                   NON     wajih laamiri    \n",
       "4   GAT assurances                                   OUI     aisaoui fathi    \n",
       "\n",
       "              Agent  Cas de barème Chargé acceptation  Code agence  \\\n",
       "0  global assurance           10.0          Ouni Hela          744   \n",
       "1   mohamed boussaa            9.0          Ouni Hela          780   \n",
       "2      sondos ayoub           15.0          Ouni Hela          658   \n",
       "3     wajih laamiri            NaN          Ouni Hela          776   \n",
       "4     aisaoui fathi           10.0          Ouni Hela          685   \n",
       "\n",
       "  Date Accident  Date acceptation Date accord (SST) Date demande  \\\n",
       "0    03/31/2019  04/04/2019 11:15  10/04/2019 13:22   04/04/2019   \n",
       "1    12/04/2019  26/12/2019 17:23               NaN   12/09/2019   \n",
       "2    05/21/2019  28/05/2019 12:40  11/06/2019 13:06   05/24/2019   \n",
       "3    03/30/2019  05/04/2019 17:39  20/05/2019 14:35   04/05/2019   \n",
       "4    04/07/2019  16/04/2019 17:35  22/04/2019 12:55   04/15/2019   \n",
       "\n",
       "                                     Etape Dossier  \\\n",
       "0  Véhicule réparé: en instance de Signature du BS   \n",
       "1                En instance d'établissement Devis   \n",
       "2  Véhicule réparé: en instance de Signature du BS   \n",
       "3  Véhicule réparé: en instance de Signature du BS   \n",
       "4  Véhicule réparé: en instance de Signature du BS   \n",
       "\n",
       "                      Etat d'approbation Immatriculation tiers  \\\n",
       "0  Approuvé ( Chef cellule Acceptation )             5178TU196   \n",
       "1  Approuvé ( Chef cellule Acceptation )              9332TU62   \n",
       "2  Approuvé ( Chef cellule Acceptation )             1984TU124   \n",
       "3  Approuvé ( Chef cellule Acceptation )                   NaN   \n",
       "4  Approuvé ( Chef cellule Acceptation )              6214TU68   \n",
       "\n",
       "   Montant total devis Nom et Prénom tiers /Raison Sociale Numero sinistre  \\\n",
       "0              914.604              STE ATELIER GHRAPHIQUE       S19/9165    \n",
       "1                  NaN             EL GHOUL AHMED BEN AMOR    S1955133140    \n",
       "2             1790.491             IMMOBILIERE GRAND ATLAS   S19551114002    \n",
       "3             2468.064                                 NaN   S19551109400    \n",
       "4             2972.116                          ALI JOUILI    S1955109776    \n",
       "\n",
       "  Numéro de contrat                Point Choc Position GA             SST  \\\n",
       "0  2015.5.0088637/3  Tiers Ar. D,Tiers Lat. D     Recours   Fathi  Nguili   \n",
       "1   201950000046682               Tiers Ar. D     Recours                   \n",
       "2   201850000077730              Tiers Lat. D     Recours  Tayssir HMAIED   \n",
       "3   201650000091405               Tiers Ar. D     Défense   Fathi  Nguili   \n",
       "4   201850000041652               Tiers Av. G     Recours   Fathi  Nguili   \n",
       "\n",
       "   Nbr réclamations antérieures  Jour Accident  Mois Accident  Année Accident  \\\n",
       "0                             2             31              3            2019   \n",
       "1                             1              4             12            2019   \n",
       "2                             1             21              5            2019   \n",
       "3                             1             30              3            2019   \n",
       "4                             1              7              4            2019   \n",
       "\n",
       "   Jour demande  Mois demande  Année demande  Retard reclamation Fraud  \n",
       "0             4             4           2019                   4   Non  \n",
       "1             9            12           2019                   5   Non  \n",
       "2            24             5           2019                   3   Non  \n",
       "3             5             4           2019                   6   Non  \n",
       "4            15             4           2019                   8   Non  "
      ]
     },
     "execution_count": 4,
     "metadata": {},
     "output_type": "execute_result"
    }
   ],
   "source": [
    "df.head()"
   ]
  },
  {
   "cell_type": "code",
   "execution_count": 5,
   "metadata": {},
   "outputs": [],
   "source": [
    "# dropping uninformative features\n",
    "colsToDelete = ['Année demande','Année Accident','Nom et Prénom Assuré /Raison Sociale',\n",
    "       'Immatriculation Véhicule assuré','Nom et Prénom tiers /Raison Sociale','Immatriculation tiers', \n",
    "       'Numero sinistre', 'Numéro de contrat','Date de création','Date Accident','Date acceptation','Date accord (SST)' ,'Date demande']\n",
    "df = df.drop(columns = colsToDelete, axis=1)\n"
   ]
  },
  {
   "cell_type": "code",
   "execution_count": 6,
   "metadata": {},
   "outputs": [
    {
     "data": {
      "text/plain": [
       "(1097, 27)"
      ]
     },
     "execution_count": 6,
     "metadata": {},
     "output_type": "execute_result"
    }
   ],
   "source": [
    "df.shape"
   ]
  },
  {
   "cell_type": "code",
   "execution_count": 7,
   "metadata": {},
   "outputs": [
    {
     "name": "stdout",
     "output_type": "stream",
     "text": [
      "Columns to drop with correlation > 0.97: ['Mois demande']\n"
     ]
    }
   ],
   "source": [
    "threshold = 0.97\n",
    "# calculate correlations\n",
    "corr_matrix = df.corr().abs()\n",
    "# get the upper part of correlation matrix\n",
    "upper = corr_matrix.where(np.triu(np.ones(corr_matrix.shape), k=1).astype(np.bool))\n",
    "\n",
    "# columns with correlation above threshold\n",
    "redundent = [column for column in upper.columns if any(upper[column] >= threshold)]\n",
    "print(f'Columns to drop with correlation > {threshold}: {redundent}')\n",
    "df.drop(columns=redundent, inplace=True)"
   ]
  },
  {
   "cell_type": "code",
   "execution_count": 8,
   "metadata": {},
   "outputs": [],
   "source": [
    "y = df[\"Fraud\"].map({\"Non\":0, \"Oui\":1})\n",
    "X = df.drop(\"Fraud\", axis=1)"
   ]
  },
  {
   "cell_type": "code",
   "execution_count": 9,
   "metadata": {},
   "outputs": [],
   "source": [
    "le = LabelEncoder()\n",
    "for i in  (X.columns):  \n",
    "    le.fit(X[i].astype(str))\n",
    "    X[i] = le.transform(X[i].astype(str))"
   ]
  },
  {
   "cell_type": "code",
   "execution_count": 10,
   "metadata": {},
   "outputs": [],
   "source": [
    "data_dmatrix = xgb.DMatrix(data=X,label=y)"
   ]
  },
  {
   "cell_type": "code",
   "execution_count": 11,
   "metadata": {},
   "outputs": [],
   "source": [
    "# train test split data\n",
    "testsize=0.2\n",
    "X_train, X_test, y_train, y_test = train_test_split(X, y, test_size=testsize, random_state=0)"
   ]
  },
  {
   "cell_type": "code",
   "execution_count": 12,
   "metadata": {},
   "outputs": [
    {
     "name": "stdout",
     "output_type": "stream",
     "text": [
      "XGBClassifier(base_score=0.5, booster='gbtree', colsample_bylevel=1,\n",
      "              colsample_bynode=1, colsample_bytree=1, gamma=0,\n",
      "              learning_rate=0.1, max_delta_step=0, max_depth=3,\n",
      "              min_child_weight=1, missing=None, n_estimators=100, n_jobs=1,\n",
      "              nthread=None, objective='binary:logistic', random_state=0,\n",
      "              reg_alpha=0, reg_lambda=1, scale_pos_weight=1, seed=None,\n",
      "              silent=None, subsample=1, verbosity=1)\n"
     ]
    }
   ],
   "source": [
    "params = { }\n",
    "          \n",
    "# instantiate the classifier \n",
    "model = XGBClassifier(objective='binary:logistic',learning_rate=0.1, max_depth=3,\n",
    "                      colsample_bytree=1, n_estimators=100,subsample=1,booster='gbtree')\n",
    "\n",
    "# fit the classifier to the training data\n",
    "model.fit(X_train, y_train)\n",
    "print(model)"
   ]
  },
  {
   "cell_type": "code",
   "execution_count": 13,
   "metadata": {},
   "outputs": [
    {
     "name": "stdout",
     "output_type": "stream",
     "text": [
      "Mean ROC AUC: 0.71629\n"
     ]
    }
   ],
   "source": [
    "from sklearn.model_selection import RepeatedStratifiedKFold\n",
    "from numpy import mean\n",
    "\n",
    "# define evaluation procedure\n",
    "cv = RepeatedStratifiedKFold(n_splits=10, n_repeats=3, random_state=1)\n",
    "# evaluate model\n",
    "scores = cross_val_score(model, X, y, scoring='roc_auc', cv=cv, n_jobs=-1)\n",
    "# summarize performance\n",
    "print('Mean ROC AUC: %.5f' % mean(scores))"
   ]
  },
  {
   "cell_type": "code",
   "execution_count": 14,
   "metadata": {},
   "outputs": [],
   "source": [
    "# make predictions on test data\n",
    "y_pred = model.predict(X_test)"
   ]
  },
  {
   "cell_type": "code",
   "execution_count": 15,
   "metadata": {},
   "outputs": [
    {
     "name": "stdout",
     "output_type": "stream",
     "text": [
      "accuracy_score: 0.7818\n",
      "precision_score: 0.25\n",
      "recall_score: 0.0455\n",
      "f1_score: 0.0769\n",
      "mean_absolute_error: 0.2182\n",
      "mean_squared_error: 0.2182\n"
     ]
    }
   ],
   "source": [
    "for metric in [accuracy_score,precision_score,recall_score,f1_score,mean_absolute_error,mean_squared_error]:\n",
    "            print(f'{metric.__name__}: {round(metric(y_test, y_pred), 4)}')"
   ]
  },
  {
   "cell_type": "code",
   "execution_count": 16,
   "metadata": {},
   "outputs": [
    {
     "name": "stdout",
     "output_type": "stream",
     "text": [
      "Cross-validation Accuracy score:  0.8003\n",
      "Cross-validation AUC score:  0.7106\n"
     ]
    }
   ],
   "source": [
    "kfold = KFold(n_splits=10, random_state=7)\n",
    "accuracy = cross_val_score(model, X_train, y_train, cv=kfold, scoring='accuracy')\n",
    "roc_auc = cross_val_score(model, X_train, y_train, cv=kfold, scoring='roc_auc')\n",
    "\n",
    "print('Cross-validation Accuracy score: ', round(accuracy.mean(),4))\n",
    "print('Cross-validation AUC score: ', round(roc_auc.mean(),4)) "
   ]
  },
  {
   "cell_type": "code",
   "execution_count": 17,
   "metadata": {},
   "outputs": [
    {
     "data": {
      "text/plain": [
       "array([[170,   6],\n",
       "       [ 42,   2]])"
      ]
     },
     "execution_count": 17,
     "metadata": {},
     "output_type": "execute_result"
    }
   ],
   "source": [
    "confusion_matrix(y_test, y_pred)"
   ]
  },
  {
   "cell_type": "code",
   "execution_count": 18,
   "metadata": {},
   "outputs": [
    {
     "data": {
      "text/plain": [
       "array([[841,  41],\n",
       "       [190,  25]])"
      ]
     },
     "execution_count": 18,
     "metadata": {},
     "output_type": "execute_result"
    }
   ],
   "source": [
    "from sklearn.model_selection import cross_val_predict\n",
    "from sklearn.metrics import confusion_matrix\n",
    "preds = cross_val_predict(model, X, y, cv=10)\n",
    "conf_mat = confusion_matrix(y, preds)\n",
    "conf_mat"
   ]
  },
  {
   "cell_type": "code",
   "execution_count": 19,
   "metadata": {},
   "outputs": [
    {
     "data": {
      "image/png": "[encoded data removed]",
      "text/plain": [
       "<Figure size 432x288 with 2 Axes>"
      ]
     },
     "metadata": {
      "needs_background": "light"
     },
     "output_type": "display_data"
    }
   ],
   "source": [
    "class_names=['legitimate', 'fraud']\n",
    "plot_confusion_matrix(model, X_test, y_test,display_labels=class_names,cmap=\"YlGnBu\")\n",
    "plt.savefig('figure_EDA/confMatXGB.png',dpi=400,bbox_inches='tight')\n",
    "plt.show()"
   ]
  },
  {
   "cell_type": "code",
   "execution_count": 21,
   "metadata": {},
   "outputs": [
    {
     "data": {
      "image/png": "[encoded data removed]",
      "text/plain": [
       "<Figure size 432x288 with 1 Axes>"
      ]
     },
     "metadata": {
      "needs_background": "light"
     },
     "output_type": "display_data"
    }
   ],
   "source": [
    "metrics.plot_roc_curve(model, X_test, y_test) \n",
    "plt.plot([0, 1], [0, 1], linestyle='--', lw=2, color='r', label='Random guess')\n",
    "plt.title('ROC curve')\n",
    "plt.xlabel('False Positive Rate')\n",
    "plt.ylabel('True Positive Rate')\n",
    "plt.grid()\n",
    "plt.legend()\n",
    "plt.savefig('figure_EDA/rocXGB.png',dpi=400,bbox_inches='tight')\n",
    "plt.show() "
   ]
  },
  {
   "cell_type": "code",
   "execution_count": 22,
   "metadata": {},
   "outputs": [
    {
     "data": {
      "image/png": "[encoded data removed]",
      "text/plain": [
       "<Figure size 432x288 with 1 Axes>"
      ]
     },
     "metadata": {
      "needs_background": "light"
     },
     "output_type": "display_data"
    }
   ],
   "source": [
    "xgb.plot_importance(model)\n",
    "plt.rcParams['figure.figsize'] = [12, 8]\n",
    "plt.savefig('figure_EDA/plot_importance.png',dpi=400,bbox_inches='tight')\n",
    "plt.show()"
   ]
  },
  {
   "cell_type": "code",
   "execution_count": 23,
   "metadata": {},
   "outputs": [
    {
     "data": {
      "text/plain": [
       "['model/xgb_model.pkl']"
      ]
     },
     "execution_count": 23,
     "metadata": {},
     "output_type": "execute_result"
    }
   ],
   "source": [
    "from sklearn.externals import joblib\n",
    "joblib.dump(model, 'model/xgb_model.pkl')"
   ]
  },
  {
   "cell_type": "code",
   "execution_count": 24,
   "metadata": {},
   "outputs": [
    {
     "name": "stdout",
     "output_type": "stream",
     "text": [
      "[\"Compagnie d'assurance\", 'Mode de gestion', 'Garantie impliquée', 'Chargé réparation', 'Marque', 'Réparateur', 'Expert', 'Compagnie adverse', 'Accord VR (Véhicule de remplacement)', 'Agence', 'Agent', 'Cas de barème', 'Chargé acceptation', 'Code agence', 'Etape Dossier', \"Etat d'approbation\", 'Montant total devis', 'Point Choc', 'Position GA', 'SST', 'Nbr réclamations antérieures', 'Jour Accident', 'Mois Accident', 'Jour demande', 'Retard reclamation']\n"
     ]
    },
    {
     "data": {
      "text/plain": [
       "['model/model_columns.pkl']"
      ]
     },
     "execution_count": 24,
     "metadata": {},
     "output_type": "execute_result"
    }
   ],
   "source": [
    "model_columns= list(X.columns)\n",
    "print(model_columns)\n",
    "joblib.dump(model_columns, 'model/model_columns.pkl')"
   ]
  },
  {
   "cell_type": "code",
   "execution_count": 25,
   "metadata": {},
   "outputs": [
    {
     "name": "stdout",
     "output_type": "stream",
     "text": [
      "Model Performance metrics:\n",
      "------------------------------\n",
      "Accuracy: 0.7818\n",
      "Precision: 0.6915\n",
      "Recall: 0.7818\n",
      "F1 Score: 0.7164\n",
      "\n",
      "Model Classification report:\n",
      "------------------------------\n",
      "              precision    recall  f1-score   support\n",
      "\n",
      "           0       0.80      0.97      0.88       176\n",
      "           1       0.25      0.05      0.08        44\n",
      "\n",
      "    accuracy                           0.78       220\n",
      "   macro avg       0.53      0.51      0.48       220\n",
      "weighted avg       0.69      0.78      0.72       220\n",
      "\n",
      "\n",
      "Prediction Confusion Matrix:\n",
      "------------------------------\n",
      "          Predicted:   \n",
      "                   0  1\n",
      "Actual: 0        170  6\n",
      "        1         42  2\n"
     ]
    }
   ],
   "source": [
    "import model_evaluation_utils as meu\n",
    "\n",
    "meu.display_model_performance_metrics(y_test, y_pred, classes=[0,1])\n"
   ]
  },
  {
   "cell_type": "code",
   "execution_count": 26,
   "metadata": {},
   "outputs": [
    {
     "data": {
      "text/plain": [
       "array([[841,  41],\n",
       "       [190,  25]])"
      ]
     },
     "execution_count": 26,
     "metadata": {},
     "output_type": "execute_result"
    }
   ],
   "source": [
    "from sklearn.model_selection import cross_val_predict\n",
    "from sklearn.metrics import confusion_matrix\n",
    "y_pred = cross_val_predict(model, X, y, cv=10)\n",
    "conf_mat = confusion_matrix(y, y_pred)\n",
    "conf_mat"
   ]
  }
 ],
 "metadata": {
  "kernelspec": {
   "display_name": "Python 3",
   "language": "python",
   "name": "python3"
  },
  "language_info": {
   "codemirror_mode": {
    "name": "ipython",
    "version": 3
   },
   "file_extension": ".py",
   "mimetype": "text/x-python",
   "name": "python",
   "nbconvert_exporter": "python",
   "pygments_lexer": "ipython3",
   "version": "3.7.4"
  }
 },
 "nbformat": 4,
 "nbformat_minor": 2
}
